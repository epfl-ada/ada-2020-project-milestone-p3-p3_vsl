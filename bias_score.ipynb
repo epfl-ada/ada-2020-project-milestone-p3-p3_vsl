{
 "metadata": {
  "language_info": {
   "codemirror_mode": {
    "name": "ipython",
    "version": 3
   },
   "file_extension": ".py",
   "mimetype": "text/x-python",
   "name": "python",
   "nbconvert_exporter": "python",
   "pygments_lexer": "ipython3",
   "version": "3.8.6-final"
  },
  "orig_nbformat": 2,
  "kernelspec": {
   "name": "python3",
   "display_name": "Python 3.8.6 64-bit",
   "metadata": {
    "interpreter": {
     "hash": "03c4f2befd112ae6133593a618d4cc9f49a940019336ec3e14700801b49563e8"
    }
   }
  }
 },
 "nbformat": 4,
 "nbformat_minor": 2,
 "cells": [
  {
   "source": [
    "# Bias score\n",
    "## Goal\n",
    "The goal here is to determined *how* the characteristics of an officer influence its bias towards minorities \n",
    "\n",
    "## How\n",
    "- An officer : arrest over a N-year period\n",
    "- Raw bias score for officer o towards minority m $ B(o,m) = \\frac{N_{stops~of~m}}{N_{total~stops~over~the~period}} $\n",
    "- Strong assumption: $median(\\{B(o,m) / o \\in S\\})$ is actually the proportion of the population of $S$ which is from minority $m$ \n",
    "- Bias score for minority $m$ for an officer in a set of officers of region $S$ : $ B_m = \\frac{N_{stops~of~m}}{N_{total~stops~over~the~period}} - median(\\{B(o,m) / o \\in S\\})$\n",
    "\n",
    "The study is held this way : \n",
    "- $S$ is statewide : see the coefficient statewide\n",
    "- $S$ is county-wide, provided enough data\n"
   ],
   "cell_type": "markdown",
   "metadata": {}
  },
  {
   "cell_type": "code",
   "execution_count": null,
   "metadata": {},
   "outputs": [],
   "source": [
    "import pandas as pd\n",
    "import numpy as np\n",
    "import matplotlib.pyplot as plt\n",
    "import seaborn as sns\n",
    "from copy import copy\n",
    "\n",
    "from tqdm import tqdm\n",
    "tqdm.pandas()\n",
    "\n",
    "import statsmodels.api as sm\n",
    "import statsmodels.formula.api as smf\n",
    "\n",
    "from plotly.offline import download_plotlyjs, init_notebook_mode, plot, iplot\n",
    "import plotly\n",
    "import plotly.express as px\n",
    "import plotly.graph_objs as go\n",
    "init_notebook_mode(connected=True)\n"
   ]
  },
  {
   "cell_type": "code",
   "execution_count": null,
   "metadata": {},
   "outputs": [],
   "source": [
    "folder = 'data/'\n",
    "# state = folder + 'fl_statewide.csv.zip'\n",
    "# state_reduced = folder + 'fl_statewide_reduced.csv.zip'\n",
    "state = folder + 'long_beach.zip'\n",
    "state_reduced = folder + 'long_beach.csv.zip'\n",
    "\n",
    "keep_columns = ['date', 'county_name', 'subject_age', 'subject_race', 'subject_sex', 'officer_id_hash', 'officer_age', 'officer_race', 'officer_sex', 'officer_years_of_service', 'arrest_made', 'citation_issued', 'warning_issued', 'frisk_performed', 'search_conducted', 'type']\n",
    "mandatory_columns = ['date', 'subject_age', 'subject_race', 'subject_sex', 'officer_id_hash', 'officer_age', 'officer_race', 'officer_sex', 'officer_years_of_service']\n",
    "minorities = ['white', 'hispanic', 'black']\n",
    "boolean_columns = ['arrest_made', 'citation_issued', 'warning_issued', 'frisk_performed', 'search_conducted']"
   ]
  },
  {
   "source": [
    "# Helper functions"
   ],
   "cell_type": "markdown",
   "metadata": {}
  },
  {
   "cell_type": "code",
   "execution_count": null,
   "metadata": {},
   "outputs": [],
   "source": [
    "def type_booleans(df):\n",
    "    \"\"\" type a column in boolean if possible to reduce size and handability of dataframe\n",
    "    \"\"\"\n",
    "    global boolean_columns\n",
    "    for col in boolean_columns:\n",
    "        if col not in df.columns:\n",
    "            continue\n",
    "        if df[col].isna().sum() == 0:\n",
    "            df[col] = df[col].astype(bool)\n",
    "        else:\n",
    "            print(f\"Cannot convert {col} columns to boolean\")\n",
    "\n",
    "def print_info_df(df):\n",
    "    \"\"\" print summary of dataframe and values in columns if not too long\n",
    "    \"\"\"\n",
    "    print(\"Dataset is composed of {} stops. Columns are: \\n\".format(df.shape[0]))\n",
    "    for col in df.columns:\n",
    "        if df.dtypes[col] != np.float64:\n",
    "            val = df[col].unique()\n",
    "            if len(val) > 20:\n",
    "                print('{} \\t\\t: too much different values'.format(col))\n",
    "            else:\n",
    "                print('{} \\t\\t: values are: {}'.format(col if len(col)>15 else col + \"\\t\\t\", val))\n",
    "\n",
    "def generate_smaller_data(df, keep_ratio, path):\n",
    "    \"\"\" Write new csv of reduced size in path and returns it\n",
    "    \"\"\"\n",
    "    total_size = df.shape[0]\n",
    "    df_red = df.sample(n=int(total_size * keep_ratio))\n",
    "    df_red.to_csv(path, index = False)\n",
    "    return df_red"
   ]
  },
  {
   "source": [
    "# Loading and cleaning dataset"
   ],
   "cell_type": "markdown",
   "metadata": {}
  },
  {
   "cell_type": "code",
   "execution_count": null,
   "metadata": {},
   "outputs": [],
   "source": [
    "# load all dataset\n",
    "df_full = pd.read_csv(state)\n",
    "print(df_full.columns)\n",
    "print(len(df_full))"
   ]
  },
  {
   "cell_type": "code",
   "execution_count": null,
   "metadata": {},
   "outputs": [],
   "source": [
    "df_full"
   ]
  },
  {
   "cell_type": "code",
   "execution_count": null,
   "metadata": {},
   "outputs": [],
   "source": [
    "df_full.drop(columns=df_full.columns.difference(keep_columns), inplace=True) # drop unused columns\n",
    "df_full.dropna(subset=mandatory_columns, how='any', inplace=True) # drop nan values in mandatory columns\n",
    "df_full['date'] = pd.to_datetime(df_full['date']) # to datetime\n",
    "df_full['year'] = df_full['date'].dt.to_period('y')\n",
    "df_full = df_full.rename(columns={'officer_years_of_service': 'officer_yos'})\n",
    "\n",
    "print(len(df_full))\n",
    "df_full.head()"
   ]
  },
  {
   "cell_type": "code",
   "execution_count": null,
   "metadata": {},
   "outputs": [],
   "source": [
    "df_small = generate_smaller_data(df_full, 0.01, state_reduced)\n",
    "print(len(df_small))"
   ]
  },
  {
   "source": [
    "# Explore the data"
   ],
   "cell_type": "markdown",
   "metadata": {}
  },
  {
   "cell_type": "code",
   "execution_count": null,
   "metadata": {
    "tags": []
   },
   "outputs": [],
   "source": [
    "# grasp on the data : is there spelling mistakes for gender, race; nan values; ...\n",
    "print_info_df(df_full)"
   ]
  },
  {
   "cell_type": "code",
   "execution_count": null,
   "metadata": {},
   "outputs": [],
   "source": [
    "# keep same minorities as papers \n",
    "# df_full = df_full[df_full['subject_race'].isin(minorities)]\n",
    "df_full = df_full[df_full['officer_race'].isin(minorities)]\n",
    "type_booleans(df_full)"
   ]
  },
  {
   "source": [
    "## Compute dataframe officers"
   ],
   "cell_type": "markdown",
   "metadata": {}
  },
  {
   "cell_type": "code",
   "execution_count": null,
   "metadata": {},
   "outputs": [],
   "source": [
    "df_officers = df_full.groupby(['year', 'officer_id_hash', 'officer_race', 'officer_sex'])['officer_yos', 'officer_age']\n",
    "df_officers = df_officers.min().reset_index()\n",
    "df_officers.set_index(['year', 'officer_id_hash'], inplace=True, verify_integrity=True)\n",
    "df_officers.head()"
   ]
  },
  {
   "source": [
    "# Compute bias score\n"
   ],
   "cell_type": "markdown",
   "metadata": {}
  },
  {
   "cell_type": "code",
   "execution_count": null,
   "metadata": {},
   "outputs": [],
   "source": [
    "# build dataframe linking (year, officer) to their number of arrest of minorities\n",
    "df_yearly_all = df_full.groupby(['year', 'officer_id_hash', 'subject_race'])['date'].count().to_frame().reset_index()\n",
    "df_yearly_all.rename(columns={'date':'stops'}, inplace=True)\n",
    "df_yearly_all = df_yearly_all.pivot_table(columns='subject_race', values='stops', index=['year', 'officer_id_hash'], fill_value=0)\n",
    "df_yearly_all['total'] = df_yearly_all.sum(axis=1)\n",
    "df_yearly_all.head()"
   ]
  },
  {
   "cell_type": "code",
   "execution_count": null,
   "metadata": {},
   "outputs": [],
   "source": [
    "# drop officers with too few arrest\n",
    "stop_threshold = 100\n",
    "df_yearly = df_yearly_all[df_yearly_all['total'] > stop_threshold]\n",
    "print(f'There are {len(df_yearly)} entries left')"
   ]
  },
  {
   "cell_type": "code",
   "execution_count": null,
   "metadata": {},
   "outputs": [],
   "source": [
    "# add raw bias\n",
    "for m in minorities:\n",
    "        df_yearly[f'raw_bias_{m}'] = df_yearly[m] / df_yearly['total']\n",
    "\n",
    "# compute medians\n",
    "raw_bias_medians = { m : df_yearly[f'raw_bias_{m}'].median() for m in minorities}\n",
    "\n",
    "# add bias\n",
    "for m in minorities:\n",
    "    df_yearly[f'bias_{m}'] = df_yearly[f'raw_bias_{m}'] - raw_bias_medians[m]\n",
    "\n",
    "df_yearly.head()"
   ]
  },
  {
   "cell_type": "code",
   "execution_count": null,
   "metadata": {},
   "outputs": [],
   "source": [
    "bias_df = df_yearly.merge(df_officers, how='left', left_index=True, right_index=True, validate='one_to_one')\n",
    "bias_df.head(1)"
   ]
  },
  {
   "cell_type": "code",
   "execution_count": null,
   "metadata": {},
   "outputs": [],
   "source": [
    "# fit models\n",
    "for m in minorities:\n",
    "    print()\n",
    "    print(f'--------------{m.upper()}--------------')\n",
    "    res = smf.ols(formula=f'bias_{m} ~ C(officer_race) + C(officer_sex) + officer_age', data=bias_df).fit()\n",
    "    print(res.summary())"
   ]
  },
  {
   "source": [
    "### Analysis\n",
    "- The results are the opposite of what was expected : the bias score toward a minority m increases when the officer is of the same race\n",
    "- The age seems to diminish the bias score of the officer\n",
    "\n",
    "**Conclusion**\n",
    "- The assumption \"median of raw biases toward m = proportion of m in the local population\" does not work. In localities with lots of hispanics, \n"
   ],
   "cell_type": "markdown",
   "metadata": {}
  },
  {
   "cell_type": "code",
   "execution_count": null,
   "metadata": {},
   "outputs": [],
   "source": []
  },
  {
   "cell_type": "code",
   "execution_count": null,
   "metadata": {},
   "outputs": [],
   "source": []
  },
  {
   "source": [
    "## Study county-wide "
   ],
   "cell_type": "markdown",
   "metadata": {}
  },
  {
   "cell_type": "code",
   "execution_count": null,
   "metadata": {},
   "outputs": [],
   "source": [
    "# number of counties in which an officer appears\n",
    "county_per_officer = df_full.groupby('officer_id_hash')['county_name'].nunique()\n",
    "sns.histplot(county_per_officer)"
   ]
  },
  {
   "cell_type": "code",
   "execution_count": null,
   "metadata": {},
   "outputs": [],
   "source": [
    "fig = px.histogram(data_frame=county_per_officer, x='county_name')\n",
    "fig.show()"
   ]
  },
  {
   "source": [
    "### Observations\n",
    "All officers have more than 1 county"
   ],
   "cell_type": "markdown",
   "metadata": {}
  },
  {
   "source": [
    "# Study of walking arrest (if any)"
   ],
   "cell_type": "markdown",
   "metadata": {}
  },
  {
   "cell_type": "code",
   "execution_count": null,
   "metadata": {},
   "outputs": [],
   "source": [
    "print(df_full['type'].unique())\n",
    "df_ped = df_full[df_full['type'] == 'pedestrian']\n",
    "print(len(df_ped))"
   ]
  },
  {
   "cell_type": "code",
   "execution_count": null,
   "metadata": {},
   "outputs": [],
   "source": [
    "df_ped"
   ]
  },
  {
   "cell_type": "code",
   "execution_count": null,
   "metadata": {},
   "outputs": [],
   "source": [
    "df_officers_ped = df_ped.groupby(['year', 'officer_id_hash', 'officer_race', 'officer_sex'])['officer_yos', 'officer_age']\n",
    "df_officers_ped = df_officers_ped.min().reset_index()\n",
    "df_officers_ped.set_index(['year', 'officer_id_hash'], inplace=True, verify_integrity=True)\n",
    "df_officers_ped.head()\n",
    "\n",
    "# build dataframe linking (year, officer) to their number of arrest of minorities\n",
    "df_yearly_ped_all = df_ped.groupby(['year', 'officer_id_hash', 'subject_race'])['date'].count().to_frame().reset_index()\n",
    "df_yearly_ped_all.rename(columns={'date':'stops'}, inplace=True)\n",
    "df_yearly_ped_all = df_yearly_ped_all.pivot_table(columns='subject_race', values='stops', index=['year', 'officer_id_hash'], fill_value=0)\n",
    "df_yearly_ped_all['total'] = df_yearly_ped_all.sum(axis=1)\n",
    "df_yearly_ped_all.head()\n",
    "\n",
    "# drop officers with too few arrest\n",
    "stop_threshold = 10\n",
    "df_yearly_ped = df_yearly_ped_all[df_yearly_ped_all['total'] > stop_threshold]\n",
    "print(f'There are {len(df_yearly_ped)} entries left')\n",
    "\n",
    "# add raw bias\n",
    "for m in minorities:\n",
    "        df_yearly_ped[f'raw_bias_{m}'] = df_yearly_ped[m] / df_yearly_ped['total']\n",
    "\n",
    "# compute medians\n",
    "raw_bias_medians_ped = { m : df_yearly_ped[f'raw_bias_{m}'].median() for m in minorities}\n",
    "\n",
    "# add bias\n",
    "for m in minorities:\n",
    "    df_yearly_ped[f'bias_{m}'] = df_yearly_ped[f'raw_bias_{m}'] - raw_bias_medians_ped[m]\n",
    "\n",
    "bias_df_ped = df_yearly_ped.merge(df_officers_ped, how='left', left_index=True, right_index=True, validate='one_to_one')\n",
    "\n",
    "# fit models\n",
    "for m in minorities:\n",
    "    print()\n",
    "    print(f'--------------{m.upper()}--------------')\n",
    "    res = smf.ols(formula=f'bias_{m} ~ C(officer_race) + C(officer_sex) + officer_age', data=bias_df).fit()\n",
    "    print(res.summary())"
   ]
  }
 ]
}