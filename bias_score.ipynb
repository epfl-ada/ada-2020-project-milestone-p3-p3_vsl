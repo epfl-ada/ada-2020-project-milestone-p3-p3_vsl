{
 "metadata": {
  "language_info": {
   "codemirror_mode": {
    "name": "ipython",
    "version": 3
   },
   "file_extension": ".py",
   "mimetype": "text/x-python",
   "name": "python",
   "nbconvert_exporter": "python",
   "pygments_lexer": "ipython3",
   "version": "3.8.6-final"
  },
  "orig_nbformat": 2,
  "kernelspec": {
   "name": "python3",
   "display_name": "Python 3.8.6 64-bit",
   "metadata": {
    "interpreter": {
     "hash": "03c4f2befd112ae6133593a618d4cc9f49a940019336ec3e14700801b49563e8"
    }
   }
  }
 },
 "nbformat": 4,
 "nbformat_minor": 2,
 "cells": [
  {
   "source": [
    "# Bias score\n",
    "## Goal\n",
    "The goal here is to determined *how* the characteristics of an officer influence its bias towards minorities \n",
    "\n",
    "## How\n",
    "- An officer : arrest over a N-year period\n",
    "- Raw bias score for officer o towards minority m $ B(o,m) = \\frac{N_{stops~of~m}}{N_{total~stops~over~the~period}} $\n",
    "- Strong assumption: $median(\\{B(o,m) / o \\in S\\})$ is actually the proportion of the population of $S$ which is from minority $m$ \n",
    "- Bias score for minority $m$ for an officer in a set of officers of region $S$ : $ B_m = \\frac{N_{stops~of~m}}{N_{total~stops~over~the~period}} - median(\\{B(o,m) / o \\in S\\})$\n",
    "\n",
    "The study is held this way : \n",
    "- $S$ is statewide : see the coefficient statewide\n",
    "- $S$ is county-wide, provided enough data\n"
   ],
   "cell_type": "markdown",
   "metadata": {}
  },
  {
   "cell_type": "code",
   "execution_count": 40,
   "metadata": {},
   "outputs": [],
   "source": [
    "import pandas as pd\n",
    "import numpy as np\n",
    "import matplotlib.pyplot as plt\n",
    "import seaborn as sns\n",
    "from copy import copy\n",
    "\n",
    "from tqdm import tqdm\n",
    "tqdm.pandas()\n",
    "\n",
    "import statsmodels.api as sm\n",
    "import statsmodels.formula.api as smf"
   ]
  },
  {
   "cell_type": "code",
   "execution_count": 41,
   "metadata": {},
   "outputs": [],
   "source": [
    "folder = 'data/'\n",
    "state = folder + 'fl_statewide.csv.zip'\n",
    "state_reduced = folder + 'fl_statewide_reduced.csv.zip'\n",
    "\n",
    "keep_columns = ['date', 'time', 'county_name', 'subject_age', 'subject_race', 'subject_sex', 'officer_id_hash', 'officer_age', 'officer_race', 'officer_sex', 'officer_years_of_service', 'arrest_made', 'citation_issued', 'warning_issued', 'frisk_performed', 'search_conducted']\n",
    "mandatory_columns = ['date', 'time', 'subject_age', 'subject_race', 'subject_sex', 'officer_id_hash', 'officer_age', 'officer_race', 'officer_sex', 'officer_years_of_service', 'arrest_made', 'citation_issued', 'warning_issued', 'search_conducted']\n",
    "minorities = ['white', 'hispanic', 'black']\n",
    "boolean_columns = ['arrest_made', 'citation_issued', 'warning_issued', 'frisk_performed', 'search_conducted']"
   ]
  },
  {
   "source": [
    "# Helper functions"
   ],
   "cell_type": "markdown",
   "metadata": {}
  },
  {
   "cell_type": "code",
   "execution_count": 42,
   "metadata": {},
   "outputs": [],
   "source": [
    "def type_booleans(df):\n",
    "    \"\"\" type a column in boolean if possible to reduce size and handability of dataframe\n",
    "    \"\"\"\n",
    "    global boolean_columns\n",
    "    for col in boolean_columns:\n",
    "        if df_full[col].isna().sum() == 0:\n",
    "            df_full[col] = df_full[col].astype(bool)\n",
    "        else:\n",
    "            print(f\"Cannot convert {col} columns to boolean\")\n",
    "\n",
    "def print_info_df(df):\n",
    "    \"\"\" print summary of dataframe and values in columns if not too long\n",
    "    \"\"\"\n",
    "    print(\"Dataset is composed of {} stops. Columns are: \\n\".format(df.shape[0]))\n",
    "    for col in df.columns:\n",
    "        if df.dtypes[col] != np.float64:\n",
    "            val = df[col].unique()\n",
    "            if len(val) > 20:\n",
    "                print('{} \\t\\t: too much different values'.format(col))\n",
    "            else:\n",
    "                print('{} \\t\\t: values are: {}'.format(col if len(col)>15 else col + \"\\t\\t\", val))\n",
    "\n",
    "def generate_smaller_data(df, keep_ratio, path):\n",
    "    \"\"\" Write new csv of reduced size in path and returns it\n",
    "    \"\"\"\n",
    "    total_size = df.shape[0]\n",
    "    df_red = df.sample(n=int(total_size * keep_ratio))\n",
    "    df_red.to_csv(path, index = False)\n",
    "    return df_red"
   ]
  },
  {
   "source": [
    "# Loading and cleaning dataset"
   ],
   "cell_type": "markdown",
   "metadata": {}
  },
  {
   "cell_type": "code",
   "execution_count": 43,
   "metadata": {},
   "outputs": [
    {
     "output_type": "stream",
     "name": "stdout",
     "text": [
      "7297538\n"
     ]
    }
   ],
   "source": [
    "# load all dataset\n",
    "df_full = pd.read_csv(state)\n",
    "print(len(df_full))"
   ]
  },
  {
   "cell_type": "code",
   "execution_count": 44,
   "metadata": {},
   "outputs": [
    {
     "output_type": "stream",
     "name": "stdout",
     "text": [
      "2879765\n"
     ]
    },
    {
     "output_type": "execute_result",
     "data": {
      "text/plain": [
       "        date      time       county_name  subject_age subject_race  \\\n",
       "1 2010-01-06  16:14:43      Duval County         23.0        white   \n",
       "2 2010-01-08  19:39:31      Duval County         45.0        white   \n",
       "3 2010-01-11  11:56:34  St. Lucie County         41.0        white   \n",
       "6 2010-01-15  09:18:02    Gadsden County         26.0        white   \n",
       "7 2010-01-15  10:16:59    Gadsden County         42.0     hispanic   \n",
       "\n",
       "  subject_sex officer_id_hash  officer_age officer_race officer_sex  \\\n",
       "1      female      a23eeba673         31.0        black        male   \n",
       "2      female      f0489ce476         29.0        white        male   \n",
       "3        male      bb47e316ba         26.0        white        male   \n",
       "6        male      6cdcbc9d4b         47.0        white        male   \n",
       "7        male      6cdcbc9d4b         47.0        white        male   \n",
       "\n",
       "   officer_yos arrest_made citation_issued warning_issued frisk_performed  \\\n",
       "1          8.0       False           False          False           False   \n",
       "2          3.0        True           False          False           False   \n",
       "3          3.0       False            True          False           False   \n",
       "6          0.0       False           False           True           False   \n",
       "7          0.0       False           False          False           False   \n",
       "\n",
       "  search_conducted  year  \n",
       "1            False  2010  \n",
       "2            False  2010  \n",
       "3            False  2010  \n",
       "6            False  2010  \n",
       "7             True  2010  "
      ],
      "text/html": "<div>\n<style scoped>\n    .dataframe tbody tr th:only-of-type {\n        vertical-align: middle;\n    }\n\n    .dataframe tbody tr th {\n        vertical-align: top;\n    }\n\n    .dataframe thead th {\n        text-align: right;\n    }\n</style>\n<table border=\"1\" class=\"dataframe\">\n  <thead>\n    <tr style=\"text-align: right;\">\n      <th></th>\n      <th>date</th>\n      <th>time</th>\n      <th>county_name</th>\n      <th>subject_age</th>\n      <th>subject_race</th>\n      <th>subject_sex</th>\n      <th>officer_id_hash</th>\n      <th>officer_age</th>\n      <th>officer_race</th>\n      <th>officer_sex</th>\n      <th>officer_yos</th>\n      <th>arrest_made</th>\n      <th>citation_issued</th>\n      <th>warning_issued</th>\n      <th>frisk_performed</th>\n      <th>search_conducted</th>\n      <th>year</th>\n    </tr>\n  </thead>\n  <tbody>\n    <tr>\n      <th>1</th>\n      <td>2010-01-06</td>\n      <td>16:14:43</td>\n      <td>Duval County</td>\n      <td>23.0</td>\n      <td>white</td>\n      <td>female</td>\n      <td>a23eeba673</td>\n      <td>31.0</td>\n      <td>black</td>\n      <td>male</td>\n      <td>8.0</td>\n      <td>False</td>\n      <td>False</td>\n      <td>False</td>\n      <td>False</td>\n      <td>False</td>\n      <td>2010</td>\n    </tr>\n    <tr>\n      <th>2</th>\n      <td>2010-01-08</td>\n      <td>19:39:31</td>\n      <td>Duval County</td>\n      <td>45.0</td>\n      <td>white</td>\n      <td>female</td>\n      <td>f0489ce476</td>\n      <td>29.0</td>\n      <td>white</td>\n      <td>male</td>\n      <td>3.0</td>\n      <td>True</td>\n      <td>False</td>\n      <td>False</td>\n      <td>False</td>\n      <td>False</td>\n      <td>2010</td>\n    </tr>\n    <tr>\n      <th>3</th>\n      <td>2010-01-11</td>\n      <td>11:56:34</td>\n      <td>St. Lucie County</td>\n      <td>41.0</td>\n      <td>white</td>\n      <td>male</td>\n      <td>bb47e316ba</td>\n      <td>26.0</td>\n      <td>white</td>\n      <td>male</td>\n      <td>3.0</td>\n      <td>False</td>\n      <td>True</td>\n      <td>False</td>\n      <td>False</td>\n      <td>False</td>\n      <td>2010</td>\n    </tr>\n    <tr>\n      <th>6</th>\n      <td>2010-01-15</td>\n      <td>09:18:02</td>\n      <td>Gadsden County</td>\n      <td>26.0</td>\n      <td>white</td>\n      <td>male</td>\n      <td>6cdcbc9d4b</td>\n      <td>47.0</td>\n      <td>white</td>\n      <td>male</td>\n      <td>0.0</td>\n      <td>False</td>\n      <td>False</td>\n      <td>True</td>\n      <td>False</td>\n      <td>False</td>\n      <td>2010</td>\n    </tr>\n    <tr>\n      <th>7</th>\n      <td>2010-01-15</td>\n      <td>10:16:59</td>\n      <td>Gadsden County</td>\n      <td>42.0</td>\n      <td>hispanic</td>\n      <td>male</td>\n      <td>6cdcbc9d4b</td>\n      <td>47.0</td>\n      <td>white</td>\n      <td>male</td>\n      <td>0.0</td>\n      <td>False</td>\n      <td>False</td>\n      <td>False</td>\n      <td>False</td>\n      <td>True</td>\n      <td>2010</td>\n    </tr>\n  </tbody>\n</table>\n</div>"
     },
     "metadata": {},
     "execution_count": 44
    }
   ],
   "source": [
    "df_full.drop(columns=df_full.columns.difference(keep_columns), inplace=True) # drop unused columns\n",
    "df_full.dropna(subset=mandatory_columns, how='any', inplace=True) # drop nan values in mandatory columns\n",
    "df_full['date'] = pd.to_datetime(df_full['date']) # to datetime\n",
    "df_full['year'] = df_full['date'].dt.to_period('y')\n",
    "df_full = df_full.rename(columns={'officer_years_of_service': 'officer_yos'})\n",
    "\n",
    "print(len(df_full))\n",
    "df_full.head()"
   ]
  },
  {
   "cell_type": "code",
   "execution_count": 45,
   "metadata": {},
   "outputs": [
    {
     "output_type": "stream",
     "name": "stdout",
     "text": [
      "28797\n"
     ]
    }
   ],
   "source": [
    "df_small = generate_smaller_data(df_full, 0.01, state_reduced)\n",
    "print(len(df_small))"
   ]
  },
  {
   "source": [
    "# Explore the data"
   ],
   "cell_type": "markdown",
   "metadata": {}
  },
  {
   "cell_type": "code",
   "execution_count": 46,
   "metadata": {
    "tags": []
   },
   "outputs": [
    {
     "output_type": "stream",
     "name": "stdout",
     "text": [
      "Dataset is composed of 2879765 stops. Columns are: \n",
      "\n",
      "date \t\t: too much different values\n",
      "time \t\t: too much different values\n",
      "county_name \t\t: too much different values\n",
      "subject_race\t\t \t\t: values are: ['white' 'hispanic' 'black' 'asian/pacific islander' 'other']\n",
      "subject_sex\t\t \t\t: values are: ['female' 'male']\n",
      "officer_id_hash \t\t: too much different values\n",
      "officer_race\t\t \t\t: values are: ['black' 'white' 'hispanic' 'unknown' 'asian/pacific islander' 'other']\n",
      "officer_sex\t\t \t\t: values are: ['male' 'female']\n",
      "arrest_made\t\t \t\t: values are: [False True]\n",
      "citation_issued\t\t \t\t: values are: [False True]\n",
      "warning_issued\t\t \t\t: values are: [False True]\n",
      "frisk_performed\t\t \t\t: values are: [False True]\n",
      "search_conducted \t\t: values are: [False True]\n",
      "year\t\t \t\t: values are: <PeriodArray>\n",
      "['2010', '2011', '2012', '2013', '2014', '2015']\n",
      "Length: 6, dtype: period[A-DEC]\n"
     ]
    }
   ],
   "source": [
    "# grasp on the data : is there spelling mistakes for gender, race; nan values; ...\n",
    "print_info_df(df_full)"
   ]
  },
  {
   "cell_type": "code",
   "execution_count": 47,
   "metadata": {},
   "outputs": [],
   "source": [
    "# keep same minorities as papers \n",
    "# df_full = df_full[df_full['subject_race'].isin(minorities)]\n",
    "df_full = df_full[df_full['officer_race'].isin(minorities)]\n",
    "type_booleans(df_full)"
   ]
  },
  {
   "source": [
    "## Compute dataframe officers"
   ],
   "cell_type": "markdown",
   "metadata": {}
  },
  {
   "cell_type": "code",
   "execution_count": 56,
   "metadata": {},
   "outputs": [
    {
     "output_type": "execute_result",
     "data": {
      "text/plain": [
       "                     officer_race officer_sex  officer_yos  officer_age\n",
       "year officer_id_hash                                                   \n",
       "2010 000f298db7          hispanic        male         10.0         33.0\n",
       "     0045d4113d             black        male          0.0         30.0\n",
       "     008bb7857a             white        male         22.0         46.0\n",
       "     01088eec71             white        male          0.0         31.0\n",
       "     0142b8fe8c             white        male         14.0         44.0"
      ],
      "text/html": "<div>\n<style scoped>\n    .dataframe tbody tr th:only-of-type {\n        vertical-align: middle;\n    }\n\n    .dataframe tbody tr th {\n        vertical-align: top;\n    }\n\n    .dataframe thead th {\n        text-align: right;\n    }\n</style>\n<table border=\"1\" class=\"dataframe\">\n  <thead>\n    <tr style=\"text-align: right;\">\n      <th></th>\n      <th></th>\n      <th>officer_race</th>\n      <th>officer_sex</th>\n      <th>officer_yos</th>\n      <th>officer_age</th>\n    </tr>\n    <tr>\n      <th>year</th>\n      <th>officer_id_hash</th>\n      <th></th>\n      <th></th>\n      <th></th>\n      <th></th>\n    </tr>\n  </thead>\n  <tbody>\n    <tr>\n      <th rowspan=\"5\" valign=\"top\">2010</th>\n      <th>000f298db7</th>\n      <td>hispanic</td>\n      <td>male</td>\n      <td>10.0</td>\n      <td>33.0</td>\n    </tr>\n    <tr>\n      <th>0045d4113d</th>\n      <td>black</td>\n      <td>male</td>\n      <td>0.0</td>\n      <td>30.0</td>\n    </tr>\n    <tr>\n      <th>008bb7857a</th>\n      <td>white</td>\n      <td>male</td>\n      <td>22.0</td>\n      <td>46.0</td>\n    </tr>\n    <tr>\n      <th>01088eec71</th>\n      <td>white</td>\n      <td>male</td>\n      <td>0.0</td>\n      <td>31.0</td>\n    </tr>\n    <tr>\n      <th>0142b8fe8c</th>\n      <td>white</td>\n      <td>male</td>\n      <td>14.0</td>\n      <td>44.0</td>\n    </tr>\n  </tbody>\n</table>\n</div>"
     },
     "metadata": {},
     "execution_count": 56
    }
   ],
   "source": [
    "df_officers = df_full.groupby(['year', 'officer_id_hash', 'officer_race', 'officer_sex'])['officer_yos', 'officer_age']\n",
    "df_officers = df_officers.min().reset_index()\n",
    "df_officers.set_index(['year', 'officer_id_hash'], inplace=True, verify_integrity=True)\n",
    "df_officers.head()"
   ]
  },
  {
   "source": [
    "# Compute bias score\n"
   ],
   "cell_type": "markdown",
   "metadata": {}
  },
  {
   "cell_type": "code",
   "execution_count": 49,
   "metadata": {},
   "outputs": [
    {
     "output_type": "execute_result",
     "data": {
      "text/plain": [
       "subject_race          asian/pacific islander  black  hispanic  other  white  \\\n",
       "year officer_id_hash                                                          \n",
       "2010 000f298db7                           10     58       112      9    287   \n",
       "     0045d4113d                            4     67       222     12     76   \n",
       "     008bb7857a                            2     13        49      3     60   \n",
       "     01088eec71                           16     87        25     14    908   \n",
       "     0142b8fe8c                            2     48        33      7    186   \n",
       "\n",
       "subject_race          total  \n",
       "year officer_id_hash         \n",
       "2010 000f298db7         476  \n",
       "     0045d4113d         381  \n",
       "     008bb7857a         127  \n",
       "     01088eec71        1050  \n",
       "     0142b8fe8c         276  "
      ],
      "text/html": "<div>\n<style scoped>\n    .dataframe tbody tr th:only-of-type {\n        vertical-align: middle;\n    }\n\n    .dataframe tbody tr th {\n        vertical-align: top;\n    }\n\n    .dataframe thead th {\n        text-align: right;\n    }\n</style>\n<table border=\"1\" class=\"dataframe\">\n  <thead>\n    <tr style=\"text-align: right;\">\n      <th></th>\n      <th>subject_race</th>\n      <th>asian/pacific islander</th>\n      <th>black</th>\n      <th>hispanic</th>\n      <th>other</th>\n      <th>white</th>\n      <th>total</th>\n    </tr>\n    <tr>\n      <th>year</th>\n      <th>officer_id_hash</th>\n      <th></th>\n      <th></th>\n      <th></th>\n      <th></th>\n      <th></th>\n      <th></th>\n    </tr>\n  </thead>\n  <tbody>\n    <tr>\n      <th rowspan=\"5\" valign=\"top\">2010</th>\n      <th>000f298db7</th>\n      <td>10</td>\n      <td>58</td>\n      <td>112</td>\n      <td>9</td>\n      <td>287</td>\n      <td>476</td>\n    </tr>\n    <tr>\n      <th>0045d4113d</th>\n      <td>4</td>\n      <td>67</td>\n      <td>222</td>\n      <td>12</td>\n      <td>76</td>\n      <td>381</td>\n    </tr>\n    <tr>\n      <th>008bb7857a</th>\n      <td>2</td>\n      <td>13</td>\n      <td>49</td>\n      <td>3</td>\n      <td>60</td>\n      <td>127</td>\n    </tr>\n    <tr>\n      <th>01088eec71</th>\n      <td>16</td>\n      <td>87</td>\n      <td>25</td>\n      <td>14</td>\n      <td>908</td>\n      <td>1050</td>\n    </tr>\n    <tr>\n      <th>0142b8fe8c</th>\n      <td>2</td>\n      <td>48</td>\n      <td>33</td>\n      <td>7</td>\n      <td>186</td>\n      <td>276</td>\n    </tr>\n  </tbody>\n</table>\n</div>"
     },
     "metadata": {},
     "execution_count": 49
    }
   ],
   "source": [
    "# build dataframe linking (year, officer) to their number of arrest of minorities\n",
    "df_yearly = df_full.groupby(['year', 'officer_id_hash', 'subject_race'])['date'].count().to_frame().reset_index()\n",
    "df_yearly.rename(columns={'date':'stops'}, inplace=True)\n",
    "df_yearly = df_yearly.pivot_table(columns='subject_race', values='stops', index=['year', 'officer_id_hash'], fill_value=0)\n",
    "df_yearly['total'] = df_yearly.sum(axis=1)\n",
    "df_yearly.head()"
   ]
  },
  {
   "cell_type": "code",
   "execution_count": 80,
   "metadata": {},
   "outputs": [
    {
     "output_type": "stream",
     "name": "stdout",
     "text": [
      "There are 3612 entries left\n"
     ]
    }
   ],
   "source": [
    "# drop officers with too few arrest\n",
    "stop_threshold = 300\n",
    "df_yearly = df_yearly[df_yearly['total'] > stop_threshold]\n",
    "print(f'There are {len(df_yearly)} entries left')"
   ]
  },
  {
   "cell_type": "code",
   "execution_count": 81,
   "metadata": {},
   "outputs": [
    {
     "output_type": "execute_result",
     "data": {
      "text/plain": [
       "subject_race          asian/pacific islander  black  hispanic  other  white  \\\n",
       "year officer_id_hash                                                          \n",
       "2010 000f298db7                           10     58       112      9    287   \n",
       "     0045d4113d                            4     67       222     12     76   \n",
       "     01088eec71                           16     87        25     14    908   \n",
       "     01f6eed4ab                            8    277       240     21    451   \n",
       "     0206a7e7cf                            4     96        21      2    264   \n",
       "\n",
       "subject_race          total  raw_bias_white  raw_bias_hispanic  \\\n",
       "year officer_id_hash                                             \n",
       "2010 000f298db7         476        0.602941           0.235294   \n",
       "     0045d4113d         381        0.199475           0.582677   \n",
       "     01088eec71        1050        0.864762           0.023810   \n",
       "     01f6eed4ab         997        0.452357           0.240722   \n",
       "     0206a7e7cf         387        0.682171           0.054264   \n",
       "\n",
       "subject_race          raw_bias_black  bias_white  bias_hispanic  bias_black  \n",
       "year officer_id_hash                                                         \n",
       "2010 000f298db7             0.121849    0.012927       0.068961   -0.052006  \n",
       "     0045d4113d             0.175853   -0.390539       0.416344    0.001998  \n",
       "     01088eec71             0.082857    0.274748      -0.142523   -0.090998  \n",
       "     01f6eed4ab             0.277834   -0.137657       0.074389    0.103979  \n",
       "     0206a7e7cf             0.248062    0.092157      -0.112069    0.074207  "
      ],
      "text/html": "<div>\n<style scoped>\n    .dataframe tbody tr th:only-of-type {\n        vertical-align: middle;\n    }\n\n    .dataframe tbody tr th {\n        vertical-align: top;\n    }\n\n    .dataframe thead th {\n        text-align: right;\n    }\n</style>\n<table border=\"1\" class=\"dataframe\">\n  <thead>\n    <tr style=\"text-align: right;\">\n      <th></th>\n      <th>subject_race</th>\n      <th>asian/pacific islander</th>\n      <th>black</th>\n      <th>hispanic</th>\n      <th>other</th>\n      <th>white</th>\n      <th>total</th>\n      <th>raw_bias_white</th>\n      <th>raw_bias_hispanic</th>\n      <th>raw_bias_black</th>\n      <th>bias_white</th>\n      <th>bias_hispanic</th>\n      <th>bias_black</th>\n    </tr>\n    <tr>\n      <th>year</th>\n      <th>officer_id_hash</th>\n      <th></th>\n      <th></th>\n      <th></th>\n      <th></th>\n      <th></th>\n      <th></th>\n      <th></th>\n      <th></th>\n      <th></th>\n      <th></th>\n      <th></th>\n      <th></th>\n    </tr>\n  </thead>\n  <tbody>\n    <tr>\n      <th rowspan=\"5\" valign=\"top\">2010</th>\n      <th>000f298db7</th>\n      <td>10</td>\n      <td>58</td>\n      <td>112</td>\n      <td>9</td>\n      <td>287</td>\n      <td>476</td>\n      <td>0.602941</td>\n      <td>0.235294</td>\n      <td>0.121849</td>\n      <td>0.012927</td>\n      <td>0.068961</td>\n      <td>-0.052006</td>\n    </tr>\n    <tr>\n      <th>0045d4113d</th>\n      <td>4</td>\n      <td>67</td>\n      <td>222</td>\n      <td>12</td>\n      <td>76</td>\n      <td>381</td>\n      <td>0.199475</td>\n      <td>0.582677</td>\n      <td>0.175853</td>\n      <td>-0.390539</td>\n      <td>0.416344</td>\n      <td>0.001998</td>\n    </tr>\n    <tr>\n      <th>01088eec71</th>\n      <td>16</td>\n      <td>87</td>\n      <td>25</td>\n      <td>14</td>\n      <td>908</td>\n      <td>1050</td>\n      <td>0.864762</td>\n      <td>0.023810</td>\n      <td>0.082857</td>\n      <td>0.274748</td>\n      <td>-0.142523</td>\n      <td>-0.090998</td>\n    </tr>\n    <tr>\n      <th>01f6eed4ab</th>\n      <td>8</td>\n      <td>277</td>\n      <td>240</td>\n      <td>21</td>\n      <td>451</td>\n      <td>997</td>\n      <td>0.452357</td>\n      <td>0.240722</td>\n      <td>0.277834</td>\n      <td>-0.137657</td>\n      <td>0.074389</td>\n      <td>0.103979</td>\n    </tr>\n    <tr>\n      <th>0206a7e7cf</th>\n      <td>4</td>\n      <td>96</td>\n      <td>21</td>\n      <td>2</td>\n      <td>264</td>\n      <td>387</td>\n      <td>0.682171</td>\n      <td>0.054264</td>\n      <td>0.248062</td>\n      <td>0.092157</td>\n      <td>-0.112069</td>\n      <td>0.074207</td>\n    </tr>\n  </tbody>\n</table>\n</div>"
     },
     "metadata": {},
     "execution_count": 81
    }
   ],
   "source": [
    "# add raw bias\n",
    "for m in minorities:\n",
    "        df_yearly[f'raw_bias_{m}'] = df_yearly[m] / df_yearly['total']\n",
    "\n",
    "# compute medians\n",
    "raw_bias_medians = { m : df_yearly[f'raw_bias_{m}'].median() for m in minorities}\n",
    "\n",
    "# add bias\n",
    "for m in minorities:\n",
    "    df_yearly[f'bias_{m}'] = df_yearly[f'raw_bias_{m}'] - raw_bias_medians[m]\n",
    "\n",
    "df_yearly.head()"
   ]
  },
  {
   "cell_type": "code",
   "execution_count": 82,
   "metadata": {},
   "outputs": [
    {
     "output_type": "execute_result",
     "data": {
      "text/plain": [
       "                      asian/pacific islander  black  hispanic  other  white  \\\n",
       "year officer_id_hash                                                          \n",
       "2010 000f298db7                           10     58       112      9    287   \n",
       "\n",
       "                      total  raw_bias_white  raw_bias_hispanic  \\\n",
       "year officer_id_hash                                             \n",
       "2010 000f298db7         476        0.602941           0.235294   \n",
       "\n",
       "                      raw_bias_black  bias_white  bias_hispanic  bias_black  \\\n",
       "year officer_id_hash                                                          \n",
       "2010 000f298db7             0.121849    0.012927       0.068961   -0.052006   \n",
       "\n",
       "                     officer_race officer_sex  officer_yos  officer_age  \n",
       "year officer_id_hash                                                     \n",
       "2010 000f298db7          hispanic        male         10.0         33.0  "
      ],
      "text/html": "<div>\n<style scoped>\n    .dataframe tbody tr th:only-of-type {\n        vertical-align: middle;\n    }\n\n    .dataframe tbody tr th {\n        vertical-align: top;\n    }\n\n    .dataframe thead th {\n        text-align: right;\n    }\n</style>\n<table border=\"1\" class=\"dataframe\">\n  <thead>\n    <tr style=\"text-align: right;\">\n      <th></th>\n      <th></th>\n      <th>asian/pacific islander</th>\n      <th>black</th>\n      <th>hispanic</th>\n      <th>other</th>\n      <th>white</th>\n      <th>total</th>\n      <th>raw_bias_white</th>\n      <th>raw_bias_hispanic</th>\n      <th>raw_bias_black</th>\n      <th>bias_white</th>\n      <th>bias_hispanic</th>\n      <th>bias_black</th>\n      <th>officer_race</th>\n      <th>officer_sex</th>\n      <th>officer_yos</th>\n      <th>officer_age</th>\n    </tr>\n    <tr>\n      <th>year</th>\n      <th>officer_id_hash</th>\n      <th></th>\n      <th></th>\n      <th></th>\n      <th></th>\n      <th></th>\n      <th></th>\n      <th></th>\n      <th></th>\n      <th></th>\n      <th></th>\n      <th></th>\n      <th></th>\n      <th></th>\n      <th></th>\n      <th></th>\n      <th></th>\n    </tr>\n  </thead>\n  <tbody>\n    <tr>\n      <th>2010</th>\n      <th>000f298db7</th>\n      <td>10</td>\n      <td>58</td>\n      <td>112</td>\n      <td>9</td>\n      <td>287</td>\n      <td>476</td>\n      <td>0.602941</td>\n      <td>0.235294</td>\n      <td>0.121849</td>\n      <td>0.012927</td>\n      <td>0.068961</td>\n      <td>-0.052006</td>\n      <td>hispanic</td>\n      <td>male</td>\n      <td>10.0</td>\n      <td>33.0</td>\n    </tr>\n  </tbody>\n</table>\n</div>"
     },
     "metadata": {},
     "execution_count": 82
    }
   ],
   "source": [
    "bias_df = df_yearly.merge(df_officers, how='left', left_index=True, right_index=True, validate='one_to_one')\n",
    "bias_df.head(1)"
   ]
  },
  {
   "cell_type": "code",
   "execution_count": 83,
   "metadata": {},
   "outputs": [
    {
     "output_type": "stream",
     "name": "stdout",
     "text": [
      "\n--------------WHITE--------------\n                            OLS Regression Results                            \n==============================================================================\nDep. Variable:             bias_white   R-squared:                       0.218\nModel:                            OLS   Adj. R-squared:                  0.217\nMethod:                 Least Squares   F-statistic:                     251.4\nDate:                Thu, 17 Dec 2020   Prob (F-statistic):          9.53e-191\nTime:                        23:14:44   Log-Likelihood:                 1411.2\nNo. Observations:                3612   AIC:                            -2812.\nDf Residuals:                    3607   BIC:                            -2781.\nDf Model:                           4                                         \nCovariance Type:            nonrobust                                         \n===============================================================================================\n                                  coef    std err          t      P>|t|      [0.025      0.975]\n-----------------------------------------------------------------------------------------------\nIntercept                      -0.1991      0.017    -12.062      0.000      -0.231      -0.167\nC(officer_race)[T.hispanic]    -0.1049      0.010    -10.305      0.000      -0.125      -0.085\nC(officer_race)[T.white]        0.1211      0.008     15.295      0.000       0.106       0.137\nC(officer_sex)[T.male]          0.0219      0.010      2.174      0.030       0.002       0.042\nofficer_age                     0.0022      0.000      7.705      0.000       0.002       0.003\n==============================================================================\nOmnibus:                      153.947   Durbin-Watson:                   1.993\nProb(Omnibus):                  0.000   Jarque-Bera (JB):              173.092\nSkew:                          -0.525   Prob(JB):                     2.59e-38\nKurtosis:                       3.221   Cond. No.                         265.\n==============================================================================\n\nNotes:\n[1] Standard Errors assume that the covariance matrix of the errors is correctly specified.\n\n--------------HISPANIC--------------\n                            OLS Regression Results                            \n==============================================================================\nDep. Variable:          bias_hispanic   R-squared:                       0.242\nModel:                            OLS   Adj. R-squared:                  0.241\nMethod:                 Least Squares   F-statistic:                     287.4\nDate:                Thu, 17 Dec 2020   Prob (F-statistic):          8.55e-215\nTime:                        23:14:44   Log-Likelihood:                 1617.8\nNo. Observations:                3612   AIC:                            -3226.\nDf Residuals:                    3607   BIC:                            -3195.\nDf Model:                           4                                         \nCovariance Type:            nonrobust                                         \n===============================================================================================\n                                  coef    std err          t      P>|t|      [0.025      0.975]\n-----------------------------------------------------------------------------------------------\nIntercept                       0.1209      0.016      7.755      0.000       0.090       0.151\nC(officer_race)[T.hispanic]     0.1567      0.010     16.302      0.000       0.138       0.176\nC(officer_race)[T.white]       -0.0887      0.007    -11.855      0.000      -0.103      -0.074\nC(officer_sex)[T.male]         -0.0095      0.010     -0.995      0.320      -0.028       0.009\nofficer_age                    -0.0008      0.000     -2.961      0.003      -0.001      -0.000\n==============================================================================\nOmnibus:                      960.883   Durbin-Watson:                   1.950\nProb(Omnibus):                  0.000   Jarque-Bera (JB):             2447.507\nSkew:                           1.438   Prob(JB):                         0.00\nKurtosis:                       5.827   Cond. No.                         265.\n==============================================================================\n\nNotes:\n[1] Standard Errors assume that the covariance matrix of the errors is correctly specified.\n\n--------------BLACK--------------\n                            OLS Regression Results                            \n==============================================================================\nDep. Variable:             bias_black   R-squared:                       0.038\nModel:                            OLS   Adj. R-squared:                  0.037\nMethod:                 Least Squares   F-statistic:                     36.00\nDate:                Thu, 17 Dec 2020   Prob (F-statistic):           1.53e-29\nTime:                        23:14:44   Log-Likelihood:                 3717.3\nNo. Observations:                3612   AIC:                            -7425.\nDf Residuals:                    3607   BIC:                            -7394.\nDf Model:                           4                                         \nCovariance Type:            nonrobust                                         \n===============================================================================================\n                                  coef    std err          t      P>|t|      [0.025      0.975]\n-----------------------------------------------------------------------------------------------\nIntercept                       0.0977      0.009     11.213      0.000       0.081       0.115\nC(officer_race)[T.hispanic]    -0.0484      0.005     -9.007      0.000      -0.059      -0.038\nC(officer_race)[T.white]       -0.0264      0.004     -6.315      0.000      -0.035      -0.018\nC(officer_sex)[T.male]         -0.0111      0.005     -2.082      0.037      -0.021      -0.001\nofficer_age                    -0.0013      0.000     -8.475      0.000      -0.002      -0.001\n==============================================================================\nOmnibus:                      815.243   Durbin-Watson:                   1.977\nProb(Omnibus):                  0.000   Jarque-Bera (JB):             2284.297\nSkew:                           1.181   Prob(JB):                         0.00\nKurtosis:                       6.098   Cond. No.                         265.\n==============================================================================\n\nNotes:\n[1] Standard Errors assume that the covariance matrix of the errors is correctly specified.\n"
     ]
    }
   ],
   "source": [
    "# fit models\n",
    "for m in minorities:\n",
    "    print()\n",
    "    print(f'--------------{m.upper()}--------------')\n",
    "    res = smf.ols(formula=f'bias_{m} ~ C(officer_race) + C(officer_sex) + officer_age', data=bias_df).fit()\n",
    "    print(res.summary())"
   ]
  },
  {
   "source": [
    "### Analysis\n",
    "- The results are the opposite of what was expected : the bias score toward a minority m increases when the officer is of the same race\n",
    "- The age seems to diminish the bias score of the officer\n",
    "\n",
    "**Conclusion**\n",
    "- The assumption \"median of raw biases toward m = proportion of m in the local population\" does not work. In localities with lots of hispanics, \n"
   ],
   "cell_type": "markdown",
   "metadata": {}
  },
  {
   "cell_type": "code",
   "execution_count": null,
   "metadata": {},
   "outputs": [],
   "source": []
  },
  {
   "cell_type": "code",
   "execution_count": null,
   "metadata": {},
   "outputs": [],
   "source": []
  },
  {
   "source": [
    "## Study county-wide "
   ],
   "cell_type": "markdown",
   "metadata": {}
  },
  {
   "cell_type": "code",
   "execution_count": 54,
   "metadata": {},
   "outputs": [
    {
     "output_type": "execute_result",
     "data": {
      "text/plain": [
       "<AxesSubplot:xlabel='county_name', ylabel='Count'>"
      ]
     },
     "metadata": {},
     "execution_count": 54
    },
    {
     "output_type": "display_data",
     "data": {
      "text/plain": "<Figure size 432x288 with 1 Axes>",
      "image/svg+xml": "<?xml version=\"1.0\" encoding=\"utf-8\" standalone=\"no\"?>\r\n<!DOCTYPE svg PUBLIC \"-//W3C//DTD SVG 1.1//EN\"\r\n  \"http://www.w3.org/Graphics/SVG/1.1/DTD/svg11.dtd\">\r\n<!-- Created with matplotlib (https://matplotlib.org/) -->\r\n<svg height=\"262.19625pt\" version=\"1.1\" viewBox=\"0 0 388.965625 262.19625\" width=\"388.965625pt\" xmlns=\"http://www.w3.org/2000/svg\" xmlns:xlink=\"http://www.w3.org/1999/xlink\">\r\n <metadata>\r\n  <rdf:RDF xmlns:cc=\"http://creativecommons.org/ns#\" xmlns:dc=\"http://purl.org/dc/elements/1.1/\" xmlns:rdf=\"http://www.w3.org/1999/02/22-rdf-syntax-ns#\">\r\n   <cc:Work>\r\n    <dc:type rdf:resource=\"http://purl.org/dc/dcmitype/StillImage\"/>\r\n    <dc:date>2020-12-17T23:09:24.039965</dc:date>\r\n    <dc:format>image/svg+xml</dc:format>\r\n    <dc:creator>\r\n     <cc:Agent>\r\n      <dc:title>Matplotlib v3.3.3, https://matplotlib.org/</dc:title>\r\n     </cc:Agent>\r\n    </dc:creator>\r\n   </cc:Work>\r\n  </rdf:RDF>\r\n </metadata>\r\n <defs>\r\n  <style type=\"text/css\">*{stroke-linecap:butt;stroke-linejoin:round;}</style>\r\n </defs>\r\n <g id=\"figure_1\">\r\n  <g id=\"patch_1\">\r\n   <path d=\"M 0 262.19625 \r\nL 388.965625 262.19625 \r\nL 388.965625 0 \r\nL 0 0 \r\nz\r\n\" style=\"fill:none;\"/>\r\n  </g>\r\n  <g id=\"axes_1\">\r\n   <g id=\"patch_2\">\r\n    <path d=\"M 46.965625 224.64 \r\nL 381.765625 224.64 \r\nL 381.765625 7.2 \r\nL 46.965625 7.2 \r\nz\r\n\" style=\"fill:#ffffff;\"/>\r\n   </g>\r\n   <g id=\"patch_3\">\r\n    <path clip-path=\"url(#p711d515b04)\" d=\"M 62.183807 224.64 \r\nL 68.39531 224.64 \r\nL 68.39531 112.776735 \r\nL 62.183807 112.776735 \r\nz\r\n\" style=\"fill:#1f77b4;fill-opacity:0.75;stroke:#000000;stroke-linejoin:miter;stroke-width:0.62115;\"/>\r\n   </g>\r\n   <g id=\"patch_4\">\r\n    <path clip-path=\"url(#p711d515b04)\" d=\"M 68.39531 224.64 \r\nL 74.606812 224.64 \r\nL 74.606812 17.554286 \r\nL 68.39531 17.554286 \r\nz\r\n\" style=\"fill:#1f77b4;fill-opacity:0.75;stroke:#000000;stroke-linejoin:miter;stroke-width:0.62115;\"/>\r\n   </g>\r\n   <g id=\"patch_5\">\r\n    <path clip-path=\"url(#p711d515b04)\" d=\"M 74.606812 224.64 \r\nL 80.818315 224.64 \r\nL 80.818315 45.28898 \r\nL 74.606812 45.28898 \r\nz\r\n\" style=\"fill:#1f77b4;fill-opacity:0.75;stroke:#000000;stroke-linejoin:miter;stroke-width:0.62115;\"/>\r\n   </g>\r\n   <g id=\"patch_6\">\r\n    <path clip-path=\"url(#p711d515b04)\" d=\"M 80.818315 224.64 \r\nL 87.029818 224.64 \r\nL 87.029818 224.64 \r\nL 80.818315 224.64 \r\nz\r\n\" style=\"fill:#1f77b4;fill-opacity:0.75;stroke:#000000;stroke-linejoin:miter;stroke-width:0.62115;\"/>\r\n   </g>\r\n   <g id=\"patch_7\">\r\n    <path clip-path=\"url(#p711d515b04)\" d=\"M 87.029818 224.64 \r\nL 93.241321 224.64 \r\nL 93.241321 53.609388 \r\nL 87.029818 53.609388 \r\nz\r\n\" style=\"fill:#1f77b4;fill-opacity:0.75;stroke:#000000;stroke-linejoin:miter;stroke-width:0.62115;\"/>\r\n   </g>\r\n   <g id=\"patch_8\">\r\n    <path clip-path=\"url(#p711d515b04)\" d=\"M 93.241321 224.64 \r\nL 99.452824 224.64 \r\nL 99.452824 73.948163 \r\nL 93.241321 73.948163 \r\nz\r\n\" style=\"fill:#1f77b4;fill-opacity:0.75;stroke:#000000;stroke-linejoin:miter;stroke-width:0.62115;\"/>\r\n   </g>\r\n   <g id=\"patch_9\">\r\n    <path clip-path=\"url(#p711d515b04)\" d=\"M 99.452824 224.64 \r\nL 105.664326 224.64 \r\nL 105.664326 224.64 \r\nL 99.452824 224.64 \r\nz\r\n\" style=\"fill:#1f77b4;fill-opacity:0.75;stroke:#000000;stroke-linejoin:miter;stroke-width:0.62115;\"/>\r\n   </g>\r\n   <g id=\"patch_10\">\r\n    <path clip-path=\"url(#p711d515b04)\" d=\"M 105.664326 224.64 \r\nL 111.875829 224.64 \r\nL 111.875829 84.117551 \r\nL 105.664326 84.117551 \r\nz\r\n\" style=\"fill:#1f77b4;fill-opacity:0.75;stroke:#000000;stroke-linejoin:miter;stroke-width:0.62115;\"/>\r\n   </g>\r\n   <g id=\"patch_11\">\r\n    <path clip-path=\"url(#p711d515b04)\" d=\"M 111.875829 224.64 \r\nL 118.087332 224.64 \r\nL 118.087332 130.342041 \r\nL 111.875829 130.342041 \r\nz\r\n\" style=\"fill:#1f77b4;fill-opacity:0.75;stroke:#000000;stroke-linejoin:miter;stroke-width:0.62115;\"/>\r\n   </g>\r\n   <g id=\"patch_12\">\r\n    <path clip-path=\"url(#p711d515b04)\" d=\"M 118.087332 224.64 \r\nL 124.298835 224.64 \r\nL 124.298835 148.831837 \r\nL 118.087332 148.831837 \r\nz\r\n\" style=\"fill:#1f77b4;fill-opacity:0.75;stroke:#000000;stroke-linejoin:miter;stroke-width:0.62115;\"/>\r\n   </g>\r\n   <g id=\"patch_13\">\r\n    <path clip-path=\"url(#p711d515b04)\" d=\"M 124.298835 224.64 \r\nL 130.510337 224.64 \r\nL 130.510337 224.64 \r\nL 124.298835 224.64 \r\nz\r\n\" style=\"fill:#1f77b4;fill-opacity:0.75;stroke:#000000;stroke-linejoin:miter;stroke-width:0.62115;\"/>\r\n   </g>\r\n   <g id=\"patch_14\">\r\n    <path clip-path=\"url(#p711d515b04)\" d=\"M 130.510337 224.64 \r\nL 136.72184 224.64 \r\nL 136.72184 170.095102 \r\nL 130.510337 170.095102 \r\nz\r\n\" style=\"fill:#1f77b4;fill-opacity:0.75;stroke:#000000;stroke-linejoin:miter;stroke-width:0.62115;\"/>\r\n   </g>\r\n   <g id=\"patch_15\">\r\n    <path clip-path=\"url(#p711d515b04)\" d=\"M 136.72184 224.64 \r\nL 142.933343 224.64 \r\nL 142.933343 195.980816 \r\nL 136.72184 195.980816 \r\nz\r\n\" style=\"fill:#1f77b4;fill-opacity:0.75;stroke:#000000;stroke-linejoin:miter;stroke-width:0.62115;\"/>\r\n   </g>\r\n   <g id=\"patch_16\">\r\n    <path clip-path=\"url(#p711d515b04)\" d=\"M 142.933343 224.64 \r\nL 149.144846 224.64 \r\nL 149.144846 224.64 \r\nL 142.933343 224.64 \r\nz\r\n\" style=\"fill:#1f77b4;fill-opacity:0.75;stroke:#000000;stroke-linejoin:miter;stroke-width:0.62115;\"/>\r\n   </g>\r\n   <g id=\"patch_17\">\r\n    <path clip-path=\"url(#p711d515b04)\" d=\"M 149.144846 224.64 \r\nL 155.356349 224.64 \r\nL 155.356349 205.225714 \r\nL 149.144846 205.225714 \r\nz\r\n\" style=\"fill:#1f77b4;fill-opacity:0.75;stroke:#000000;stroke-linejoin:miter;stroke-width:0.62115;\"/>\r\n   </g>\r\n   <g id=\"patch_18\">\r\n    <path clip-path=\"url(#p711d515b04)\" d=\"M 155.356349 224.64 \r\nL 161.567851 224.64 \r\nL 161.567851 211.697143 \r\nL 155.356349 211.697143 \r\nz\r\n\" style=\"fill:#1f77b4;fill-opacity:0.75;stroke:#000000;stroke-linejoin:miter;stroke-width:0.62115;\"/>\r\n   </g>\r\n   <g id=\"patch_19\">\r\n    <path clip-path=\"url(#p711d515b04)\" d=\"M 161.567851 224.64 \r\nL 167.779354 224.64 \r\nL 167.779354 214.470612 \r\nL 161.567851 214.470612 \r\nz\r\n\" style=\"fill:#1f77b4;fill-opacity:0.75;stroke:#000000;stroke-linejoin:miter;stroke-width:0.62115;\"/>\r\n   </g>\r\n   <g id=\"patch_20\">\r\n    <path clip-path=\"url(#p711d515b04)\" d=\"M 167.779354 224.64 \r\nL 173.990857 224.64 \r\nL 173.990857 224.64 \r\nL 167.779354 224.64 \r\nz\r\n\" style=\"fill:#1f77b4;fill-opacity:0.75;stroke:#000000;stroke-linejoin:miter;stroke-width:0.62115;\"/>\r\n   </g>\r\n   <g id=\"patch_21\">\r\n    <path clip-path=\"url(#p711d515b04)\" d=\"M 173.990857 224.64 \r\nL 180.20236 224.64 \r\nL 180.20236 210.772653 \r\nL 173.990857 210.772653 \r\nz\r\n\" style=\"fill:#1f77b4;fill-opacity:0.75;stroke:#000000;stroke-linejoin:miter;stroke-width:0.62115;\"/>\r\n   </g>\r\n   <g id=\"patch_22\">\r\n    <path clip-path=\"url(#p711d515b04)\" d=\"M 180.20236 224.64 \r\nL 186.413862 224.64 \r\nL 186.413862 216.319592 \r\nL 180.20236 216.319592 \r\nz\r\n\" style=\"fill:#1f77b4;fill-opacity:0.75;stroke:#000000;stroke-linejoin:miter;stroke-width:0.62115;\"/>\r\n   </g>\r\n   <g id=\"patch_23\">\r\n    <path clip-path=\"url(#p711d515b04)\" d=\"M 186.413862 224.64 \r\nL 192.625365 224.64 \r\nL 192.625365 224.64 \r\nL 186.413862 224.64 \r\nz\r\n\" style=\"fill:#1f77b4;fill-opacity:0.75;stroke:#000000;stroke-linejoin:miter;stroke-width:0.62115;\"/>\r\n   </g>\r\n   <g id=\"patch_24\">\r\n    <path clip-path=\"url(#p711d515b04)\" d=\"M 192.625365 224.64 \r\nL 198.836868 224.64 \r\nL 198.836868 220.942041 \r\nL 192.625365 220.942041 \r\nz\r\n\" style=\"fill:#1f77b4;fill-opacity:0.75;stroke:#000000;stroke-linejoin:miter;stroke-width:0.62115;\"/>\r\n   </g>\r\n   <g id=\"patch_25\">\r\n    <path clip-path=\"url(#p711d515b04)\" d=\"M 198.836868 224.64 \r\nL 205.048371 224.64 \r\nL 205.048371 219.093061 \r\nL 198.836868 219.093061 \r\nz\r\n\" style=\"fill:#1f77b4;fill-opacity:0.75;stroke:#000000;stroke-linejoin:miter;stroke-width:0.62115;\"/>\r\n   </g>\r\n   <g id=\"patch_26\">\r\n    <path clip-path=\"url(#p711d515b04)\" d=\"M 205.048371 224.64 \r\nL 211.259874 224.64 \r\nL 211.259874 224.64 \r\nL 205.048371 224.64 \r\nz\r\n\" style=\"fill:#1f77b4;fill-opacity:0.75;stroke:#000000;stroke-linejoin:miter;stroke-width:0.62115;\"/>\r\n   </g>\r\n   <g id=\"patch_27\">\r\n    <path clip-path=\"url(#p711d515b04)\" d=\"M 211.259874 224.64 \r\nL 217.471376 224.64 \r\nL 217.471376 224.64 \r\nL 211.259874 224.64 \r\nz\r\n\" style=\"fill:#1f77b4;fill-opacity:0.75;stroke:#000000;stroke-linejoin:miter;stroke-width:0.62115;\"/>\r\n   </g>\r\n   <g id=\"patch_28\">\r\n    <path clip-path=\"url(#p711d515b04)\" d=\"M 217.471376 224.64 \r\nL 223.682879 224.64 \r\nL 223.682879 222.79102 \r\nL 217.471376 222.79102 \r\nz\r\n\" style=\"fill:#1f77b4;fill-opacity:0.75;stroke:#000000;stroke-linejoin:miter;stroke-width:0.62115;\"/>\r\n   </g>\r\n   <g id=\"patch_29\">\r\n    <path clip-path=\"url(#p711d515b04)\" d=\"M 223.682879 224.64 \r\nL 229.894382 224.64 \r\nL 229.894382 224.64 \r\nL 223.682879 224.64 \r\nz\r\n\" style=\"fill:#1f77b4;fill-opacity:0.75;stroke:#000000;stroke-linejoin:miter;stroke-width:0.62115;\"/>\r\n   </g>\r\n   <g id=\"patch_30\">\r\n    <path clip-path=\"url(#p711d515b04)\" d=\"M 229.894382 224.64 \r\nL 236.105885 224.64 \r\nL 236.105885 224.64 \r\nL 229.894382 224.64 \r\nz\r\n\" style=\"fill:#1f77b4;fill-opacity:0.75;stroke:#000000;stroke-linejoin:miter;stroke-width:0.62115;\"/>\r\n   </g>\r\n   <g id=\"patch_31\">\r\n    <path clip-path=\"url(#p711d515b04)\" d=\"M 236.105885 224.64 \r\nL 242.317388 224.64 \r\nL 242.317388 224.64 \r\nL 236.105885 224.64 \r\nz\r\n\" style=\"fill:#1f77b4;fill-opacity:0.75;stroke:#000000;stroke-linejoin:miter;stroke-width:0.62115;\"/>\r\n   </g>\r\n   <g id=\"patch_32\">\r\n    <path clip-path=\"url(#p711d515b04)\" d=\"M 242.317388 224.64 \r\nL 248.52889 224.64 \r\nL 248.52889 222.79102 \r\nL 242.317388 222.79102 \r\nz\r\n\" style=\"fill:#1f77b4;fill-opacity:0.75;stroke:#000000;stroke-linejoin:miter;stroke-width:0.62115;\"/>\r\n   </g>\r\n   <g id=\"patch_33\">\r\n    <path clip-path=\"url(#p711d515b04)\" d=\"M 248.52889 224.64 \r\nL 254.740393 224.64 \r\nL 254.740393 223.71551 \r\nL 248.52889 223.71551 \r\nz\r\n\" style=\"fill:#1f77b4;fill-opacity:0.75;stroke:#000000;stroke-linejoin:miter;stroke-width:0.62115;\"/>\r\n   </g>\r\n   <g id=\"patch_34\">\r\n    <path clip-path=\"url(#p711d515b04)\" d=\"M 254.740393 224.64 \r\nL 260.951896 224.64 \r\nL 260.951896 224.64 \r\nL 254.740393 224.64 \r\nz\r\n\" style=\"fill:#1f77b4;fill-opacity:0.75;stroke:#000000;stroke-linejoin:miter;stroke-width:0.62115;\"/>\r\n   </g>\r\n   <g id=\"patch_35\">\r\n    <path clip-path=\"url(#p711d515b04)\" d=\"M 260.951896 224.64 \r\nL 267.163399 224.64 \r\nL 267.163399 223.71551 \r\nL 260.951896 223.71551 \r\nz\r\n\" style=\"fill:#1f77b4;fill-opacity:0.75;stroke:#000000;stroke-linejoin:miter;stroke-width:0.62115;\"/>\r\n   </g>\r\n   <g id=\"patch_36\">\r\n    <path clip-path=\"url(#p711d515b04)\" d=\"M 267.163399 224.64 \r\nL 273.374901 224.64 \r\nL 273.374901 224.64 \r\nL 267.163399 224.64 \r\nz\r\n\" style=\"fill:#1f77b4;fill-opacity:0.75;stroke:#000000;stroke-linejoin:miter;stroke-width:0.62115;\"/>\r\n   </g>\r\n   <g id=\"patch_37\">\r\n    <path clip-path=\"url(#p711d515b04)\" d=\"M 273.374901 224.64 \r\nL 279.586404 224.64 \r\nL 279.586404 224.64 \r\nL 273.374901 224.64 \r\nz\r\n\" style=\"fill:#1f77b4;fill-opacity:0.75;stroke:#000000;stroke-linejoin:miter;stroke-width:0.62115;\"/>\r\n   </g>\r\n   <g id=\"patch_38\">\r\n    <path clip-path=\"url(#p711d515b04)\" d=\"M 279.586404 224.64 \r\nL 285.797907 224.64 \r\nL 285.797907 222.79102 \r\nL 279.586404 222.79102 \r\nz\r\n\" style=\"fill:#1f77b4;fill-opacity:0.75;stroke:#000000;stroke-linejoin:miter;stroke-width:0.62115;\"/>\r\n   </g>\r\n   <g id=\"patch_39\">\r\n    <path clip-path=\"url(#p711d515b04)\" d=\"M 285.797907 224.64 \r\nL 292.00941 224.64 \r\nL 292.00941 224.64 \r\nL 285.797907 224.64 \r\nz\r\n\" style=\"fill:#1f77b4;fill-opacity:0.75;stroke:#000000;stroke-linejoin:miter;stroke-width:0.62115;\"/>\r\n   </g>\r\n   <g id=\"patch_40\">\r\n    <path clip-path=\"url(#p711d515b04)\" d=\"M 292.00941 224.64 \r\nL 298.220913 224.64 \r\nL 298.220913 224.64 \r\nL 292.00941 224.64 \r\nz\r\n\" style=\"fill:#1f77b4;fill-opacity:0.75;stroke:#000000;stroke-linejoin:miter;stroke-width:0.62115;\"/>\r\n   </g>\r\n   <g id=\"patch_41\">\r\n    <path clip-path=\"url(#p711d515b04)\" d=\"M 298.220913 224.64 \r\nL 304.432415 224.64 \r\nL 304.432415 224.64 \r\nL 298.220913 224.64 \r\nz\r\n\" style=\"fill:#1f77b4;fill-opacity:0.75;stroke:#000000;stroke-linejoin:miter;stroke-width:0.62115;\"/>\r\n   </g>\r\n   <g id=\"patch_42\">\r\n    <path clip-path=\"url(#p711d515b04)\" d=\"M 304.432415 224.64 \r\nL 310.643918 224.64 \r\nL 310.643918 224.64 \r\nL 304.432415 224.64 \r\nz\r\n\" style=\"fill:#1f77b4;fill-opacity:0.75;stroke:#000000;stroke-linejoin:miter;stroke-width:0.62115;\"/>\r\n   </g>\r\n   <g id=\"patch_43\">\r\n    <path clip-path=\"url(#p711d515b04)\" d=\"M 310.643918 224.64 \r\nL 316.855421 224.64 \r\nL 316.855421 224.64 \r\nL 310.643918 224.64 \r\nz\r\n\" style=\"fill:#1f77b4;fill-opacity:0.75;stroke:#000000;stroke-linejoin:miter;stroke-width:0.62115;\"/>\r\n   </g>\r\n   <g id=\"patch_44\">\r\n    <path clip-path=\"url(#p711d515b04)\" d=\"M 316.855421 224.64 \r\nL 323.066924 224.64 \r\nL 323.066924 224.64 \r\nL 316.855421 224.64 \r\nz\r\n\" style=\"fill:#1f77b4;fill-opacity:0.75;stroke:#000000;stroke-linejoin:miter;stroke-width:0.62115;\"/>\r\n   </g>\r\n   <g id=\"patch_45\">\r\n    <path clip-path=\"url(#p711d515b04)\" d=\"M 323.066924 224.64 \r\nL 329.278426 224.64 \r\nL 329.278426 224.64 \r\nL 323.066924 224.64 \r\nz\r\n\" style=\"fill:#1f77b4;fill-opacity:0.75;stroke:#000000;stroke-linejoin:miter;stroke-width:0.62115;\"/>\r\n   </g>\r\n   <g id=\"patch_46\">\r\n    <path clip-path=\"url(#p711d515b04)\" d=\"M 329.278426 224.64 \r\nL 335.489929 224.64 \r\nL 335.489929 224.64 \r\nL 329.278426 224.64 \r\nz\r\n\" style=\"fill:#1f77b4;fill-opacity:0.75;stroke:#000000;stroke-linejoin:miter;stroke-width:0.62115;\"/>\r\n   </g>\r\n   <g id=\"patch_47\">\r\n    <path clip-path=\"url(#p711d515b04)\" d=\"M 335.489929 224.64 \r\nL 341.701432 224.64 \r\nL 341.701432 224.64 \r\nL 335.489929 224.64 \r\nz\r\n\" style=\"fill:#1f77b4;fill-opacity:0.75;stroke:#000000;stroke-linejoin:miter;stroke-width:0.62115;\"/>\r\n   </g>\r\n   <g id=\"patch_48\">\r\n    <path clip-path=\"url(#p711d515b04)\" d=\"M 341.701432 224.64 \r\nL 347.912935 224.64 \r\nL 347.912935 224.64 \r\nL 341.701432 224.64 \r\nz\r\n\" style=\"fill:#1f77b4;fill-opacity:0.75;stroke:#000000;stroke-linejoin:miter;stroke-width:0.62115;\"/>\r\n   </g>\r\n   <g id=\"patch_49\">\r\n    <path clip-path=\"url(#p711d515b04)\" d=\"M 347.912935 224.64 \r\nL 354.124438 224.64 \r\nL 354.124438 224.64 \r\nL 347.912935 224.64 \r\nz\r\n\" style=\"fill:#1f77b4;fill-opacity:0.75;stroke:#000000;stroke-linejoin:miter;stroke-width:0.62115;\"/>\r\n   </g>\r\n   <g id=\"patch_50\">\r\n    <path clip-path=\"url(#p711d515b04)\" d=\"M 354.124438 224.64 \r\nL 360.33594 224.64 \r\nL 360.33594 224.64 \r\nL 354.124438 224.64 \r\nz\r\n\" style=\"fill:#1f77b4;fill-opacity:0.75;stroke:#000000;stroke-linejoin:miter;stroke-width:0.62115;\"/>\r\n   </g>\r\n   <g id=\"patch_51\">\r\n    <path clip-path=\"url(#p711d515b04)\" d=\"M 360.33594 224.64 \r\nL 366.547443 224.64 \r\nL 366.547443 223.71551 \r\nL 360.33594 223.71551 \r\nz\r\n\" style=\"fill:#1f77b4;fill-opacity:0.75;stroke:#000000;stroke-linejoin:miter;stroke-width:0.62115;\"/>\r\n   </g>\r\n   <g id=\"matplotlib.axis_1\">\r\n    <g id=\"xtick_1\">\r\n     <g id=\"line2d_1\">\r\n      <defs>\r\n       <path d=\"M 0 0 \r\nL 0 3.5 \r\n\" id=\"mf52ea6feca\" style=\"stroke:#000000;stroke-width:0.8;\"/>\r\n      </defs>\r\n      <g>\r\n       <use style=\"stroke:#000000;stroke-width:0.8;\" x=\"53.487703\" xlink:href=\"#mf52ea6feca\" y=\"224.64\"/>\r\n      </g>\r\n     </g>\r\n     <g id=\"text_1\">\r\n      <!-- 0 -->\r\n      <g transform=\"translate(50.306453 239.238437)scale(0.1 -0.1)\">\r\n       <defs>\r\n        <path d=\"M 31.78125 66.40625 \r\nQ 24.171875 66.40625 20.328125 58.90625 \r\nQ 16.5 51.421875 16.5 36.375 \r\nQ 16.5 21.390625 20.328125 13.890625 \r\nQ 24.171875 6.390625 31.78125 6.390625 \r\nQ 39.453125 6.390625 43.28125 13.890625 \r\nQ 47.125 21.390625 47.125 36.375 \r\nQ 47.125 51.421875 43.28125 58.90625 \r\nQ 39.453125 66.40625 31.78125 66.40625 \r\nz\r\nM 31.78125 74.21875 \r\nQ 44.046875 74.21875 50.515625 64.515625 \r\nQ 56.984375 54.828125 56.984375 36.375 \r\nQ 56.984375 17.96875 50.515625 8.265625 \r\nQ 44.046875 -1.421875 31.78125 -1.421875 \r\nQ 19.53125 -1.421875 13.0625 8.265625 \r\nQ 6.59375 17.96875 6.59375 36.375 \r\nQ 6.59375 54.828125 13.0625 64.515625 \r\nQ 19.53125 74.21875 31.78125 74.21875 \r\nz\r\n\" id=\"DejaVuSans-48\"/>\r\n       </defs>\r\n       <use xlink:href=\"#DejaVuSans-48\"/>\r\n      </g>\r\n     </g>\r\n    </g>\r\n    <g id=\"xtick_2\">\r\n     <g id=\"line2d_2\">\r\n      <g>\r\n       <use style=\"stroke:#000000;stroke-width:0.8;\" x=\"96.968222\" xlink:href=\"#mf52ea6feca\" y=\"224.64\"/>\r\n      </g>\r\n     </g>\r\n     <g id=\"text_2\">\r\n      <!-- 5 -->\r\n      <g transform=\"translate(93.786972 239.238437)scale(0.1 -0.1)\">\r\n       <defs>\r\n        <path d=\"M 10.796875 72.90625 \r\nL 49.515625 72.90625 \r\nL 49.515625 64.59375 \r\nL 19.828125 64.59375 \r\nL 19.828125 46.734375 \r\nQ 21.96875 47.46875 24.109375 47.828125 \r\nQ 26.265625 48.1875 28.421875 48.1875 \r\nQ 40.625 48.1875 47.75 41.5 \r\nQ 54.890625 34.8125 54.890625 23.390625 \r\nQ 54.890625 11.625 47.5625 5.09375 \r\nQ 40.234375 -1.421875 26.90625 -1.421875 \r\nQ 22.3125 -1.421875 17.546875 -0.640625 \r\nQ 12.796875 0.140625 7.71875 1.703125 \r\nL 7.71875 11.625 \r\nQ 12.109375 9.234375 16.796875 8.0625 \r\nQ 21.484375 6.890625 26.703125 6.890625 \r\nQ 35.15625 6.890625 40.078125 11.328125 \r\nQ 45.015625 15.765625 45.015625 23.390625 \r\nQ 45.015625 31 40.078125 35.4375 \r\nQ 35.15625 39.890625 26.703125 39.890625 \r\nQ 22.75 39.890625 18.8125 39.015625 \r\nQ 14.890625 38.140625 10.796875 36.28125 \r\nz\r\n\" id=\"DejaVuSans-53\"/>\r\n       </defs>\r\n       <use xlink:href=\"#DejaVuSans-53\"/>\r\n      </g>\r\n     </g>\r\n    </g>\r\n    <g id=\"xtick_3\">\r\n     <g id=\"line2d_3\">\r\n      <g>\r\n       <use style=\"stroke:#000000;stroke-width:0.8;\" x=\"140.448742\" xlink:href=\"#mf52ea6feca\" y=\"224.64\"/>\r\n      </g>\r\n     </g>\r\n     <g id=\"text_3\">\r\n      <!-- 10 -->\r\n      <g transform=\"translate(134.086242 239.238437)scale(0.1 -0.1)\">\r\n       <defs>\r\n        <path d=\"M 12.40625 8.296875 \r\nL 28.515625 8.296875 \r\nL 28.515625 63.921875 \r\nL 10.984375 60.40625 \r\nL 10.984375 69.390625 \r\nL 28.421875 72.90625 \r\nL 38.28125 72.90625 \r\nL 38.28125 8.296875 \r\nL 54.390625 8.296875 \r\nL 54.390625 0 \r\nL 12.40625 0 \r\nz\r\n\" id=\"DejaVuSans-49\"/>\r\n       </defs>\r\n       <use xlink:href=\"#DejaVuSans-49\"/>\r\n       <use x=\"63.623047\" xlink:href=\"#DejaVuSans-48\"/>\r\n      </g>\r\n     </g>\r\n    </g>\r\n    <g id=\"xtick_4\">\r\n     <g id=\"line2d_4\">\r\n      <g>\r\n       <use style=\"stroke:#000000;stroke-width:0.8;\" x=\"183.929261\" xlink:href=\"#mf52ea6feca\" y=\"224.64\"/>\r\n      </g>\r\n     </g>\r\n     <g id=\"text_4\">\r\n      <!-- 15 -->\r\n      <g transform=\"translate(177.566761 239.238437)scale(0.1 -0.1)\">\r\n       <use xlink:href=\"#DejaVuSans-49\"/>\r\n       <use x=\"63.623047\" xlink:href=\"#DejaVuSans-53\"/>\r\n      </g>\r\n     </g>\r\n    </g>\r\n    <g id=\"xtick_5\">\r\n     <g id=\"line2d_5\">\r\n      <g>\r\n       <use style=\"stroke:#000000;stroke-width:0.8;\" x=\"227.409781\" xlink:href=\"#mf52ea6feca\" y=\"224.64\"/>\r\n      </g>\r\n     </g>\r\n     <g id=\"text_5\">\r\n      <!-- 20 -->\r\n      <g transform=\"translate(221.047281 239.238437)scale(0.1 -0.1)\">\r\n       <defs>\r\n        <path d=\"M 19.1875 8.296875 \r\nL 53.609375 8.296875 \r\nL 53.609375 0 \r\nL 7.328125 0 \r\nL 7.328125 8.296875 \r\nQ 12.9375 14.109375 22.625 23.890625 \r\nQ 32.328125 33.6875 34.8125 36.53125 \r\nQ 39.546875 41.84375 41.421875 45.53125 \r\nQ 43.3125 49.21875 43.3125 52.78125 \r\nQ 43.3125 58.59375 39.234375 62.25 \r\nQ 35.15625 65.921875 28.609375 65.921875 \r\nQ 23.96875 65.921875 18.8125 64.3125 \r\nQ 13.671875 62.703125 7.8125 59.421875 \r\nL 7.8125 69.390625 \r\nQ 13.765625 71.78125 18.9375 73 \r\nQ 24.125 74.21875 28.421875 74.21875 \r\nQ 39.75 74.21875 46.484375 68.546875 \r\nQ 53.21875 62.890625 53.21875 53.421875 \r\nQ 53.21875 48.921875 51.53125 44.890625 \r\nQ 49.859375 40.875 45.40625 35.40625 \r\nQ 44.1875 33.984375 37.640625 27.21875 \r\nQ 31.109375 20.453125 19.1875 8.296875 \r\nz\r\n\" id=\"DejaVuSans-50\"/>\r\n       </defs>\r\n       <use xlink:href=\"#DejaVuSans-50\"/>\r\n       <use x=\"63.623047\" xlink:href=\"#DejaVuSans-48\"/>\r\n      </g>\r\n     </g>\r\n    </g>\r\n    <g id=\"xtick_6\">\r\n     <g id=\"line2d_6\">\r\n      <g>\r\n       <use style=\"stroke:#000000;stroke-width:0.8;\" x=\"270.8903\" xlink:href=\"#mf52ea6feca\" y=\"224.64\"/>\r\n      </g>\r\n     </g>\r\n     <g id=\"text_6\">\r\n      <!-- 25 -->\r\n      <g transform=\"translate(264.5278 239.238437)scale(0.1 -0.1)\">\r\n       <use xlink:href=\"#DejaVuSans-50\"/>\r\n       <use x=\"63.623047\" xlink:href=\"#DejaVuSans-53\"/>\r\n      </g>\r\n     </g>\r\n    </g>\r\n    <g id=\"xtick_7\">\r\n     <g id=\"line2d_7\">\r\n      <g>\r\n       <use style=\"stroke:#000000;stroke-width:0.8;\" x=\"314.37082\" xlink:href=\"#mf52ea6feca\" y=\"224.64\"/>\r\n      </g>\r\n     </g>\r\n     <g id=\"text_7\">\r\n      <!-- 30 -->\r\n      <g transform=\"translate(308.00832 239.238437)scale(0.1 -0.1)\">\r\n       <defs>\r\n        <path d=\"M 40.578125 39.3125 \r\nQ 47.65625 37.796875 51.625 33 \r\nQ 55.609375 28.21875 55.609375 21.1875 \r\nQ 55.609375 10.40625 48.1875 4.484375 \r\nQ 40.765625 -1.421875 27.09375 -1.421875 \r\nQ 22.515625 -1.421875 17.65625 -0.515625 \r\nQ 12.796875 0.390625 7.625 2.203125 \r\nL 7.625 11.71875 \r\nQ 11.71875 9.328125 16.59375 8.109375 \r\nQ 21.484375 6.890625 26.8125 6.890625 \r\nQ 36.078125 6.890625 40.9375 10.546875 \r\nQ 45.796875 14.203125 45.796875 21.1875 \r\nQ 45.796875 27.640625 41.28125 31.265625 \r\nQ 36.765625 34.90625 28.71875 34.90625 \r\nL 20.21875 34.90625 \r\nL 20.21875 43.015625 \r\nL 29.109375 43.015625 \r\nQ 36.375 43.015625 40.234375 45.921875 \r\nQ 44.09375 48.828125 44.09375 54.296875 \r\nQ 44.09375 59.90625 40.109375 62.90625 \r\nQ 36.140625 65.921875 28.71875 65.921875 \r\nQ 24.65625 65.921875 20.015625 65.03125 \r\nQ 15.375 64.15625 9.8125 62.3125 \r\nL 9.8125 71.09375 \r\nQ 15.4375 72.65625 20.34375 73.4375 \r\nQ 25.25 74.21875 29.59375 74.21875 \r\nQ 40.828125 74.21875 47.359375 69.109375 \r\nQ 53.90625 64.015625 53.90625 55.328125 \r\nQ 53.90625 49.265625 50.4375 45.09375 \r\nQ 46.96875 40.921875 40.578125 39.3125 \r\nz\r\n\" id=\"DejaVuSans-51\"/>\r\n       </defs>\r\n       <use xlink:href=\"#DejaVuSans-51\"/>\r\n       <use x=\"63.623047\" xlink:href=\"#DejaVuSans-48\"/>\r\n      </g>\r\n     </g>\r\n    </g>\r\n    <g id=\"xtick_8\">\r\n     <g id=\"line2d_8\">\r\n      <g>\r\n       <use style=\"stroke:#000000;stroke-width:0.8;\" x=\"357.851339\" xlink:href=\"#mf52ea6feca\" y=\"224.64\"/>\r\n      </g>\r\n     </g>\r\n     <g id=\"text_8\">\r\n      <!-- 35 -->\r\n      <g transform=\"translate(351.488839 239.238437)scale(0.1 -0.1)\">\r\n       <use xlink:href=\"#DejaVuSans-51\"/>\r\n       <use x=\"63.623047\" xlink:href=\"#DejaVuSans-53\"/>\r\n      </g>\r\n     </g>\r\n    </g>\r\n    <g id=\"text_9\">\r\n     <!-- county_name -->\r\n     <g transform=\"translate(180.620313 252.638437)scale(0.1 -0.1)\">\r\n      <defs>\r\n       <path d=\"M 48.78125 52.59375 \r\nL 48.78125 44.1875 \r\nQ 44.96875 46.296875 41.140625 47.34375 \r\nQ 37.3125 48.390625 33.40625 48.390625 \r\nQ 24.65625 48.390625 19.8125 42.84375 \r\nQ 14.984375 37.3125 14.984375 27.296875 \r\nQ 14.984375 17.28125 19.8125 11.734375 \r\nQ 24.65625 6.203125 33.40625 6.203125 \r\nQ 37.3125 6.203125 41.140625 7.25 \r\nQ 44.96875 8.296875 48.78125 10.40625 \r\nL 48.78125 2.09375 \r\nQ 45.015625 0.34375 40.984375 -0.53125 \r\nQ 36.96875 -1.421875 32.421875 -1.421875 \r\nQ 20.0625 -1.421875 12.78125 6.34375 \r\nQ 5.515625 14.109375 5.515625 27.296875 \r\nQ 5.515625 40.671875 12.859375 48.328125 \r\nQ 20.21875 56 33.015625 56 \r\nQ 37.15625 56 41.109375 55.140625 \r\nQ 45.0625 54.296875 48.78125 52.59375 \r\nz\r\n\" id=\"DejaVuSans-99\"/>\r\n       <path d=\"M 30.609375 48.390625 \r\nQ 23.390625 48.390625 19.1875 42.75 \r\nQ 14.984375 37.109375 14.984375 27.296875 \r\nQ 14.984375 17.484375 19.15625 11.84375 \r\nQ 23.34375 6.203125 30.609375 6.203125 \r\nQ 37.796875 6.203125 41.984375 11.859375 \r\nQ 46.1875 17.53125 46.1875 27.296875 \r\nQ 46.1875 37.015625 41.984375 42.703125 \r\nQ 37.796875 48.390625 30.609375 48.390625 \r\nz\r\nM 30.609375 56 \r\nQ 42.328125 56 49.015625 48.375 \r\nQ 55.71875 40.765625 55.71875 27.296875 \r\nQ 55.71875 13.875 49.015625 6.21875 \r\nQ 42.328125 -1.421875 30.609375 -1.421875 \r\nQ 18.84375 -1.421875 12.171875 6.21875 \r\nQ 5.515625 13.875 5.515625 27.296875 \r\nQ 5.515625 40.765625 12.171875 48.375 \r\nQ 18.84375 56 30.609375 56 \r\nz\r\n\" id=\"DejaVuSans-111\"/>\r\n       <path d=\"M 8.5 21.578125 \r\nL 8.5 54.6875 \r\nL 17.484375 54.6875 \r\nL 17.484375 21.921875 \r\nQ 17.484375 14.15625 20.5 10.265625 \r\nQ 23.53125 6.390625 29.59375 6.390625 \r\nQ 36.859375 6.390625 41.078125 11.03125 \r\nQ 45.3125 15.671875 45.3125 23.6875 \r\nL 45.3125 54.6875 \r\nL 54.296875 54.6875 \r\nL 54.296875 0 \r\nL 45.3125 0 \r\nL 45.3125 8.40625 \r\nQ 42.046875 3.421875 37.71875 1 \r\nQ 33.40625 -1.421875 27.6875 -1.421875 \r\nQ 18.265625 -1.421875 13.375 4.4375 \r\nQ 8.5 10.296875 8.5 21.578125 \r\nz\r\nM 31.109375 56 \r\nz\r\n\" id=\"DejaVuSans-117\"/>\r\n       <path d=\"M 54.890625 33.015625 \r\nL 54.890625 0 \r\nL 45.90625 0 \r\nL 45.90625 32.71875 \r\nQ 45.90625 40.484375 42.875 44.328125 \r\nQ 39.84375 48.1875 33.796875 48.1875 \r\nQ 26.515625 48.1875 22.3125 43.546875 \r\nQ 18.109375 38.921875 18.109375 30.90625 \r\nL 18.109375 0 \r\nL 9.078125 0 \r\nL 9.078125 54.6875 \r\nL 18.109375 54.6875 \r\nL 18.109375 46.1875 \r\nQ 21.34375 51.125 25.703125 53.5625 \r\nQ 30.078125 56 35.796875 56 \r\nQ 45.21875 56 50.046875 50.171875 \r\nQ 54.890625 44.34375 54.890625 33.015625 \r\nz\r\n\" id=\"DejaVuSans-110\"/>\r\n       <path d=\"M 18.3125 70.21875 \r\nL 18.3125 54.6875 \r\nL 36.8125 54.6875 \r\nL 36.8125 47.703125 \r\nL 18.3125 47.703125 \r\nL 18.3125 18.015625 \r\nQ 18.3125 11.328125 20.140625 9.421875 \r\nQ 21.96875 7.515625 27.59375 7.515625 \r\nL 36.8125 7.515625 \r\nL 36.8125 0 \r\nL 27.59375 0 \r\nQ 17.1875 0 13.234375 3.875 \r\nQ 9.28125 7.765625 9.28125 18.015625 \r\nL 9.28125 47.703125 \r\nL 2.6875 47.703125 \r\nL 2.6875 54.6875 \r\nL 9.28125 54.6875 \r\nL 9.28125 70.21875 \r\nz\r\n\" id=\"DejaVuSans-116\"/>\r\n       <path d=\"M 32.171875 -5.078125 \r\nQ 28.375 -14.84375 24.75 -17.8125 \r\nQ 21.140625 -20.796875 15.09375 -20.796875 \r\nL 7.90625 -20.796875 \r\nL 7.90625 -13.28125 \r\nL 13.1875 -13.28125 \r\nQ 16.890625 -13.28125 18.9375 -11.515625 \r\nQ 21 -9.765625 23.484375 -3.21875 \r\nL 25.09375 0.875 \r\nL 2.984375 54.6875 \r\nL 12.5 54.6875 \r\nL 29.59375 11.921875 \r\nL 46.6875 54.6875 \r\nL 56.203125 54.6875 \r\nz\r\n\" id=\"DejaVuSans-121\"/>\r\n       <path d=\"M 50.984375 -16.609375 \r\nL 50.984375 -23.578125 \r\nL -0.984375 -23.578125 \r\nL -0.984375 -16.609375 \r\nz\r\n\" id=\"DejaVuSans-95\"/>\r\n       <path d=\"M 34.28125 27.484375 \r\nQ 23.390625 27.484375 19.1875 25 \r\nQ 14.984375 22.515625 14.984375 16.5 \r\nQ 14.984375 11.71875 18.140625 8.90625 \r\nQ 21.296875 6.109375 26.703125 6.109375 \r\nQ 34.1875 6.109375 38.703125 11.40625 \r\nQ 43.21875 16.703125 43.21875 25.484375 \r\nL 43.21875 27.484375 \r\nz\r\nM 52.203125 31.203125 \r\nL 52.203125 0 \r\nL 43.21875 0 \r\nL 43.21875 8.296875 \r\nQ 40.140625 3.328125 35.546875 0.953125 \r\nQ 30.953125 -1.421875 24.3125 -1.421875 \r\nQ 15.921875 -1.421875 10.953125 3.296875 \r\nQ 6 8.015625 6 15.921875 \r\nQ 6 25.140625 12.171875 29.828125 \r\nQ 18.359375 34.515625 30.609375 34.515625 \r\nL 43.21875 34.515625 \r\nL 43.21875 35.40625 \r\nQ 43.21875 41.609375 39.140625 45 \r\nQ 35.0625 48.390625 27.6875 48.390625 \r\nQ 23 48.390625 18.546875 47.265625 \r\nQ 14.109375 46.140625 10.015625 43.890625 \r\nL 10.015625 52.203125 \r\nQ 14.9375 54.109375 19.578125 55.046875 \r\nQ 24.21875 56 28.609375 56 \r\nQ 40.484375 56 46.34375 49.84375 \r\nQ 52.203125 43.703125 52.203125 31.203125 \r\nz\r\n\" id=\"DejaVuSans-97\"/>\r\n       <path d=\"M 52 44.1875 \r\nQ 55.375 50.25 60.0625 53.125 \r\nQ 64.75 56 71.09375 56 \r\nQ 79.640625 56 84.28125 50.015625 \r\nQ 88.921875 44.046875 88.921875 33.015625 \r\nL 88.921875 0 \r\nL 79.890625 0 \r\nL 79.890625 32.71875 \r\nQ 79.890625 40.578125 77.09375 44.375 \r\nQ 74.3125 48.1875 68.609375 48.1875 \r\nQ 61.625 48.1875 57.5625 43.546875 \r\nQ 53.515625 38.921875 53.515625 30.90625 \r\nL 53.515625 0 \r\nL 44.484375 0 \r\nL 44.484375 32.71875 \r\nQ 44.484375 40.625 41.703125 44.40625 \r\nQ 38.921875 48.1875 33.109375 48.1875 \r\nQ 26.21875 48.1875 22.15625 43.53125 \r\nQ 18.109375 38.875 18.109375 30.90625 \r\nL 18.109375 0 \r\nL 9.078125 0 \r\nL 9.078125 54.6875 \r\nL 18.109375 54.6875 \r\nL 18.109375 46.1875 \r\nQ 21.1875 51.21875 25.484375 53.609375 \r\nQ 29.78125 56 35.6875 56 \r\nQ 41.65625 56 45.828125 52.96875 \r\nQ 50 49.953125 52 44.1875 \r\nz\r\n\" id=\"DejaVuSans-109\"/>\r\n       <path d=\"M 56.203125 29.59375 \r\nL 56.203125 25.203125 \r\nL 14.890625 25.203125 \r\nQ 15.484375 15.921875 20.484375 11.0625 \r\nQ 25.484375 6.203125 34.421875 6.203125 \r\nQ 39.59375 6.203125 44.453125 7.46875 \r\nQ 49.3125 8.734375 54.109375 11.28125 \r\nL 54.109375 2.78125 \r\nQ 49.265625 0.734375 44.1875 -0.34375 \r\nQ 39.109375 -1.421875 33.890625 -1.421875 \r\nQ 20.796875 -1.421875 13.15625 6.1875 \r\nQ 5.515625 13.8125 5.515625 26.8125 \r\nQ 5.515625 40.234375 12.765625 48.109375 \r\nQ 20.015625 56 32.328125 56 \r\nQ 43.359375 56 49.78125 48.890625 \r\nQ 56.203125 41.796875 56.203125 29.59375 \r\nz\r\nM 47.21875 32.234375 \r\nQ 47.125 39.59375 43.09375 43.984375 \r\nQ 39.0625 48.390625 32.421875 48.390625 \r\nQ 24.90625 48.390625 20.390625 44.140625 \r\nQ 15.875 39.890625 15.1875 32.171875 \r\nz\r\n\" id=\"DejaVuSans-101\"/>\r\n      </defs>\r\n      <use xlink:href=\"#DejaVuSans-99\"/>\r\n      <use x=\"54.980469\" xlink:href=\"#DejaVuSans-111\"/>\r\n      <use x=\"116.162109\" xlink:href=\"#DejaVuSans-117\"/>\r\n      <use x=\"179.541016\" xlink:href=\"#DejaVuSans-110\"/>\r\n      <use x=\"242.919922\" xlink:href=\"#DejaVuSans-116\"/>\r\n      <use x=\"282.128906\" xlink:href=\"#DejaVuSans-121\"/>\r\n      <use x=\"341.308594\" xlink:href=\"#DejaVuSans-95\"/>\r\n      <use x=\"391.308594\" xlink:href=\"#DejaVuSans-110\"/>\r\n      <use x=\"454.6875\" xlink:href=\"#DejaVuSans-97\"/>\r\n      <use x=\"515.966797\" xlink:href=\"#DejaVuSans-109\"/>\r\n      <use x=\"613.378906\" xlink:href=\"#DejaVuSans-101\"/>\r\n     </g>\r\n    </g>\r\n   </g>\r\n   <g id=\"matplotlib.axis_2\">\r\n    <g id=\"ytick_1\">\r\n     <g id=\"line2d_9\">\r\n      <defs>\r\n       <path d=\"M 0 0 \r\nL -3.5 0 \r\n\" id=\"mc0d7e88be3\" style=\"stroke:#000000;stroke-width:0.8;\"/>\r\n      </defs>\r\n      <g>\r\n       <use style=\"stroke:#000000;stroke-width:0.8;\" x=\"46.965625\" xlink:href=\"#mc0d7e88be3\" y=\"224.64\"/>\r\n      </g>\r\n     </g>\r\n     <g id=\"text_10\">\r\n      <!-- 0 -->\r\n      <g transform=\"translate(33.603125 228.439219)scale(0.1 -0.1)\">\r\n       <use xlink:href=\"#DejaVuSans-48\"/>\r\n      </g>\r\n     </g>\r\n    </g>\r\n    <g id=\"ytick_2\">\r\n     <g id=\"line2d_10\">\r\n      <g>\r\n       <use style=\"stroke:#000000;stroke-width:0.8;\" x=\"46.965625\" xlink:href=\"#mc0d7e88be3\" y=\"178.41551\"/>\r\n      </g>\r\n     </g>\r\n     <g id=\"text_11\">\r\n      <!-- 50 -->\r\n      <g transform=\"translate(27.240625 182.214729)scale(0.1 -0.1)\">\r\n       <use xlink:href=\"#DejaVuSans-53\"/>\r\n       <use x=\"63.623047\" xlink:href=\"#DejaVuSans-48\"/>\r\n      </g>\r\n     </g>\r\n    </g>\r\n    <g id=\"ytick_3\">\r\n     <g id=\"line2d_11\">\r\n      <g>\r\n       <use style=\"stroke:#000000;stroke-width:0.8;\" x=\"46.965625\" xlink:href=\"#mc0d7e88be3\" y=\"132.19102\"/>\r\n      </g>\r\n     </g>\r\n     <g id=\"text_12\">\r\n      <!-- 100 -->\r\n      <g transform=\"translate(20.878125 135.990239)scale(0.1 -0.1)\">\r\n       <use xlink:href=\"#DejaVuSans-49\"/>\r\n       <use x=\"63.623047\" xlink:href=\"#DejaVuSans-48\"/>\r\n       <use x=\"127.246094\" xlink:href=\"#DejaVuSans-48\"/>\r\n      </g>\r\n     </g>\r\n    </g>\r\n    <g id=\"ytick_4\">\r\n     <g id=\"line2d_12\">\r\n      <g>\r\n       <use style=\"stroke:#000000;stroke-width:0.8;\" x=\"46.965625\" xlink:href=\"#mc0d7e88be3\" y=\"85.966531\"/>\r\n      </g>\r\n     </g>\r\n     <g id=\"text_13\">\r\n      <!-- 150 -->\r\n      <g transform=\"translate(20.878125 89.765749)scale(0.1 -0.1)\">\r\n       <use xlink:href=\"#DejaVuSans-49\"/>\r\n       <use x=\"63.623047\" xlink:href=\"#DejaVuSans-53\"/>\r\n       <use x=\"127.246094\" xlink:href=\"#DejaVuSans-48\"/>\r\n      </g>\r\n     </g>\r\n    </g>\r\n    <g id=\"ytick_5\">\r\n     <g id=\"line2d_13\">\r\n      <g>\r\n       <use style=\"stroke:#000000;stroke-width:0.8;\" x=\"46.965625\" xlink:href=\"#mc0d7e88be3\" y=\"39.742041\"/>\r\n      </g>\r\n     </g>\r\n     <g id=\"text_14\">\r\n      <!-- 200 -->\r\n      <g transform=\"translate(20.878125 43.54126)scale(0.1 -0.1)\">\r\n       <use xlink:href=\"#DejaVuSans-50\"/>\r\n       <use x=\"63.623047\" xlink:href=\"#DejaVuSans-48\"/>\r\n       <use x=\"127.246094\" xlink:href=\"#DejaVuSans-48\"/>\r\n      </g>\r\n     </g>\r\n    </g>\r\n    <g id=\"text_15\">\r\n     <!-- Count -->\r\n     <g transform=\"translate(14.798438 130.768437)rotate(-90)scale(0.1 -0.1)\">\r\n      <defs>\r\n       <path d=\"M 64.40625 67.28125 \r\nL 64.40625 56.890625 \r\nQ 59.421875 61.53125 53.78125 63.8125 \r\nQ 48.140625 66.109375 41.796875 66.109375 \r\nQ 29.296875 66.109375 22.65625 58.46875 \r\nQ 16.015625 50.828125 16.015625 36.375 \r\nQ 16.015625 21.96875 22.65625 14.328125 \r\nQ 29.296875 6.6875 41.796875 6.6875 \r\nQ 48.140625 6.6875 53.78125 8.984375 \r\nQ 59.421875 11.28125 64.40625 15.921875 \r\nL 64.40625 5.609375 \r\nQ 59.234375 2.09375 53.4375 0.328125 \r\nQ 47.65625 -1.421875 41.21875 -1.421875 \r\nQ 24.65625 -1.421875 15.125 8.703125 \r\nQ 5.609375 18.84375 5.609375 36.375 \r\nQ 5.609375 53.953125 15.125 64.078125 \r\nQ 24.65625 74.21875 41.21875 74.21875 \r\nQ 47.75 74.21875 53.53125 72.484375 \r\nQ 59.328125 70.75 64.40625 67.28125 \r\nz\r\n\" id=\"DejaVuSans-67\"/>\r\n      </defs>\r\n      <use xlink:href=\"#DejaVuSans-67\"/>\r\n      <use x=\"69.824219\" xlink:href=\"#DejaVuSans-111\"/>\r\n      <use x=\"131.005859\" xlink:href=\"#DejaVuSans-117\"/>\r\n      <use x=\"194.384766\" xlink:href=\"#DejaVuSans-110\"/>\r\n      <use x=\"257.763672\" xlink:href=\"#DejaVuSans-116\"/>\r\n     </g>\r\n    </g>\r\n   </g>\r\n   <g id=\"patch_52\">\r\n    <path d=\"M 46.965625 224.64 \r\nL 46.965625 7.2 \r\n\" style=\"fill:none;stroke:#000000;stroke-linecap:square;stroke-linejoin:miter;stroke-width:0.8;\"/>\r\n   </g>\r\n   <g id=\"patch_53\">\r\n    <path d=\"M 381.765625 224.64 \r\nL 381.765625 7.2 \r\n\" style=\"fill:none;stroke:#000000;stroke-linecap:square;stroke-linejoin:miter;stroke-width:0.8;\"/>\r\n   </g>\r\n   <g id=\"patch_54\">\r\n    <path d=\"M 46.965625 224.64 \r\nL 381.765625 224.64 \r\n\" style=\"fill:none;stroke:#000000;stroke-linecap:square;stroke-linejoin:miter;stroke-width:0.8;\"/>\r\n   </g>\r\n   <g id=\"patch_55\">\r\n    <path d=\"M 46.965625 7.2 \r\nL 381.765625 7.2 \r\n\" style=\"fill:none;stroke:#000000;stroke-linecap:square;stroke-linejoin:miter;stroke-width:0.8;\"/>\r\n   </g>\r\n  </g>\r\n </g>\r\n <defs>\r\n  <clipPath id=\"p711d515b04\">\r\n   <rect height=\"217.44\" width=\"334.8\" x=\"46.965625\" y=\"7.2\"/>\r\n  </clipPath>\r\n </defs>\r\n</svg>\r\n",
      "image/png": "[encoded data removed]"
     },
     "metadata": {
      "needs_background": "light"
     }
    }
   ],
   "source": [
    "# number of counties in which an officer appears\n",
    "county_per_officer = df_full.groupby('officer_id_hash')['county_name'].nunique()\n",
    "sns.histplot(county_per_officer)"
   ]
  },
  {
   "source": [
    "### Observations\n",
    "All officers have more than 1 county"
   ],
   "cell_type": "markdown",
   "metadata": {}
  }
 ]
}