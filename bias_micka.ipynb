{
 "cells": [
  {
   "cell_type": "markdown",
   "metadata": {},
   "source": [
    "# We will try here to define a bias score that is not biased by the county carateristics.\n",
    "\n",
    "Each arrest contributing to the score of an officer will be ponderated by the parameters derivated from the stop's county's parameter.\n",
    "\n",
    "We will try to apply the score on a small dataset for speed and memory before puting it onto a large one."
   ]
  },
  {
   "cell_type": "code",
   "execution_count": 1,
   "metadata": {},
   "outputs": [
    {
     "name": "stderr",
     "output_type": "stream",
     "text": [
      "C:\\Users\\lenovo\\Anaconda3\\envs\\ada\\lib\\site-packages\\tqdm\\std.py:699: FutureWarning: The Panel class is removed from pandas. Accessing it from the top-level namespace will also be removed in the next version\n",
      "  from pandas import Panel\n"
     ]
    }
   ],
   "source": [
    "import pandas as pd\n",
    "import numpy as np\n",
    "import matplotlib.pyplot as plt\n",
    "import seaborn as sns\n",
    "from copy import copy\n",
    "\n",
    "from tqdm import tqdm\n",
    "tqdm.pandas()\n",
    "\n",
    "import statsmodels.api as sm\n",
    "import statsmodels.formula.api as smf"
   ]
  },
  {
   "cell_type": "code",
   "execution_count": 2,
   "metadata": {},
   "outputs": [],
   "source": [
    "folder = '../data/'\n",
    "state = folder + 'fl_statewide.csv.zip'\n",
    "state_reduced = folder + 'fl_statewide_reduced.csv.zip'\n",
    "\n",
    "keep_columns = ['date', 'time', 'county_name', 'subject_age', 'subject_race', 'subject_sex', 'officer_id_hash', 'officer_age', 'officer_race', 'officer_sex', 'officer_years_of_service', 'arrest_made', 'citation_issued', 'warning_issued', 'frisk_performed', 'search_conducted']\n",
    "mandatory_columns = ['date', 'time', 'subject_age', 'subject_race', 'subject_sex', 'officer_id_hash', 'officer_age', 'officer_race', 'officer_sex', 'officer_years_of_service', 'arrest_made', 'citation_issued', 'warning_issued', 'search_conducted']\n",
    "minorities = ['white', 'hispanic', 'black']\n",
    "boolean_columns = ['arrest_made', 'citation_issued', 'warning_issued', 'frisk_performed', 'search_conducted']"
   ]
  },
  {
   "cell_type": "markdown",
   "metadata": {},
   "source": [
    "Load the data"
   ]
  },
  {
   "cell_type": "code",
   "execution_count": 3,
   "metadata": {},
   "outputs": [
    {
     "name": "stdout",
     "output_type": "stream",
     "text": [
      "72975\n"
     ]
    }
   ],
   "source": [
    "# load all dataset\n",
    "df = pd.read_csv(state_reduced)\n",
    "print(len(df))"
   ]
  },
  {
   "cell_type": "markdown",
   "metadata": {},
   "source": [
    "Drop the useless columns and correct types."
   ]
  },
  {
   "cell_type": "code",
   "execution_count": 4,
   "metadata": {},
   "outputs": [
    {
     "name": "stdout",
     "output_type": "stream",
     "text": [
      "28052\n"
     ]
    }
   ],
   "source": [
    "df.drop(columns=df.columns.difference(keep_columns), inplace=True) # drop unused columns\n",
    "df.dropna(subset=mandatory_columns, how='any', inplace=True) # drop nan values in mandatory columns\n",
    "df['date'] = pd.to_datetime(df['date']) # to datetime\n",
    "df['year'] = df['date'].dt.to_period('y')\n",
    "\n",
    "df = df[df['officer_race'].isin(minorities)]\n",
    "print(len(df))"
   ]
  },
  {
   "cell_type": "markdown",
   "metadata": {},
   "source": [
    "Ajouter moyenne par année civile pour gagner en précision avec le grand dataset."
   ]
  },
  {
   "cell_type": "code",
   "execution_count": 5,
   "metadata": {},
   "outputs": [],
   "source": [
    "def create_year_hash(df):\n",
    "    df['officer_hash_year'] = df['officer_id_hash'] + '-' + df['year'].astype(str)"
   ]
  },
  {
   "cell_type": "code",
   "execution_count": 6,
   "metadata": {},
   "outputs": [],
   "source": [
    "create_year_hash(df)"
   ]
  },
  {
   "cell_type": "markdown",
   "metadata": {},
   "source": [
    "We need to remove officers with too few arrests."
   ]
  },
  {
   "cell_type": "code",
   "execution_count": 7,
   "metadata": {},
   "outputs": [
    {
     "data": {
      "text/plain": [
       "0.3739992375142966"
      ]
     },
     "execution_count": 7,
     "metadata": {},
     "output_type": "execute_result"
    }
   ],
   "source": [
    "(df.groupby('officer_hash_year')['date'].count() > 5).mean()"
   ]
  },
  {
   "cell_type": "markdown",
   "metadata": {},
   "source": [
    "It seems that when we define a new officer each year, there are too few entries by hash. Let's keep one entry by officer for now, regardless of time. (On larger dataset, maybe possible to make the separation)"
   ]
  },
  {
   "cell_type": "code",
   "execution_count": 8,
   "metadata": {},
   "outputs": [],
   "source": [
    "officers_to_keep = df.groupby('officer_id_hash')['year'].count().loc[df.groupby('officer_id_hash')['year'].count() > 5].index\n",
    "\n",
    "df = df[df.officer_id_hash.isin(officers_to_keep)]"
   ]
  },
  {
   "cell_type": "markdown",
   "metadata": {},
   "source": [
    "Test with a single minority here."
   ]
  },
  {
   "cell_type": "code",
   "execution_count": 9,
   "metadata": {},
   "outputs": [],
   "source": [
    "for minority in minorities:\n",
    "    df[minority + '_stoped'] = (df['subject_race'] == minority)"
   ]
  },
  {
   "cell_type": "code",
   "execution_count": 10,
   "metadata": {},
   "outputs": [],
   "source": [
    "county_means = {}\n",
    "for minority in minorities:\n",
    "    county_means[minority] = df.groupby('county_name')[minority + '_stoped'].mean()"
   ]
  },
  {
   "cell_type": "code",
   "execution_count": 11,
   "metadata": {},
   "outputs": [],
   "source": [
    "def score_by_county(officer_df, minority):\n",
    "    county_stop_proportion = officer_df.groupby('county_name')[minority + '_stoped'].mean()\n",
    "    return ((county_stop_proportion - county_means[minority].loc[county_stop_proportion.index])/county_means[minority].loc[county_stop_proportion.index]).mean()"
   ]
  },
  {
   "cell_type": "code",
   "execution_count": 13,
   "metadata": {},
   "outputs": [],
   "source": [
    "scores = {}\n",
    "for minority in minorities:\n",
    "    scores[minority] = df.groupby('officer_id_hash').apply(score_by_county, minority)"
   ]
  },
  {
   "cell_type": "code",
   "execution_count": 14,
   "metadata": {},
   "outputs": [],
   "source": [
    "officer_numerics = ['officer_age', 'officer_years_of_service']\n",
    "officer_cat = ['officer_race', 'officer_sex']"
   ]
  },
  {
   "cell_type": "code",
   "execution_count": 15,
   "metadata": {},
   "outputs": [],
   "source": [
    "# Create a dataframe with the characteristics of officers.\n",
    "officer_df = df.groupby('officer_id_hash')[officer_numerics].mean()\n",
    "\n",
    "officer_df[officer_cat] = (df[['officer_id_hash'] + officer_cat].drop_duplicates()).set_index('officer_id_hash')\n",
    "\n",
    "# Add the bias score\n",
    "for minority in minorities:\n",
    "    officer_df[minority + '_bias'] = scores[minority]"
   ]
  },
  {
   "cell_type": "code",
   "execution_count": 16,
   "metadata": {},
   "outputs": [
    {
     "name": "stdout",
     "output_type": "stream",
     "text": [
      "\n",
      "--------------WHITE--------------\n",
      "                            OLS Regression Results                            \n",
      "==============================================================================\n",
      "Dep. Variable:             white_bias   R-squared:                       0.015\n",
      "Model:                            OLS   Adj. R-squared:                  0.011\n",
      "Method:                 Least Squares   F-statistic:                     3.343\n",
      "Date:                Fri, 18 Dec 2020   Prob (F-statistic):            0.00531\n",
      "Time:                        01:56:32   Log-Likelihood:                -462.73\n",
      "No. Observations:                1072   AIC:                             937.5\n",
      "Df Residuals:                    1066   BIC:                             967.3\n",
      "Df Model:                           5                                         \n",
      "Covariance Type:            nonrobust                                         \n",
      "===============================================================================================\n",
      "                                  coef    std err          t      P>|t|      [0.025      0.975]\n",
      "-----------------------------------------------------------------------------------------------\n",
      "Intercept                      -0.0567      0.066     -0.854      0.393      -0.187       0.074\n",
      "C(officer_race)[T.hispanic]    -0.0896      0.043     -2.099      0.036      -0.173      -0.006\n",
      "C(officer_race)[T.white]        0.0279      0.033      0.835      0.404      -0.038       0.093\n",
      "C(officer_sex)[T.male]         -0.0385      0.039     -1.000      0.317      -0.114       0.037\n",
      "officer_age                     0.0019      0.001      1.467      0.143      -0.001       0.005\n",
      "officer_years_of_service        0.0002      0.002      0.134      0.894      -0.003       0.004\n",
      "==============================================================================\n",
      "Omnibus:                      146.904   Durbin-Watson:                   1.963\n",
      "Prob(Omnibus):                  0.000   Jarque-Bera (JB):              558.550\n",
      "Skew:                           0.613   Prob(JB):                    5.16e-122\n",
      "Kurtosis:                       6.317   Cond. No.                         255.\n",
      "==============================================================================\n",
      "\n",
      "Notes:\n",
      "[1] Standard Errors assume that the covariance matrix of the errors is correctly specified.\n",
      "\n",
      "\n",
      "\n",
      "--------------HISPANIC--------------\n",
      "                            OLS Regression Results                            \n",
      "==============================================================================\n",
      "Dep. Variable:          hispanic_bias   R-squared:                       0.001\n",
      "Model:                            OLS   Adj. R-squared:                 -0.003\n",
      "Method:                 Least Squares   F-statistic:                    0.3188\n",
      "Date:                Fri, 18 Dec 2020   Prob (F-statistic):              0.902\n",
      "Time:                        01:56:32   Log-Likelihood:                -1817.5\n",
      "No. Observations:                1072   AIC:                             3647.\n",
      "Df Residuals:                    1066   BIC:                             3677.\n",
      "Df Model:                           5                                         \n",
      "Covariance Type:            nonrobust                                         \n",
      "===============================================================================================\n",
      "                                  coef    std err          t      P>|t|      [0.025      0.975]\n",
      "-----------------------------------------------------------------------------------------------\n",
      "Intercept                       0.0432      0.235      0.184      0.854      -0.418       0.504\n",
      "C(officer_race)[T.hispanic]    -0.0786      0.151     -0.521      0.603      -0.375       0.218\n",
      "C(officer_race)[T.white]       -0.0652      0.118     -0.552      0.581      -0.297       0.166\n",
      "C(officer_sex)[T.male]          0.0758      0.136      0.557      0.578      -0.192       0.343\n",
      "officer_age                 -2.124e-06      0.005     -0.000      1.000      -0.009       0.009\n",
      "officer_years_of_service       -0.0058      0.006     -0.938      0.348      -0.018       0.006\n",
      "==============================================================================\n",
      "Omnibus:                     1558.058   Durbin-Watson:                   2.022\n",
      "Prob(Omnibus):                  0.000   Jarque-Bera (JB):           655997.051\n",
      "Skew:                           8.095   Prob(JB):                         0.00\n",
      "Kurtosis:                     123.102   Cond. No.                         255.\n",
      "==============================================================================\n",
      "\n",
      "Notes:\n",
      "[1] Standard Errors assume that the covariance matrix of the errors is correctly specified.\n",
      "\n",
      "\n",
      "\n",
      "--------------BLACK--------------\n",
      "                            OLS Regression Results                            \n",
      "==============================================================================\n",
      "Dep. Variable:             black_bias   R-squared:                       0.009\n",
      "Model:                            OLS   Adj. R-squared:                  0.004\n",
      "Method:                 Least Squares   F-statistic:                     1.832\n",
      "Date:                Fri, 18 Dec 2020   Prob (F-statistic):              0.104\n",
      "Time:                        01:56:32   Log-Likelihood:                -1362.8\n",
      "No. Observations:                1072   AIC:                             2738.\n",
      "Df Residuals:                    1066   BIC:                             2768.\n",
      "Df Model:                           5                                         \n",
      "Covariance Type:            nonrobust                                         \n",
      "===============================================================================================\n",
      "                                  coef    std err          t      P>|t|      [0.025      0.975]\n",
      "-----------------------------------------------------------------------------------------------\n",
      "Intercept                       0.3741      0.154      2.434      0.015       0.072       0.676\n",
      "C(officer_race)[T.hispanic]    -0.1314      0.099     -1.330      0.184      -0.325       0.063\n",
      "C(officer_race)[T.white]       -0.2018      0.077     -2.612      0.009      -0.353      -0.050\n",
      "C(officer_sex)[T.male]         -0.0852      0.089     -0.955      0.340      -0.260       0.090\n",
      "officer_age                    -0.0032      0.003     -1.064      0.288      -0.009       0.003\n",
      "officer_years_of_service        0.0011      0.004      0.282      0.778      -0.007       0.009\n",
      "==============================================================================\n",
      "Omnibus:                      379.819   Durbin-Watson:                   1.982\n",
      "Prob(Omnibus):                  0.000   Jarque-Bera (JB):             1431.870\n",
      "Skew:                           1.684   Prob(JB):                    1.18e-311\n",
      "Kurtosis:                       7.552   Cond. No.                         255.\n",
      "==============================================================================\n",
      "\n",
      "Notes:\n",
      "[1] Standard Errors assume that the covariance matrix of the errors is correctly specified.\n",
      "\n",
      "\n"
     ]
    }
   ],
   "source": [
    "for minority in minorities:\n",
    "    print()\n",
    "    print(f'--------------{minority.upper()}--------------')\n",
    "    res = smf.ols(formula=f'{minority}_bias ~ C(officer_race) + C(officer_sex) + officer_age + officer_years_of_service', data=officer_df).fit()\n",
    "    print(res.summary())\n",
    "    print()\n",
    "    print()"
   ]
  }
 ],
 "metadata": {
  "kernelspec": {
   "display_name": "Python 3",
   "language": "python",
   "name": "python3"
  },
  "language_info": {
   "codemirror_mode": {
    "name": "ipython",
    "version": 3
   },
   "file_extension": ".py",
   "mimetype": "text/x-python",
   "name": "python",
   "nbconvert_exporter": "python",
   "pygments_lexer": "ipython3",
   "version": "3.7.1"
  }
 },
 "nbformat": 4,
 "nbformat_minor": 4
}
