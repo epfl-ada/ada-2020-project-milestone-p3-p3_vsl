{
 "cells": [
  {
   "cell_type": "markdown",
   "metadata": {},
   "source": [
    "# County bias score\n",
    "## Goal\n",
    "\n",
    "We previously attempted to define a statewide bias score to study the influence of officer's characteristics. <br/>\n",
    "It is possible that differences in the the racial repartition of local population influence this score. In order to get rid of this effect, we tried to normalise the scores by county.\n",
    "\n",
    "However, we noticed that officers often operate on multiple counties. Hence, it was not possible to just assign an officer to a county to adjust the scores. This is why the score will now be adjusted according to the county where *each stop* occures. \n",
    "\n",
    "In summary, each officer will have a \"county score\", and his bias score will be the mean of these scores, weighted by the proportion of stops he made in each counties.\n",
    "\n",
    "The county score is the relative variation from the mean in the county.\n",
    "\n",
    "For the county $c$ and minority $m$, we denote $x_{c, m} = \\frac{\\text{Number of stops of}~m~\\text{in}~c}{\\text{Total number of stops over the period in}~c}$\n",
    "\n",
    "For officer $o$, we denote $p_{c, m, o} = \\frac{\\text{Number of stops of}~m~\\text{in}~c~\\text{by}~o}{\\text{Total number of stops over the period in}~c~\\text{by}~o}$\n",
    "\n",
    "\n",
    "Finally, $N_o$ is the total number of stops by officer $o$, and $N_{o, c}$ is the number of stops by $o$ in county $c$.\n",
    "\n",
    "We can now define an adjusted bias score for officer $o$ towards minority $m$ :\n",
    "\n",
    "$$\\boxed{\\text{Score}_{o, m} = \\frac{1}{N_o}\\sum_c\\left( N_{o,c} \\cdot \\frac{p_{c, m, o} - x_{c, m}}{x_{c, m}} \\right)}$$\n",
    "\n",
    "*N.B.* : minority denotes here only an ethnie, no matter the percentage of the population it represents."
   ]
  },
  {
   "cell_type": "code",
   "execution_count": 1,
   "metadata": {},
   "outputs": [],
   "source": [
    "import pandas as pd\n",
    "import numpy as np\n",
    "import matplotlib.pyplot as plt\n",
    "import seaborn as sns\n",
    "from copy import copy\n",
    "\n",
    "from tqdm import tqdm\n",
    "\n",
    "import statsmodels.api as sm\n",
    "import statsmodels.formula.api as smf"
   ]
  },
  {
   "cell_type": "code",
   "execution_count": 2,
   "metadata": {},
   "outputs": [],
   "source": [
    "folder = '../data/'\n",
    "state = folder + 'fl_statewide.csv.zip'\n",
    "state_reduced = folder + 'fl_statewide_reduced.csv.zip'\n",
    "state_cleared = folder + 'fl_statewide_cleared.csv.zip'\n",
    "\n",
    "keep_columns = ['date', 'time', 'county_name', 'subject_age', 'subject_race', 'subject_sex', 'officer_id_hash', 'officer_age', 'officer_race', 'officer_sex', 'officer_years_of_service', 'arrest_made', 'citation_issued', 'warning_issued', 'frisk_performed', 'search_conducted']\n",
    "mandatory_columns = ['date', 'time', 'subject_age', 'subject_race', 'subject_sex', 'officer_id_hash', 'officer_age', 'officer_race', 'officer_sex', 'officer_years_of_service', 'arrest_made', 'citation_issued', 'warning_issued', 'search_conducted']\n",
    "minorities = ['white', 'hispanic', 'black']\n",
    "boolean_columns = ['arrest_made', 'citation_issued', 'warning_issued', 'frisk_performed', 'search_conducted']"
   ]
  },
  {
   "cell_type": "markdown",
   "metadata": {},
   "source": [
    "Data recuperation."
   ]
  },
  {
   "cell_type": "code",
   "execution_count": 3,
   "metadata": {
    "scrolled": true
   },
   "outputs": [
    {
     "name": "stdout",
     "output_type": "stream",
     "text": [
      "2808197\n"
     ]
    }
   ],
   "source": [
    "# load all dataset\n",
    "df = pd.read_csv(state_cleared)\n",
    "print(len(df))"
   ]
  },
  {
   "cell_type": "markdown",
   "metadata": {},
   "source": [
    "Drop the useless columns and correct types."
   ]
  },
  {
   "cell_type": "code",
   "execution_count": 4,
   "metadata": {},
   "outputs": [
    {
     "name": "stdout",
     "output_type": "stream",
     "text": [
      "2808197\n"
     ]
    }
   ],
   "source": [
    "df.drop(columns=df.columns.difference(keep_columns), inplace=True) # drop unused columns\n",
    "df.dropna(subset=mandatory_columns, how='any', inplace=True) # drop nan values in mandatory columns\n",
    "df['date'] = pd.to_datetime(df['date']) # to datetime\n",
    "df['year'] = df['date'].dt.to_period('y')\n",
    "\n",
    "df = df[df['officer_race'].isin(minorities)]\n",
    "print(len(df))"
   ]
  },
  {
   "cell_type": "markdown",
   "metadata": {},
   "source": [
    "Creation of a hash by officer and year:"
   ]
  },
  {
   "cell_type": "code",
   "execution_count": 5,
   "metadata": {},
   "outputs": [],
   "source": [
    "def create_year_hash(df):\n",
    "    df['officer_hash_year'] = df['officer_id_hash'] + '-' + df['year'].astype(str)"
   ]
  },
  {
   "cell_type": "code",
   "execution_count": 6,
   "metadata": {},
   "outputs": [],
   "source": [
    "create_year_hash(df)"
   ]
  },
  {
   "cell_type": "markdown",
   "metadata": {},
   "source": [
    "Let's remove officers with too few stops, with the same limit as before."
   ]
  },
  {
   "cell_type": "code",
   "execution_count": 20,
   "metadata": {},
   "outputs": [
    {
     "name": "stdout",
     "output_type": "stream",
     "text": [
      "56% of officers have enough stops.\n"
     ]
    }
   ],
   "source": [
    "stops_required = 300\n",
    "\n",
    "print(\"{:.0f}% of officers have enough stops.\".format((df.groupby('officer_hash_year')['date'].count() > stops_required).mean()*100))"
   ]
  },
  {
   "cell_type": "code",
   "execution_count": 21,
   "metadata": {},
   "outputs": [
    {
     "name": "stdout",
     "output_type": "stream",
     "text": [
      "2456046\n"
     ]
    }
   ],
   "source": [
    "officers_to_keep = df.groupby('officer_hash_year')['year'].count().loc[df.groupby('officer_hash_year')['year'].count() > stops_required].index\n",
    "\n",
    "df = df[df.officer_hash_year.isin(officers_to_keep)]\n",
    "\n",
    "print(len(df))"
   ]
  },
  {
   "cell_type": "markdown",
   "metadata": {},
   "source": [
    "### Let's create features needed for our score:"
   ]
  },
  {
   "cell_type": "code",
   "execution_count": 23,
   "metadata": {},
   "outputs": [],
   "source": [
    "for minority in minorities:\n",
    "    df[minority + '_stoped'] = (df['subject_race'] == minority)\n",
    "\n",
    "#Computation the % of stops for each minority in each county\n",
    "county_means = {}\n",
    "for minority in minorities:\n",
    "    county_means[minority] = df.groupby('county_name')[minority + '_stoped'].mean()"
   ]
  },
  {
   "cell_type": "code",
   "execution_count": 22,
   "metadata": {},
   "outputs": [],
   "source": [
    "#Used to compute the score of an officer\n",
    "def score_by_county(officer_df, minority, county_means, relative = True):\n",
    "    county_stop_proportion_minority = officer_df.groupby('county_name')[minority + '_stoped'].mean()\n",
    "    county_stop_count = officer_df.groupby('county_name')[minority + '_stoped'].count()\n",
    "    county_stop_prop = county_stop_count/county_stop_count.sum()\n",
    "    if (relative is True):\n",
    "        return (((county_stop_proportion_minority - county_means[minority].loc[county_stop_proportion_minority.index])/county_means[minority].loc[county_stop_proportion_minority.index])*county_stop_prop).sum()\n",
    "    else:\n",
    "        return ((county_stop_proportion_minority - county_means[minority].loc[county_stop_proportion_minority.index])*county_stop_prop).sum()"
   ]
  },
  {
   "cell_type": "markdown",
   "metadata": {},
   "source": [
    "### Let's compute the score for each officer"
   ]
  },
  {
   "cell_type": "code",
   "execution_count": 24,
   "metadata": {},
   "outputs": [
    {
     "name": "stderr",
     "output_type": "stream",
     "text": [
      "100%|██████████| 3/3 [00:34<00:00, 11.41s/it]\n"
     ]
    }
   ],
   "source": [
    "scores = {}\n",
    "for minority in tqdm(minorities):\n",
    "    scores[minority] = df.groupby('officer_hash_year').apply(score_by_county, minority, county_means)"
   ]
  },
  {
   "cell_type": "markdown",
   "metadata": {},
   "source": [
    "Let's link these scores to the officers."
   ]
  },
  {
   "cell_type": "code",
   "execution_count": 26,
   "metadata": {},
   "outputs": [],
   "source": [
    "officer_numerics = ['officer_age', 'officer_years_of_service']\n",
    "officer_cat = ['officer_race', 'officer_sex']\n",
    "\n",
    "# Create a dataframe with the characteristics of officers.\n",
    "officer_df = df.groupby('officer_hash_year')[officer_numerics].mean()\n",
    "\n",
    "officer_df[officer_cat] = (df[['officer_hash_year'] + officer_cat].drop_duplicates()).set_index('officer_hash_year')\n",
    "\n",
    "# Add the bias score\n",
    "for minority in minorities:\n",
    "    officer_df[minority + '_bias'] = scores[minority]"
   ]
  },
  {
   "cell_type": "markdown",
   "metadata": {},
   "source": [
    "## Regression performed to study the link between officer characteristics and scores."
   ]
  },
  {
   "cell_type": "code",
   "execution_count": 27,
   "metadata": {},
   "outputs": [
    {
     "name": "stdout",
     "output_type": "stream",
     "text": [
      "\n",
      "--------------WHITE--------------\n",
      "                            OLS Regression Results                            \n",
      "==============================================================================\n",
      "Dep. Variable:             white_bias   R-squared:                       0.016\n",
      "Model:                            OLS   Adj. R-squared:                  0.014\n",
      "Method:                 Least Squares   F-statistic:                     11.55\n",
      "Date:                Fri, 18 Dec 2020   Prob (F-statistic):           4.31e-11\n",
      "Time:                        16:41:07   Log-Likelihood:                 1244.8\n",
      "No. Observations:                3612   AIC:                            -2478.\n",
      "Df Residuals:                    3606   BIC:                            -2440.\n",
      "Df Model:                           5                                         \n",
      "Covariance Type:            nonrobust                                         \n",
      "===============================================================================================\n",
      "                                  coef    std err          t      P>|t|      [0.025      0.975]\n",
      "-----------------------------------------------------------------------------------------------\n",
      "Intercept                      -0.0395      0.017     -2.260      0.024      -0.074      -0.005\n",
      "C(officer_race)[T.hispanic]    -0.0492      0.011     -4.613      0.000      -0.070      -0.028\n",
      "C(officer_race)[T.white]       -0.0061      0.008     -0.733      0.464      -0.022       0.010\n",
      "C(officer_sex)[T.male]          0.0050      0.011      0.470      0.638      -0.016       0.026\n",
      "officer_age                     0.0009      0.000      2.573      0.010       0.000       0.002\n",
      "officer_years_of_service        0.0012      0.000      2.822      0.005       0.000       0.002\n",
      "==============================================================================\n",
      "Omnibus:                      650.494   Durbin-Watson:                   0.928\n",
      "Prob(Omnibus):                  0.000   Jarque-Bera (JB):             4043.372\n",
      "Skew:                          -0.708   Prob(JB):                         0.00\n",
      "Kurtosis:                       7.986   Cond. No.                         273.\n",
      "==============================================================================\n",
      "\n",
      "Notes:\n",
      "[1] Standard Errors assume that the covariance matrix of the errors is correctly specified.\n",
      "\n",
      "\n",
      "\n",
      "--------------HISPANIC--------------\n",
      "                            OLS Regression Results                            \n",
      "==============================================================================\n",
      "Dep. Variable:          hispanic_bias   R-squared:                       0.007\n",
      "Model:                            OLS   Adj. R-squared:                  0.006\n",
      "Method:                 Least Squares   F-statistic:                     5.104\n",
      "Date:                Fri, 18 Dec 2020   Prob (F-statistic):           0.000115\n",
      "Time:                        16:41:07   Log-Likelihood:                -2475.0\n",
      "No. Observations:                3612   AIC:                             4962.\n",
      "Df Residuals:                    3606   BIC:                             4999.\n",
      "Df Model:                           5                                         \n",
      "Covariance Type:            nonrobust                                         \n",
      "===============================================================================================\n",
      "                                  coef    std err          t      P>|t|      [0.025      0.975]\n",
      "-----------------------------------------------------------------------------------------------\n",
      "Intercept                      -0.0171      0.049     -0.350      0.727      -0.113       0.079\n",
      "C(officer_race)[T.hispanic]     0.0104      0.030      0.348      0.728      -0.048       0.069\n",
      "C(officer_race)[T.white]       -0.0560      0.023     -2.406      0.016      -0.102      -0.010\n",
      "C(officer_sex)[T.male]          0.0357      0.030      1.208      0.227      -0.022       0.094\n",
      "officer_age                     0.0015      0.001      1.636      0.102      -0.000       0.003\n",
      "officer_years_of_service       -0.0044      0.001     -3.648      0.000      -0.007      -0.002\n",
      "==============================================================================\n",
      "Omnibus:                     6876.549   Durbin-Watson:                   1.066\n",
      "Prob(Omnibus):                  0.000   Jarque-Bera (JB):         18725419.575\n",
      "Skew:                          14.307   Prob(JB):                         0.00\n",
      "Kurtosis:                     354.572   Cond. No.                         273.\n",
      "==============================================================================\n",
      "\n",
      "Notes:\n",
      "[1] Standard Errors assume that the covariance matrix of the errors is correctly specified.\n",
      "\n",
      "\n",
      "\n",
      "--------------BLACK--------------\n",
      "                            OLS Regression Results                            \n",
      "==============================================================================\n",
      "Dep. Variable:             black_bias   R-squared:                       0.029\n",
      "Model:                            OLS   Adj. R-squared:                  0.028\n",
      "Method:                 Least Squares   F-statistic:                     21.75\n",
      "Date:                Fri, 18 Dec 2020   Prob (F-statistic):           1.61e-21\n",
      "Time:                        16:41:07   Log-Likelihood:                -1130.3\n",
      "No. Observations:                3612   AIC:                             2273.\n",
      "Df Residuals:                    3606   BIC:                             2310.\n",
      "Df Model:                           5                                         \n",
      "Covariance Type:            nonrobust                                         \n",
      "===============================================================================================\n",
      "                                  coef    std err          t      P>|t|      [0.025      0.975]\n",
      "-----------------------------------------------------------------------------------------------\n",
      "Intercept                       0.2871      0.034      8.506      0.000       0.221       0.353\n",
      "C(officer_race)[T.hispanic]    -0.0961      0.021     -4.667      0.000      -0.136      -0.056\n",
      "C(officer_race)[T.white]       -0.0331      0.016     -2.062      0.039      -0.065      -0.002\n",
      "C(officer_sex)[T.male]         -0.0343      0.020     -1.686      0.092      -0.074       0.006\n",
      "officer_age                    -0.0056      0.001     -8.776      0.000      -0.007      -0.004\n",
      "officer_years_of_service        0.0003      0.001      0.395      0.693      -0.001       0.002\n",
      "==============================================================================\n",
      "Omnibus:                     1624.564   Durbin-Watson:                   1.021\n",
      "Prob(Omnibus):                  0.000   Jarque-Bera (JB):            16126.463\n",
      "Skew:                           1.881   Prob(JB):                         0.00\n",
      "Kurtosis:                      12.643   Cond. No.                         273.\n",
      "==============================================================================\n",
      "\n",
      "Notes:\n",
      "[1] Standard Errors assume that the covariance matrix of the errors is correctly specified.\n",
      "\n",
      "\n"
     ]
    }
   ],
   "source": [
    "for minority in minorities:\n",
    "    print()\n",
    "    print(f'--------------{minority.upper()}--------------')\n",
    "    res = smf.ols(formula=f'{minority}_bias ~ C(officer_race) + C(officer_sex) + officer_age + officer_years_of_service', data=officer_df).fit()\n",
    "    print(res.summary())\n",
    "    print()\n",
    "    print()"
   ]
  },
  {
   "cell_type": "markdown",
   "metadata": {},
   "source": [
    "### There does not seem to be a link between the parameters considered and the score defined. Let's look directly at the scores according to the parameters."
   ]
  },
  {
   "cell_type": "code",
   "execution_count": 95,
   "metadata": {},
   "outputs": [],
   "source": [
    "biases = ['white_bias', 'hispanic_bias', 'black_bias']\n",
    "\n",
    "minorities = ['white', 'hispanic', 'black']\n",
    "sexes = ['male', 'female']\n",
    "\n",
    "choice_params = {'minority':minorities, 'sex':sexes, 'age': ages}\n",
    "choice_category = {'minority':'officer_race', 'sex': 'officer_sex', 'age': 'officer_generation'}\n",
    "\n",
    "ages = ['young', 'middle', 'old']"
   ]
  },
  {
   "cell_type": "code",
   "execution_count": 97,
   "metadata": {},
   "outputs": [],
   "source": [
    "def age_map(x):\n",
    "    if (x < 32):\n",
    "        return \"young\"\n",
    "    elif(x > 50):\n",
    "        return \"old\"\n",
    "    else:\n",
    "        return \"middle\"\n",
    "\n",
    "generation = officer_df['officer_age'].apply(age_map)\n",
    "\n",
    "officer_df['officer_generation'] = generation"
   ]
  },
  {
   "cell_type": "code",
   "execution_count": 98,
   "metadata": {},
   "outputs": [
    {
     "data": {
      "image/png": "[encoded data removed]",
      "text/plain": [
       "<Figure size 432x288 with 1 Axes>"
      ]
     },
     "metadata": {
      "needs_background": "light"
     },
     "output_type": "display_data"
    },
    {
     "data": {
      "image/png": "[encoded data removed]",
      "text/plain": [
       "<Figure size 432x288 with 1 Axes>"
      ]
     },
     "metadata": {
      "needs_background": "light"
     },
     "output_type": "display_data"
    },
    {
     "data": {
      "image/png": "[encoded data removed]",
      "text/plain": [
       "<Figure size 432x288 with 1 Axes>"
      ]
     },
     "metadata": {
      "needs_background": "light"
     },
     "output_type": "display_data"
    }
   ],
   "source": [
    "choice = 'age' #Possibilities : 'age', 'sex', 'minority'\n",
    "\n",
    "for bias in biases:\n",
    "    axs =  plt.axes()\n",
    "    for m in choice_params[choice]:\n",
    "        sns.kdeplot(officer_df[officer_df[choice_category[choice]] == m][bias], label = m + \" officers\", ax = axs)\n",
    "    axs.axvline(x=0, ymin=0, ymax=100, linestyle='dashed', color = 'grey')\n",
    "    axs.set_xlim([-1.5,2])\n",
    "    plt.legend()\n",
    "    plt.show()"
   ]
  }
 ],
 "metadata": {
  "kernelspec": {
   "display_name": "Python 3",
   "language": "python",
   "name": "python3"
  },
  "language_info": {
   "codemirror_mode": {
    "name": "ipython",
    "version": 3
   },
   "file_extension": ".py",
   "mimetype": "text/x-python",
   "name": "python",
   "nbconvert_exporter": "python",
   "pygments_lexer": "ipython3",
   "version": "3.7.1"
  }
 },
 "nbformat": 4,
 "nbformat_minor": 4
}
