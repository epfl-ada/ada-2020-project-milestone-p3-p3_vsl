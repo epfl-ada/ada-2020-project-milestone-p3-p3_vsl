{
 "metadata": {
  "language_info": {
   "codemirror_mode": {
    "name": "ipython",
    "version": 3
   },
   "file_extension": ".py",
   "mimetype": "text/x-python",
   "name": "python",
   "nbconvert_exporter": "python",
   "pygments_lexer": "ipython3",
   "version": "3.8.5-final"
  },
  "orig_nbformat": 2,
  "kernelspec": {
   "name": "python3",
   "display_name": "Python 3.8.5 64-bit (conda)",
   "metadata": {
    "interpreter": {
     "hash": "7a9295ab1ad1dbbc73aea124234ee09155fa9bf1fc750aef028efbba2552db07"
    }
   }
  }
 },
 "nbformat": 4,
 "nbformat_minor": 2,
 "cells": [
  {
   "cell_type": "code",
   "execution_count": 2,
   "metadata": {},
   "outputs": [],
   "source": [
    "import pandas as pd\n",
    "import numpy as np\n",
    "import matplotlib.pyplot as plt\n",
    "import seaborn as sns\n",
    "from copy import copy"
   ]
  },
  {
   "cell_type": "code",
   "execution_count": 3,
   "metadata": {},
   "outputs": [],
   "source": [
    "folder = 'data/'\n",
    "state = 'fl_statewide_2020_04_01.csv'\n",
    "state2 = 'ca_long_beach_2020_04_01.csv'"
   ]
  },
  {
   "source": [
    "# Preprocessing whole dataset (do not execute if working on full data)"
   ],
   "cell_type": "markdown",
   "metadata": {}
  },
  {
   "cell_type": "code",
   "execution_count": null,
   "metadata": {},
   "outputs": [],
   "source": [
    "df_full = pd.read_csv(folder + state)\n",
    "print(df_full.columns)"
   ]
  },
  {
   "source": [
    "Reducing the amount of data for experimentation"
   ],
   "cell_type": "markdown",
   "metadata": {}
  },
  {
   "cell_type": "code",
   "execution_count": null,
   "metadata": {},
   "outputs": [],
   "source": [
    "cut_file_path = folder + state.split('.')[0] + \"_cut.csv\"\n",
    "total_size = df_full.shape[0]\n",
    "df = df_full.sample(n=int(total_size/100))\n",
    "print(\"Full dataset of size {} was reduced to subset of {} elements.\".format(total_size, df.shape[0]))\n",
    "df.to_csv(cut_file_path, index = False)"
   ]
  },
  {
   "source": [
    "# Load the data (currently loading all data)"
   ],
   "cell_type": "markdown",
   "metadata": {}
  },
  {
   "cell_type": "code",
   "execution_count": 4,
   "metadata": {
    "tags": []
   },
   "outputs": [
    {
     "output_type": "stream",
     "name": "stdout",
     "text": [
      "Dataset is composed of 7297538 stops. Columns are: \n",
      "\n",
      "raw_row_number \t\t: too much different values\n",
      "date \t\t: too much different values\n",
      "time \t\t: too much different values\n",
      "location \t\t: too much different values\n",
      "county_name \t\t: too much different values\n",
      "subject_race\t\t \t\t: values are: [nan 'white' 'black' 'hispanic' 'asian/pacific islander' 'other' 'unknown']\n",
      "subject_sex\t\t \t\t: values are: ['female' 'male' nan]\n",
      "officer_id_hash \t\t: too much different values\n",
      "officer_race\t\t \t\t: values are: [nan 'black' 'white' 'hispanic' 'unknown' 'asian/pacific islander' 'other']\n",
      "officer_sex\t\t \t\t: values are: [nan 'male' 'female']\n",
      "department_name\t\t \t\t: values are: ['FLORIDA HIGHWAY PATROL' 'FLORIDA HIGHWAY PATROL - TROOP K'\n",
      " 'FLORIDA HIGHWAY PATROL  MOTORS SQ' 'FLORIDA DEPARTMENT OF AGRICULTURE'\n",
      " nan]\n",
      "unit \t\t: too much different values\n",
      "type\t\t \t\t: values are: ['vehicular']\n",
      "violation \t\t: too much different values\n",
      "arrest_made\t\t \t\t: values are: [nan False True]\n",
      "citation_issued\t\t \t\t: values are: [True False nan]\n",
      "warning_issued\t\t \t\t: values are: [nan False True]\n",
      "outcome\t\t \t\t: values are: ['citation' nan 'arrest' 'warning']\n",
      "frisk_performed\t\t \t\t: values are: [nan False True]\n",
      "search_conducted \t\t: values are: [nan False True]\n",
      "search_basis\t\t \t\t: values are: [nan 'consent' 'other' 'probable cause' 'plain view']\n",
      "reason_for_search \t\t: too much different values\n",
      "reason_for_stop \t\t: too much different values\n",
      "vehicle_registration_state \t\t: too much different values\n",
      "notes \t\t: too much different values\n",
      "raw_row_number_old \t\t: too much different values\n",
      "raw_Race \t\t: too much different values\n",
      "raw_Ethnicity \t\t: too much different values\n",
      "raw_row_number_new \t\t: values are: [nan '-------' '--------' '-------|-------' '-------|-------|-------'\n",
      " '--------|--------' '-------|-------|-------|-------'\n",
      " '-------|-------|-------|-------|-------' '--------|--------|--------'\n",
      " '-------|-------|-------|-------|-------|-------|-------|-------|-------|-------|-------'\n",
      " '--------|--------|--------|--------'\n",
      " '-------|-------|-------|-------|-------|-------'\n",
      " '--------|--------|--------|--------|--------'\n",
      " '-------|-------|-------|-------|-------|-------|-------|-------'\n",
      " '-------|-------|-------|-------|-------|-------|-------'\n",
      " '--------|--------|--------|--------|--------|--------'\n",
      " '--------|--------|--------|--------|--------|--------|--------'\n",
      " '-------|-------|-------|-------|-------|-------|-------|-------|-------|-------|-------|-------'\n",
      " '--------|--------|--------|--------|--------|--------|--------|--------|--------|--------|--------|--------|--------|--------']\n",
      "raw_SearchType \t\t: too much different values\n",
      "raw_EnforcementAction \t\t: too much different values\n"
     ]
    }
   ],
   "source": [
    "df =  pd.read_csv(folder + state)\n",
    "print(\"Dataset is composed of {} stops. Columns are: \\n\".format(df.shape[0]))\n",
    "for col in df.columns:\n",
    "    if df.dtypes[col] != np.float64:\n",
    "        val = df[col].unique()\n",
    "        if len(val) > 20:\n",
    "            print('{} \\t\\t: too much different values'.format(col))\n",
    "        else:\n",
    "            print('{} \\t\\t: values are: {}'.format(col if len(col)>15 else col + \"\\t\\t\", val))\n",
    "df = df.rename(columns={'officer_years_of_service': 'officer_yos'})"
   ]
  },
  {
   "cell_type": "code",
   "execution_count": null,
   "metadata": {},
   "outputs": [],
   "source": [
    "for i, n in enumerate(df['raw_EnforcementAction']):\n",
    "    print(n)\n",
    "    if i == 100:\n",
    "        break"
   ]
  },
  {
   "source": [
    "# Preprocess to compare search rates\n",
    "\n",
    "Calculate search rates for each officer race and each subject race across each county"
   ],
   "cell_type": "markdown",
   "metadata": {}
  },
  {
   "source": [
    "# General functions"
   ],
   "cell_type": "markdown",
   "metadata": {}
  },
  {
   "cell_type": "code",
   "execution_count": 6,
   "metadata": {},
   "outputs": [],
   "source": [
    "minority_race = ['black', 'hispanic']\n",
    "\n",
    "def remove_general_unused_columns(data, keep=[]):\n",
    "    columns_unused = ['officer_id_hash', 'vehicle_registration_state', 'type']\n",
    "    columns_reasons = ['reason_for_stop', 'reason_for_search', 'notes', 'violation', 'search_basis']\n",
    "    columns_raw = ['raw_EnforcementAction', 'raw_SearchType', 'raw_Ethnicity', 'raw_row_number_new', 'raw_Race', 'raw_row_number_old', 'raw_row_number']\n",
    "    columns_geography = ['location', 'date','time', 'department_name', 'unit']\n",
    "    general_columns_to_remove=columns_unused + columns_reasons + columns_raw + columns_geography\n",
    "    return data.drop(columns=[ x for x in general_columns_to_remove if x not in keep])\n",
    "\n",
    "def print_search_rate(data):\n",
    "    number_stops = data['search_conducted'].shape[0]\n",
    "    number_search_conducted = data[data['search_conducted'] == True].shape[0]\n",
    "    print('Data contains {} stops and {} of them ({}%) resulted in searches.'.format(number_stops, number_search_conducted, 100 * float(number_search_conducted)/number_stops))\n",
    "\n",
    "def preprocess_for_grouping(data):\n",
    "    data['search_rate'] = data['search_conducted']\n",
    "    data = data.astype({'search_rate': float})\n",
    "    data['count'] = 1 # to count occurences\n",
    "    return data\n",
    "\n",
    "def separate_data(data, categories):\n",
    "    df = {}\n",
    "    for exp in categories:\n",
    "        df[exp] = data.loc[exp]\n",
    "    return df\n"
   ]
  },
  {
   "cell_type": "code",
   "execution_count": null,
   "metadata": {},
   "outputs": [],
   "source": [
    "from scipy.stats import linregress\n",
    "\n",
    "def plot_race(data, min_race, categories, threshold, what_to_plot, ax_limits=None):\n",
    "\n",
    "    fig, ax_arr = plt.subplots(1, len(categories)) # 2 graphs\n",
    "    fig.set_size_inches(14,5) # fig size\n",
    "    fig.suptitle(min_race.title() + \" people search rates among officers\".format(min_race))\n",
    "\n",
    "    for i, off_feat in enumerate(categories):\n",
    "\n",
    "        data_ = data[off_feat]\n",
    "        df_white_sub, df_minority = data_.loc['white'], data_.loc[min_race] #separate data\n",
    "        df_white_sub.reset_index(inplace=True), df_minority.reset_index(inplace=True) #reset index\n",
    "        df_merged = pd.merge(df_white_sub, df_minority, on='county_name', suffixes=['_white', '_minority']) # merge both\n",
    "\n",
    "        # remove where there are too little datapoints\n",
    "        cond_minority = df_merged['count_minority'] >= threshold\n",
    "\n",
    "        y = df_merged[what_to_plot + '_minority'][cond_minority]*100\n",
    "        x = df_merged[what_to_plot + '_white'][cond_minority]*100 if what_to_plot == 'search_rate' else pd.Series([i for i in range(y.shape[0])])\n",
    "        s = df_merged['count_minority'][cond_minority]/100\n",
    "\n",
    "        ax_arr[i].scatter(x, y, s=s, c=\"None\", edgecolors='black', linewidth=0.4)\n",
    "        ax_arr[i].set_xlabel(\"White \" + what_to_plot + \" (%)\")\n",
    "        ax_arr[i].set_ylabel(min_race.title() + \" \"+ what_to_plot +\" (%)\")\n",
    "\n",
    "        #plot regression\n",
    "        a, b, r, p_value, std_err = linregress(x, y)\n",
    "        sns.regplot(x=x.repeat(s), y=y.repeat(s), ax=ax_arr[i], label='{:.1f}*x + {:.1f}, r={:.2f}'.format(a,b,r), scatter=False, truncate=False).legend(loc=\"best\")\n",
    "\n",
    "        ax_arr[i].set_title(off_feat.title() +' officers')\n",
    "\n",
    "        if ax_limits:\n",
    "            ax_arr[i].set_xlim((0,ax_limits['x']))\n",
    "            ax_arr[i].set_ylim((0,ax_limits['y']))\n",
    "\n",
    "        if what_to_plot == 'search_rate':\n",
    "            # draw dotted line\n",
    "            max_ = df_merged[what_to_plot + '_minority'][cond_minority].max()\n",
    "            line = np.arange(0, max_ * 100, max_)\n",
    "            ax_arr[i].plot(line, line, c='black', linestyle=(0,(5,5)), linewidth=1)\n",
    "\n",
    "\n",
    "def plot_search_rates(data, categories, threshold=500, what_to_plot='search_rate', ax_limits=None):\n",
    "    for i, race in enumerate(minority_race):\n",
    "        plot_race(data, race, categories, threshold, what_to_plot, ax_limits[i] if ax_limits else None)\n",
    "\n",
    "\n",
    "# # separate data\n",
    "# df_race_sep = separate_data(df_race_mixed, officer_race)\n",
    "# df_race_sep[officer_race[0]].head(2)\n",
    "\n",
    "# # plot it \n",
    "# plot_search_rates(df_race_sep, officer_race, 100, what_to_plot='stop_rate')"
   ]
  },
  {
   "source": [
    "# Race of officer"
   ],
   "cell_type": "markdown",
   "metadata": {}
  },
  {
   "cell_type": "code",
   "execution_count": null,
   "metadata": {},
   "outputs": [],
   "source": [
    "officer_race = ['white', 'black', 'hispanic']"
   ]
  },
  {
   "cell_type": "code",
   "execution_count": null,
   "metadata": {},
   "outputs": [],
   "source": [
    "df_race = copy(df)\n",
    "\n",
    "# remove unused columns\n",
    "df_race = remove_general_unused_columns(df_race)\n",
    "\n",
    "# make sure that required data are present (drop if nan values in those columns)\n",
    "important_features = ['subject_race', 'officer_race', 'search_conducted']\n",
    "df_race.dropna(inplace=True, subset=important_features)\n",
    "print('Cleaned subset is composed of {} datapoints'.format(df_race.shape[0]))\n",
    "\n",
    "# overview of all the data / global search rate\n",
    "print_search_rate(df_race)\n",
    "\n",
    "# preprocess for grouping\n",
    "df_race = preprocess_for_grouping(df_race)\n",
    "\n",
    "\n",
    "\n",
    "# add specific column for this type of analyzis\n",
    "df_race_all = df_race.groupby(['officer_race','subject_race','county_name']).agg({'search_rate': 'mean', 'count':'count'})\n",
    "df_race_all.head(10)"
   ]
  },
  {
   "cell_type": "code",
   "execution_count": null,
   "metadata": {},
   "outputs": [],
   "source": [
    "\n",
    "# df_race_all_s = df_race.groupby(['officer_race','county_name', 'subject_race']).agg({'count':'count', 'search_rate':'identity'})\n",
    "# df_race_all = df_race.groupby(['officer_race','county_name']).agg({'count':'count'})\n",
    "# df_race_mixed = copy(df_race_all_s)\n",
    "# df_race_mixed['tot'] = df_race_all['count']\n",
    "# df_race_mixed['stop_rate'] = df_race_mixed['count'] / df_race_mixed['tot']\n",
    "# df_race_mixed.head(10)\n"
   ]
  },
  {
   "cell_type": "code",
   "execution_count": null,
   "metadata": {},
   "outputs": [],
   "source": [
    "# separate data\n",
    "df_race_sep = separate_data(df_race_all, officer_race)\n",
    "df_race_sep[officer_race[0]].head(2)\n",
    "\n",
    "# plot it \n",
    "plot_search_rates(df_race_sep, officer_race, 2000)"
   ]
  },
  {
   "cell_type": "code",
   "execution_count": null,
   "metadata": {},
   "outputs": [],
   "source": [
    "total"
   ]
  },
  {
   "source": [
    "# Experience of officer"
   ],
   "cell_type": "markdown",
   "metadata": {}
  },
  {
   "cell_type": "code",
   "execution_count": null,
   "metadata": {},
   "outputs": [],
   "source": [
    "officer_experience_level = ['young', 'experienced', 'old']\n",
    "thresholds_experience = [2, 9]"
   ]
  },
  {
   "source": [
    "Preprocess the data to have what is needed"
   ],
   "cell_type": "markdown",
   "metadata": {}
  },
  {
   "cell_type": "code",
   "execution_count": null,
   "metadata": {},
   "outputs": [],
   "source": [
    "df_yos = copy(df)\n",
    "\n",
    "# remove unused columns\n",
    "df_yos = remove_general_unused_columns(df_yos)\n",
    "\n",
    "# make sure that required data are present (drop if nan values in those columns)\n",
    "important_features = ['subject_race', 'officer_yos', 'search_conducted']\n",
    "df_yos.dropna(inplace=True, subset=important_features)\n",
    "print('Cleaned subset is composed of {} datapoints'.format(df_yos.shape[0]))\n",
    "\n",
    "# overview of all the data / global search rate\n",
    "print_search_rate(df_yos)\n",
    "\n",
    "# preprocess for grouping\n",
    "df_yos = preprocess_for_grouping(df_yos)\n",
    "\n",
    "# add specific column for this type of analyzis\n",
    "df_yos['age_category'] = df_yos['officer_yos'].apply(lambda x : officer_experience_level[0] if x < thresholds_experience[0] else (officer_experience_level[1] if x < thresholds_experience[1] else officer_experience_level[2]))\n",
    "df_yos_all = df_yos.groupby(['age_category','subject_race','county_name']).agg({'search_rate': 'mean', 'count':'count'})"
   ]
  },
  {
   "cell_type": "code",
   "execution_count": null,
   "metadata": {},
   "outputs": [],
   "source": [
    "# separate data\n",
    "df_yos_sep = separate_data(df_yos_all, officer_experience_level)\n",
    "df_yos_sep[officer_experience_level[0]].head(2)\n",
    "\n",
    "# plot it \n",
    "plot_search_rates(df_yos_sep, officer_experience_level, 3000, ax_limits=[ {'x': 1.5, 'y':5},{'x': 1.5, 'y':2.6}]) #"
   ]
  },
  {
   "source": [
    "# Age of the officer"
   ],
   "cell_type": "markdown",
   "metadata": {}
  },
  {
   "cell_type": "code",
   "execution_count": null,
   "metadata": {},
   "outputs": [],
   "source": [
    "officer_age_level = ['young', 'experienced', 'old']\n",
    "thresholds_age = [32, 45]"
   ]
  },
  {
   "cell_type": "code",
   "execution_count": null,
   "metadata": {},
   "outputs": [],
   "source": [
    "df_age = copy(df)\n",
    "\n",
    "# remove unused columns\n",
    "df_age = remove_general_unused_columns(df_age)\n",
    "\n",
    "# make sure that required data are present (drop if nan values in those columns)\n",
    "important_features = ['subject_race', 'officer_age', 'search_conducted']\n",
    "df_age.dropna(inplace=True, subset=important_features)\n",
    "print('Cleaned subset is composed of {} datapoints'.format(df_age.shape[0]))\n",
    "\n",
    "# overview of all the data / global search rate\n",
    "print_search_rate(df_age)\n",
    "\n",
    "# preprocess for grouping\n",
    "df_age = preprocess_for_grouping(df_age)\n",
    "\n",
    "# add specific column for this type of analyzis\n",
    "df_age['age_category'] = df_age['officer_age'].apply(lambda x : officer_age_level[0] if x < thresholds_age[0] else (officer_age_level[1] if x < thresholds_age[1] else officer_age_level[2]))\n",
    "df_age_all = df_age.groupby(['age_category','subject_race','county_name']).agg({'search_rate': 'mean', 'count':'count'})"
   ]
  },
  {
   "cell_type": "code",
   "execution_count": null,
   "metadata": {},
   "outputs": [],
   "source": [
    "# separate data\n",
    "df_age_sep = separate_data(df_age_all, officer_age_level)\n",
    "df_age_sep[officer_age_level[0]].head(2)\n",
    "\n",
    "# plot it \n",
    "plot_search_rates(df_age_sep, officer_age_level, 3000, ax_limits=[{'x': 2, 'y':4},{'x': 2, 'y':3}])"
   ]
  },
  {
   "source": [
    "# Gender of the officer"
   ],
   "cell_type": "markdown",
   "metadata": {}
  },
  {
   "cell_type": "code",
   "execution_count": null,
   "metadata": {},
   "outputs": [],
   "source": [
    "officer_sex = ['male', 'female']"
   ]
  },
  {
   "cell_type": "code",
   "execution_count": null,
   "metadata": {},
   "outputs": [],
   "source": [
    "df_sex = copy(df)\n",
    "\n",
    "# remove unused columns\n",
    "df_sex = remove_general_unused_columns(df_sex)\n",
    "\n",
    "# make sure that required data are present (drop if nan values in those columns)\n",
    "important_features = ['subject_race', 'officer_sex', 'search_conducted']\n",
    "df_sex.dropna(inplace=True, subset=important_features)\n",
    "print('Cleaned subset is composed of {} datapoints'.format(df_sex.shape[0]))\n",
    "\n",
    "# overview of all the data / global search rate\n",
    "print_search_rate(df_sex)\n",
    "\n",
    "# preprocess for grouping\n",
    "df_sex = preprocess_for_grouping(df_sex)\n",
    "\n",
    "# add specific column for this type of analyzis\n",
    "# df_gender['age_category'] = df_gender['officer_gender'].apply(lambda x : officer_age_level[0] if x < thresholds_age[0] else (officer_age_level[1] if x < thresholds_age[1] else officer_age_level[2]))\n",
    "df_sex_all = df_sex.groupby(['officer_sex','subject_race','county_name']).agg({'search_rate': 'mean', 'count':'count'})"
   ]
  },
  {
   "cell_type": "code",
   "execution_count": null,
   "metadata": {},
   "outputs": [],
   "source": [
    "# separate data\n",
    "df_sex_sep = separate_data(df_sex_all, officer_sex)\n",
    "\n",
    "avg_female = df_sex_sep['female']['search_rate'].mean()\n",
    "avg_male = df_sex_sep['male']['search_rate'].mean()\n",
    "\n",
    "df_sex_sep['female']['search_rate'] = df_sex_sep['female']['search_rate'].apply(lambda x : (avg_male/avg_female)*x)\n",
    "# df_sex_sep[officer_age_level[0]].head(2)\n",
    "\n",
    "# plot it \n",
    "plot_search_rates(df_sex_sep, officer_sex, 500)#, ax_limits=[{'x': 1.25, 'y':3.5},{'x': 2, 'y':3}])"
   ]
  },
  {
   "source": [
    "# Importance of characteristics of officer for stop_rate"
   ],
   "cell_type": "markdown",
   "metadata": {}
  },
  {
   "cell_type": "code",
   "execution_count": null,
   "metadata": {},
   "outputs": [],
   "source": []
  },
  {
   "cell_type": "code",
   "execution_count": null,
   "metadata": {},
   "outputs": [],
   "source": []
  },
  {
   "source": [
    "# Race of the officer (with stop_rate)"
   ],
   "cell_type": "markdown",
   "metadata": {}
  },
  {
   "cell_type": "code",
   "execution_count": null,
   "metadata": {},
   "outputs": [],
   "source": [
    "officer_race = ['white', 'black', 'hispanic']"
   ]
  },
  {
   "cell_type": "code",
   "execution_count": null,
   "metadata": {},
   "outputs": [],
   "source": [
    "df_race = copy(df)\n",
    "\n",
    "# make sure that required data are present (drop if nan values in those columns)\n",
    "important_features = ['subject_race', 'officer_race', 'search_conducted']\n",
    "df_race.dropna(inplace=True, subset=important_features)\n",
    "print('Cleaned subset is composed of {} datapoints'.format(df_race.shape[0]))\n",
    "\n",
    "# overview of all the data / global search rate\n",
    "print_search_rate(df_race)\n",
    "df_race = preprocess_for_grouping(df_race)\n",
    "\n",
    "# add specific column for this type of analyzis\n",
    "df_race_all_s = df_race.groupby(['officer_race','county_name', 'subject_race']).agg({'count':'count'})\n",
    "df_race_all = df_race.groupby(['officer_race','county_name']).agg({'count':'count'})\n",
    "\n",
    "df_race_mixed = copy(df_race_all_s)\n",
    "df_race_mixed['tot'] = df_race_all['count']\n",
    "df_race_mixed['stop_rate'] = df_race_mixed['count'] / df_race_mixed['tot']\n",
    "\n",
    "\n",
    "df_race_mixed = df_race_mixed.reorder_levels(['officer_race','subject_race','county_name'])\n",
    "\n",
    "df_race_mixed.head()"
   ]
  },
  {
   "cell_type": "code",
   "execution_count": null,
   "metadata": {},
   "outputs": [],
   "source": [
    "\n",
    "df = separate_data( df_race_mixed, ['white'])['white']\n",
    "df.reset_index(level=[0,1], inplace=True)\n",
    "df.head()"
   ]
  },
  {
   "cell_type": "code",
   "execution_count": null,
   "metadata": {},
   "outputs": [],
   "source": [
    "print(df[df.subject_race == 'black']['count'].sum())\n",
    "print(df['count'].sum())"
   ]
  },
  {
   "cell_type": "code",
   "execution_count": null,
   "metadata": {},
   "outputs": [],
   "source": [
    "from scipy.stats import linregress\n",
    "\n",
    "def plot_race_stop(data, min_race, categories, threshold):\n",
    "\n",
    "    what_to_plot = 'stop_rate'\n",
    "\n",
    "    fig, ax_arr = plt.subplots(1, 3) # 2 graphs\n",
    "    fig.set_size_inches(17,5) # fig size\n",
    "    fig.suptitle(min_race.title() + \" people \"+ what_to_plot+\" among officers\".format(min_race))\n",
    "\n",
    "    for i, off_feat in enumerate(categories):\n",
    "\n",
    "        data_ = data[off_feat]\n",
    "        df_white_sub, df_minority = data_.loc['white'], data_.loc[min_race] #separate data\n",
    "        df_white_sub.reset_index(inplace=True), df_minority.reset_index(inplace=True) #reset index\n",
    "        df_merged = pd.merge(df_white_sub, df_minority, on='county_name', suffixes=['_white', '_minority']) # merge both\n",
    "\n",
    "        # remove where there are too little datapoints\n",
    "        cond_minority = df_merged['count_minority'] >= threshold\n",
    "\n",
    "        y = df_merged[what_to_plot + '_minority'][cond_minority]*100\n",
    "        total =  float(df_merged['count_minority'].sum())\n",
    "        print(total)\n",
    "        s = df_merged['count_minority'][cond_minority] #.apply(lambda x: x / total)\n",
    "\n",
    "        sns.histplot(y.repeat(s), ax=ax_arr[i], bins=8, kde=True)\n",
    "\n",
    "\n",
    "        ax_arr[i].set_xlabel(min_race.title() + what_to_plot + \" (%)\")\n",
    "        ax_arr[i].set_ylabel(\"Number of \" + min_race +\" stops\")\n",
    "\n",
    "\n",
    "        ax_arr[i].set_title(off_feat.title() +' officers')\n",
    "\n",
    "\n",
    "\n",
    "def plot_stop_rates(data, categories, threshold= 0):\n",
    "    for race in minority_race + ['white']:\n",
    "        plot_race_stop(data, race, categories, threshold)\n",
    "\n",
    "\n",
    "# separate data\n",
    "df_race_sep = separate_data(df_race_mixed, officer_race)\n",
    "df_race_sep[officer_race[0]].head(2)\n"
   ]
  },
  {
   "cell_type": "code",
   "execution_count": null,
   "metadata": {},
   "outputs": [],
   "source": [
    "\n",
    "# plot it \n",
    "plot_stop_rates(df_race_sep, officer_race, 0)"
   ]
  },
  {
   "source": [
    "# Veil of darkness"
   ],
   "cell_type": "markdown",
   "metadata": {}
  },
  {
   "cell_type": "code",
   "execution_count": null,
   "metadata": {},
   "outputs": [],
   "source": [
    "CHOSEN_CHARACTERISTIC = 'officer_race'\n",
    "\n",
    "df_veil = copy(df)\n",
    "\n",
    "# remove unused columns\n",
    "columns_time = ['date','time']\n",
    "df_veil = remove_general_unused_columns(df_veil, columns_time)\n",
    "\n",
    "# make sure that required data are present (drop if nan values in those columns)\n",
    "important_features = ['subject_race', CHOSEN_CHARACTERISTIC , 'search_conducted']\n",
    "df_veil.dropna(inplace=True, subset=important_features)\n",
    "print('Cleaned subset is composed of {} datapoints'.format(df_yos.shape[0]))\n",
    "\n",
    "df_veil['date'] = pd.to_datetime(df_veil['date'])\n",
    "df_veil.head()"
   ]
  },
  {
   "cell_type": "code",
   "execution_count": null,
   "metadata": {},
   "outputs": [],
   "source": [
    "import datetime\n",
    "\n",
    "starts = []\n",
    "ends = []\n",
    "years = [2010, 2011, 2012, 2013, 2014, 2015]\n",
    "\n",
    "for y in years:\n",
    "    starts.append(datetime.datetime.strptime(f\"01-10-{y}\", \"%d-%m-%Y\"))\n",
    "    ends.append(datetime.datetime.strptime(f\"30-10-{y}\", \"%d-%m-%Y\"))\n",
    "\n",
    "\n",
    "df_veil['month'] = df_veil['date'].apply(lambda x : np.sum([s <= x <= e for s,e in zip(starts, ends)]) > 0 )\n",
    "df_veil = df_veil[df_veil['month']]\n",
    "df_veil.head()"
   ]
  },
  {
   "cell_type": "code",
   "execution_count": null,
   "metadata": {},
   "outputs": [],
   "source": [
    "df_veiled = copy(df_veil)\n",
    "hours = [ f'{x}:' for x in range(17, 21)]\n",
    "\n",
    "df_veiled['time_bool'] = df_veiled['time'].apply(lambda x: x[0:3] in hours) \n",
    "df_veiled_both = df_veiled[ df_veiled['time_bool']]\n",
    "print(df_veiled_both.shape)\n",
    "\n",
    "df_veiled_both['time_period'] = df_veiled_both['time'].apply(lambda x : x[0:4])\n",
    "df_veiled_both.head()"
   ]
  },
  {
   "cell_type": "code",
   "execution_count": null,
   "metadata": {},
   "outputs": [],
   "source": [
    "# df_veiled_both['count'] = 1\n",
    "\n",
    "# df_veil_of_darkness = df_veiled_both.groupby(['officer_race','time_period','subject_race']).agg({'count':'count'})\n",
    "# df_veil_of_darkness_all = df_veiled_both.groupby(['officer_race','time_period']).agg({'count':'count'})\n",
    "\n",
    "# df_veil_of_darkness['tot'] = df_veil_of_darkness_all['count']\n",
    "# df_veil_of_darkness['black_stop_rate'] = df_veil_of_darkness['count'] / df_veil_of_darkness['tot']\n",
    "\n",
    "\n",
    "# # df_race_mixed = df_race_mixed.reorder_levels(['officer_race','subject_race','county_name'])\n",
    "\n",
    "# df_veil_of_darkness = df_veil_of_darkness.reset_index()\n",
    "\n",
    "# df_veil_of_darkness.head()\n",
    "\n",
    "\n",
    "# # df_veil_white = separate_data(df_veil_of_darkness, officer_race)\n",
    "# # df_veil_white['white'].head(10)\n",
    "\n",
    "df_veiled_both['count'] = 1\n",
    "\n",
    "df_veil_of_darkness = df_veiled_both.groupby(['time_period','subject_race']).agg({'count':'count'})\n",
    "df_veil_of_darkness_all = df_veiled_both.groupby('time_period').agg({'count':'count'})\n",
    "\n",
    "df_veil_of_darkness.reset_index(inplace=True)\n",
    "df_veil_of_darkness_all.reset_index(inplace=True)\n",
    "\n",
    "\n",
    "\n",
    "\n",
    "# df_veil_of_darkness['tot'] = df_veil_of_darkness_all['count']\n",
    "# df_veil_of_darkness['black_stop_rate'] = df_veil_of_darkness['count'] / df_veil_of_darkness['tot']\n",
    "\n",
    "\n",
    "# df_race_mixed = df_race_mixed.reorder_levels(['officer_race','subject_race','county_name'])\n",
    "\n",
    "# df_veil_of_darkness = df_veil_of_darkness.reset_index()\n",
    "\n",
    "df_veil_of_darkness = df_veil_of_darkness.merge(df_veil_of_darkness_all, on=['time_period'])\n",
    "df_veil_of_darkness['black_stop_rate'] = df_veil_of_darkness['count_x'] / df_veil_of_darkness['count_y']\n",
    "\n",
    "df_veil_of_darkness = df_veil_of_darkness[df_veil_of_darkness['subject_race'] == 'black']\n",
    "\n",
    "df_veil_of_darkness.head()\n",
    "\n",
    "# df_veil_white = separate_data(df_veil_of_darkness, officer_race)\n",
    "# df_veil_white['white'].head(10)\n"
   ]
  },
  {
   "cell_type": "code",
   "execution_count": null,
   "metadata": {},
   "outputs": [],
   "source": [
    "df_veil_study = df_veil_of_darkness.reset_index()\n",
    "# df_veil_study = df_veil_white['white'].reset_index()\n",
    "df_veil_study['before_sunset'] = df_veil_study['time_period'].apply(lambda x: x < '20:1')\n",
    "df_veil_study.head()"
   ]
  },
  {
   "cell_type": "code",
   "execution_count": null,
   "metadata": {},
   "outputs": [],
   "source": [
    "periods = []\n",
    "for i in range(17, 21):\n",
    "    for j in range(0, 60, 10):\n",
    "        periods.append(f\"{i}:{int(j/10)}\")\n",
    "print(periods)"
   ]
  },
  {
   "cell_type": "code",
   "execution_count": null,
   "metadata": {},
   "outputs": [],
   "source": [
    "from matplotlib.pyplot import figure\n",
    "figure(figsize=(10,5))\n",
    "\n",
    "data_black = df_veil_study[ df_veil_study['subject_race'] == 'black']\n",
    "\n",
    "sns.lineplot(x='time_period', y='black_stop_rate', data=data_black)\n",
    "plt.axvline('19:1', c='black', linestyle='dashed')\n",
    "\n",
    "data_black['before_sunset'] = data_black['time_period'].apply(lambda x : x < '19:1')\n",
    "\n",
    "data_black['time_period_v'] = data_black['time_period'].apply(lambda x : periods.index(x))\n",
    "\n",
    "data_black_before = data_black[data_black['before_sunset']]\n",
    "data_black_after = data_black[data_black['before_sunset'] == False]\n",
    "\n",
    "data_black_before.head()\n",
    "\n",
    "sns.regplot(x='time_period_v', y='black_stop_rate', data=data_black_before)\n",
    "sns.regplot(x='time_period_v', y='black_stop_rate', data=data_black_after)\n",
    "# sns.regplot(x=data_black_after['time_period'], y=data_black_after['black_stop_rate'])"
   ]
  },
  {
   "cell_type": "code",
   "execution_count": null,
   "metadata": {},
   "outputs": [],
   "source": [
    "import datetime\n",
    "from matplotlib.pyplot import figure\n",
    "\n",
    "# def plot_veil_of_darkness(data, period= ['01-12', '20-12'], sunset_time='17:3', hour_range=[15,20]):\n",
    "\n",
    "\n",
    "\n",
    "period= ['05-06', '28-07']\n",
    "sunset_time='20:1'\n",
    "hour_range=[18,22]\n",
    "\n",
    "\n",
    "df_veil = copy(data)\n",
    "# remove unused columns\n",
    "columns_time = ['date','time']\n",
    "df_veil = remove_general_unused_columns(df_veil, columns_time)\n",
    "\n",
    "# make sure that required data are present (drop if nan values in those columns)\n",
    "important_features = ['subject_race', CHOSEN_CHARACTERISTIC , 'search_conducted']\n",
    "df_veil.dropna(inplace=True, subset=important_features)\n",
    "print('Cleaned subset is composed of {} datapoints'.format(df_yos.shape[0]))\n",
    "\n",
    "df_veil['date'] = pd.to_datetime(df_veil['date'])\n",
    "\n",
    "\n",
    "# select range of the period\n",
    "starts = []\n",
    "ends = []\n",
    "years = [2010, 2011, 2012, 2013, 2014, 2015]\n",
    "for y in years:\n",
    "    starts.append(datetime.datetime.strptime(f\"{period[0]}-{y}\", \"%d-%m-%Y\"))\n",
    "    ends.append(datetime.datetime.strptime(f\"{period[1]}-{y}\", \"%d-%m-%Y\"))\n",
    "\n",
    "df_veil['month'] = df_veil['date'].apply(lambda x : np.sum([s <= x <= e for s,e in zip(starts, ends)]) > 0 )\n",
    "df_veil = df_veil[df_veil['month']]\n",
    "\n",
    "# select hour range\n",
    "hours = [ f'{x}:' for x in range(hour_range[0], hour_range[1])]\n",
    "df_veiled['time_bool'] = df_veiled['time'].apply(lambda x: x[0:3] in hours) \n",
    "df_veiled_both = df_veiled[ df_veiled['time_bool']]\n",
    "df_veiled_both['time_period'] = df_veiled_both['time'].apply(lambda x : x[0:4])\n",
    "\n",
    "# group \n",
    "df_veiled_both['count'] = 1\n",
    "df_veil_of_darkness = df_veiled_both.groupby(['time_period','subject_race']).agg({'count':'count'})\n",
    "df_veil_of_darkness_all = df_veiled_both.groupby('time_period').agg({'count':'count'})\n",
    "df_veil_of_darkness.reset_index(inplace=True)\n",
    "df_veil_of_darkness_all.reset_index(inplace=True)\n",
    "df_veil_of_darkness = df_veil_of_darkness.merge(df_veil_of_darkness_all, on=['time_period'])\n",
    "df_veil_of_darkness['black_stop_rate'] = df_veil_of_darkness['count_x'] / df_veil_of_darkness['count_y']\n",
    "df_veil_of_darkness = df_veil_of_darkness[df_veil_of_darkness['subject_race'] == 'black']\n",
    "df_veil_study = df_veil_of_darkness.reset_index()\n",
    "\n",
    "\n",
    "\n",
    "# select only black people arrested\n",
    "data_black = df_veil_study[df_veil_study['subject_race'] == 'black']\n",
    "\n",
    "\n",
    "return data_black\n",
    "\n",
    "\n",
    "\n",
    "# df_black = plot_veil_of_darkness(df, period = period, sunset_time = sunset_time, hour_range = hour_range)"
   ]
  },
  {
   "cell_type": "code",
   "execution_count": null,
   "metadata": {},
   "outputs": [],
   "source": [
    "# !pip uninstall astral\n",
    "# !pip install astral==1.10.1\n",
    "# !pip install astral\n",
    "# !pip install tqdm"
   ]
  },
  {
   "cell_type": "code",
   "execution_count": 62,
   "metadata": {},
   "outputs": [
    {
     "output_type": "display_data",
     "data": {
      "text/plain": "HBox(children=(HTML(value=''), FloatProgress(value=1.0, bar_style='info', layout=Layout(width='20px'), max=1.0…",
      "application/vnd.jupyter.widget-view+json": {
       "version_major": 2,
       "version_minor": 0,
       "model_id": "2b81bcbfbab94337bf9475896a399854"
      }
     },
     "metadata": {}
    },
    {
     "output_type": "stream",
     "name": "stdout",
     "text": [
      "Cleaned subset is composed of 4194281 datapoints\n",
      "\n"
     ]
    },
    {
     "output_type": "display_data",
     "data": {
      "text/plain": "HBox(children=(HTML(value=''), FloatProgress(value=0.0, max=4194281.0), HTML(value='')))",
      "application/vnd.jupyter.widget-view+json": {
       "version_major": 2,
       "version_minor": 0,
       "model_id": "27e8f34833944bc1a7dd02eb7ee9cd84"
      }
     },
     "metadata": {}
    },
    {
     "output_type": "stream",
     "name": "stdout",
     "text": [
      "\n"
     ]
    },
    {
     "output_type": "execute_result",
     "data": {
      "text/plain": [
       "                 date       county_name subject_race officer_race\n",
       "1 2010-01-06 16:14:43      Duval County        white        black\n",
       "2 2010-01-08 19:39:31      Duval County        white        white\n",
       "3 2010-01-11 11:56:34  St. Lucie County        white        white\n",
       "6 2010-01-15 09:18:02    Gadsden County        white        white\n",
       "7 2010-01-15 10:16:59    Gadsden County     hispanic        white"
      ],
      "text/html": "<div>\n<style scoped>\n    .dataframe tbody tr th:only-of-type {\n        vertical-align: middle;\n    }\n\n    .dataframe tbody tr th {\n        vertical-align: top;\n    }\n\n    .dataframe thead th {\n        text-align: right;\n    }\n</style>\n<table border=\"1\" class=\"dataframe\">\n  <thead>\n    <tr style=\"text-align: right;\">\n      <th></th>\n      <th>date</th>\n      <th>county_name</th>\n      <th>subject_race</th>\n      <th>officer_race</th>\n    </tr>\n  </thead>\n  <tbody>\n    <tr>\n      <th>1</th>\n      <td>2010-01-06 16:14:43</td>\n      <td>Duval County</td>\n      <td>white</td>\n      <td>black</td>\n    </tr>\n    <tr>\n      <th>2</th>\n      <td>2010-01-08 19:39:31</td>\n      <td>Duval County</td>\n      <td>white</td>\n      <td>white</td>\n    </tr>\n    <tr>\n      <th>3</th>\n      <td>2010-01-11 11:56:34</td>\n      <td>St. Lucie County</td>\n      <td>white</td>\n      <td>white</td>\n    </tr>\n    <tr>\n      <th>6</th>\n      <td>2010-01-15 09:18:02</td>\n      <td>Gadsden County</td>\n      <td>white</td>\n      <td>white</td>\n    </tr>\n    <tr>\n      <th>7</th>\n      <td>2010-01-15 10:16:59</td>\n      <td>Gadsden County</td>\n      <td>hispanic</td>\n      <td>white</td>\n    </tr>\n  </tbody>\n</table>\n</div>"
     },
     "metadata": {},
     "execution_count": 62
    }
   ],
   "source": [
    "import datetime\n",
    "from matplotlib.pyplot import figure\n",
    "from tqdm.notebook import tqdm, tqdm_notebook\n",
    "from datetime import datetime\n",
    "tqdm_notebook().pandas()\n",
    "# s = sun(cityobserver, date=datetime.date())\n",
    "\n",
    "# def plot_veil_of_darkness(data, period= ['01-12', '20-12'], sunset_time='17:3', hour_range=[15,20]):\n",
    "CHOSEN_CHARACTERISTIC = 'officer_race'\n",
    "\n",
    "\n",
    "df_veil = copy(df)\n",
    "# remove unused columns\n",
    "columns_time = ['date','time']\n",
    "columns_to_drop = ['subject_sex', 'officer_age', 'subject_age', 'arrest_made', 'officer_yos', 'officer_sex', 'officer_yos', 'citation_issued', 'warning_issued', 'outcome', 'frisk_performed', 'search_conducted']\n",
    "df_veil = remove_general_unused_columns(df_veil, columns_time)\n",
    "df_veil.drop(columns=columns_to_drop, inplace=True)\n",
    "\n",
    "# make sure that required data are present (drop if nan values in those columns)\n",
    "important_features = ['subject_race', CHOSEN_CHARACTERISTIC ]\n",
    "df_veil.dropna(inplace=True, subset=important_features)\n",
    "print('Cleaned subset is composed of {} datapoints'.format(df_veil.shape[0]))\n",
    "\n",
    "df_veil['date'] = (df_veil['date'] + ' ' + df_veil['time']).progress_apply(lambda x : datetime.strptime(x, '%Y-%m-%d %H:%M:%S'))\n",
    "df_veil.drop(columns=['time'], inplace=True)\n",
    "df_veil.head()"
   ]
  },
  {
   "cell_type": "code",
   "execution_count": 65,
   "metadata": {},
   "outputs": [
    {
     "output_type": "display_data",
     "data": {
      "text/plain": "HBox(children=(HTML(value=''), FloatProgress(value=0.0, max=4194281.0), HTML(value='')))",
      "application/vnd.jupyter.widget-view+json": {
       "version_major": 2,
       "version_minor": 0,
       "model_id": "8108c63b774a41f99f805c932404ae90"
      }
     },
     "metadata": {}
    },
    {
     "output_type": "stream",
     "name": "stdout",
     "text": [
      "\n"
     ]
    },
    {
     "output_type": "execute_result",
     "data": {
      "text/plain": [
       "                 date       county_name subject_race officer_race  \\\n",
       "1 2010-01-06 16:14:43      Duval County        white        black   \n",
       "2 2010-01-08 19:39:31      Duval County        white        white   \n",
       "3 2010-01-11 11:56:34  St. Lucie County        white        white   \n",
       "6 2010-01-15 09:18:02    Gadsden County        white        white   \n",
       "7 2010-01-15 10:16:59    Gadsden County     hispanic        white   \n",
       "\n",
       "             time_relative  \n",
       "1 -1 days +23:27:15.684459  \n",
       "2   0 days 02:49:39.921148  \n",
       "3 -1 days +19:02:53.115830  \n",
       "6 -1 days +16:18:51.201014  \n",
       "7 -1 days +17:17:48.201014  "
      ],
      "text/html": "<div>\n<style scoped>\n    .dataframe tbody tr th:only-of-type {\n        vertical-align: middle;\n    }\n\n    .dataframe tbody tr th {\n        vertical-align: top;\n    }\n\n    .dataframe thead th {\n        text-align: right;\n    }\n</style>\n<table border=\"1\" class=\"dataframe\">\n  <thead>\n    <tr style=\"text-align: right;\">\n      <th></th>\n      <th>date</th>\n      <th>county_name</th>\n      <th>subject_race</th>\n      <th>officer_race</th>\n      <th>time_relative</th>\n    </tr>\n  </thead>\n  <tbody>\n    <tr>\n      <th>1</th>\n      <td>2010-01-06 16:14:43</td>\n      <td>Duval County</td>\n      <td>white</td>\n      <td>black</td>\n      <td>-1 days +23:27:15.684459</td>\n    </tr>\n    <tr>\n      <th>2</th>\n      <td>2010-01-08 19:39:31</td>\n      <td>Duval County</td>\n      <td>white</td>\n      <td>white</td>\n      <td>0 days 02:49:39.921148</td>\n    </tr>\n    <tr>\n      <th>3</th>\n      <td>2010-01-11 11:56:34</td>\n      <td>St. Lucie County</td>\n      <td>white</td>\n      <td>white</td>\n      <td>-1 days +19:02:53.115830</td>\n    </tr>\n    <tr>\n      <th>6</th>\n      <td>2010-01-15 09:18:02</td>\n      <td>Gadsden County</td>\n      <td>white</td>\n      <td>white</td>\n      <td>-1 days +16:18:51.201014</td>\n    </tr>\n    <tr>\n      <th>7</th>\n      <td>2010-01-15 10:16:59</td>\n      <td>Gadsden County</td>\n      <td>hispanic</td>\n      <td>white</td>\n      <td>-1 days +17:17:48.201014</td>\n    </tr>\n  </tbody>\n</table>\n</div>"
     },
     "metadata": {},
     "execution_count": 65
    }
   ],
   "source": [
    "import astral.sun as astralsun\n",
    "from astral import LocationInfo\n",
    "from astral.sun import sun\n",
    "from datetime import datetime\n",
    "\n",
    "city = LocationInfo(\"Orlando\")\n",
    "\n",
    "df_veil['time_relative'] = df_veil['date'].progress_apply(lambda x : x - sun(city.observer, date=x)['dusk'].replace(tzinfo=None))\n",
    "df_veil.head()"
   ]
  },
  {
   "cell_type": "code",
   "execution_count": 120,
   "metadata": {},
   "outputs": [
    {
     "output_type": "display_data",
     "data": {
      "text/plain": "HBox(children=(HTML(value=''), FloatProgress(value=0.0, max=4194281.0), HTML(value='')))",
      "application/vnd.jupyter.widget-view+json": {
       "version_major": 2,
       "version_minor": 0,
       "model_id": "021bada94aa74bf28affdc71438dff72"
      }
     },
     "metadata": {}
    },
    {
     "output_type": "stream",
     "name": "stdout",
     "text": [
      "\n"
     ]
    },
    {
     "output_type": "execute_result",
     "data": {
      "text/plain": [
       "                  date     county_name subject_race officer_race  \\\n",
       "1  2010-01-06 16:14:43    Duval County        white        black   \n",
       "2  2010-01-08 19:39:31    Duval County        white        white   \n",
       "10 2010-01-15 13:55:22  Gadsden County        black        white   \n",
       "34 2010-01-18 13:29:29  Madison County     hispanic        white   \n",
       "35 2010-01-18 13:50:22  Madison County     hispanic        white   \n",
       "\n",
       "              time_relative  time_cat  \n",
       "1  -1 days +23:27:15.684459        -4  \n",
       "2    0 days 02:49:39.921148        16  \n",
       "10 -1 days +20:56:11.201014       -19  \n",
       "34 -1 days +20:25:55.569835       -22  \n",
       "35 -1 days +20:46:48.569835       -20  "
      ],
      "text/html": "<div>\n<style scoped>\n    .dataframe tbody tr th:only-of-type {\n        vertical-align: middle;\n    }\n\n    .dataframe tbody tr th {\n        vertical-align: top;\n    }\n\n    .dataframe thead th {\n        text-align: right;\n    }\n</style>\n<table border=\"1\" class=\"dataframe\">\n  <thead>\n    <tr style=\"text-align: right;\">\n      <th></th>\n      <th>date</th>\n      <th>county_name</th>\n      <th>subject_race</th>\n      <th>officer_race</th>\n      <th>time_relative</th>\n      <th>time_cat</th>\n    </tr>\n  </thead>\n  <tbody>\n    <tr>\n      <th>1</th>\n      <td>2010-01-06 16:14:43</td>\n      <td>Duval County</td>\n      <td>white</td>\n      <td>black</td>\n      <td>-1 days +23:27:15.684459</td>\n      <td>-4</td>\n    </tr>\n    <tr>\n      <th>2</th>\n      <td>2010-01-08 19:39:31</td>\n      <td>Duval County</td>\n      <td>white</td>\n      <td>white</td>\n      <td>0 days 02:49:39.921148</td>\n      <td>16</td>\n    </tr>\n    <tr>\n      <th>10</th>\n      <td>2010-01-15 13:55:22</td>\n      <td>Gadsden County</td>\n      <td>black</td>\n      <td>white</td>\n      <td>-1 days +20:56:11.201014</td>\n      <td>-19</td>\n    </tr>\n    <tr>\n      <th>34</th>\n      <td>2010-01-18 13:29:29</td>\n      <td>Madison County</td>\n      <td>hispanic</td>\n      <td>white</td>\n      <td>-1 days +20:25:55.569835</td>\n      <td>-22</td>\n    </tr>\n    <tr>\n      <th>35</th>\n      <td>2010-01-18 13:50:22</td>\n      <td>Madison County</td>\n      <td>hispanic</td>\n      <td>white</td>\n      <td>-1 days +20:46:48.569835</td>\n      <td>-20</td>\n    </tr>\n  </tbody>\n</table>\n</div>"
     },
     "metadata": {},
     "execution_count": 120
    }
   ],
   "source": [
    "WIDTH = 20\n",
    "EXTEND= 2\n",
    "\n",
    "categories = [timedelta(minutes=10*i) for i in range(-WIDTH-EXTEND, WIDTH+1)]\n",
    "\n",
    "def get_category(timed):\n",
    "    for i, t in enumerate(categories):\n",
    "        if timed < t:\n",
    "            return i-WIDTH-EXTEND-1 if i else -1\n",
    "    return -1\n",
    "# print(categories)\n",
    "df_veil['time_cat'] = df_veil['time_relative'].progress_apply(lambda x : get_category(x))\n",
    "df_veil_cleaned = df_veil[df_veil['time_cat'] != -1]\n",
    "df_veil_cleaned.head()"
   ]
  },
  {
   "cell_type": "code",
   "execution_count": 121,
   "metadata": {},
   "outputs": [],
   "source": [
    "# select the county\n",
    "df_to_group = copy(df_veil_cleaned)\n",
    "# df_vod = df_vod[df_vod['county_name'].isin([])]\n",
    "# df_vod = df_vod[df_vod['officer_race'] == 'race']"
   ]
  },
  {
   "cell_type": "code",
   "execution_count": 122,
   "metadata": {},
   "outputs": [
    {
     "output_type": "execute_result",
     "data": {
      "text/plain": [
       "   time_cat            subject_race  count_x  count_y  race_stop_rate\n",
       "0       -22  asian/pacific islander      537    45633        0.011768\n",
       "1       -22                   black     8257    45633        0.180944\n",
       "2       -22                hispanic     9493    45633        0.208029\n",
       "3       -22                   other     1184    45633        0.025946\n",
       "4       -22                   white    26162    45633        0.573313"
      ],
      "text/html": "<div>\n<style scoped>\n    .dataframe tbody tr th:only-of-type {\n        vertical-align: middle;\n    }\n\n    .dataframe tbody tr th {\n        vertical-align: top;\n    }\n\n    .dataframe thead th {\n        text-align: right;\n    }\n</style>\n<table border=\"1\" class=\"dataframe\">\n  <thead>\n    <tr style=\"text-align: right;\">\n      <th></th>\n      <th>time_cat</th>\n      <th>subject_race</th>\n      <th>count_x</th>\n      <th>count_y</th>\n      <th>race_stop_rate</th>\n    </tr>\n  </thead>\n  <tbody>\n    <tr>\n      <th>0</th>\n      <td>-22</td>\n      <td>asian/pacific islander</td>\n      <td>537</td>\n      <td>45633</td>\n      <td>0.011768</td>\n    </tr>\n    <tr>\n      <th>1</th>\n      <td>-22</td>\n      <td>black</td>\n      <td>8257</td>\n      <td>45633</td>\n      <td>0.180944</td>\n    </tr>\n    <tr>\n      <th>2</th>\n      <td>-22</td>\n      <td>hispanic</td>\n      <td>9493</td>\n      <td>45633</td>\n      <td>0.208029</td>\n    </tr>\n    <tr>\n      <th>3</th>\n      <td>-22</td>\n      <td>other</td>\n      <td>1184</td>\n      <td>45633</td>\n      <td>0.025946</td>\n    </tr>\n    <tr>\n      <th>4</th>\n      <td>-22</td>\n      <td>white</td>\n      <td>26162</td>\n      <td>45633</td>\n      <td>0.573313</td>\n    </tr>\n  </tbody>\n</table>\n</div>"
     },
     "metadata": {},
     "execution_count": 122
    }
   ],
   "source": [
    "df_to_group['count'] = 1\n",
    "\n",
    "# group the categories\n",
    "df_vod = df_to_group.groupby(['time_cat','subject_race']).agg({'count':'count'})\n",
    "df_grouped_by_timecat = df_to_group.groupby('time_cat').agg({'count':'count'})\n",
    "\n",
    "# merge both\n",
    "df_vod.reset_index(inplace=True)\n",
    "df_grouped_by_timecat.reset_index(inplace=True)\n",
    "df_vod = df_vod.merge(df_grouped_by_timecat, on=['time_cat'])\n",
    "\n",
    "# compute the stop_rate\n",
    "df_vod['race_stop_rate'] = df_vod['count_x'] / df_vod['count_y']\n",
    "df_vod.head()"
   ]
  },
  {
   "cell_type": "code",
   "execution_count": 123,
   "metadata": {},
   "outputs": [
    {
     "output_type": "execute_result",
     "data": {
      "text/plain": [
       "    time_cat subject_race  count_x  count_y  race_stop_rate\n",
       "1        -22        black     8257    45633        0.180944\n",
       "6        -21        black     8198    44764        0.183138\n",
       "11       -20        black     8183    44924        0.182152\n",
       "16       -19        black     7916    44139        0.179343\n",
       "21       -18        black     7790    44098        0.176652"
      ],
      "text/html": "<div>\n<style scoped>\n    .dataframe tbody tr th:only-of-type {\n        vertical-align: middle;\n    }\n\n    .dataframe tbody tr th {\n        vertical-align: top;\n    }\n\n    .dataframe thead th {\n        text-align: right;\n    }\n</style>\n<table border=\"1\" class=\"dataframe\">\n  <thead>\n    <tr style=\"text-align: right;\">\n      <th></th>\n      <th>time_cat</th>\n      <th>subject_race</th>\n      <th>count_x</th>\n      <th>count_y</th>\n      <th>race_stop_rate</th>\n    </tr>\n  </thead>\n  <tbody>\n    <tr>\n      <th>1</th>\n      <td>-22</td>\n      <td>black</td>\n      <td>8257</td>\n      <td>45633</td>\n      <td>0.180944</td>\n    </tr>\n    <tr>\n      <th>6</th>\n      <td>-21</td>\n      <td>black</td>\n      <td>8198</td>\n      <td>44764</td>\n      <td>0.183138</td>\n    </tr>\n    <tr>\n      <th>11</th>\n      <td>-20</td>\n      <td>black</td>\n      <td>8183</td>\n      <td>44924</td>\n      <td>0.182152</td>\n    </tr>\n    <tr>\n      <th>16</th>\n      <td>-19</td>\n      <td>black</td>\n      <td>7916</td>\n      <td>44139</td>\n      <td>0.179343</td>\n    </tr>\n    <tr>\n      <th>21</th>\n      <td>-18</td>\n      <td>black</td>\n      <td>7790</td>\n      <td>44098</td>\n      <td>0.176652</td>\n    </tr>\n  </tbody>\n</table>\n</div>"
     },
     "metadata": {},
     "execution_count": 123
    }
   ],
   "source": [
    "# select only black people arrested\n",
    "data_black = df_vod[df_vod['subject_race'] == 'black']\n",
    "data_black.head()"
   ]
  },
  {
   "cell_type": "code",
   "execution_count": 125,
   "metadata": {},
   "outputs": [
    {
     "output_type": "display_data",
     "data": {
      "text/plain": "<Figure size 720x360 with 1 Axes>",
      "image/svg+xml": "<?xml version=\"1.0\" encoding=\"utf-8\" standalone=\"no\"?>\r\n<!DOCTYPE svg PUBLIC \"-//W3C//DTD SVG 1.1//EN\"\r\n  \"http://www.w3.org/Graphics/SVG/1.1/DTD/svg11.dtd\">\r\n<!-- Created with matplotlib (https://matplotlib.org/) -->\r\n<svg height=\"316.834375pt\" version=\"1.1\" viewBox=\"0 0 618.525 316.834375\" width=\"618.525pt\" xmlns=\"http://www.w3.org/2000/svg\" xmlns:xlink=\"http://www.w3.org/1999/xlink\">\r\n <metadata>\r\n  <rdf:RDF xmlns:cc=\"http://creativecommons.org/ns#\" xmlns:dc=\"http://purl.org/dc/elements/1.1/\" xmlns:rdf=\"http://www.w3.org/1999/02/22-rdf-syntax-ns#\">\r\n   <cc:Work>\r\n    <dc:type rdf:resource=\"http://purl.org/dc/dcmitype/StillImage\"/>\r\n    <dc:date>2020-12-18T02:45:29.559019</dc:date>\r\n    <dc:format>image/svg+xml</dc:format>\r\n    <dc:creator>\r\n     <cc:Agent>\r\n      <dc:title>Matplotlib v3.3.2, https://matplotlib.org/</dc:title>\r\n     </cc:Agent>\r\n    </dc:creator>\r\n   </cc:Work>\r\n  </rdf:RDF>\r\n </metadata>\r\n <defs>\r\n  <style type=\"text/css\">*{stroke-linecap:butt;stroke-linejoin:round;}</style>\r\n </defs>\r\n <g id=\"figure_1\">\r\n  <g id=\"patch_1\">\r\n   <path d=\"M 0 316.834375 \r\nL 618.525 316.834375 \r\nL 618.525 0 \r\nL 0 0 \r\nz\r\n\" style=\"fill:none;\"/>\r\n  </g>\r\n  <g id=\"axes_1\">\r\n   <g id=\"patch_2\">\r\n    <path d=\"M 50.14375 279 \r\nL 608.14375 279 \r\nL 608.14375 7.2 \r\nL 50.14375 7.2 \r\nz\r\n\" style=\"fill:#ffffff;\"/>\r\n   </g>\r\n   <g id=\"PathCollection_1\">\r\n    <defs>\r\n     <path d=\"M 0 3 \r\nC 0.795609 3 1.55874 2.683901 2.12132 2.12132 \r\nC 2.683901 1.55874 3 0.795609 3 0 \r\nC 3 -0.795609 2.683901 -1.55874 2.12132 -2.12132 \r\nC 1.55874 -2.683901 0.795609 -3 0 -3 \r\nC -0.795609 -3 -1.55874 -2.683901 -2.12132 -2.12132 \r\nC -2.683901 -1.55874 -3 -0.795609 -3 0 \r\nC -3 0.795609 -2.683901 1.55874 -2.12132 2.12132 \r\nC -1.55874 2.683901 -0.795609 3 0 3 \r\nz\r\n\" id=\"mcb442c7763\" style=\"stroke:#ffffff;stroke-width:0.48;\"/>\r\n    </defs>\r\n    <g clip-path=\"url(#p0536a1b38d)\">\r\n     <use style=\"stroke:#ffffff;stroke-width:0.48;\" x=\"50.14375\" xlink:href=\"#mcb442c7763\" y=\"122.184059\"/>\r\n     <use style=\"stroke:#ffffff;stroke-width:0.48;\" x=\"81.14375\" xlink:href=\"#mcb442c7763\" y=\"142.138042\"/>\r\n     <use style=\"stroke:#ffffff;stroke-width:0.48;\" x=\"112.14375\" xlink:href=\"#mcb442c7763\" y=\"205.570317\"/>\r\n     <use style=\"stroke:#ffffff;stroke-width:0.48;\" x=\"143.14375\" xlink:href=\"#mcb442c7763\" y=\"135.434958\"/>\r\n     <use style=\"stroke:#ffffff;stroke-width:0.48;\" x=\"174.14375\" xlink:href=\"#mcb442c7763\" y=\"138.486408\"/>\r\n     <use style=\"stroke:#ffffff;stroke-width:0.48;\" x=\"205.14375\" xlink:href=\"#mcb442c7763\" y=\"153.18563\"/>\r\n     <use style=\"stroke:#ffffff;stroke-width:0.48;\" x=\"236.14375\" xlink:href=\"#mcb442c7763\" y=\"105.394265\"/>\r\n     <use style=\"stroke:#ffffff;stroke-width:0.48;\" x=\"267.14375\" xlink:href=\"#mcb442c7763\" y=\"140.213832\"/>\r\n     <use style=\"stroke:#ffffff;stroke-width:0.48;\" x=\"298.14375\" xlink:href=\"#mcb442c7763\" y=\"110.730644\"/>\r\n     <use style=\"stroke:#ffffff;stroke-width:0.48;\" x=\"391.14375\" xlink:href=\"#mcb442c7763\" y=\"257.004559\"/>\r\n     <use style=\"stroke:#ffffff;stroke-width:0.48;\" x=\"422.14375\" xlink:href=\"#mcb442c7763\" y=\"191.520163\"/>\r\n     <use style=\"stroke:#ffffff;stroke-width:0.48;\" x=\"453.14375\" xlink:href=\"#mcb442c7763\" y=\"233.641732\"/>\r\n     <use style=\"stroke:#ffffff;stroke-width:0.48;\" x=\"484.14375\" xlink:href=\"#mcb442c7763\" y=\"154.812682\"/>\r\n     <use style=\"stroke:#ffffff;stroke-width:0.48;\" x=\"515.14375\" xlink:href=\"#mcb442c7763\" y=\"116.445885\"/>\r\n     <use style=\"stroke:#ffffff;stroke-width:0.48;\" x=\"546.14375\" xlink:href=\"#mcb442c7763\" y=\"86.824632\"/>\r\n     <use style=\"stroke:#ffffff;stroke-width:0.48;\" x=\"577.14375\" xlink:href=\"#mcb442c7763\" y=\"230.53207\"/>\r\n     <use style=\"stroke:#ffffff;stroke-width:0.48;\" x=\"608.14375\" xlink:href=\"#mcb442c7763\" y=\"180.697506\"/>\r\n    </g>\r\n   </g>\r\n   <g id=\"PolyCollection_1\">\r\n    <path clip-path=\"url(#p0536a1b38d)\" d=\"M 50.14375 127.82599 \r\nL 50.14375 212.813903 \r\nL 52.648801 211.756237 \r\nL 55.153851 210.698571 \r\nL 57.658902 209.640906 \r\nL 60.163952 208.58324 \r\nL 62.669003 207.525575 \r\nL 65.174053 206.467909 \r\nL 67.679104 205.384894 \r\nL 70.184154 204.288065 \r\nL 72.689205 203.191236 \r\nL 75.194255 202.091837 \r\nL 77.699306 200.780898 \r\nL 80.204356 199.519765 \r\nL 82.709407 198.547295 \r\nL 85.214457 197.574824 \r\nL 87.719508 196.458696 \r\nL 90.224558 195.109176 \r\nL 92.729609 193.759656 \r\nL 95.234659 192.410136 \r\nL 97.73971 191.060615 \r\nL 100.24476 189.899181 \r\nL 102.749811 188.905148 \r\nL 105.254861 187.911115 \r\nL 107.759912 186.917082 \r\nL 110.264962 185.923049 \r\nL 112.770013 184.929016 \r\nL 115.275063 183.934983 \r\nL 117.780114 182.940949 \r\nL 120.285164 181.946916 \r\nL 122.790215 180.952883 \r\nL 125.295265 179.95885 \r\nL 127.800316 178.964817 \r\nL 130.305366 177.93858 \r\nL 132.810417 176.843382 \r\nL 135.315467 175.861519 \r\nL 137.820518 174.941083 \r\nL 140.325568 173.8484 \r\nL 142.830619 172.951258 \r\nL 145.335669 171.84011 \r\nL 147.84072 170.729874 \r\nL 150.34577 169.624875 \r\nL 152.850821 168.506527 \r\nL 155.355871 167.393614 \r\nL 157.860922 166.429369 \r\nL 160.365972 165.953402 \r\nL 162.871023 165.088184 \r\nL 165.376073 164.157356 \r\nL 167.881124 163.28443 \r\nL 170.386174 162.615368 \r\nL 172.891225 161.886303 \r\nL 175.396275 161.001599 \r\nL 177.901326 160.378763 \r\nL 180.406376 159.701414 \r\nL 182.911427 158.881821 \r\nL 185.416477 158.119768 \r\nL 187.921528 157.833636 \r\nL 190.426578 157.343002 \r\nL 192.931629 156.303305 \r\nL 195.436679 155.92451 \r\nL 197.94173 155.583644 \r\nL 200.44678 155.291894 \r\nL 202.951831 154.280082 \r\nL 205.456881 153.397775 \r\nL 207.961932 153.497479 \r\nL 210.466982 153.222651 \r\nL 212.972033 153.083425 \r\nL 215.477083 153.117915 \r\nL 217.982134 153.143851 \r\nL 220.487184 153.181832 \r\nL 222.992235 153.219813 \r\nL 225.497285 153.461482 \r\nL 228.002336 153.480894 \r\nL 230.507386 153.393161 \r\nL 233.012437 153.362115 \r\nL 235.517487 153.400281 \r\nL 238.022538 153.438446 \r\nL 240.527588 153.474126 \r\nL 243.032639 153.562601 \r\nL 245.537689 153.904546 \r\nL 248.04274 154.244658 \r\nL 250.54779 154.24968 \r\nL 253.052841 154.189057 \r\nL 255.557891 154.132223 \r\nL 258.062942 154.261726 \r\nL 260.567992 154.391229 \r\nL 263.073043 154.51762 \r\nL 265.578093 154.380643 \r\nL 268.083144 154.661367 \r\nL 270.588194 154.909241 \r\nL 273.093245 154.974482 \r\nL 275.598295 155.035389 \r\nL 278.103346 155.208336 \r\nL 280.608396 155.298623 \r\nL 283.113447 155.347265 \r\nL 285.618497 155.551666 \r\nL 288.123548 155.756066 \r\nL 290.628598 155.959616 \r\nL 293.133649 156.092798 \r\nL 295.638699 156.225981 \r\nL 298.14375 156.359163 \r\nL 298.14375 97.555207 \r\nL 298.14375 97.555207 \r\nL 295.638699 98.431235 \r\nL 293.133649 99.422491 \r\nL 290.628598 100.298181 \r\nL 288.123548 101.286554 \r\nL 285.618497 102.016877 \r\nL 283.113447 103.119326 \r\nL 280.608396 103.986585 \r\nL 278.103346 105.138861 \r\nL 275.598295 105.743104 \r\nL 273.093245 106.957447 \r\nL 270.588194 108.252115 \r\nL 268.083144 109.409191 \r\nL 265.578093 110.392504 \r\nL 263.073043 111.235232 \r\nL 260.567992 112.049808 \r\nL 258.062942 112.405707 \r\nL 255.557891 112.801426 \r\nL 253.052841 113.321913 \r\nL 250.54779 113.867081 \r\nL 248.04274 114.160725 \r\nL 245.537689 114.64575 \r\nL 243.032639 115.184736 \r\nL 240.527588 115.595216 \r\nL 238.022538 115.951767 \r\nL 235.517487 116.452271 \r\nL 233.012437 116.977385 \r\nL 230.507386 118.013136 \r\nL 228.002336 118.402203 \r\nL 225.497285 118.831911 \r\nL 222.992235 119.27368 \r\nL 220.487184 119.606156 \r\nL 217.982134 119.838485 \r\nL 215.477083 120.056126 \r\nL 212.972033 120.303588 \r\nL 210.466982 120.536699 \r\nL 207.961932 120.787214 \r\nL 205.456881 121.038358 \r\nL 202.951831 121.373435 \r\nL 200.44678 121.676913 \r\nL 197.94173 121.98039 \r\nL 195.436679 122.283868 \r\nL 192.931629 122.403379 \r\nL 190.426578 122.543866 \r\nL 187.921528 122.803151 \r\nL 185.416477 123.170213 \r\nL 182.911427 123.538385 \r\nL 180.406376 123.907585 \r\nL 177.901326 124.278707 \r\nL 175.396275 124.513965 \r\nL 172.891225 124.701918 \r\nL 170.386174 124.94383 \r\nL 167.881124 125.16583 \r\nL 165.376073 125.435105 \r\nL 162.871023 125.60706 \r\nL 160.365972 125.781904 \r\nL 157.860922 125.830895 \r\nL 155.355871 126.0079 \r\nL 152.850821 126.116715 \r\nL 150.34577 126.226132 \r\nL 147.84072 126.339891 \r\nL 145.335669 126.563543 \r\nL 142.830619 126.794091 \r\nL 140.325568 126.997306 \r\nL 137.820518 126.912572 \r\nL 135.315467 127.07906 \r\nL 132.810417 127.334334 \r\nL 130.305366 127.310523 \r\nL 127.800316 127.348013 \r\nL 125.295265 127.492701 \r\nL 122.790215 127.588365 \r\nL 120.285164 127.555309 \r\nL 117.780114 127.519948 \r\nL 115.275063 127.589677 \r\nL 112.770013 127.581957 \r\nL 110.264962 127.617083 \r\nL 107.759912 127.738925 \r\nL 105.254861 127.750027 \r\nL 102.749811 127.880308 \r\nL 100.24476 128.024923 \r\nL 97.73971 127.959739 \r\nL 95.234659 127.969131 \r\nL 92.729609 127.986126 \r\nL 90.224558 128.150767 \r\nL 87.719508 128.047369 \r\nL 85.214457 128.082651 \r\nL 82.709407 128.108254 \r\nL 80.204356 128.078642 \r\nL 77.699306 128.033281 \r\nL 75.194255 127.995795 \r\nL 72.689205 127.990007 \r\nL 70.184154 127.990985 \r\nL 67.679104 127.991963 \r\nL 65.174053 127.841212 \r\nL 62.669003 127.950875 \r\nL 60.163952 128.022696 \r\nL 57.658902 127.999713 \r\nL 55.153851 127.950721 \r\nL 52.648801 127.797025 \r\nL 50.14375 127.82599 \r\nz\r\n\" style=\"fill:#1f77b4;fill-opacity:0.15;\"/>\r\n   </g>\r\n   <g id=\"PolyCollection_2\">\r\n    <path clip-path=\"url(#p0536a1b38d)\" d=\"M 391.14375 99.250837 \r\nL 391.14375 266.645455 \r\nL 393.335669 264.129919 \r\nL 395.527588 261.614384 \r\nL 397.719508 259.098849 \r\nL 399.911427 256.881736 \r\nL 402.103346 254.354208 \r\nL 404.295265 252.543435 \r\nL 406.487184 250.904353 \r\nL 408.679104 248.562309 \r\nL 410.871023 246.220266 \r\nL 413.062942 244.29366 \r\nL 415.254861 242.729788 \r\nL 417.44678 240.485566 \r\nL 419.638699 239.051117 \r\nL 421.830619 238.00509 \r\nL 424.022538 236.880125 \r\nL 426.214457 236.164845 \r\nL 428.406376 235.385954 \r\nL 430.598295 234.72213 \r\nL 432.790215 233.976674 \r\nL 434.982134 233.236887 \r\nL 437.174053 232.629118 \r\nL 439.365972 231.715257 \r\nL 441.557891 230.981117 \r\nL 443.749811 230.246978 \r\nL 445.94173 229.503138 \r\nL 448.133649 228.757289 \r\nL 450.325568 227.916549 \r\nL 452.517487 227.080242 \r\nL 454.709407 226.463707 \r\nL 456.901326 225.776597 \r\nL 459.093245 225.031289 \r\nL 461.285164 224.378107 \r\nL 463.477083 223.651283 \r\nL 465.669003 222.924459 \r\nL 467.860922 222.332486 \r\nL 470.052841 221.768014 \r\nL 472.24476 221.210097 \r\nL 474.436679 220.76055 \r\nL 476.628598 220.605824 \r\nL 478.820518 220.156946 \r\nL 481.012437 220.003593 \r\nL 483.204356 219.422491 \r\nL 485.396275 218.849453 \r\nL 487.588194 218.368918 \r\nL 489.780114 218.082919 \r\nL 491.972033 217.760828 \r\nL 494.163952 217.124728 \r\nL 496.355871 216.488907 \r\nL 498.54779 216.005312 \r\nL 500.73971 216.041024 \r\nL 502.931629 215.677962 \r\nL 505.123548 215.107713 \r\nL 507.315467 214.768231 \r\nL 509.507386 214.487686 \r\nL 511.699306 214.039301 \r\nL 513.891225 213.586763 \r\nL 516.083144 213.133358 \r\nL 518.275063 212.679953 \r\nL 520.466982 212.371376 \r\nL 522.658902 211.925271 \r\nL 524.850821 211.753984 \r\nL 527.04274 211.370193 \r\nL 529.234659 211.118242 \r\nL 531.426578 210.500435 \r\nL 533.618497 210.222204 \r\nL 535.810417 209.87989 \r\nL 538.002336 209.482706 \r\nL 540.194255 209.665635 \r\nL 542.386174 209.559161 \r\nL 544.578093 208.89851 \r\nL 546.770013 208.693753 \r\nL 548.961932 209.254829 \r\nL 551.153851 209.403556 \r\nL 553.34577 209.35222 \r\nL 555.537689 208.892751 \r\nL 557.729609 208.640338 \r\nL 559.921528 208.341571 \r\nL 562.113447 208.234472 \r\nL 564.305366 208.270205 \r\nL 566.497285 207.807798 \r\nL 568.689205 207.526443 \r\nL 570.881124 207.734388 \r\nL 573.073043 207.619616 \r\nL 575.264962 208.092632 \r\nL 577.456881 207.953727 \r\nL 579.648801 207.814822 \r\nL 581.84072 208.316425 \r\nL 584.032639 208.56476 \r\nL 586.224558 208.340944 \r\nL 588.416477 209.160151 \r\nL 590.608396 208.952147 \r\nL 592.800316 208.982994 \r\nL 594.992235 209.079136 \r\nL 597.184154 209.263684 \r\nL 599.376073 209.635634 \r\nL 601.567992 209.714483 \r\nL 603.759912 209.794745 \r\nL 605.951831 210.005392 \r\nL 608.14375 210.192971 \r\nL 608.14375 19.554545 \r\nL 608.14375 19.554545 \r\nL 605.951831 21.942739 \r\nL 603.759912 24.334832 \r\nL 601.567992 26.726924 \r\nL 599.376073 29.119016 \r\nL 597.184154 31.512822 \r\nL 594.992235 33.909565 \r\nL 592.800316 36.306308 \r\nL 590.608396 38.703051 \r\nL 588.416477 41.19578 \r\nL 586.224558 43.490109 \r\nL 584.032639 45.879309 \r\nL 581.84072 48.201272 \r\nL 579.648801 50.503362 \r\nL 577.456881 52.849153 \r\nL 575.264962 55.358832 \r\nL 573.073043 57.844412 \r\nL 570.881124 60.236069 \r\nL 568.689205 62.627725 \r\nL 566.497285 65.024485 \r\nL 564.305366 67.413864 \r\nL 562.113447 69.627592 \r\nL 559.921528 72.001379 \r\nL 557.729609 74.327632 \r\nL 555.537689 76.615978 \r\nL 553.34577 78.957067 \r\nL 551.153851 81.386602 \r\nL 548.961932 83.711095 \r\nL 546.770013 86.056768 \r\nL 544.578093 88.434869 \r\nL 542.386174 90.873663 \r\nL 540.194255 93.454833 \r\nL 538.002336 95.689924 \r\nL 535.810417 98.175321 \r\nL 533.618497 100.723273 \r\nL 531.426578 103.13777 \r\nL 529.234659 105.321052 \r\nL 527.04274 107.424593 \r\nL 524.850821 109.970603 \r\nL 522.658902 112.213766 \r\nL 520.466982 114.506819 \r\nL 518.275063 116.713953 \r\nL 516.083144 119.116612 \r\nL 513.891225 120.367538 \r\nL 511.699306 122.153774 \r\nL 509.507386 124.011277 \r\nL 507.315467 125.392875 \r\nL 505.123548 126.783859 \r\nL 502.931629 128.137773 \r\nL 500.73971 129.671526 \r\nL 498.54779 131.431089 \r\nL 496.355871 133.530679 \r\nL 494.163952 134.709244 \r\nL 491.972033 134.313497 \r\nL 489.780114 134.363803 \r\nL 487.588194 133.753072 \r\nL 485.396275 133.121031 \r\nL 483.204356 132.715645 \r\nL 481.012437 132.310259 \r\nL 478.820518 131.64843 \r\nL 476.628598 130.803871 \r\nL 474.436679 129.806919 \r\nL 472.24476 128.593253 \r\nL 470.052841 127.84075 \r\nL 467.860922 127.088248 \r\nL 465.669003 126.329547 \r\nL 463.477083 125.268976 \r\nL 461.285164 124.226814 \r\nL 459.093245 123.202074 \r\nL 456.901326 122.728416 \r\nL 454.709407 122.32964 \r\nL 452.517487 121.499631 \r\nL 450.325568 121.206221 \r\nL 448.133649 120.465909 \r\nL 445.94173 119.725596 \r\nL 443.749811 118.985283 \r\nL 441.557891 118.24497 \r\nL 439.365972 117.504657 \r\nL 437.174053 116.764344 \r\nL 434.982134 116.024031 \r\nL 432.790215 115.283719 \r\nL 430.598295 114.543406 \r\nL 428.406376 113.803093 \r\nL 426.214457 112.769328 \r\nL 424.022538 111.436658 \r\nL 421.830619 110.103987 \r\nL 419.638699 108.792251 \r\nL 417.44678 107.932503 \r\nL 415.254861 107.072756 \r\nL 413.062942 106.216607 \r\nL 410.871023 105.376511 \r\nL 408.679104 104.536414 \r\nL 406.487184 103.696318 \r\nL 404.295265 102.856221 \r\nL 402.103346 102.082243 \r\nL 399.911427 101.515962 \r\nL 397.719508 100.949681 \r\nL 395.527588 100.383399 \r\nL 393.335669 99.817118 \r\nL 391.14375 99.250837 \r\nz\r\n\" style=\"fill:#ff7f0e;fill-opacity:0.15;\"/>\r\n   </g>\r\n   <g id=\"matplotlib.axis_1\">\r\n    <g id=\"xtick_1\">\r\n     <g id=\"line2d_1\">\r\n      <defs>\r\n       <path d=\"M 0 0 \r\nL 0 3.5 \r\n\" id=\"me5fef27936\" style=\"stroke:#000000;stroke-width:0.8;\"/>\r\n      </defs>\r\n      <g>\r\n       <use style=\"stroke:#000000;stroke-width:0.8;\" x=\"50.14375\" xlink:href=\"#me5fef27936\" y=\"279\"/>\r\n      </g>\r\n     </g>\r\n     <g id=\"text_1\">\r\n      <!-- −10 -->\r\n      <g transform=\"translate(39.591406 293.598438)scale(0.1 -0.1)\">\r\n       <defs>\r\n        <path d=\"M 10.59375 35.5 \r\nL 73.1875 35.5 \r\nL 73.1875 27.203125 \r\nL 10.59375 27.203125 \r\nz\r\n\" id=\"DejaVuSans-8722\"/>\r\n        <path d=\"M 12.40625 8.296875 \r\nL 28.515625 8.296875 \r\nL 28.515625 63.921875 \r\nL 10.984375 60.40625 \r\nL 10.984375 69.390625 \r\nL 28.421875 72.90625 \r\nL 38.28125 72.90625 \r\nL 38.28125 8.296875 \r\nL 54.390625 8.296875 \r\nL 54.390625 0 \r\nL 12.40625 0 \r\nz\r\n\" id=\"DejaVuSans-49\"/>\r\n        <path d=\"M 31.78125 66.40625 \r\nQ 24.171875 66.40625 20.328125 58.90625 \r\nQ 16.5 51.421875 16.5 36.375 \r\nQ 16.5 21.390625 20.328125 13.890625 \r\nQ 24.171875 6.390625 31.78125 6.390625 \r\nQ 39.453125 6.390625 43.28125 13.890625 \r\nQ 47.125 21.390625 47.125 36.375 \r\nQ 47.125 51.421875 43.28125 58.90625 \r\nQ 39.453125 66.40625 31.78125 66.40625 \r\nz\r\nM 31.78125 74.21875 \r\nQ 44.046875 74.21875 50.515625 64.515625 \r\nQ 56.984375 54.828125 56.984375 36.375 \r\nQ 56.984375 17.96875 50.515625 8.265625 \r\nQ 44.046875 -1.421875 31.78125 -1.421875 \r\nQ 19.53125 -1.421875 13.0625 8.265625 \r\nQ 6.59375 17.96875 6.59375 36.375 \r\nQ 6.59375 54.828125 13.0625 64.515625 \r\nQ 19.53125 74.21875 31.78125 74.21875 \r\nz\r\n\" id=\"DejaVuSans-48\"/>\r\n       </defs>\r\n       <use xlink:href=\"#DejaVuSans-8722\"/>\r\n       <use x=\"83.789062\" xlink:href=\"#DejaVuSans-49\"/>\r\n       <use x=\"147.412109\" xlink:href=\"#DejaVuSans-48\"/>\r\n      </g>\r\n     </g>\r\n    </g>\r\n    <g id=\"xtick_2\">\r\n     <g id=\"line2d_2\">\r\n      <g>\r\n       <use style=\"stroke:#000000;stroke-width:0.8;\" x=\"112.14375\" xlink:href=\"#me5fef27936\" y=\"279\"/>\r\n      </g>\r\n     </g>\r\n     <g id=\"text_2\">\r\n      <!-- −8 -->\r\n      <g transform=\"translate(104.772656 293.598438)scale(0.1 -0.1)\">\r\n       <defs>\r\n        <path d=\"M 31.78125 34.625 \r\nQ 24.75 34.625 20.71875 30.859375 \r\nQ 16.703125 27.09375 16.703125 20.515625 \r\nQ 16.703125 13.921875 20.71875 10.15625 \r\nQ 24.75 6.390625 31.78125 6.390625 \r\nQ 38.8125 6.390625 42.859375 10.171875 \r\nQ 46.921875 13.96875 46.921875 20.515625 \r\nQ 46.921875 27.09375 42.890625 30.859375 \r\nQ 38.875 34.625 31.78125 34.625 \r\nz\r\nM 21.921875 38.8125 \r\nQ 15.578125 40.375 12.03125 44.71875 \r\nQ 8.5 49.078125 8.5 55.328125 \r\nQ 8.5 64.0625 14.71875 69.140625 \r\nQ 20.953125 74.21875 31.78125 74.21875 \r\nQ 42.671875 74.21875 48.875 69.140625 \r\nQ 55.078125 64.0625 55.078125 55.328125 \r\nQ 55.078125 49.078125 51.53125 44.71875 \r\nQ 48 40.375 41.703125 38.8125 \r\nQ 48.828125 37.15625 52.796875 32.3125 \r\nQ 56.78125 27.484375 56.78125 20.515625 \r\nQ 56.78125 9.90625 50.3125 4.234375 \r\nQ 43.84375 -1.421875 31.78125 -1.421875 \r\nQ 19.734375 -1.421875 13.25 4.234375 \r\nQ 6.78125 9.90625 6.78125 20.515625 \r\nQ 6.78125 27.484375 10.78125 32.3125 \r\nQ 14.796875 37.15625 21.921875 38.8125 \r\nz\r\nM 18.3125 54.390625 \r\nQ 18.3125 48.734375 21.84375 45.5625 \r\nQ 25.390625 42.390625 31.78125 42.390625 \r\nQ 38.140625 42.390625 41.71875 45.5625 \r\nQ 45.3125 48.734375 45.3125 54.390625 \r\nQ 45.3125 60.0625 41.71875 63.234375 \r\nQ 38.140625 66.40625 31.78125 66.40625 \r\nQ 25.390625 66.40625 21.84375 63.234375 \r\nQ 18.3125 60.0625 18.3125 54.390625 \r\nz\r\n\" id=\"DejaVuSans-56\"/>\r\n       </defs>\r\n       <use xlink:href=\"#DejaVuSans-8722\"/>\r\n       <use x=\"83.789062\" xlink:href=\"#DejaVuSans-56\"/>\r\n      </g>\r\n     </g>\r\n    </g>\r\n    <g id=\"xtick_3\">\r\n     <g id=\"line2d_3\">\r\n      <g>\r\n       <use style=\"stroke:#000000;stroke-width:0.8;\" x=\"174.14375\" xlink:href=\"#me5fef27936\" y=\"279\"/>\r\n      </g>\r\n     </g>\r\n     <g id=\"text_3\">\r\n      <!-- −6 -->\r\n      <g transform=\"translate(166.772656 293.598438)scale(0.1 -0.1)\">\r\n       <defs>\r\n        <path d=\"M 33.015625 40.375 \r\nQ 26.375 40.375 22.484375 35.828125 \r\nQ 18.609375 31.296875 18.609375 23.390625 \r\nQ 18.609375 15.53125 22.484375 10.953125 \r\nQ 26.375 6.390625 33.015625 6.390625 \r\nQ 39.65625 6.390625 43.53125 10.953125 \r\nQ 47.40625 15.53125 47.40625 23.390625 \r\nQ 47.40625 31.296875 43.53125 35.828125 \r\nQ 39.65625 40.375 33.015625 40.375 \r\nz\r\nM 52.59375 71.296875 \r\nL 52.59375 62.3125 \r\nQ 48.875 64.0625 45.09375 64.984375 \r\nQ 41.3125 65.921875 37.59375 65.921875 \r\nQ 27.828125 65.921875 22.671875 59.328125 \r\nQ 17.53125 52.734375 16.796875 39.40625 \r\nQ 19.671875 43.65625 24.015625 45.921875 \r\nQ 28.375 48.1875 33.59375 48.1875 \r\nQ 44.578125 48.1875 50.953125 41.515625 \r\nQ 57.328125 34.859375 57.328125 23.390625 \r\nQ 57.328125 12.15625 50.6875 5.359375 \r\nQ 44.046875 -1.421875 33.015625 -1.421875 \r\nQ 20.359375 -1.421875 13.671875 8.265625 \r\nQ 6.984375 17.96875 6.984375 36.375 \r\nQ 6.984375 53.65625 15.1875 63.9375 \r\nQ 23.390625 74.21875 37.203125 74.21875 \r\nQ 40.921875 74.21875 44.703125 73.484375 \r\nQ 48.484375 72.75 52.59375 71.296875 \r\nz\r\n\" id=\"DejaVuSans-54\"/>\r\n       </defs>\r\n       <use xlink:href=\"#DejaVuSans-8722\"/>\r\n       <use x=\"83.789062\" xlink:href=\"#DejaVuSans-54\"/>\r\n      </g>\r\n     </g>\r\n    </g>\r\n    <g id=\"xtick_4\">\r\n     <g id=\"line2d_4\">\r\n      <g>\r\n       <use style=\"stroke:#000000;stroke-width:0.8;\" x=\"236.14375\" xlink:href=\"#me5fef27936\" y=\"279\"/>\r\n      </g>\r\n     </g>\r\n     <g id=\"text_4\">\r\n      <!-- −4 -->\r\n      <g transform=\"translate(228.772656 293.598438)scale(0.1 -0.1)\">\r\n       <defs>\r\n        <path d=\"M 37.796875 64.3125 \r\nL 12.890625 25.390625 \r\nL 37.796875 25.390625 \r\nz\r\nM 35.203125 72.90625 \r\nL 47.609375 72.90625 \r\nL 47.609375 25.390625 \r\nL 58.015625 25.390625 \r\nL 58.015625 17.1875 \r\nL 47.609375 17.1875 \r\nL 47.609375 0 \r\nL 37.796875 0 \r\nL 37.796875 17.1875 \r\nL 4.890625 17.1875 \r\nL 4.890625 26.703125 \r\nz\r\n\" id=\"DejaVuSans-52\"/>\r\n       </defs>\r\n       <use xlink:href=\"#DejaVuSans-8722\"/>\r\n       <use x=\"83.789062\" xlink:href=\"#DejaVuSans-52\"/>\r\n      </g>\r\n     </g>\r\n    </g>\r\n    <g id=\"xtick_5\">\r\n     <g id=\"line2d_5\">\r\n      <g>\r\n       <use style=\"stroke:#000000;stroke-width:0.8;\" x=\"298.14375\" xlink:href=\"#me5fef27936\" y=\"279\"/>\r\n      </g>\r\n     </g>\r\n     <g id=\"text_5\">\r\n      <!-- −2 -->\r\n      <g transform=\"translate(290.772656 293.598438)scale(0.1 -0.1)\">\r\n       <defs>\r\n        <path d=\"M 19.1875 8.296875 \r\nL 53.609375 8.296875 \r\nL 53.609375 0 \r\nL 7.328125 0 \r\nL 7.328125 8.296875 \r\nQ 12.9375 14.109375 22.625 23.890625 \r\nQ 32.328125 33.6875 34.8125 36.53125 \r\nQ 39.546875 41.84375 41.421875 45.53125 \r\nQ 43.3125 49.21875 43.3125 52.78125 \r\nQ 43.3125 58.59375 39.234375 62.25 \r\nQ 35.15625 65.921875 28.609375 65.921875 \r\nQ 23.96875 65.921875 18.8125 64.3125 \r\nQ 13.671875 62.703125 7.8125 59.421875 \r\nL 7.8125 69.390625 \r\nQ 13.765625 71.78125 18.9375 73 \r\nQ 24.125 74.21875 28.421875 74.21875 \r\nQ 39.75 74.21875 46.484375 68.546875 \r\nQ 53.21875 62.890625 53.21875 53.421875 \r\nQ 53.21875 48.921875 51.53125 44.890625 \r\nQ 49.859375 40.875 45.40625 35.40625 \r\nQ 44.1875 33.984375 37.640625 27.21875 \r\nQ 31.109375 20.453125 19.1875 8.296875 \r\nz\r\n\" id=\"DejaVuSans-50\"/>\r\n       </defs>\r\n       <use xlink:href=\"#DejaVuSans-8722\"/>\r\n       <use x=\"83.789062\" xlink:href=\"#DejaVuSans-50\"/>\r\n      </g>\r\n     </g>\r\n    </g>\r\n    <g id=\"xtick_6\">\r\n     <g id=\"line2d_6\">\r\n      <g>\r\n       <use style=\"stroke:#000000;stroke-width:0.8;\" x=\"360.14375\" xlink:href=\"#me5fef27936\" y=\"279\"/>\r\n      </g>\r\n     </g>\r\n     <g id=\"text_6\">\r\n      <!-- 0 -->\r\n      <g transform=\"translate(356.9625 293.598438)scale(0.1 -0.1)\">\r\n       <use xlink:href=\"#DejaVuSans-48\"/>\r\n      </g>\r\n     </g>\r\n    </g>\r\n    <g id=\"xtick_7\">\r\n     <g id=\"line2d_7\">\r\n      <g>\r\n       <use style=\"stroke:#000000;stroke-width:0.8;\" x=\"422.14375\" xlink:href=\"#me5fef27936\" y=\"279\"/>\r\n      </g>\r\n     </g>\r\n     <g id=\"text_7\">\r\n      <!-- 2 -->\r\n      <g transform=\"translate(418.9625 293.598438)scale(0.1 -0.1)\">\r\n       <use xlink:href=\"#DejaVuSans-50\"/>\r\n      </g>\r\n     </g>\r\n    </g>\r\n    <g id=\"xtick_8\">\r\n     <g id=\"line2d_8\">\r\n      <g>\r\n       <use style=\"stroke:#000000;stroke-width:0.8;\" x=\"484.14375\" xlink:href=\"#me5fef27936\" y=\"279\"/>\r\n      </g>\r\n     </g>\r\n     <g id=\"text_8\">\r\n      <!-- 4 -->\r\n      <g transform=\"translate(480.9625 293.598438)scale(0.1 -0.1)\">\r\n       <use xlink:href=\"#DejaVuSans-52\"/>\r\n      </g>\r\n     </g>\r\n    </g>\r\n    <g id=\"xtick_9\">\r\n     <g id=\"line2d_9\">\r\n      <g>\r\n       <use style=\"stroke:#000000;stroke-width:0.8;\" x=\"546.14375\" xlink:href=\"#me5fef27936\" y=\"279\"/>\r\n      </g>\r\n     </g>\r\n     <g id=\"text_9\">\r\n      <!-- 6 -->\r\n      <g transform=\"translate(542.9625 293.598438)scale(0.1 -0.1)\">\r\n       <use xlink:href=\"#DejaVuSans-54\"/>\r\n      </g>\r\n     </g>\r\n    </g>\r\n    <g id=\"xtick_10\">\r\n     <g id=\"line2d_10\">\r\n      <g>\r\n       <use style=\"stroke:#000000;stroke-width:0.8;\" x=\"608.14375\" xlink:href=\"#me5fef27936\" y=\"279\"/>\r\n      </g>\r\n     </g>\r\n     <g id=\"text_10\">\r\n      <!-- 8 -->\r\n      <g transform=\"translate(604.9625 293.598438)scale(0.1 -0.1)\">\r\n       <use xlink:href=\"#DejaVuSans-56\"/>\r\n      </g>\r\n     </g>\r\n    </g>\r\n    <g id=\"xtick_11\">\r\n     <g id=\"line2d_11\">\r\n      <defs>\r\n       <path d=\"M 0 0 \r\nL 0 2 \r\n\" id=\"m2c5fad626f\" style=\"stroke:#000000;stroke-width:0.6;\"/>\r\n      </defs>\r\n      <g>\r\n       <use style=\"stroke:#000000;stroke-width:0.6;\" x=\"391.14375\" xlink:href=\"#m2c5fad626f\" y=\"279\"/>\r\n      </g>\r\n     </g>\r\n    </g>\r\n    <g id=\"xtick_12\">\r\n     <g id=\"line2d_12\">\r\n      <g>\r\n       <use style=\"stroke:#000000;stroke-width:0.6;\" x=\"453.14375\" xlink:href=\"#m2c5fad626f\" y=\"279\"/>\r\n      </g>\r\n     </g>\r\n    </g>\r\n    <g id=\"text_11\">\r\n     <!-- time_cat -->\r\n     <g transform=\"translate(307.574219 307.276563)scale(0.1 -0.1)\">\r\n      <defs>\r\n       <path d=\"M 18.3125 70.21875 \r\nL 18.3125 54.6875 \r\nL 36.8125 54.6875 \r\nL 36.8125 47.703125 \r\nL 18.3125 47.703125 \r\nL 18.3125 18.015625 \r\nQ 18.3125 11.328125 20.140625 9.421875 \r\nQ 21.96875 7.515625 27.59375 7.515625 \r\nL 36.8125 7.515625 \r\nL 36.8125 0 \r\nL 27.59375 0 \r\nQ 17.1875 0 13.234375 3.875 \r\nQ 9.28125 7.765625 9.28125 18.015625 \r\nL 9.28125 47.703125 \r\nL 2.6875 47.703125 \r\nL 2.6875 54.6875 \r\nL 9.28125 54.6875 \r\nL 9.28125 70.21875 \r\nz\r\n\" id=\"DejaVuSans-116\"/>\r\n       <path d=\"M 9.421875 54.6875 \r\nL 18.40625 54.6875 \r\nL 18.40625 0 \r\nL 9.421875 0 \r\nz\r\nM 9.421875 75.984375 \r\nL 18.40625 75.984375 \r\nL 18.40625 64.59375 \r\nL 9.421875 64.59375 \r\nz\r\n\" id=\"DejaVuSans-105\"/>\r\n       <path d=\"M 52 44.1875 \r\nQ 55.375 50.25 60.0625 53.125 \r\nQ 64.75 56 71.09375 56 \r\nQ 79.640625 56 84.28125 50.015625 \r\nQ 88.921875 44.046875 88.921875 33.015625 \r\nL 88.921875 0 \r\nL 79.890625 0 \r\nL 79.890625 32.71875 \r\nQ 79.890625 40.578125 77.09375 44.375 \r\nQ 74.3125 48.1875 68.609375 48.1875 \r\nQ 61.625 48.1875 57.5625 43.546875 \r\nQ 53.515625 38.921875 53.515625 30.90625 \r\nL 53.515625 0 \r\nL 44.484375 0 \r\nL 44.484375 32.71875 \r\nQ 44.484375 40.625 41.703125 44.40625 \r\nQ 38.921875 48.1875 33.109375 48.1875 \r\nQ 26.21875 48.1875 22.15625 43.53125 \r\nQ 18.109375 38.875 18.109375 30.90625 \r\nL 18.109375 0 \r\nL 9.078125 0 \r\nL 9.078125 54.6875 \r\nL 18.109375 54.6875 \r\nL 18.109375 46.1875 \r\nQ 21.1875 51.21875 25.484375 53.609375 \r\nQ 29.78125 56 35.6875 56 \r\nQ 41.65625 56 45.828125 52.96875 \r\nQ 50 49.953125 52 44.1875 \r\nz\r\n\" id=\"DejaVuSans-109\"/>\r\n       <path d=\"M 56.203125 29.59375 \r\nL 56.203125 25.203125 \r\nL 14.890625 25.203125 \r\nQ 15.484375 15.921875 20.484375 11.0625 \r\nQ 25.484375 6.203125 34.421875 6.203125 \r\nQ 39.59375 6.203125 44.453125 7.46875 \r\nQ 49.3125 8.734375 54.109375 11.28125 \r\nL 54.109375 2.78125 \r\nQ 49.265625 0.734375 44.1875 -0.34375 \r\nQ 39.109375 -1.421875 33.890625 -1.421875 \r\nQ 20.796875 -1.421875 13.15625 6.1875 \r\nQ 5.515625 13.8125 5.515625 26.8125 \r\nQ 5.515625 40.234375 12.765625 48.109375 \r\nQ 20.015625 56 32.328125 56 \r\nQ 43.359375 56 49.78125 48.890625 \r\nQ 56.203125 41.796875 56.203125 29.59375 \r\nz\r\nM 47.21875 32.234375 \r\nQ 47.125 39.59375 43.09375 43.984375 \r\nQ 39.0625 48.390625 32.421875 48.390625 \r\nQ 24.90625 48.390625 20.390625 44.140625 \r\nQ 15.875 39.890625 15.1875 32.171875 \r\nz\r\n\" id=\"DejaVuSans-101\"/>\r\n       <path d=\"M 50.984375 -16.609375 \r\nL 50.984375 -23.578125 \r\nL -0.984375 -23.578125 \r\nL -0.984375 -16.609375 \r\nz\r\n\" id=\"DejaVuSans-95\"/>\r\n       <path d=\"M 48.78125 52.59375 \r\nL 48.78125 44.1875 \r\nQ 44.96875 46.296875 41.140625 47.34375 \r\nQ 37.3125 48.390625 33.40625 48.390625 \r\nQ 24.65625 48.390625 19.8125 42.84375 \r\nQ 14.984375 37.3125 14.984375 27.296875 \r\nQ 14.984375 17.28125 19.8125 11.734375 \r\nQ 24.65625 6.203125 33.40625 6.203125 \r\nQ 37.3125 6.203125 41.140625 7.25 \r\nQ 44.96875 8.296875 48.78125 10.40625 \r\nL 48.78125 2.09375 \r\nQ 45.015625 0.34375 40.984375 -0.53125 \r\nQ 36.96875 -1.421875 32.421875 -1.421875 \r\nQ 20.0625 -1.421875 12.78125 6.34375 \r\nQ 5.515625 14.109375 5.515625 27.296875 \r\nQ 5.515625 40.671875 12.859375 48.328125 \r\nQ 20.21875 56 33.015625 56 \r\nQ 37.15625 56 41.109375 55.140625 \r\nQ 45.0625 54.296875 48.78125 52.59375 \r\nz\r\n\" id=\"DejaVuSans-99\"/>\r\n       <path d=\"M 34.28125 27.484375 \r\nQ 23.390625 27.484375 19.1875 25 \r\nQ 14.984375 22.515625 14.984375 16.5 \r\nQ 14.984375 11.71875 18.140625 8.90625 \r\nQ 21.296875 6.109375 26.703125 6.109375 \r\nQ 34.1875 6.109375 38.703125 11.40625 \r\nQ 43.21875 16.703125 43.21875 25.484375 \r\nL 43.21875 27.484375 \r\nz\r\nM 52.203125 31.203125 \r\nL 52.203125 0 \r\nL 43.21875 0 \r\nL 43.21875 8.296875 \r\nQ 40.140625 3.328125 35.546875 0.953125 \r\nQ 30.953125 -1.421875 24.3125 -1.421875 \r\nQ 15.921875 -1.421875 10.953125 3.296875 \r\nQ 6 8.015625 6 15.921875 \r\nQ 6 25.140625 12.171875 29.828125 \r\nQ 18.359375 34.515625 30.609375 34.515625 \r\nL 43.21875 34.515625 \r\nL 43.21875 35.40625 \r\nQ 43.21875 41.609375 39.140625 45 \r\nQ 35.0625 48.390625 27.6875 48.390625 \r\nQ 23 48.390625 18.546875 47.265625 \r\nQ 14.109375 46.140625 10.015625 43.890625 \r\nL 10.015625 52.203125 \r\nQ 14.9375 54.109375 19.578125 55.046875 \r\nQ 24.21875 56 28.609375 56 \r\nQ 40.484375 56 46.34375 49.84375 \r\nQ 52.203125 43.703125 52.203125 31.203125 \r\nz\r\n\" id=\"DejaVuSans-97\"/>\r\n      </defs>\r\n      <use xlink:href=\"#DejaVuSans-116\"/>\r\n      <use x=\"39.208984\" xlink:href=\"#DejaVuSans-105\"/>\r\n      <use x=\"66.992188\" xlink:href=\"#DejaVuSans-109\"/>\r\n      <use x=\"164.404297\" xlink:href=\"#DejaVuSans-101\"/>\r\n      <use x=\"225.927734\" xlink:href=\"#DejaVuSans-95\"/>\r\n      <use x=\"275.927734\" xlink:href=\"#DejaVuSans-99\"/>\r\n      <use x=\"330.908203\" xlink:href=\"#DejaVuSans-97\"/>\r\n      <use x=\"392.1875\" xlink:href=\"#DejaVuSans-116\"/>\r\n     </g>\r\n    </g>\r\n   </g>\r\n   <g id=\"matplotlib.axis_2\">\r\n    <g id=\"ytick_1\">\r\n     <g id=\"line2d_13\">\r\n      <defs>\r\n       <path d=\"M 0 0 \r\nL -3.5 0 \r\n\" id=\"mc31a35c2cd\" style=\"stroke:#000000;stroke-width:0.8;\"/>\r\n      </defs>\r\n      <g>\r\n       <use style=\"stroke:#000000;stroke-width:0.8;\" x=\"50.14375\" xlink:href=\"#mc31a35c2cd\" y=\"268.069904\"/>\r\n      </g>\r\n     </g>\r\n     <g id=\"text_12\">\r\n      <!-- 17.8 -->\r\n      <g transform=\"translate(20.878125 271.869123)scale(0.1 -0.1)\">\r\n       <defs>\r\n        <path d=\"M 8.203125 72.90625 \r\nL 55.078125 72.90625 \r\nL 55.078125 68.703125 \r\nL 28.609375 0 \r\nL 18.3125 0 \r\nL 43.21875 64.59375 \r\nL 8.203125 64.59375 \r\nz\r\n\" id=\"DejaVuSans-55\"/>\r\n        <path d=\"M 10.6875 12.40625 \r\nL 21 12.40625 \r\nL 21 0 \r\nL 10.6875 0 \r\nz\r\n\" id=\"DejaVuSans-46\"/>\r\n       </defs>\r\n       <use xlink:href=\"#DejaVuSans-49\"/>\r\n       <use x=\"63.623047\" xlink:href=\"#DejaVuSans-55\"/>\r\n       <use x=\"127.246094\" xlink:href=\"#DejaVuSans-46\"/>\r\n       <use x=\"159.033203\" xlink:href=\"#DejaVuSans-56\"/>\r\n      </g>\r\n     </g>\r\n    </g>\r\n    <g id=\"ytick_2\">\r\n     <g id=\"line2d_14\">\r\n      <g>\r\n       <use style=\"stroke:#000000;stroke-width:0.8;\" x=\"50.14375\" xlink:href=\"#mc31a35c2cd\" y=\"221.235958\"/>\r\n      </g>\r\n     </g>\r\n     <g id=\"text_13\">\r\n      <!-- 18.0 -->\r\n      <g transform=\"translate(20.878125 225.035177)scale(0.1 -0.1)\">\r\n       <use xlink:href=\"#DejaVuSans-49\"/>\r\n       <use x=\"63.623047\" xlink:href=\"#DejaVuSans-56\"/>\r\n       <use x=\"127.246094\" xlink:href=\"#DejaVuSans-46\"/>\r\n       <use x=\"159.033203\" xlink:href=\"#DejaVuSans-48\"/>\r\n      </g>\r\n     </g>\r\n    </g>\r\n    <g id=\"ytick_3\">\r\n     <g id=\"line2d_15\">\r\n      <g>\r\n       <use style=\"stroke:#000000;stroke-width:0.8;\" x=\"50.14375\" xlink:href=\"#mc31a35c2cd\" y=\"174.402012\"/>\r\n      </g>\r\n     </g>\r\n     <g id=\"text_14\">\r\n      <!-- 18.2 -->\r\n      <g transform=\"translate(20.878125 178.20123)scale(0.1 -0.1)\">\r\n       <use xlink:href=\"#DejaVuSans-49\"/>\r\n       <use x=\"63.623047\" xlink:href=\"#DejaVuSans-56\"/>\r\n       <use x=\"127.246094\" xlink:href=\"#DejaVuSans-46\"/>\r\n       <use x=\"159.033203\" xlink:href=\"#DejaVuSans-50\"/>\r\n      </g>\r\n     </g>\r\n    </g>\r\n    <g id=\"ytick_4\">\r\n     <g id=\"line2d_16\">\r\n      <g>\r\n       <use style=\"stroke:#000000;stroke-width:0.8;\" x=\"50.14375\" xlink:href=\"#mc31a35c2cd\" y=\"127.568065\"/>\r\n      </g>\r\n     </g>\r\n     <g id=\"text_15\">\r\n      <!-- 18.4 -->\r\n      <g transform=\"translate(20.878125 131.367284)scale(0.1 -0.1)\">\r\n       <use xlink:href=\"#DejaVuSans-49\"/>\r\n       <use x=\"63.623047\" xlink:href=\"#DejaVuSans-56\"/>\r\n       <use x=\"127.246094\" xlink:href=\"#DejaVuSans-46\"/>\r\n       <use x=\"159.033203\" xlink:href=\"#DejaVuSans-52\"/>\r\n      </g>\r\n     </g>\r\n    </g>\r\n    <g id=\"ytick_5\">\r\n     <g id=\"line2d_17\">\r\n      <g>\r\n       <use style=\"stroke:#000000;stroke-width:0.8;\" x=\"50.14375\" xlink:href=\"#mc31a35c2cd\" y=\"80.734119\"/>\r\n      </g>\r\n     </g>\r\n     <g id=\"text_16\">\r\n      <!-- 18.6 -->\r\n      <g transform=\"translate(20.878125 84.533337)scale(0.1 -0.1)\">\r\n       <use xlink:href=\"#DejaVuSans-49\"/>\r\n       <use x=\"63.623047\" xlink:href=\"#DejaVuSans-56\"/>\r\n       <use x=\"127.246094\" xlink:href=\"#DejaVuSans-46\"/>\r\n       <use x=\"159.033203\" xlink:href=\"#DejaVuSans-54\"/>\r\n      </g>\r\n     </g>\r\n    </g>\r\n    <g id=\"ytick_6\">\r\n     <g id=\"line2d_18\">\r\n      <g>\r\n       <use style=\"stroke:#000000;stroke-width:0.8;\" x=\"50.14375\" xlink:href=\"#mc31a35c2cd\" y=\"33.900172\"/>\r\n      </g>\r\n     </g>\r\n     <g id=\"text_17\">\r\n      <!-- 18.8 -->\r\n      <g transform=\"translate(20.878125 37.699391)scale(0.1 -0.1)\">\r\n       <use xlink:href=\"#DejaVuSans-49\"/>\r\n       <use x=\"63.623047\" xlink:href=\"#DejaVuSans-56\"/>\r\n       <use x=\"127.246094\" xlink:href=\"#DejaVuSans-46\"/>\r\n       <use x=\"159.033203\" xlink:href=\"#DejaVuSans-56\"/>\r\n      </g>\r\n     </g>\r\n    </g>\r\n    <g id=\"text_18\">\r\n     <!-- race_stop_rate -->\r\n     <g transform=\"translate(14.520312 180)rotate(-90)scale(0.1 -0.1)\">\r\n      <defs>\r\n       <path d=\"M 41.109375 46.296875 \r\nQ 39.59375 47.171875 37.8125 47.578125 \r\nQ 36.03125 48 33.890625 48 \r\nQ 26.265625 48 22.1875 43.046875 \r\nQ 18.109375 38.09375 18.109375 28.8125 \r\nL 18.109375 0 \r\nL 9.078125 0 \r\nL 9.078125 54.6875 \r\nL 18.109375 54.6875 \r\nL 18.109375 46.1875 \r\nQ 20.953125 51.171875 25.484375 53.578125 \r\nQ 30.03125 56 36.53125 56 \r\nQ 37.453125 56 38.578125 55.875 \r\nQ 39.703125 55.765625 41.0625 55.515625 \r\nz\r\n\" id=\"DejaVuSans-114\"/>\r\n       <path d=\"M 44.28125 53.078125 \r\nL 44.28125 44.578125 \r\nQ 40.484375 46.53125 36.375 47.5 \r\nQ 32.28125 48.484375 27.875 48.484375 \r\nQ 21.1875 48.484375 17.84375 46.4375 \r\nQ 14.5 44.390625 14.5 40.28125 \r\nQ 14.5 37.15625 16.890625 35.375 \r\nQ 19.28125 33.59375 26.515625 31.984375 \r\nL 29.59375 31.296875 \r\nQ 39.15625 29.25 43.1875 25.515625 \r\nQ 47.21875 21.78125 47.21875 15.09375 \r\nQ 47.21875 7.46875 41.1875 3.015625 \r\nQ 35.15625 -1.421875 24.609375 -1.421875 \r\nQ 20.21875 -1.421875 15.453125 -0.5625 \r\nQ 10.6875 0.296875 5.421875 2 \r\nL 5.421875 11.28125 \r\nQ 10.40625 8.6875 15.234375 7.390625 \r\nQ 20.0625 6.109375 24.8125 6.109375 \r\nQ 31.15625 6.109375 34.5625 8.28125 \r\nQ 37.984375 10.453125 37.984375 14.40625 \r\nQ 37.984375 18.0625 35.515625 20.015625 \r\nQ 33.0625 21.96875 24.703125 23.78125 \r\nL 21.578125 24.515625 \r\nQ 13.234375 26.265625 9.515625 29.90625 \r\nQ 5.8125 33.546875 5.8125 39.890625 \r\nQ 5.8125 47.609375 11.28125 51.796875 \r\nQ 16.75 56 26.8125 56 \r\nQ 31.78125 56 36.171875 55.265625 \r\nQ 40.578125 54.546875 44.28125 53.078125 \r\nz\r\n\" id=\"DejaVuSans-115\"/>\r\n       <path d=\"M 30.609375 48.390625 \r\nQ 23.390625 48.390625 19.1875 42.75 \r\nQ 14.984375 37.109375 14.984375 27.296875 \r\nQ 14.984375 17.484375 19.15625 11.84375 \r\nQ 23.34375 6.203125 30.609375 6.203125 \r\nQ 37.796875 6.203125 41.984375 11.859375 \r\nQ 46.1875 17.53125 46.1875 27.296875 \r\nQ 46.1875 37.015625 41.984375 42.703125 \r\nQ 37.796875 48.390625 30.609375 48.390625 \r\nz\r\nM 30.609375 56 \r\nQ 42.328125 56 49.015625 48.375 \r\nQ 55.71875 40.765625 55.71875 27.296875 \r\nQ 55.71875 13.875 49.015625 6.21875 \r\nQ 42.328125 -1.421875 30.609375 -1.421875 \r\nQ 18.84375 -1.421875 12.171875 6.21875 \r\nQ 5.515625 13.875 5.515625 27.296875 \r\nQ 5.515625 40.765625 12.171875 48.375 \r\nQ 18.84375 56 30.609375 56 \r\nz\r\n\" id=\"DejaVuSans-111\"/>\r\n       <path d=\"M 18.109375 8.203125 \r\nL 18.109375 -20.796875 \r\nL 9.078125 -20.796875 \r\nL 9.078125 54.6875 \r\nL 18.109375 54.6875 \r\nL 18.109375 46.390625 \r\nQ 20.953125 51.265625 25.265625 53.625 \r\nQ 29.59375 56 35.59375 56 \r\nQ 45.5625 56 51.78125 48.09375 \r\nQ 58.015625 40.1875 58.015625 27.296875 \r\nQ 58.015625 14.40625 51.78125 6.484375 \r\nQ 45.5625 -1.421875 35.59375 -1.421875 \r\nQ 29.59375 -1.421875 25.265625 0.953125 \r\nQ 20.953125 3.328125 18.109375 8.203125 \r\nz\r\nM 48.6875 27.296875 \r\nQ 48.6875 37.203125 44.609375 42.84375 \r\nQ 40.53125 48.484375 33.40625 48.484375 \r\nQ 26.265625 48.484375 22.1875 42.84375 \r\nQ 18.109375 37.203125 18.109375 27.296875 \r\nQ 18.109375 17.390625 22.1875 11.75 \r\nQ 26.265625 6.109375 33.40625 6.109375 \r\nQ 40.53125 6.109375 44.609375 11.75 \r\nQ 48.6875 17.390625 48.6875 27.296875 \r\nz\r\n\" id=\"DejaVuSans-112\"/>\r\n      </defs>\r\n      <use xlink:href=\"#DejaVuSans-114\"/>\r\n      <use x=\"41.113281\" xlink:href=\"#DejaVuSans-97\"/>\r\n      <use x=\"102.392578\" xlink:href=\"#DejaVuSans-99\"/>\r\n      <use x=\"157.373047\" xlink:href=\"#DejaVuSans-101\"/>\r\n      <use x=\"218.896484\" xlink:href=\"#DejaVuSans-95\"/>\r\n      <use x=\"268.896484\" xlink:href=\"#DejaVuSans-115\"/>\r\n      <use x=\"320.996094\" xlink:href=\"#DejaVuSans-116\"/>\r\n      <use x=\"360.205078\" xlink:href=\"#DejaVuSans-111\"/>\r\n      <use x=\"421.386719\" xlink:href=\"#DejaVuSans-112\"/>\r\n      <use x=\"484.863281\" xlink:href=\"#DejaVuSans-95\"/>\r\n      <use x=\"534.863281\" xlink:href=\"#DejaVuSans-114\"/>\r\n      <use x=\"575.976562\" xlink:href=\"#DejaVuSans-97\"/>\r\n      <use x=\"637.255859\" xlink:href=\"#DejaVuSans-116\"/>\r\n      <use x=\"676.464844\" xlink:href=\"#DejaVuSans-101\"/>\r\n     </g>\r\n    </g>\r\n   </g>\r\n   <g id=\"line2d_19\">\r\n    <path clip-path=\"url(#p0536a1b38d)\" d=\"M 360.14375 279 \r\nL 360.14375 7.2 \r\n\" style=\"fill:none;stroke:#000000;stroke-dasharray:5.55,2.4;stroke-dashoffset:0;stroke-width:1.5;\"/>\r\n   </g>\r\n   <g id=\"line2d_20\">\r\n    <path clip-path=\"url(#p0536a1b38d)\" d=\"M 50.14375 154.87231 \r\nL 52.648801 154.556906 \r\nL 55.153851 154.241501 \r\nL 57.658902 153.926097 \r\nL 60.163952 153.610693 \r\nL 62.669003 153.295288 \r\nL 65.174053 152.979884 \r\nL 67.679104 152.66448 \r\nL 70.184154 152.349075 \r\nL 72.689205 152.033671 \r\nL 75.194255 151.718266 \r\nL 77.699306 151.402862 \r\nL 80.204356 151.087458 \r\nL 82.709407 150.772053 \r\nL 85.214457 150.456649 \r\nL 87.719508 150.141245 \r\nL 90.224558 149.82584 \r\nL 92.729609 149.510436 \r\nL 95.234659 149.195032 \r\nL 97.73971 148.879627 \r\nL 100.24476 148.564223 \r\nL 102.749811 148.248819 \r\nL 105.254861 147.933414 \r\nL 107.759912 147.61801 \r\nL 110.264962 147.302606 \r\nL 112.770013 146.987201 \r\nL 115.275063 146.671797 \r\nL 117.780114 146.356393 \r\nL 120.285164 146.040988 \r\nL 122.790215 145.725584 \r\nL 125.295265 145.41018 \r\nL 127.800316 145.094775 \r\nL 130.305366 144.779371 \r\nL 132.810417 144.463967 \r\nL 135.315467 144.148562 \r\nL 137.820518 143.833158 \r\nL 140.325568 143.517754 \r\nL 142.830619 143.202349 \r\nL 145.335669 142.886945 \r\nL 147.84072 142.571541 \r\nL 150.34577 142.256136 \r\nL 152.850821 141.940732 \r\nL 155.355871 141.625328 \r\nL 157.860922 141.309923 \r\nL 160.365972 140.994519 \r\nL 162.871023 140.679115 \r\nL 165.376073 140.36371 \r\nL 167.881124 140.048306 \r\nL 170.386174 139.732902 \r\nL 172.891225 139.417497 \r\nL 175.396275 139.102093 \r\nL 177.901326 138.786689 \r\nL 180.406376 138.471284 \r\nL 182.911427 138.15588 \r\nL 185.416477 137.840476 \r\nL 187.921528 137.525071 \r\nL 190.426578 137.209667 \r\nL 192.931629 136.894262 \r\nL 195.436679 136.578858 \r\nL 197.94173 136.263454 \r\nL 200.44678 135.948049 \r\nL 202.951831 135.632645 \r\nL 205.456881 135.317241 \r\nL 207.961932 135.001836 \r\nL 210.466982 134.686432 \r\nL 212.972033 134.371028 \r\nL 215.477083 134.055623 \r\nL 217.982134 133.740219 \r\nL 220.487184 133.424815 \r\nL 222.992235 133.10941 \r\nL 225.497285 132.794006 \r\nL 228.002336 132.478602 \r\nL 230.507386 132.163197 \r\nL 233.012437 131.847793 \r\nL 235.517487 131.532389 \r\nL 238.022538 131.216984 \r\nL 240.527588 130.90158 \r\nL 243.032639 130.586176 \r\nL 245.537689 130.270771 \r\nL 248.04274 129.955367 \r\nL 250.54779 129.639963 \r\nL 253.052841 129.324558 \r\nL 255.557891 129.009154 \r\nL 258.062942 128.69375 \r\nL 260.567992 128.378345 \r\nL 263.073043 128.062941 \r\nL 265.578093 127.747537 \r\nL 268.083144 127.432132 \r\nL 270.588194 127.116728 \r\nL 273.093245 126.801324 \r\nL 275.598295 126.485919 \r\nL 278.103346 126.170515 \r\nL 280.608396 125.855111 \r\nL 283.113447 125.539706 \r\nL 285.618497 125.224302 \r\nL 288.123548 124.908898 \r\nL 290.628598 124.593493 \r\nL 293.133649 124.278089 \r\nL 295.638699 123.962685 \r\nL 298.14375 123.64728 \r\n\" style=\"fill:none;stroke:#1f77b4;stroke-linecap:square;stroke-width:2.25;\"/>\r\n   </g>\r\n   <g id=\"line2d_21\">\r\n    <path clip-path=\"url(#p0536a1b38d)\" d=\"M 391.14375 215.514401 \r\nL 393.335669 214.825926 \r\nL 395.527588 214.137452 \r\nL 397.719508 213.448977 \r\nL 399.911427 212.760502 \r\nL 402.103346 212.072027 \r\nL 404.295265 211.383553 \r\nL 406.487184 210.695078 \r\nL 408.679104 210.006603 \r\nL 410.871023 209.318129 \r\nL 413.062942 208.629654 \r\nL 415.254861 207.941179 \r\nL 417.44678 207.252705 \r\nL 419.638699 206.56423 \r\nL 421.830619 205.875755 \r\nL 424.022538 205.187281 \r\nL 426.214457 204.498806 \r\nL 428.406376 203.810331 \r\nL 430.598295 203.121856 \r\nL 432.790215 202.433382 \r\nL 434.982134 201.744907 \r\nL 437.174053 201.056432 \r\nL 439.365972 200.367958 \r\nL 441.557891 199.679483 \r\nL 443.749811 198.991008 \r\nL 445.94173 198.302534 \r\nL 448.133649 197.614059 \r\nL 450.325568 196.925584 \r\nL 452.517487 196.23711 \r\nL 454.709407 195.548635 \r\nL 456.901326 194.86016 \r\nL 459.093245 194.171685 \r\nL 461.285164 193.483211 \r\nL 463.477083 192.794736 \r\nL 465.669003 192.106261 \r\nL 467.860922 191.417787 \r\nL 470.052841 190.729312 \r\nL 472.24476 190.040837 \r\nL 474.436679 189.352363 \r\nL 476.628598 188.663888 \r\nL 478.820518 187.975413 \r\nL 481.012437 187.286938 \r\nL 483.204356 186.598464 \r\nL 485.396275 185.909989 \r\nL 487.588194 185.221514 \r\nL 489.780114 184.53304 \r\nL 491.972033 183.844565 \r\nL 494.163952 183.15609 \r\nL 496.355871 182.467616 \r\nL 498.54779 181.779141 \r\nL 500.73971 181.090666 \r\nL 502.931629 180.402192 \r\nL 505.123548 179.713717 \r\nL 507.315467 179.025242 \r\nL 509.507386 178.336767 \r\nL 511.699306 177.648293 \r\nL 513.891225 176.959818 \r\nL 516.083144 176.271343 \r\nL 518.275063 175.582869 \r\nL 520.466982 174.894394 \r\nL 522.658902 174.205919 \r\nL 524.850821 173.517445 \r\nL 527.04274 172.82897 \r\nL 529.234659 172.140495 \r\nL 531.426578 171.452021 \r\nL 533.618497 170.763546 \r\nL 535.810417 170.075071 \r\nL 538.002336 169.386596 \r\nL 540.194255 168.698122 \r\nL 542.386174 168.009647 \r\nL 544.578093 167.321172 \r\nL 546.770013 166.632698 \r\nL 548.961932 165.944223 \r\nL 551.153851 165.255748 \r\nL 553.34577 164.567274 \r\nL 555.537689 163.878799 \r\nL 557.729609 163.190324 \r\nL 559.921528 162.501849 \r\nL 562.113447 161.813375 \r\nL 564.305366 161.1249 \r\nL 566.497285 160.436425 \r\nL 568.689205 159.747951 \r\nL 570.881124 159.059476 \r\nL 573.073043 158.371001 \r\nL 575.264962 157.682527 \r\nL 577.456881 156.994052 \r\nL 579.648801 156.305577 \r\nL 581.84072 155.617103 \r\nL 584.032639 154.928628 \r\nL 586.224558 154.240153 \r\nL 588.416477 153.551678 \r\nL 590.608396 152.863204 \r\nL 592.800316 152.174729 \r\nL 594.992235 151.486254 \r\nL 597.184154 150.79778 \r\nL 599.376073 150.109305 \r\nL 601.567992 149.42083 \r\nL 603.759912 148.732356 \r\nL 605.951831 148.043881 \r\nL 608.14375 147.355406 \r\n\" style=\"fill:none;stroke:#ff7f0e;stroke-linecap:square;stroke-width:2.25;\"/>\r\n   </g>\r\n   <g id=\"patch_3\">\r\n    <path d=\"M 50.14375 279 \r\nL 50.14375 7.2 \r\n\" style=\"fill:none;stroke:#000000;stroke-linecap:square;stroke-linejoin:miter;stroke-width:0.8;\"/>\r\n   </g>\r\n   <g id=\"patch_4\">\r\n    <path d=\"M 608.14375 279 \r\nL 608.14375 7.2 \r\n\" style=\"fill:none;stroke:#000000;stroke-linecap:square;stroke-linejoin:miter;stroke-width:0.8;\"/>\r\n   </g>\r\n   <g id=\"patch_5\">\r\n    <path d=\"M 50.14375 279 \r\nL 608.14375 279 \r\n\" style=\"fill:none;stroke:#000000;stroke-linecap:square;stroke-linejoin:miter;stroke-width:0.8;\"/>\r\n   </g>\r\n   <g id=\"patch_6\">\r\n    <path d=\"M 50.14375 7.2 \r\nL 608.14375 7.2 \r\n\" style=\"fill:none;stroke:#000000;stroke-linecap:square;stroke-linejoin:miter;stroke-width:0.8;\"/>\r\n   </g>\r\n  </g>\r\n </g>\r\n <defs>\r\n  <clipPath id=\"p0536a1b38d\">\r\n   <rect height=\"271.8\" width=\"558\" x=\"50.14375\" y=\"7.2\"/>\r\n  </clipPath>\r\n </defs>\r\n</svg>\r\n",
      "image/png": "[encoded data removed]"
     },
     "metadata": {
      "needs_background": "light"
     }
    }
   ],
   "source": [
    "def plot(data_o, time_range=[-10,9]):\n",
    "    data = copy(data_o)\n",
    "    data = data[data['time_cat'].isin(range(time_range[0],time_range[1]))]\n",
    "    data = data[~data['time_cat'].isin(range(-1,1))]\n",
    "\n",
    "    data['time_cat'] = data['time_cat'] * 10\n",
    "    data['race_stop_rate'] = data['race_stop_rate'] * 100\n",
    "\n",
    "    # plot points\n",
    "    figure(figsize=(10,5))\n",
    "    ax = sns.scatterplot(x='time_cat', y='race_stop_rate', data=data, color='black')\n",
    "    plt.axvline(0, c='black', linestyle='dashed')\n",
    "\n",
    "    # two different regressions\n",
    "    data_before = data[data['time_cat'] < -1]\n",
    "    data_after = data[data['time_cat'] > 0]\n",
    "\n",
    "    # plot regressions\n",
    "    sns.regplot(x='time_cat', y='race_stop_rate', data=data_before, scatter=False)\n",
    "    sns.regplot(x='time_cat', y='race_stop_rate', data=data_after, scatter=False)\n",
    "\n",
    "    ax.set_xlabel('Time since dusk (min)')\n",
    "    ax.set_ylabel('Percentage of stopped drivers who are black')\n",
    "\n",
    "plot(data_black)"
   ]
  },
  {
   "cell_type": "code",
   "execution_count": null,
   "metadata": {},
   "outputs": [],
   "source": []
  },
  {
   "cell_type": "code",
   "execution_count": null,
   "metadata": {},
   "outputs": [],
   "source": []
  },
  {
   "cell_type": "code",
   "execution_count": null,
   "metadata": {},
   "outputs": [],
   "source": [
    "\n",
    "# preprocess for grouping\n",
    "data['search_rate'] = data['search_conducted']\n",
    "data = data.astype({'search_rate': float})\n",
    "data['count'] = 1 # to count occurences\n",
    "\n",
    "# add specific column for this type of analyzis\n",
    "df_yos['age_category'] = df_yos['officer_yos'].apply(lambda x : officer_experience_level[0] if x < thresholds_experience[0] else (officer_experience_level[1] if x < thresholds_experience[1] else officer_experience_level[2]))\n",
    "df_yos_all = df_yos.groupby(['age_category','subject_race','county_name']).agg({'search_rate': 'mean', 'count':'count'})"
   ]
  },
  {
   "cell_type": "code",
   "execution_count": null,
   "metadata": {},
   "outputs": [],
   "source": []
  },
  {
   "source": [
    "# Logistic regression of characteristics of officers"
   ],
   "cell_type": "markdown",
   "metadata": {}
  },
  {
   "cell_type": "code",
   "execution_count": null,
   "metadata": {},
   "outputs": [],
   "source": [
    "df_log_raw = copy(df)\n",
    "\n",
    "# remove unused columns\n",
    "df_log_raw = remove_general_unused_columns(df_log_raw)\n",
    "df_log_raw.drop(columns=['arrest_made', 'citation_issued','warning_issued', 'outcome', 'frisk_performed'], inplace=True)\n",
    "df_log_raw.dropna(inplace=True, subset=['search_conducted'])\n",
    "\n",
    "# make sure that required data are present (drop if nan values in those columns)\n",
    "important_features = ['subject_age', 'officer_yos', 'officer_age']\n",
    "for feat in important_features:\n",
    "    m = df_log_raw[feat].mean()\n",
    "    df_log_raw[feat] = df_log_raw[feat].fillna((m))\n",
    "print('Cleaned subset is composed of {} datapoints'.format(df_log_raw.shape[0]))\n",
    "\n",
    "# overview of all the data / global search rate\n",
    "print_search_rate(df_log_raw)\n",
    "\n",
    "df_log_raw.head()"
   ]
  },
  {
   "cell_type": "code",
   "execution_count": null,
   "metadata": {},
   "outputs": [],
   "source": [
    "# preprocess for regression\n",
    "df_log = copy(df_log_raw)\n",
    "\n",
    "print('Processing sub races')\n",
    "sub_races = list(df_log['subject_race'].unique())\n",
    "for race in sub_races:\n",
    "    df_log['subject_' + (race if isinstance(race, str) else 'nan')] = (df_log['subject_race'] == race).apply(lambda x : int(x))\n",
    "\n",
    "print('Processing off races')\n",
    "off_races = list(df_log['officer_race'].unique())\n",
    "for race in off_races:\n",
    "    df_log['officer_' + (race if isinstance(race, str) else 'nan')] = (df_log['officer_race'] == race).apply(lambda x : int(x))\n",
    "\n",
    "print('Processing sub genders')\n",
    "sub_genders = list(df_log['subject_sex'].unique())\n",
    "for gender in sub_genders:\n",
    "    df_log['subject_' + (gender if isinstance(gender, str) else 'nan')] = (df_log['subject_sex'] == gender).apply(lambda x : int(x))\n",
    "\n",
    "print('Processing off genders')\n",
    "off_genders = list(df_log['officer_sex'].unique())\n",
    "for gender in off_genders:\n",
    "    df_log['officer_' + (gender if isinstance(gender, str) else 'nan')] = (df_log['officer_sex'] == gender).apply(lambda x : int(x))\n",
    "\n",
    "print('Processing off yos')\n",
    "cat_exp = [0, 2, 6, 10, 15, 100]\n",
    "for infi in range(len(cat_exp) -1):\n",
    "    df_log['officer_exp_' + str(cat_exp[infi]) ] = ( df_log['officer_yos'].between(cat_exp[infi],cat_exp[infi+1], inclusive=[True, False]) ) .apply(lambda x : int(x))\n",
    "\n",
    "print('Processing off age')\n",
    "cat_age = [15, 25, 35, 45, 55, 70, 100]\n",
    "for infi in range(len(cat_age) -1):\n",
    "    df_log['officer_age_' + str(cat_age[infi]) ] = ( df_log['officer_age'].between(cat_age[infi],cat_age[infi+1], inclusive=[True, False]) ) .apply(lambda x : int(x))\n",
    "\n",
    "\n",
    "print('Processing search')\n",
    "df_log['search_conducted'] = df_log['search_conducted'].apply(lambda x : int(x))\n",
    "\n",
    "print('Removing old columns')\n",
    "df_log.drop(columns=['subject_race', 'officer_race', 'subject_sex', 'officer_sex', 'officer_yos', 'officer_age'], inplace=True)\n",
    "\n",
    "df_log.head()"
   ]
  },
  {
   "cell_type": "code",
   "execution_count": null,
   "metadata": {},
   "outputs": [],
   "source": [
    "counties = df_log['county_name'].unique()\n",
    "maxi = 0\n",
    "maxi_c = 0\n",
    "for c in counties:\n",
    "    v = df_log[df_log['county_name'] == c].shape[0]\n",
    "    if v > maxi:\n",
    "        maxi = v\n",
    "        maxi_c = c\n",
    "\n",
    "print(maxi_c, maxi )\n",
    "\n",
    "df_log = df_log[df_log['county_name'] == maxi_c].drop(columns='county_name')"
   ]
  },
  {
   "cell_type": "code",
   "execution_count": null,
   "metadata": {},
   "outputs": [],
   "source": [
    "df_log.head()"
   ]
  },
  {
   "cell_type": "code",
   "execution_count": null,
   "metadata": {},
   "outputs": [],
   "source": [
    "y = df_log['search_conducted'].to_numpy()\n",
    "x = df_log.drop(columns='search_conducted').to_numpy()\n",
    "print(x[0], y[0])"
   ]
  },
  {
   "cell_type": "code",
   "execution_count": null,
   "metadata": {},
   "outputs": [],
   "source": [
    "from sklearn.datasets import load_iris\n",
    "from sklearn.linear_model import LogisticRegression\n",
    "\n",
    "clf = LogisticRegression(random_state=0)\n",
    "clf.fit(x, y)\n",
    "params = clf.coef_[0]"
   ]
  },
  {
   "cell_type": "code",
   "execution_count": null,
   "metadata": {},
   "outputs": [],
   "source": [
    "print(\"Parameters of logistic regression are:\")\n",
    "for i, col in enumerate(df_log.drop(columns='search_conducted').columns):\n",
    "    print(\" - {} : {:.3f} \".format(col,params[i]))"
   ]
  },
  {
   "cell_type": "code",
   "execution_count": null,
   "metadata": {},
   "outputs": [],
   "source": [
    "from xgboost import XGBClassifier, plot_importance, DMatrix\n",
    "\n",
    "model = XGBClassifier()\n",
    "model.fit(x, y)"
   ]
  },
  {
   "cell_type": "code",
   "execution_count": null,
   "metadata": {},
   "outputs": [],
   "source": [
    "plot_importance(model).set_yticklabels(df_log.drop(columns='search_conducted').columns[:23])"
   ]
  },
  {
   "source": [
    "We see that experienced officers do not search often people. This may be due because they are at a higher level, so they do not do the search themselves. "
   ],
   "cell_type": "markdown",
   "metadata": {}
  },
  {
   "source": [
    "# Old stuff"
   ],
   "cell_type": "markdown",
   "metadata": {}
  },
  {
   "cell_type": "code",
   "execution_count": null,
   "metadata": {},
   "outputs": [],
   "source": [
    "def plot_officer_race(data, race):\n",
    "    data_ = data[race]\n",
    "    df_white_sub, df_black_sub, df_hispanic = data_.loc['white'], data_.loc['black'], data_.loc['hispanic'] #separate data\n",
    "    df_white_sub.reset_index(inplace=True), df_black_sub.reset_index(inplace=True), df_hispanic.reset_index(inplace=True) #reset index\n",
    "    df_merged = pd.merge(df_white_sub, df_black_sub, on='county_name', suffixes=['', '_black'])\n",
    "    df_merged = pd.merge(df_merged, df_hispanic, on='county_name', suffixes=['_white', '_hispanic'])\n",
    "    fig, ax_arr = plt.subplots(1, 2) # 2 graphs\n",
    "    fig.set_size_inches(9,5) # fig size\n",
    "\n",
    "    fig.suptitle(\"Minorities search rates of {} officers\".format(race))\n",
    "\n",
    "    ax_arr[0].scatter(df_merged['search_rate_white']*100, df_merged['search_rate_black']*100)\n",
    "    ax_arr[0].set_xlabel(\"White search rate (%)\")\n",
    "    ax_arr[0].set_ylabel(\"Black search rate (%)\")\n",
    "\n",
    "    ax_arr[1].scatter(df_merged['search_rate_white']*100, df_merged['search_rate_hispanic']*100)\n",
    "    ax_arr[1].set_xlabel(\"White search rate (%)\")\n",
    "    ax_arr[1].set_ylabel(\"Black search rate (%)\")\n",
    "    \n",
    "\n",
    "for race in officer_race:\n",
    "    plot_officer_race(df_officers, race)"
   ]
  }
 ]
}