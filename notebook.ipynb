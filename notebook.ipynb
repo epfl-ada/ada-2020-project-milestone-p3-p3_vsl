{
 "metadata": {
  "language_info": {
   "codemirror_mode": {
    "name": "ipython",
    "version": 3
   },
   "file_extension": ".py",
   "mimetype": "text/x-python",
   "name": "python",
   "nbconvert_exporter": "python",
   "pygments_lexer": "ipython3",
   "version": "3.8.5-final"
  },
  "orig_nbformat": 2,
  "kernelspec": {
   "name": "python3",
   "display_name": "Python 3.8.5 64-bit (conda)",
   "metadata": {
    "interpreter": {
     "hash": "7a9295ab1ad1dbbc73aea124234ee09155fa9bf1fc750aef028efbba2552db07"
    }
   }
  }
 },
 "nbformat": 4,
 "nbformat_minor": 2,
 "cells": [
  {
   "cell_type": "code",
   "execution_count": 2,
   "metadata": {},
   "outputs": [],
   "source": [
    "import pandas as pd\n",
    "import numpy as np\n",
    "import matplotlib.pyplot as plt\n",
    "import seaborn as sns\n",
    "from copy import copy"
   ]
  },
  {
   "cell_type": "code",
   "execution_count": 3,
   "metadata": {},
   "outputs": [],
   "source": [
    "folder = 'data/'\n",
    "state = 'fl_statewide_2020_04_01.csv'\n",
    "state2 = 'ca_long_beach_2020_04_01.csv'"
   ]
  },
  {
   "source": [
    "# Preprocessing whole dataset (do not execute if working on full data)"
   ],
   "cell_type": "markdown",
   "metadata": {}
  },
  {
   "cell_type": "code",
   "execution_count": null,
   "metadata": {},
   "outputs": [],
   "source": [
    "df_full = pd.read_csv(folder + state)\n",
    "print(df_full.columns)"
   ]
  },
  {
   "source": [
    "Reducing the amount of data for experimentation"
   ],
   "cell_type": "markdown",
   "metadata": {}
  },
  {
   "cell_type": "code",
   "execution_count": null,
   "metadata": {},
   "outputs": [],
   "source": [
    "cut_file_path = folder + state.split('.')[0] + \"_cut.csv\"\n",
    "total_size = df_full.shape[0]\n",
    "df = df_full.sample(n=int(total_size/100))\n",
    "print(\"Full dataset of size {} was reduced to subset of {} elements.\".format(total_size, df.shape[0]))\n",
    "df.to_csv(cut_file_path, index = False)"
   ]
  },
  {
   "source": [
    "# Load the data (currently loading all data)"
   ],
   "cell_type": "markdown",
   "metadata": {}
  },
  {
   "cell_type": "code",
   "execution_count": 4,
   "metadata": {
    "tags": []
   },
   "outputs": [
    {
     "output_type": "stream",
     "name": "stdout",
     "text": [
      "Dataset is composed of 7297538 stops. Columns are: \n",
      "\n",
      "raw_row_number \t\t: too much different values\n",
      "date \t\t: too much different values\n",
      "time \t\t: too much different values\n",
      "location \t\t: too much different values\n",
      "county_name \t\t: too much different values\n",
      "subject_race\t\t \t\t: values are: [nan 'white' 'black' 'hispanic' 'asian/pacific islander' 'other' 'unknown']\n",
      "subject_sex\t\t \t\t: values are: ['female' 'male' nan]\n",
      "officer_id_hash \t\t: too much different values\n",
      "officer_race\t\t \t\t: values are: [nan 'black' 'white' 'hispanic' 'unknown' 'asian/pacific islander' 'other']\n",
      "officer_sex\t\t \t\t: values are: [nan 'male' 'female']\n",
      "department_name\t\t \t\t: values are: ['FLORIDA HIGHWAY PATROL' 'FLORIDA HIGHWAY PATROL - TROOP K'\n",
      " 'FLORIDA HIGHWAY PATROL  MOTORS SQ' 'FLORIDA DEPARTMENT OF AGRICULTURE'\n",
      " nan]\n",
      "unit \t\t: too much different values\n",
      "type\t\t \t\t: values are: ['vehicular']\n",
      "violation \t\t: too much different values\n",
      "arrest_made\t\t \t\t: values are: [nan False True]\n",
      "citation_issued\t\t \t\t: values are: [True False nan]\n",
      "warning_issued\t\t \t\t: values are: [nan False True]\n",
      "outcome\t\t \t\t: values are: ['citation' nan 'arrest' 'warning']\n",
      "frisk_performed\t\t \t\t: values are: [nan False True]\n",
      "search_conducted \t\t: values are: [nan False True]\n",
      "search_basis\t\t \t\t: values are: [nan 'consent' 'other' 'probable cause' 'plain view']\n",
      "reason_for_search \t\t: too much different values\n",
      "reason_for_stop \t\t: too much different values\n",
      "vehicle_registration_state \t\t: too much different values\n",
      "notes \t\t: too much different values\n",
      "raw_row_number_old \t\t: too much different values\n",
      "raw_Race \t\t: too much different values\n",
      "raw_Ethnicity \t\t: too much different values\n",
      "raw_row_number_new \t\t: values are: [nan '-------' '--------' '-------|-------' '-------|-------|-------'\n",
      " '--------|--------' '-------|-------|-------|-------'\n",
      " '-------|-------|-------|-------|-------' '--------|--------|--------'\n",
      " '-------|-------|-------|-------|-------|-------|-------|-------|-------|-------|-------'\n",
      " '--------|--------|--------|--------'\n",
      " '-------|-------|-------|-------|-------|-------'\n",
      " '--------|--------|--------|--------|--------'\n",
      " '-------|-------|-------|-------|-------|-------|-------|-------'\n",
      " '-------|-------|-------|-------|-------|-------|-------'\n",
      " '--------|--------|--------|--------|--------|--------'\n",
      " '--------|--------|--------|--------|--------|--------|--------'\n",
      " '-------|-------|-------|-------|-------|-------|-------|-------|-------|-------|-------|-------'\n",
      " '--------|--------|--------|--------|--------|--------|--------|--------|--------|--------|--------|--------|--------|--------']\n",
      "raw_SearchType \t\t: too much different values\n",
      "raw_EnforcementAction \t\t: too much different values\n"
     ]
    }
   ],
   "source": [
    "df =  pd.read_csv(folder + state)\n",
    "print(\"Dataset is composed of {} stops. Columns are: \\n\".format(df.shape[0]))\n",
    "for col in df.columns:\n",
    "    if df.dtypes[col] != np.float64:\n",
    "        val = df[col].unique()\n",
    "        if len(val) > 20:\n",
    "            print('{} \\t\\t: too much different values'.format(col))\n",
    "        else:\n",
    "            print('{} \\t\\t: values are: {}'.format(col if len(col)>15 else col + \"\\t\\t\", val))\n",
    "df = df.rename(columns={'officer_years_of_service': 'officer_yos'})"
   ]
  },
  {
   "cell_type": "code",
   "execution_count": null,
   "metadata": {},
   "outputs": [],
   "source": [
    "for i, n in enumerate(df['raw_EnforcementAction']):\n",
    "    print(n)\n",
    "    if i == 100:\n",
    "        break"
   ]
  },
  {
   "source": [
    "# Preprocess to compare search rates\n",
    "\n",
    "Calculate search rates for each officer race and each subject race across each county"
   ],
   "cell_type": "markdown",
   "metadata": {}
  },
  {
   "source": [
    "# General functions"
   ],
   "cell_type": "markdown",
   "metadata": {}
  },
  {
   "cell_type": "code",
   "execution_count": 6,
   "metadata": {},
   "outputs": [],
   "source": [
    "minority_race = ['black', 'hispanic']\n",
    "\n",
    "def remove_general_unused_columns(data, keep=[]):\n",
    "    columns_unused = ['officer_id_hash', 'vehicle_registration_state', 'type']\n",
    "    columns_reasons = ['reason_for_stop', 'reason_for_search', 'notes', 'violation', 'search_basis']\n",
    "    columns_raw = ['raw_EnforcementAction', 'raw_SearchType', 'raw_Ethnicity', 'raw_row_number_new', 'raw_Race', 'raw_row_number_old', 'raw_row_number']\n",
    "    columns_geography = ['location', 'date','time', 'department_name', 'unit']\n",
    "    general_columns_to_remove=columns_unused + columns_reasons + columns_raw + columns_geography\n",
    "    return data.drop(columns=[ x for x in general_columns_to_remove if x not in keep])\n",
    "\n",
    "def print_search_rate(data):\n",
    "    number_stops = data['search_conducted'].shape[0]\n",
    "    number_search_conducted = data[data['search_conducted'] == True].shape[0]\n",
    "    print('Data contains {} stops and {} of them ({}%) resulted in searches.'.format(number_stops, number_search_conducted, 100 * float(number_search_conducted)/number_stops))\n",
    "\n",
    "def preprocess_for_grouping(data):\n",
    "    data['search_rate'] = data['search_conducted']\n",
    "    data = data.astype({'search_rate': float})\n",
    "    data['count'] = 1 # to count occurences\n",
    "    return data\n",
    "\n",
    "def separate_data(data, categories):\n",
    "    df = {}\n",
    "    for exp in categories:\n",
    "        df[exp] = data.loc[exp]\n",
    "    return df\n"
   ]
  },
  {
   "cell_type": "code",
   "execution_count": null,
   "metadata": {},
   "outputs": [],
   "source": [
    "from scipy.stats import linregress\n",
    "\n",
    "def plot_race(data, min_race, categories, threshold, what_to_plot, ax_limits=None):\n",
    "\n",
    "    fig, ax_arr = plt.subplots(1, len(categories)) # 2 graphs\n",
    "    fig.set_size_inches(14,5) # fig size\n",
    "    fig.suptitle(min_race.title() + \" people search rates among officers\".format(min_race))\n",
    "\n",
    "    for i, off_feat in enumerate(categories):\n",
    "\n",
    "        data_ = data[off_feat]\n",
    "        df_white_sub, df_minority = data_.loc['white'], data_.loc[min_race] #separate data\n",
    "        df_white_sub.reset_index(inplace=True), df_minority.reset_index(inplace=True) #reset index\n",
    "        df_merged = pd.merge(df_white_sub, df_minority, on='county_name', suffixes=['_white', '_minority']) # merge both\n",
    "\n",
    "        # remove where there are too little datapoints\n",
    "        cond_minority = df_merged['count_minority'] >= threshold\n",
    "\n",
    "        y = df_merged[what_to_plot + '_minority'][cond_minority]*100\n",
    "        x = df_merged[what_to_plot + '_white'][cond_minority]*100 if what_to_plot == 'search_rate' else pd.Series([i for i in range(y.shape[0])])\n",
    "        s = df_merged['count_minority'][cond_minority]/100\n",
    "\n",
    "        ax_arr[i].scatter(x, y, s=s, c=\"None\", edgecolors='black', linewidth=0.4)\n",
    "        ax_arr[i].set_xlabel(\"White \" + what_to_plot + \" (%)\")\n",
    "        ax_arr[i].set_ylabel(min_race.title() + \" \"+ what_to_plot +\" (%)\")\n",
    "\n",
    "        #plot regression\n",
    "        a, b, r, p_value, std_err = linregress(x, y)\n",
    "        sns.regplot(x=x.repeat(s), y=y.repeat(s), ax=ax_arr[i], label='{:.1f}*x + {:.1f}, r={:.2f}'.format(a,b,r), scatter=False, truncate=False).legend(loc=\"best\")\n",
    "\n",
    "        ax_arr[i].set_title(off_feat.title() +' officers')\n",
    "\n",
    "        if ax_limits:\n",
    "            ax_arr[i].set_xlim((0,ax_limits['x']))\n",
    "            ax_arr[i].set_ylim((0,ax_limits['y']))\n",
    "\n",
    "        if what_to_plot == 'search_rate':\n",
    "            # draw dotted line\n",
    "            max_ = df_merged[what_to_plot + '_minority'][cond_minority].max()\n",
    "            line = np.arange(0, max_ * 100, max_)\n",
    "            ax_arr[i].plot(line, line, c='black', linestyle=(0,(5,5)), linewidth=1)\n",
    "\n",
    "\n",
    "def plot_search_rates(data, categories, threshold=500, what_to_plot='search_rate', ax_limits=None):\n",
    "    for i, race in enumerate(minority_race):\n",
    "        plot_race(data, race, categories, threshold, what_to_plot, ax_limits[i] if ax_limits else None)\n",
    "\n",
    "\n",
    "# # separate data\n",
    "# df_race_sep = separate_data(df_race_mixed, officer_race)\n",
    "# df_race_sep[officer_race[0]].head(2)\n",
    "\n",
    "# # plot it \n",
    "# plot_search_rates(df_race_sep, officer_race, 100, what_to_plot='stop_rate')"
   ]
  },
  {
   "source": [
    "# Race of officer"
   ],
   "cell_type": "markdown",
   "metadata": {}
  },
  {
   "cell_type": "code",
   "execution_count": null,
   "metadata": {},
   "outputs": [],
   "source": [
    "officer_race = ['white', 'black', 'hispanic']"
   ]
  },
  {
   "cell_type": "code",
   "execution_count": null,
   "metadata": {},
   "outputs": [],
   "source": [
    "df_race = copy(df)\n",
    "\n",
    "# remove unused columns\n",
    "df_race = remove_general_unused_columns(df_race)\n",
    "\n",
    "# make sure that required data are present (drop if nan values in those columns)\n",
    "important_features = ['subject_race', 'officer_race', 'search_conducted']\n",
    "df_race.dropna(inplace=True, subset=important_features)\n",
    "print('Cleaned subset is composed of {} datapoints'.format(df_race.shape[0]))\n",
    "\n",
    "# overview of all the data / global search rate\n",
    "print_search_rate(df_race)\n",
    "\n",
    "# preprocess for grouping\n",
    "df_race = preprocess_for_grouping(df_race)\n",
    "\n",
    "\n",
    "\n",
    "# add specific column for this type of analyzis\n",
    "df_race_all = df_race.groupby(['officer_race','subject_race','county_name']).agg({'search_rate': 'mean', 'count':'count'})\n",
    "df_race_all.head(10)"
   ]
  },
  {
   "cell_type": "code",
   "execution_count": null,
   "metadata": {},
   "outputs": [],
   "source": [
    "\n",
    "# df_race_all_s = df_race.groupby(['officer_race','county_name', 'subject_race']).agg({'count':'count', 'search_rate':'identity'})\n",
    "# df_race_all = df_race.groupby(['officer_race','county_name']).agg({'count':'count'})\n",
    "# df_race_mixed = copy(df_race_all_s)\n",
    "# df_race_mixed['tot'] = df_race_all['count']\n",
    "# df_race_mixed['stop_rate'] = df_race_mixed['count'] / df_race_mixed['tot']\n",
    "# df_race_mixed.head(10)\n"
   ]
  },
  {
   "cell_type": "code",
   "execution_count": null,
   "metadata": {},
   "outputs": [],
   "source": [
    "# separate data\n",
    "df_race_sep = separate_data(df_race_all, officer_race)\n",
    "df_race_sep[officer_race[0]].head(2)\n",
    "\n",
    "# plot it \n",
    "plot_search_rates(df_race_sep, officer_race, 2000)"
   ]
  },
  {
   "cell_type": "code",
   "execution_count": null,
   "metadata": {},
   "outputs": [],
   "source": [
    "total"
   ]
  },
  {
   "source": [
    "# Experience of officer"
   ],
   "cell_type": "markdown",
   "metadata": {}
  },
  {
   "cell_type": "code",
   "execution_count": null,
   "metadata": {},
   "outputs": [],
   "source": [
    "officer_experience_level = ['young', 'experienced', 'old']\n",
    "thresholds_experience = [2, 9]"
   ]
  },
  {
   "source": [
    "Preprocess the data to have what is needed"
   ],
   "cell_type": "markdown",
   "metadata": {}
  },
  {
   "cell_type": "code",
   "execution_count": null,
   "metadata": {},
   "outputs": [],
   "source": [
    "df_yos = copy(df)\n",
    "\n",
    "# remove unused columns\n",
    "df_yos = remove_general_unused_columns(df_yos)\n",
    "\n",
    "# make sure that required data are present (drop if nan values in those columns)\n",
    "important_features = ['subject_race', 'officer_yos', 'search_conducted']\n",
    "df_yos.dropna(inplace=True, subset=important_features)\n",
    "print('Cleaned subset is composed of {} datapoints'.format(df_yos.shape[0]))\n",
    "\n",
    "# overview of all the data / global search rate\n",
    "print_search_rate(df_yos)\n",
    "\n",
    "# preprocess for grouping\n",
    "df_yos = preprocess_for_grouping(df_yos)\n",
    "\n",
    "# add specific column for this type of analyzis\n",
    "df_yos['age_category'] = df_yos['officer_yos'].apply(lambda x : officer_experience_level[0] if x < thresholds_experience[0] else (officer_experience_level[1] if x < thresholds_experience[1] else officer_experience_level[2]))\n",
    "df_yos_all = df_yos.groupby(['age_category','subject_race','county_name']).agg({'search_rate': 'mean', 'count':'count'})"
   ]
  },
  {
   "cell_type": "code",
   "execution_count": null,
   "metadata": {},
   "outputs": [],
   "source": [
    "# separate data\n",
    "df_yos_sep = separate_data(df_yos_all, officer_experience_level)\n",
    "df_yos_sep[officer_experience_level[0]].head(2)\n",
    "\n",
    "# plot it \n",
    "plot_search_rates(df_yos_sep, officer_experience_level, 3000, ax_limits=[ {'x': 1.5, 'y':5},{'x': 1.5, 'y':2.6}]) #"
   ]
  },
  {
   "source": [
    "# Age of the officer"
   ],
   "cell_type": "markdown",
   "metadata": {}
  },
  {
   "cell_type": "code",
   "execution_count": null,
   "metadata": {},
   "outputs": [],
   "source": [
    "officer_age_level = ['young', 'experienced', 'old']\n",
    "thresholds_age = [32, 45]"
   ]
  },
  {
   "cell_type": "code",
   "execution_count": null,
   "metadata": {},
   "outputs": [],
   "source": [
    "df_age = copy(df)\n",
    "\n",
    "# remove unused columns\n",
    "df_age = remove_general_unused_columns(df_age)\n",
    "\n",
    "# make sure that required data are present (drop if nan values in those columns)\n",
    "important_features = ['subject_race', 'officer_age', 'search_conducted']\n",
    "df_age.dropna(inplace=True, subset=important_features)\n",
    "print('Cleaned subset is composed of {} datapoints'.format(df_age.shape[0]))\n",
    "\n",
    "# overview of all the data / global search rate\n",
    "print_search_rate(df_age)\n",
    "\n",
    "# preprocess for grouping\n",
    "df_age = preprocess_for_grouping(df_age)\n",
    "\n",
    "# add specific column for this type of analyzis\n",
    "df_age['age_category'] = df_age['officer_age'].apply(lambda x : officer_age_level[0] if x < thresholds_age[0] else (officer_age_level[1] if x < thresholds_age[1] else officer_age_level[2]))\n",
    "df_age_all = df_age.groupby(['age_category','subject_race','county_name']).agg({'search_rate': 'mean', 'count':'count'})"
   ]
  },
  {
   "cell_type": "code",
   "execution_count": null,
   "metadata": {},
   "outputs": [],
   "source": [
    "# separate data\n",
    "df_age_sep = separate_data(df_age_all, officer_age_level)\n",
    "df_age_sep[officer_age_level[0]].head(2)\n",
    "\n",
    "# plot it \n",
    "plot_search_rates(df_age_sep, officer_age_level, 3000, ax_limits=[{'x': 2, 'y':4},{'x': 2, 'y':3}])"
   ]
  },
  {
   "source": [
    "# Gender of the officer"
   ],
   "cell_type": "markdown",
   "metadata": {}
  },
  {
   "cell_type": "code",
   "execution_count": null,
   "metadata": {},
   "outputs": [],
   "source": [
    "officer_sex = ['male', 'female']"
   ]
  },
  {
   "cell_type": "code",
   "execution_count": null,
   "metadata": {},
   "outputs": [],
   "source": [
    "df_sex = copy(df)\n",
    "\n",
    "# remove unused columns\n",
    "df_sex = remove_general_unused_columns(df_sex)\n",
    "\n",
    "# make sure that required data are present (drop if nan values in those columns)\n",
    "important_features = ['subject_race', 'officer_sex', 'search_conducted']\n",
    "df_sex.dropna(inplace=True, subset=important_features)\n",
    "print('Cleaned subset is composed of {} datapoints'.format(df_sex.shape[0]))\n",
    "\n",
    "# overview of all the data / global search rate\n",
    "print_search_rate(df_sex)\n",
    "\n",
    "# preprocess for grouping\n",
    "df_sex = preprocess_for_grouping(df_sex)\n",
    "\n",
    "# add specific column for this type of analyzis\n",
    "# df_gender['age_category'] = df_gender['officer_gender'].apply(lambda x : officer_age_level[0] if x < thresholds_age[0] else (officer_age_level[1] if x < thresholds_age[1] else officer_age_level[2]))\n",
    "df_sex_all = df_sex.groupby(['officer_sex','subject_race','county_name']).agg({'search_rate': 'mean', 'count':'count'})"
   ]
  },
  {
   "cell_type": "code",
   "execution_count": null,
   "metadata": {},
   "outputs": [],
   "source": [
    "# separate data\n",
    "df_sex_sep = separate_data(df_sex_all, officer_sex)\n",
    "\n",
    "avg_female = df_sex_sep['female']['search_rate'].mean()\n",
    "avg_male = df_sex_sep['male']['search_rate'].mean()\n",
    "\n",
    "df_sex_sep['female']['search_rate'] = df_sex_sep['female']['search_rate'].apply(lambda x : (avg_male/avg_female)*x)\n",
    "# df_sex_sep[officer_age_level[0]].head(2)\n",
    "\n",
    "# plot it \n",
    "plot_search_rates(df_sex_sep, officer_sex, 500)#, ax_limits=[{'x': 1.25, 'y':3.5},{'x': 2, 'y':3}])"
   ]
  },
  {
   "source": [
    "# Importance of characteristics of officer for stop_rate"
   ],
   "cell_type": "markdown",
   "metadata": {}
  },
  {
   "cell_type": "code",
   "execution_count": null,
   "metadata": {},
   "outputs": [],
   "source": []
  },
  {
   "cell_type": "code",
   "execution_count": null,
   "metadata": {},
   "outputs": [],
   "source": []
  },
  {
   "source": [
    "# Race of the officer (with stop_rate)"
   ],
   "cell_type": "markdown",
   "metadata": {}
  },
  {
   "cell_type": "code",
   "execution_count": null,
   "metadata": {},
   "outputs": [],
   "source": [
    "officer_race = ['white', 'black', 'hispanic']"
   ]
  },
  {
   "cell_type": "code",
   "execution_count": null,
   "metadata": {},
   "outputs": [],
   "source": [
    "df_race = copy(df)\n",
    "\n",
    "# make sure that required data are present (drop if nan values in those columns)\n",
    "important_features = ['subject_race', 'officer_race', 'search_conducted']\n",
    "df_race.dropna(inplace=True, subset=important_features)\n",
    "print('Cleaned subset is composed of {} datapoints'.format(df_race.shape[0]))\n",
    "\n",
    "# overview of all the data / global search rate\n",
    "print_search_rate(df_race)\n",
    "df_race = preprocess_for_grouping(df_race)\n",
    "\n",
    "# add specific column for this type of analyzis\n",
    "df_race_all_s = df_race.groupby(['officer_race','county_name', 'subject_race']).agg({'count':'count'})\n",
    "df_race_all = df_race.groupby(['officer_race','county_name']).agg({'count':'count'})\n",
    "\n",
    "df_race_mixed = copy(df_race_all_s)\n",
    "df_race_mixed['tot'] = df_race_all['count']\n",
    "df_race_mixed['stop_rate'] = df_race_mixed['count'] / df_race_mixed['tot']\n",
    "\n",
    "\n",
    "df_race_mixed = df_race_mixed.reorder_levels(['officer_race','subject_race','county_name'])\n",
    "\n",
    "df_race_mixed.head()"
   ]
  },
  {
   "cell_type": "code",
   "execution_count": null,
   "metadata": {},
   "outputs": [],
   "source": [
    "\n",
    "df = separate_data( df_race_mixed, ['white'])['white']\n",
    "df.reset_index(level=[0,1], inplace=True)\n",
    "df.head()"
   ]
  },
  {
   "cell_type": "code",
   "execution_count": null,
   "metadata": {},
   "outputs": [],
   "source": [
    "print(df[df.subject_race == 'black']['count'].sum())\n",
    "print(df['count'].sum())"
   ]
  },
  {
   "cell_type": "code",
   "execution_count": null,
   "metadata": {},
   "outputs": [],
   "source": [
    "from scipy.stats import linregress\n",
    "\n",
    "def plot_race_stop(data, min_race, categories, threshold):\n",
    "\n",
    "    what_to_plot = 'stop_rate'\n",
    "\n",
    "    fig, ax_arr = plt.subplots(1, 3) # 2 graphs\n",
    "    fig.set_size_inches(17,5) # fig size\n",
    "    fig.suptitle(min_race.title() + \" people \"+ what_to_plot+\" among officers\".format(min_race))\n",
    "\n",
    "    for i, off_feat in enumerate(categories):\n",
    "\n",
    "        data_ = data[off_feat]\n",
    "        df_white_sub, df_minority = data_.loc['white'], data_.loc[min_race] #separate data\n",
    "        df_white_sub.reset_index(inplace=True), df_minority.reset_index(inplace=True) #reset index\n",
    "        df_merged = pd.merge(df_white_sub, df_minority, on='county_name', suffixes=['_white', '_minority']) # merge both\n",
    "\n",
    "        # remove where there are too little datapoints\n",
    "        cond_minority = df_merged['count_minority'] >= threshold\n",
    "\n",
    "        y = df_merged[what_to_plot + '_minority'][cond_minority]*100\n",
    "        total =  float(df_merged['count_minority'].sum())\n",
    "        print(total)\n",
    "        s = df_merged['count_minority'][cond_minority] #.apply(lambda x: x / total)\n",
    "\n",
    "        sns.histplot(y.repeat(s), ax=ax_arr[i], bins=8, kde=True)\n",
    "\n",
    "\n",
    "        ax_arr[i].set_xlabel(min_race.title() + what_to_plot + \" (%)\")\n",
    "        ax_arr[i].set_ylabel(\"Number of \" + min_race +\" stops\")\n",
    "\n",
    "\n",
    "        ax_arr[i].set_title(off_feat.title() +' officers')\n",
    "\n",
    "\n",
    "\n",
    "def plot_stop_rates(data, categories, threshold= 0):\n",
    "    for race in minority_race + ['white']:\n",
    "        plot_race_stop(data, race, categories, threshold)\n",
    "\n",
    "\n",
    "# separate data\n",
    "df_race_sep = separate_data(df_race_mixed, officer_race)\n",
    "df_race_sep[officer_race[0]].head(2)\n"
   ]
  },
  {
   "cell_type": "code",
   "execution_count": null,
   "metadata": {},
   "outputs": [],
   "source": [
    "\n",
    "# plot it \n",
    "plot_stop_rates(df_race_sep, officer_race, 0)"
   ]
  },
  {
   "source": [
    "# Veil of darkness"
   ],
   "cell_type": "markdown",
   "metadata": {}
  },
  {
   "cell_type": "code",
   "execution_count": null,
   "metadata": {},
   "outputs": [],
   "source": [
    "CHOSEN_CHARACTERISTIC = 'officer_race'\n",
    "\n",
    "df_veil = copy(df)\n",
    "\n",
    "# remove unused columns\n",
    "columns_time = ['date','time']\n",
    "df_veil = remove_general_unused_columns(df_veil, columns_time)\n",
    "\n",
    "# make sure that required data are present (drop if nan values in those columns)\n",
    "important_features = ['subject_race', CHOSEN_CHARACTERISTIC , 'search_conducted']\n",
    "df_veil.dropna(inplace=True, subset=important_features)\n",
    "print('Cleaned subset is composed of {} datapoints'.format(df_yos.shape[0]))\n",
    "\n",
    "df_veil['date'] = pd.to_datetime(df_veil['date'])\n",
    "df_veil.head()"
   ]
  },
  {
   "cell_type": "code",
   "execution_count": null,
   "metadata": {},
   "outputs": [],
   "source": [
    "import datetime\n",
    "\n",
    "starts = []\n",
    "ends = []\n",
    "years = [2010, 2011, 2012, 2013, 2014, 2015]\n",
    "\n",
    "for y in years:\n",
    "    starts.append(datetime.datetime.strptime(f\"01-10-{y}\", \"%d-%m-%Y\"))\n",
    "    ends.append(datetime.datetime.strptime(f\"30-10-{y}\", \"%d-%m-%Y\"))\n",
    "\n",
    "\n",
    "df_veil['month'] = df_veil['date'].apply(lambda x : np.sum([s <= x <= e for s,e in zip(starts, ends)]) > 0 )\n",
    "df_veil = df_veil[df_veil['month']]\n",
    "df_veil.head()"
   ]
  },
  {
   "cell_type": "code",
   "execution_count": null,
   "metadata": {},
   "outputs": [],
   "source": [
    "df_veiled = copy(df_veil)\n",
    "hours = [ f'{x}:' for x in range(17, 21)]\n",
    "\n",
    "df_veiled['time_bool'] = df_veiled['time'].apply(lambda x: x[0:3] in hours) \n",
    "df_veiled_both = df_veiled[ df_veiled['time_bool']]\n",
    "print(df_veiled_both.shape)\n",
    "\n",
    "df_veiled_both['time_period'] = df_veiled_both['time'].apply(lambda x : x[0:4])\n",
    "df_veiled_both.head()"
   ]
  },
  {
   "cell_type": "code",
   "execution_count": null,
   "metadata": {},
   "outputs": [],
   "source": [
    "# df_veiled_both['count'] = 1\n",
    "\n",
    "# df_veil_of_darkness = df_veiled_both.groupby(['officer_race','time_period','subject_race']).agg({'count':'count'})\n",
    "# df_veil_of_darkness_all = df_veiled_both.groupby(['officer_race','time_period']).agg({'count':'count'})\n",
    "\n",
    "# df_veil_of_darkness['tot'] = df_veil_of_darkness_all['count']\n",
    "# df_veil_of_darkness['black_stop_rate'] = df_veil_of_darkness['count'] / df_veil_of_darkness['tot']\n",
    "\n",
    "\n",
    "# # df_race_mixed = df_race_mixed.reorder_levels(['officer_race','subject_race','county_name'])\n",
    "\n",
    "# df_veil_of_darkness = df_veil_of_darkness.reset_index()\n",
    "\n",
    "# df_veil_of_darkness.head()\n",
    "\n",
    "\n",
    "# # df_veil_white = separate_data(df_veil_of_darkness, officer_race)\n",
    "# # df_veil_white['white'].head(10)\n",
    "\n",
    "df_veiled_both['count'] = 1\n",
    "\n",
    "df_veil_of_darkness = df_veiled_both.groupby(['time_period','subject_race']).agg({'count':'count'})\n",
    "df_veil_of_darkness_all = df_veiled_both.groupby('time_period').agg({'count':'count'})\n",
    "\n",
    "df_veil_of_darkness.reset_index(inplace=True)\n",
    "df_veil_of_darkness_all.reset_index(inplace=True)\n",
    "\n",
    "\n",
    "\n",
    "\n",
    "# df_veil_of_darkness['tot'] = df_veil_of_darkness_all['count']\n",
    "# df_veil_of_darkness['black_stop_rate'] = df_veil_of_darkness['count'] / df_veil_of_darkness['tot']\n",
    "\n",
    "\n",
    "# df_race_mixed = df_race_mixed.reorder_levels(['officer_race','subject_race','county_name'])\n",
    "\n",
    "# df_veil_of_darkness = df_veil_of_darkness.reset_index()\n",
    "\n",
    "df_veil_of_darkness = df_veil_of_darkness.merge(df_veil_of_darkness_all, on=['time_period'])\n",
    "df_veil_of_darkness['black_stop_rate'] = df_veil_of_darkness['count_x'] / df_veil_of_darkness['count_y']\n",
    "\n",
    "df_veil_of_darkness = df_veil_of_darkness[df_veil_of_darkness['subject_race'] == 'black']\n",
    "\n",
    "df_veil_of_darkness.head()\n",
    "\n",
    "# df_veil_white = separate_data(df_veil_of_darkness, officer_race)\n",
    "# df_veil_white['white'].head(10)\n"
   ]
  },
  {
   "cell_type": "code",
   "execution_count": null,
   "metadata": {},
   "outputs": [],
   "source": [
    "df_veil_study = df_veil_of_darkness.reset_index()\n",
    "# df_veil_study = df_veil_white['white'].reset_index()\n",
    "df_veil_study['before_sunset'] = df_veil_study['time_period'].apply(lambda x: x < '20:1')\n",
    "df_veil_study.head()"
   ]
  },
  {
   "cell_type": "code",
   "execution_count": null,
   "metadata": {},
   "outputs": [],
   "source": [
    "periods = []\n",
    "for i in range(17, 21):\n",
    "    for j in range(0, 60, 10):\n",
    "        periods.append(f\"{i}:{int(j/10)}\")\n",
    "print(periods)"
   ]
  },
  {
   "cell_type": "code",
   "execution_count": null,
   "metadata": {},
   "outputs": [],
   "source": [
    "from matplotlib.pyplot import figure\n",
    "figure(figsize=(10,5))\n",
    "\n",
    "data_black = df_veil_study[ df_veil_study['subject_race'] == 'black']\n",
    "\n",
    "sns.lineplot(x='time_period', y='black_stop_rate', data=data_black)\n",
    "plt.axvline('19:1', c='black', linestyle='dashed')\n",
    "\n",
    "data_black['before_sunset'] = data_black['time_period'].apply(lambda x : x < '19:1')\n",
    "\n",
    "data_black['time_period_v'] = data_black['time_period'].apply(lambda x : periods.index(x))\n",
    "\n",
    "data_black_before = data_black[data_black['before_sunset']]\n",
    "data_black_after = data_black[data_black['before_sunset'] == False]\n",
    "\n",
    "data_black_before.head()\n",
    "\n",
    "sns.regplot(x='time_period_v', y='black_stop_rate', data=data_black_before)\n",
    "sns.regplot(x='time_period_v', y='black_stop_rate', data=data_black_after)\n",
    "# sns.regplot(x=data_black_after['time_period'], y=data_black_after['black_stop_rate'])"
   ]
  },
  {
   "cell_type": "code",
   "execution_count": null,
   "metadata": {},
   "outputs": [],
   "source": [
    "import datetime\n",
    "from matplotlib.pyplot import figure\n",
    "\n",
    "# def plot_veil_of_darkness(data, period= ['01-12', '20-12'], sunset_time='17:3', hour_range=[15,20]):\n",
    "\n",
    "\n",
    "\n",
    "period= ['05-06', '28-07']\n",
    "sunset_time='20:1'\n",
    "hour_range=[18,22]\n",
    "\n",
    "\n",
    "df_veil = copy(data)\n",
    "# remove unused columns\n",
    "columns_time = ['date','time']\n",
    "df_veil = remove_general_unused_columns(df_veil, columns_time)\n",
    "\n",
    "# make sure that required data are present (drop if nan values in those columns)\n",
    "important_features = ['subject_race', CHOSEN_CHARACTERISTIC , 'search_conducted']\n",
    "df_veil.dropna(inplace=True, subset=important_features)\n",
    "print('Cleaned subset is composed of {} datapoints'.format(df_yos.shape[0]))\n",
    "\n",
    "df_veil['date'] = pd.to_datetime(df_veil['date'])\n",
    "\n",
    "\n",
    "# select range of the period\n",
    "starts = []\n",
    "ends = []\n",
    "years = [2010, 2011, 2012, 2013, 2014, 2015]\n",
    "for y in years:\n",
    "    starts.append(datetime.datetime.strptime(f\"{period[0]}-{y}\", \"%d-%m-%Y\"))\n",
    "    ends.append(datetime.datetime.strptime(f\"{period[1]}-{y}\", \"%d-%m-%Y\"))\n",
    "\n",
    "df_veil['month'] = df_veil['date'].apply(lambda x : np.sum([s <= x <= e for s,e in zip(starts, ends)]) > 0 )\n",
    "df_veil = df_veil[df_veil['month']]\n",
    "\n",
    "# select hour range\n",
    "hours = [ f'{x}:' for x in range(hour_range[0], hour_range[1])]\n",
    "df_veiled['time_bool'] = df_veiled['time'].apply(lambda x: x[0:3] in hours) \n",
    "df_veiled_both = df_veiled[ df_veiled['time_bool']]\n",
    "df_veiled_both['time_period'] = df_veiled_both['time'].apply(lambda x : x[0:4])\n",
    "\n",
    "# group \n",
    "df_veiled_both['count'] = 1\n",
    "df_veil_of_darkness = df_veiled_both.groupby(['time_period','subject_race']).agg({'count':'count'})\n",
    "df_veil_of_darkness_all = df_veiled_both.groupby('time_period').agg({'count':'count'})\n",
    "df_veil_of_darkness.reset_index(inplace=True)\n",
    "df_veil_of_darkness_all.reset_index(inplace=True)\n",
    "df_veil_of_darkness = df_veil_of_darkness.merge(df_veil_of_darkness_all, on=['time_period'])\n",
    "df_veil_of_darkness['black_stop_rate'] = df_veil_of_darkness['count_x'] / df_veil_of_darkness['count_y']\n",
    "df_veil_of_darkness = df_veil_of_darkness[df_veil_of_darkness['subject_race'] == 'black']\n",
    "df_veil_study = df_veil_of_darkness.reset_index()\n",
    "\n",
    "\n",
    "\n",
    "# select only black people arrested\n",
    "data_black = df_veil_study[df_veil_study['subject_race'] == 'black']\n",
    "\n",
    "\n",
    "return data_black\n",
    "\n",
    "\n",
    "\n",
    "# df_black = plot_veil_of_darkness(df, period = period, sunset_time = sunset_time, hour_range = hour_range)"
   ]
  },
  {
   "cell_type": "code",
   "execution_count": null,
   "metadata": {},
   "outputs": [],
   "source": [
    "# !pip uninstall astral\n",
    "# !pip install astral==1.10.1\n",
    "# !pip install astral\n",
    "# !pip install tqdm"
   ]
  },
  {
   "cell_type": "code",
   "execution_count": 203,
   "metadata": {},
   "outputs": [
    {
     "output_type": "display_data",
     "data": {
      "text/plain": "HBox(children=(HTML(value=''), FloatProgress(value=1.0, bar_style='info', layout=Layout(width='20px'), max=1.0…",
      "application/vnd.jupyter.widget-view+json": {
       "version_major": 2,
       "version_minor": 0,
       "model_id": "65b52b64f88447e186acfcac50d56a5b"
      }
     },
     "metadata": {}
    },
    {
     "output_type": "stream",
     "name": "stdout",
     "text": [
      "Cleaned subset is composed of 4194281 datapoints\n"
     ]
    },
    {
     "output_type": "display_data",
     "data": {
      "text/plain": "HBox(children=(HTML(value=''), FloatProgress(value=0.0, max=4194281.0), HTML(value='')))",
      "application/vnd.jupyter.widget-view+json": {
       "version_major": 2,
       "version_minor": 0,
       "model_id": "16f9ef0c5a524c3f90de40713855d87a"
      }
     },
     "metadata": {}
    },
    {
     "output_type": "stream",
     "name": "stdout",
     "text": [
      "\n"
     ]
    },
    {
     "output_type": "execute_result",
     "data": {
      "text/plain": [
       "                 date       county_name subject_race officer_race\n",
       "1 2010-01-06 16:14:43      Duval County        white        black\n",
       "2 2010-01-08 19:39:31      Duval County        white        white\n",
       "3 2010-01-11 11:56:34  St. Lucie County        white        white\n",
       "6 2010-01-15 09:18:02    Gadsden County        white        white\n",
       "7 2010-01-15 10:16:59    Gadsden County     hispanic        white"
      ],
      "text/html": "<div>\n<style scoped>\n    .dataframe tbody tr th:only-of-type {\n        vertical-align: middle;\n    }\n\n    .dataframe tbody tr th {\n        vertical-align: top;\n    }\n\n    .dataframe thead th {\n        text-align: right;\n    }\n</style>\n<table border=\"1\" class=\"dataframe\">\n  <thead>\n    <tr style=\"text-align: right;\">\n      <th></th>\n      <th>date</th>\n      <th>county_name</th>\n      <th>subject_race</th>\n      <th>officer_race</th>\n    </tr>\n  </thead>\n  <tbody>\n    <tr>\n      <th>1</th>\n      <td>2010-01-06 16:14:43</td>\n      <td>Duval County</td>\n      <td>white</td>\n      <td>black</td>\n    </tr>\n    <tr>\n      <th>2</th>\n      <td>2010-01-08 19:39:31</td>\n      <td>Duval County</td>\n      <td>white</td>\n      <td>white</td>\n    </tr>\n    <tr>\n      <th>3</th>\n      <td>2010-01-11 11:56:34</td>\n      <td>St. Lucie County</td>\n      <td>white</td>\n      <td>white</td>\n    </tr>\n    <tr>\n      <th>6</th>\n      <td>2010-01-15 09:18:02</td>\n      <td>Gadsden County</td>\n      <td>white</td>\n      <td>white</td>\n    </tr>\n    <tr>\n      <th>7</th>\n      <td>2010-01-15 10:16:59</td>\n      <td>Gadsden County</td>\n      <td>hispanic</td>\n      <td>white</td>\n    </tr>\n  </tbody>\n</table>\n</div>"
     },
     "metadata": {},
     "execution_count": 203
    }
   ],
   "source": [
    "import datetime\n",
    "from matplotlib.pyplot import figure\n",
    "from tqdm.notebook import tqdm, tqdm_notebook\n",
    "from datetime import datetime\n",
    "tqdm_notebook().pandas()\n",
    "# s = sun(cityobserver, date=datetime.date())\n",
    "\n",
    "# def plot_veil_of_darkness(data, period= ['01-12', '20-12'], sunset_time='17:3', hour_range=[15,20]):\n",
    "CHOSEN_CHARACTERISTIC = 'officer_race'\n",
    "\n",
    "\n",
    "df_veil = copy(df)\n",
    "# remove unused columns\n",
    "columns_time = ['date','time']\n",
    "columns_to_drop = ['subject_sex', 'officer_age', 'subject_age', 'arrest_made', 'officer_yos', 'officer_sex', 'officer_yos', 'citation_issued', 'warning_issued', 'outcome', 'frisk_performed', 'search_conducted']\n",
    "df_veil = remove_general_unused_columns(df_veil, columns_time)\n",
    "df_veil.drop(columns=columns_to_drop, inplace=True)\n",
    "\n",
    "# make sure that required data are present (drop if nan values in those columns)\n",
    "important_features = ['subject_race', CHOSEN_CHARACTERISTIC ]\n",
    "df_veil.dropna(inplace=True, subset=important_features)\n",
    "print('Cleaned subset is composed of {} datapoints'.format(df_veil.shape[0]))\n",
    "\n",
    "df_veil['date'] = (df_veil['date'] + ' ' + df_veil['time']).progress_apply(lambda x : datetime.strptime(x, '%Y-%m-%d %H:%M:%S'))\n",
    "df_veil.drop(columns=['time'], inplace=True)\n",
    "df_veil.head()"
   ]
  },
  {
   "cell_type": "code",
   "execution_count": 204,
   "metadata": {},
   "outputs": [
    {
     "output_type": "error",
     "ename": "SyntaxError",
     "evalue": "invalid syntax (<ipython-input-204-c8fff845c549>, line 8)",
     "traceback": [
      "\u001b[1;36m  File \u001b[1;32m\"<ipython-input-204-c8fff845c549>\"\u001b[1;36m, line \u001b[1;32m8\u001b[0m\n\u001b[1;33m    df_veil.['dusk_time'] = df_veil['date'].progress_apply(lambda x : sun(city.observer, date=x)['dusk'].replace(tzinfo=None))\u001b[0m\n\u001b[1;37m            ^\u001b[0m\n\u001b[1;31mSyntaxError\u001b[0m\u001b[1;31m:\u001b[0m invalid syntax\n"
     ]
    }
   ],
   "source": [
    "import astral.sun as astralsun\n",
    "from astral import LocationInfo\n",
    "from astral.sun import sun\n",
    "from datetime import datetime\n",
    "\n",
    "city = LocationInfo(\"Orlando\")\n",
    "\n",
    "df_veil['dusk_time'] = df_veil['date'].progress_apply(lambda x : sun(city.observer, date=x)['dusk'].replace(tzinfo=None))\n",
    "df_veil['time_relative'] = df_veil['date'] - df_veil['dusk_time'] #.progress_apply(lambda x : x - )\n",
    "df_veil.head()"
   ]
  },
  {
   "cell_type": "code",
   "execution_count": 137,
   "metadata": {},
   "outputs": [
    {
     "output_type": "display_data",
     "data": {
      "text/plain": "HBox(children=(HTML(value=''), FloatProgress(value=0.0, max=4194281.0), HTML(value='')))",
      "application/vnd.jupyter.widget-view+json": {
       "version_major": 2,
       "version_minor": 0,
       "model_id": "97b9537a5e31464d95e82a4ad49b93b8"
      }
     },
     "metadata": {}
    },
    {
     "output_type": "stream",
     "name": "stdout",
     "text": [
      "\n"
     ]
    },
    {
     "output_type": "execute_result",
     "data": {
      "text/plain": [
       "                  date       county_name subject_race officer_race  \\\n",
       "1  2010-01-06 16:14:43      Duval County        white        black   \n",
       "2  2010-01-08 19:39:31      Duval County        white        white   \n",
       "3  2010-01-11 11:56:34  St. Lucie County        white        white   \n",
       "8  2010-01-15 12:30:12       Leon County     hispanic        white   \n",
       "10 2010-01-15 13:55:22    Gadsden County        black        white   \n",
       "\n",
       "              time_relative  time_cat  \n",
       "1  -1 days +23:27:15.684459        -3  \n",
       "2    0 days 02:49:39.921148        11  \n",
       "3  -1 days +19:02:53.115830       -20  \n",
       "8  -1 days +19:31:01.201014       -18  \n",
       "10 -1 days +20:56:11.201014       -13  "
      ],
      "text/html": "<div>\n<style scoped>\n    .dataframe tbody tr th:only-of-type {\n        vertical-align: middle;\n    }\n\n    .dataframe tbody tr th {\n        vertical-align: top;\n    }\n\n    .dataframe thead th {\n        text-align: right;\n    }\n</style>\n<table border=\"1\" class=\"dataframe\">\n  <thead>\n    <tr style=\"text-align: right;\">\n      <th></th>\n      <th>date</th>\n      <th>county_name</th>\n      <th>subject_race</th>\n      <th>officer_race</th>\n      <th>time_relative</th>\n      <th>time_cat</th>\n    </tr>\n  </thead>\n  <tbody>\n    <tr>\n      <th>1</th>\n      <td>2010-01-06 16:14:43</td>\n      <td>Duval County</td>\n      <td>white</td>\n      <td>black</td>\n      <td>-1 days +23:27:15.684459</td>\n      <td>-3</td>\n    </tr>\n    <tr>\n      <th>2</th>\n      <td>2010-01-08 19:39:31</td>\n      <td>Duval County</td>\n      <td>white</td>\n      <td>white</td>\n      <td>0 days 02:49:39.921148</td>\n      <td>11</td>\n    </tr>\n    <tr>\n      <th>3</th>\n      <td>2010-01-11 11:56:34</td>\n      <td>St. Lucie County</td>\n      <td>white</td>\n      <td>white</td>\n      <td>-1 days +19:02:53.115830</td>\n      <td>-20</td>\n    </tr>\n    <tr>\n      <th>8</th>\n      <td>2010-01-15 12:30:12</td>\n      <td>Leon County</td>\n      <td>hispanic</td>\n      <td>white</td>\n      <td>-1 days +19:31:01.201014</td>\n      <td>-18</td>\n    </tr>\n    <tr>\n      <th>10</th>\n      <td>2010-01-15 13:55:22</td>\n      <td>Gadsden County</td>\n      <td>black</td>\n      <td>white</td>\n      <td>-1 days +20:56:11.201014</td>\n      <td>-13</td>\n    </tr>\n  </tbody>\n</table>\n</div>"
     },
     "metadata": {},
     "execution_count": 137
    }
   ],
   "source": [
    "WIDTH = 20\n",
    "EXTEND= 2\n",
    "\n",
    "categories = [timedelta(minutes=15*i) for i in range(-WIDTH-EXTEND, WIDTH+1)]\n",
    "\n",
    "def get_category(timed):\n",
    "    for i, t in enumerate(categories):\n",
    "        if timed < t:\n",
    "            return i-WIDTH-EXTEND-1 if i else -1\n",
    "    return -1\n",
    "# print(categories)\n",
    "df_veil['time_cat'] = df_veil['time_relative'].progress_apply(lambda x : get_category(x))\n",
    "df_veil_cleaned = df_veil[df_veil['time_cat'] != -1]\n",
    "df_veil_cleaned.head()"
   ]
  },
  {
   "cell_type": "code",
   "execution_count": 202,
   "metadata": {},
   "outputs": [
    {
     "output_type": "display_data",
     "data": {
      "text/plain": "HBox(children=(HTML(value=''), FloatProgress(value=0.0, max=1907174.0), HTML(value='')))",
      "application/vnd.jupyter.widget-view+json": {
       "version_major": 2,
       "version_minor": 0,
       "model_id": "e7c41de48b4649169c07dc2713f48f74"
      }
     },
     "metadata": {}
    },
    {
     "output_type": "stream",
     "name": "stdout",
     "text": [
      "\n"
     ]
    },
    {
     "output_type": "execute_result",
     "data": {
      "text/plain": [
       "                  date       county_name subject_race officer_race  \\\n",
       "1  2010-01-06 16:14:43      Duval County        white        black   \n",
       "2  2010-01-08 19:39:31      Duval County        white        white   \n",
       "3  2010-01-11 11:56:34  St. Lucie County        white        white   \n",
       "8  2010-01-15 12:30:12       Leon County     hispanic        white   \n",
       "10 2010-01-15 13:55:22    Gadsden County        black        white   \n",
       "\n",
       "              time_relative  time_cat hour_dusk  \n",
       "1  -1 days +23:27:15.684459        -3     16:14  \n",
       "2    0 days 02:49:39.921148        11     19:39  \n",
       "3  -1 days +19:02:53.115830       -20     11:56  \n",
       "8  -1 days +19:31:01.201014       -18     12:30  \n",
       "10 -1 days +20:56:11.201014       -13     13:55  "
      ],
      "text/html": "<div>\n<style scoped>\n    .dataframe tbody tr th:only-of-type {\n        vertical-align: middle;\n    }\n\n    .dataframe tbody tr th {\n        vertical-align: top;\n    }\n\n    .dataframe thead th {\n        text-align: right;\n    }\n</style>\n<table border=\"1\" class=\"dataframe\">\n  <thead>\n    <tr style=\"text-align: right;\">\n      <th></th>\n      <th>date</th>\n      <th>county_name</th>\n      <th>subject_race</th>\n      <th>officer_race</th>\n      <th>time_relative</th>\n      <th>time_cat</th>\n      <th>hour_dusk</th>\n    </tr>\n  </thead>\n  <tbody>\n    <tr>\n      <th>1</th>\n      <td>2010-01-06 16:14:43</td>\n      <td>Duval County</td>\n      <td>white</td>\n      <td>black</td>\n      <td>-1 days +23:27:15.684459</td>\n      <td>-3</td>\n      <td>16:14</td>\n    </tr>\n    <tr>\n      <th>2</th>\n      <td>2010-01-08 19:39:31</td>\n      <td>Duval County</td>\n      <td>white</td>\n      <td>white</td>\n      <td>0 days 02:49:39.921148</td>\n      <td>11</td>\n      <td>19:39</td>\n    </tr>\n    <tr>\n      <th>3</th>\n      <td>2010-01-11 11:56:34</td>\n      <td>St. Lucie County</td>\n      <td>white</td>\n      <td>white</td>\n      <td>-1 days +19:02:53.115830</td>\n      <td>-20</td>\n      <td>11:56</td>\n    </tr>\n    <tr>\n      <th>8</th>\n      <td>2010-01-15 12:30:12</td>\n      <td>Leon County</td>\n      <td>hispanic</td>\n      <td>white</td>\n      <td>-1 days +19:31:01.201014</td>\n      <td>-18</td>\n      <td>12:30</td>\n    </tr>\n    <tr>\n      <th>10</th>\n      <td>2010-01-15 13:55:22</td>\n      <td>Gadsden County</td>\n      <td>black</td>\n      <td>white</td>\n      <td>-1 days +20:56:11.201014</td>\n      <td>-13</td>\n      <td>13:55</td>\n    </tr>\n  </tbody>\n</table>\n</div>"
     },
     "metadata": {},
     "execution_count": 202
    }
   ],
   "source": [
    "# select the county\n",
    "df_for_vod = copy(df_veil_cleaned)\n",
    "\n",
    "# start_h = datetime.time(19,0,0)\n",
    "# start_h = datetime.time(19,0,0)\n",
    "\n",
    "# df_for_vod['hour_dusk'] = df_for_vod['date'].progress_apply(lambda x : x.strftime('%H:%M'))\n",
    "\n",
    "# df_for_vod['chosen_dusk'] = df_for_vod['hour_dusk'].progress_apply(lambda x: )\n",
    "\n",
    "# df_for_vod = df_for_vod[df_for_vod['hour_dusk']]\n",
    "df_for_vod.head()\n",
    "\n",
    "# df_vod = df_vod[df_vod['county_name'].isin([])]\n",
    "# df_vod = df_vod[df_vod['officer_race'] == 'race']"
   ]
  },
  {
   "cell_type": "code",
   "execution_count": 201,
   "metadata": {},
   "outputs": [
    {
     "output_type": "execute_result",
     "data": {
      "text/plain": [
       "date              datetime64[ns]\n",
       "county_name               object\n",
       "subject_race              object\n",
       "officer_race              object\n",
       "time_relative    timedelta64[ns]\n",
       "time_cat                   int64\n",
       "dtype: object"
      ]
     },
     "metadata": {},
     "execution_count": 201
    }
   ],
   "source": [
    "df_for_vod.dtypes"
   ]
  },
  {
   "cell_type": "code",
   "execution_count": 193,
   "metadata": {},
   "outputs": [
    {
     "output_type": "stream",
     "name": "stdout",
     "text": [
      "10651\n"
     ]
    },
    {
     "output_type": "execute_result",
     "data": {
      "text/plain": [
       "                    date    county_name subject_race officer_race  \\\n",
       "4037 2010-02-10 12:21:26  Holmes County        white        white   \n",
       "4061 2010-02-10 13:25:53  Holmes County        black        white   \n",
       "4074 2010-02-10 13:55:06  Holmes County        black        white   \n",
       "4078 2010-02-10 14:05:51  Holmes County        white        white   \n",
       "4111 2010-02-10 15:05:23  Holmes County        white        white   \n",
       "\n",
       "                time_relative  time_cat  \n",
       "4037 -1 days +18:40:09.912578       -22  \n",
       "4061 -1 days +19:44:36.912578       -18  \n",
       "4074 -1 days +20:13:49.912578       -16  \n",
       "4078 -1 days +20:24:34.912578       -15  \n",
       "4111 -1 days +21:24:06.912578       -11  "
      ],
      "text/html": "<div>\n<style scoped>\n    .dataframe tbody tr th:only-of-type {\n        vertical-align: middle;\n    }\n\n    .dataframe tbody tr th {\n        vertical-align: top;\n    }\n\n    .dataframe thead th {\n        text-align: right;\n    }\n</style>\n<table border=\"1\" class=\"dataframe\">\n  <thead>\n    <tr style=\"text-align: right;\">\n      <th></th>\n      <th>date</th>\n      <th>county_name</th>\n      <th>subject_race</th>\n      <th>officer_race</th>\n      <th>time_relative</th>\n      <th>time_cat</th>\n    </tr>\n  </thead>\n  <tbody>\n    <tr>\n      <th>4037</th>\n      <td>2010-02-10 12:21:26</td>\n      <td>Holmes County</td>\n      <td>white</td>\n      <td>white</td>\n      <td>-1 days +18:40:09.912578</td>\n      <td>-22</td>\n    </tr>\n    <tr>\n      <th>4061</th>\n      <td>2010-02-10 13:25:53</td>\n      <td>Holmes County</td>\n      <td>black</td>\n      <td>white</td>\n      <td>-1 days +19:44:36.912578</td>\n      <td>-18</td>\n    </tr>\n    <tr>\n      <th>4074</th>\n      <td>2010-02-10 13:55:06</td>\n      <td>Holmes County</td>\n      <td>black</td>\n      <td>white</td>\n      <td>-1 days +20:13:49.912578</td>\n      <td>-16</td>\n    </tr>\n    <tr>\n      <th>4078</th>\n      <td>2010-02-10 14:05:51</td>\n      <td>Holmes County</td>\n      <td>white</td>\n      <td>white</td>\n      <td>-1 days +20:24:34.912578</td>\n      <td>-15</td>\n    </tr>\n    <tr>\n      <th>4111</th>\n      <td>2010-02-10 15:05:23</td>\n      <td>Holmes County</td>\n      <td>white</td>\n      <td>white</td>\n      <td>-1 days +21:24:06.912578</td>\n      <td>-11</td>\n    </tr>\n  </tbody>\n</table>\n</div>"
     },
     "metadata": {},
     "execution_count": 193
    }
   ],
   "source": [
    "df_for_vod = df_for_vod[df_for_vod['county_name'] == 'Holmes County']\n",
    "print(df_for_vod.shape[0])\n",
    "df_for_vod.head()\n",
    "\n",
    "\n",
    "#    Working : Taylor county"
   ]
  },
  {
   "cell_type": "code",
   "execution_count": 194,
   "metadata": {},
   "outputs": [
    {
     "output_type": "execute_result",
     "data": {
      "text/plain": [
       "   time_cat            subject_race  count_x  count_y  race_stop_rate\n",
       "0       -22  asian/pacific islander        5      487        0.010267\n",
       "1       -22                   black       76      487        0.156057\n",
       "2       -22                hispanic       35      487        0.071869\n",
       "3       -22                   other        9      487        0.018480\n",
       "4       -22                   white      362      487        0.743326"
      ],
      "text/html": "<div>\n<style scoped>\n    .dataframe tbody tr th:only-of-type {\n        vertical-align: middle;\n    }\n\n    .dataframe tbody tr th {\n        vertical-align: top;\n    }\n\n    .dataframe thead th {\n        text-align: right;\n    }\n</style>\n<table border=\"1\" class=\"dataframe\">\n  <thead>\n    <tr style=\"text-align: right;\">\n      <th></th>\n      <th>time_cat</th>\n      <th>subject_race</th>\n      <th>count_x</th>\n      <th>count_y</th>\n      <th>race_stop_rate</th>\n    </tr>\n  </thead>\n  <tbody>\n    <tr>\n      <th>0</th>\n      <td>-22</td>\n      <td>asian/pacific islander</td>\n      <td>5</td>\n      <td>487</td>\n      <td>0.010267</td>\n    </tr>\n    <tr>\n      <th>1</th>\n      <td>-22</td>\n      <td>black</td>\n      <td>76</td>\n      <td>487</td>\n      <td>0.156057</td>\n    </tr>\n    <tr>\n      <th>2</th>\n      <td>-22</td>\n      <td>hispanic</td>\n      <td>35</td>\n      <td>487</td>\n      <td>0.071869</td>\n    </tr>\n    <tr>\n      <th>3</th>\n      <td>-22</td>\n      <td>other</td>\n      <td>9</td>\n      <td>487</td>\n      <td>0.018480</td>\n    </tr>\n    <tr>\n      <th>4</th>\n      <td>-22</td>\n      <td>white</td>\n      <td>362</td>\n      <td>487</td>\n      <td>0.743326</td>\n    </tr>\n  </tbody>\n</table>\n</div>"
     },
     "metadata": {},
     "execution_count": 194
    }
   ],
   "source": [
    "def group_data(df_to_group, which_hour=None):\n",
    "    df_to_group['count'] = 1\n",
    "\n",
    "    if which_hour:\n",
    "        df_to_group = df_to_group[]\n",
    "\n",
    "    # group the categories\n",
    "    df_vod = df_to_group.groupby(['time_cat','subject_race']).agg({'count':'count'})\n",
    "    df_grouped_by_timecat = df_to_group.groupby('time_cat').agg({'count':'count'})\n",
    "\n",
    "    # merge both\n",
    "    df_vod.reset_index(inplace=True)\n",
    "    df_grouped_by_timecat.reset_index(inplace=True)\n",
    "    df_vod = df_vod.merge(df_grouped_by_timecat, on=['time_cat'])\n",
    "\n",
    "    # compute the stop_rate\n",
    "    df_vod['race_stop_rate'] = df_vod['count_x'] / df_vod['count_y']\n",
    "    return df_vod\n",
    "\n",
    "\n",
    "df_vod = group_data(df_for_vod)\n",
    "df_vod.head()"
   ]
  },
  {
   "cell_type": "code",
   "execution_count": 195,
   "metadata": {},
   "outputs": [
    {
     "output_type": "execute_result",
     "data": {
      "text/plain": [
       "    time_cat subject_race  count_x  count_y  race_stop_rate\n",
       "1        -22        black       76      487        0.156057\n",
       "6        -21        black       85      493        0.172414\n",
       "11       -20        black       84      454        0.185022\n",
       "16       -19        black       90      495        0.181818\n",
       "21       -18        black       86      475        0.181053"
      ],
      "text/html": "<div>\n<style scoped>\n    .dataframe tbody tr th:only-of-type {\n        vertical-align: middle;\n    }\n\n    .dataframe tbody tr th {\n        vertical-align: top;\n    }\n\n    .dataframe thead th {\n        text-align: right;\n    }\n</style>\n<table border=\"1\" class=\"dataframe\">\n  <thead>\n    <tr style=\"text-align: right;\">\n      <th></th>\n      <th>time_cat</th>\n      <th>subject_race</th>\n      <th>count_x</th>\n      <th>count_y</th>\n      <th>race_stop_rate</th>\n    </tr>\n  </thead>\n  <tbody>\n    <tr>\n      <th>1</th>\n      <td>-22</td>\n      <td>black</td>\n      <td>76</td>\n      <td>487</td>\n      <td>0.156057</td>\n    </tr>\n    <tr>\n      <th>6</th>\n      <td>-21</td>\n      <td>black</td>\n      <td>85</td>\n      <td>493</td>\n      <td>0.172414</td>\n    </tr>\n    <tr>\n      <th>11</th>\n      <td>-20</td>\n      <td>black</td>\n      <td>84</td>\n      <td>454</td>\n      <td>0.185022</td>\n    </tr>\n    <tr>\n      <th>16</th>\n      <td>-19</td>\n      <td>black</td>\n      <td>90</td>\n      <td>495</td>\n      <td>0.181818</td>\n    </tr>\n    <tr>\n      <th>21</th>\n      <td>-18</td>\n      <td>black</td>\n      <td>86</td>\n      <td>475</td>\n      <td>0.181053</td>\n    </tr>\n  </tbody>\n</table>\n</div>"
     },
     "metadata": {},
     "execution_count": 195
    }
   ],
   "source": [
    "# select only black people arrested\n",
    "data_black = df_vod[df_vod['subject_race'] == 'black']\n",
    "data_black.head()"
   ]
  },
  {
   "cell_type": "code",
   "execution_count": null,
   "metadata": {},
   "outputs": [],
   "source": [
    "for c in df_veil_cleaned['county_name']:\n",
    "    if 'llier' in c:\n",
    "        print(c)\n",
    "        break"
   ]
  },
  {
   "cell_type": "code",
   "execution_count": 199,
   "metadata": {},
   "outputs": [
    {
     "output_type": "display_data",
     "data": {
      "text/plain": "<Figure size 720x360 with 1 Axes>",
      "image/svg+xml": "<?xml version=\"1.0\" encoding=\"utf-8\" standalone=\"no\"?>\r\n<!DOCTYPE svg PUBLIC \"-//W3C//DTD SVG 1.1//EN\"\r\n  \"http://www.w3.org/Graphics/SVG/1.1/DTD/svg11.dtd\">\r\n<!-- Created with matplotlib (https://matplotlib.org/) -->\r\n<svg height=\"316.55625pt\" version=\"1.1\" viewBox=\"0 0 605.803125 316.55625\" width=\"605.803125pt\" xmlns=\"http://www.w3.org/2000/svg\" xmlns:xlink=\"http://www.w3.org/1999/xlink\">\r\n <metadata>\r\n  <rdf:RDF xmlns:cc=\"http://creativecommons.org/ns#\" xmlns:dc=\"http://purl.org/dc/elements/1.1/\" xmlns:rdf=\"http://www.w3.org/1999/02/22-rdf-syntax-ns#\">\r\n   <cc:Work>\r\n    <dc:type rdf:resource=\"http://purl.org/dc/dcmitype/StillImage\"/>\r\n    <dc:date>2020-12-18T12:28:53.809372</dc:date>\r\n    <dc:format>image/svg+xml</dc:format>\r\n    <dc:creator>\r\n     <cc:Agent>\r\n      <dc:title>Matplotlib v3.3.2, https://matplotlib.org/</dc:title>\r\n     </cc:Agent>\r\n    </dc:creator>\r\n   </cc:Work>\r\n  </rdf:RDF>\r\n </metadata>\r\n <defs>\r\n  <style type=\"text/css\">*{stroke-linecap:butt;stroke-linejoin:round;}</style>\r\n </defs>\r\n <g id=\"figure_1\">\r\n  <g id=\"patch_1\">\r\n   <path d=\"M 0 316.55625 \r\nL 605.803125 316.55625 \r\nL 605.803125 0 \r\nL 0 0 \r\nz\r\n\" style=\"fill:none;\"/>\r\n  </g>\r\n  <g id=\"axes_1\">\r\n   <g id=\"patch_2\">\r\n    <path d=\"M 40.603125 279 \r\nL 598.603125 279 \r\nL 598.603125 7.2 \r\nL 40.603125 7.2 \r\nz\r\n\" style=\"fill:#ffffff;\"/>\r\n   </g>\r\n   <g id=\"PathCollection_1\">\r\n    <path clip-path=\"url(#p776e2fb717)\" d=\"M 65.966761 273.48161 \r\nC 67.779731 273.48161 69.51869 272.76131 70.800653 271.479346 \r\nC 72.082616 270.197383 72.802917 268.458424 72.802917 266.645455 \r\nC 72.802917 264.832485 72.082616 263.093526 70.800653 261.811563 \r\nC 69.51869 260.5296 67.779731 259.809299 65.966761 259.809299 \r\nC 64.153792 259.809299 62.414833 260.5296 61.13287 261.811563 \r\nC 59.850906 263.093526 59.130606 264.832485 59.130606 266.645455 \r\nC 59.130606 268.458424 59.850906 270.197383 61.13287 271.479346 \r\nC 62.414833 272.76131 64.153792 273.48161 65.966761 273.48161 \r\nz\r\n\" style=\"stroke:#ffffff;stroke-width:0.419872;\"/>\r\n    <path clip-path=\"url(#p776e2fb717)\" d=\"M 102.200528 228.095665 \r\nC 104.075797 228.095665 105.874512 227.350613 107.200528 226.024597 \r\nC 108.526543 224.698582 109.271595 222.899866 109.271595 221.024597 \r\nC 109.271595 219.149328 108.526543 217.350613 107.200528 216.024597 \r\nC 105.874512 214.698582 104.075797 213.953529 102.200528 213.953529 \r\nC 100.325258 213.953529 98.526543 214.698582 97.200528 216.024597 \r\nC 95.874512 217.350613 95.12946 219.149328 95.12946 221.024597 \r\nC 95.12946 222.899866 95.874512 224.698582 97.200528 226.024597 \r\nC 98.526543 227.350613 100.325258 228.095665 102.200528 228.095665 \r\nz\r\n\" style=\"stroke:#ffffff;stroke-width:0.419872;\"/>\r\n    <path clip-path=\"url(#p776e2fb717)\" d=\"M 138.434294 163.948761 \r\nC 140.19752 163.948761 141.888767 163.248224 143.135557 162.001435 \r\nC 144.382346 160.754645 145.082884 159.063398 145.082884 157.300172 \r\nC 145.082884 155.536945 144.382346 153.845698 143.135557 152.598909 \r\nC 141.888767 151.352119 140.19752 150.651582 138.434294 150.651582 \r\nC 136.671067 150.651582 134.97982 151.352119 133.733031 152.598909 \r\nC 132.486241 153.845698 131.785704 155.536945 131.785704 157.300172 \r\nC 131.785704 159.063398 132.486241 160.754645 133.733031 162.001435 \r\nC 134.97982 163.248224 136.671067 163.948761 138.434294 163.948761 \r\nz\r\n\" style=\"stroke:#ffffff;stroke-width:0.419872;\"/>\r\n    <path clip-path=\"url(#p776e2fb717)\" d=\"M 174.66806 254.583098 \r\nC 176.298038 254.583098 177.861477 253.9355 179.014045 252.782932 \r\nC 180.166614 251.630363 180.814211 250.066925 180.814211 248.436946 \r\nC 180.814211 246.806968 180.166614 245.24353 179.014045 244.090961 \r\nC 177.861477 242.938392 176.298038 242.290795 174.66806 242.290795 \r\nC 173.038082 242.290795 171.474644 242.938392 170.322075 244.090961 \r\nC 169.169506 245.24353 168.521909 246.806968 168.521909 248.436946 \r\nC 168.521909 250.066925 169.169506 251.630363 170.322075 252.782932 \r\nC 171.474644 253.9355 173.038082 254.583098 174.66806 254.583098 \r\nz\r\n\" style=\"stroke:#ffffff;stroke-width:0.419872;\"/>\r\n    <path clip-path=\"url(#p776e2fb717)\" d=\"M 210.901826 154.48 \r\nC 212.488017 154.48 214.009454 153.8498 215.13106 152.728194 \r\nC 216.252666 151.606588 216.882866 150.08515 216.882866 148.49896 \r\nC 216.882866 146.91277 216.252666 145.391332 215.13106 144.269727 \r\nC 214.009454 143.148121 212.488017 142.517921 210.901826 142.517921 \r\nC 209.315636 142.517921 207.794199 143.148121 206.672593 144.269727 \r\nC 205.550987 145.391332 204.920787 146.91277 204.920787 148.49896 \r\nC 204.920787 150.08515 205.550987 151.606588 206.672593 152.728194 \r\nC 207.794199 153.8498 209.315636 154.48 210.901826 154.48 \r\nz\r\n\" style=\"stroke:#ffffff;stroke-width:0.419872;\"/>\r\n    <path clip-path=\"url(#p776e2fb717)\" d=\"M 247.135593 246.258748 \r\nC 248.55925 246.258748 249.92479 245.693123 250.931467 244.686445 \r\nC 251.938145 243.679767 252.50377 242.314228 252.50377 240.89057 \r\nC 252.50377 239.466913 251.938145 238.101373 250.931467 237.094695 \r\nC 249.92479 236.088018 248.55925 235.522393 247.135593 235.522393 \r\nC 245.711935 235.522393 244.346396 236.088018 243.339718 237.094695 \r\nC 242.33304 238.101373 241.767415 239.466913 241.767415 240.89057 \r\nC 241.767415 242.314228 242.33304 243.679767 243.339718 244.686445 \r\nC 244.346396 245.693123 245.711935 246.258748 247.135593 246.258748 \r\nz\r\n\" style=\"stroke:#ffffff;stroke-width:0.419872;\"/>\r\n    <path clip-path=\"url(#p776e2fb717)\" d=\"M 283.369359 253.46284 \r\nC 284.690396 253.46284 285.957505 252.937986 286.89162 252.003872 \r\nC 287.825734 251.069757 288.350588 249.802648 288.350588 248.481611 \r\nC 288.350588 247.160573 287.825734 245.893464 286.89162 244.95935 \r\nC 285.957505 244.025235 284.690396 243.500381 283.369359 243.500381 \r\nC 282.048321 243.500381 280.781212 244.025235 279.847098 244.95935 \r\nC 278.912983 245.893464 278.388129 247.160573 278.388129 248.481611 \r\nC 278.388129 249.802648 278.912983 251.069757 279.847098 252.003872 \r\nC 280.781212 252.937986 282.048321 253.46284 283.369359 253.46284 \r\nz\r\n\" style=\"stroke:#ffffff;stroke-width:0.419872;\"/>\r\n    <path clip-path=\"url(#p776e2fb717)\" d=\"M 355.836891 147.469556 \r\nC 356.934186 147.469556 357.986686 147.033596 358.762591 146.257692 \r\nC 359.538496 145.481787 359.974455 144.429287 359.974455 143.331992 \r\nC 359.974455 142.234697 359.538496 141.182197 358.762591 140.406292 \r\nC 357.986686 139.630387 356.934186 139.194428 355.836891 139.194428 \r\nC 354.739596 139.194428 353.687096 139.630387 352.911191 140.406292 \r\nC 352.135287 141.182197 351.699327 142.234697 351.699327 143.331992 \r\nC 351.699327 144.429287 352.135287 145.481787 352.911191 146.257692 \r\nC 353.687096 147.033596 354.739596 147.469556 355.836891 147.469556 \r\nz\r\n\" style=\"stroke:#ffffff;stroke-width:0.419872;\"/>\r\n    <path clip-path=\"url(#p776e2fb717)\" d=\"M 392.070657 229.943128 \r\nC 393.19794 229.943128 394.279203 229.495254 395.076312 228.698145 \r\nC 395.873421 227.901037 396.321295 226.819773 396.321295 225.692491 \r\nC 396.321295 224.565209 395.873421 223.483946 395.076312 222.686837 \r\nC 394.279203 221.889728 393.19794 221.441854 392.070657 221.441854 \r\nC 390.943375 221.441854 389.862112 221.889728 389.065003 222.686837 \r\nC 388.267894 223.483946 387.82002 224.565209 387.82002 225.692491 \r\nC 387.82002 226.819773 388.267894 227.901037 389.065003 228.698145 \r\nC 389.862112 229.495254 390.943375 229.943128 392.070657 229.943128 \r\nz\r\n\" style=\"stroke:#ffffff;stroke-width:0.419872;\"/>\r\n    <path clip-path=\"url(#p776e2fb717)\" d=\"M 428.304424 241.267546 \r\nC 429.066945 241.267546 429.798338 240.964593 430.337522 240.425409 \r\nC 430.876706 239.886225 431.179659 239.154832 431.179659 238.39231 \r\nC 431.179659 237.629789 430.876706 236.898396 430.337522 236.359212 \r\nC 429.798338 235.820028 429.066945 235.517075 428.304424 235.517075 \r\nC 427.541902 235.517075 426.810509 235.820028 426.271325 236.359212 \r\nC 425.732141 236.898396 425.429188 237.629789 425.429188 238.39231 \r\nC 425.429188 239.154832 425.732141 239.886225 426.271325 240.425409 \r\nC 426.810509 240.964593 427.541902 241.267546 428.304424 241.267546 \r\nz\r\n\" style=\"stroke:#ffffff;stroke-width:0.419872;\"/>\r\n    <path clip-path=\"url(#p776e2fb717)\" d=\"M 464.53819 113.112596 \r\nC 465.229326 113.112596 465.892248 112.838005 466.380955 112.349297 \r\nC 466.869663 111.86059 467.144254 111.197668 467.144254 110.506532 \r\nC 467.144254 109.815396 466.869663 109.152474 466.380955 108.663767 \r\nC 465.892248 108.175059 465.229326 107.900468 464.53819 107.900468 \r\nC 463.847054 107.900468 463.184132 108.175059 462.695424 108.663767 \r\nC 462.206717 109.152474 461.932126 109.815396 461.932126 110.506532 \r\nC 461.932126 111.197668 462.206717 111.86059 462.695424 112.349297 \r\nC 463.184132 112.838005 463.847054 113.112596 464.53819 113.112596 \r\nz\r\n\" style=\"stroke:#ffffff;stroke-width:0.419872;\"/>\r\n    <path clip-path=\"url(#p776e2fb717)\" d=\"M 500.771956 246.659342 \r\nC 501.364968 246.659342 501.933772 246.423736 502.353095 246.004413 \r\nC 502.772418 245.58509 503.008024 245.016287 503.008024 244.423274 \r\nC 503.008024 243.830262 502.772418 243.261459 502.353095 242.842136 \r\nC 501.933772 242.422813 501.364968 242.187206 500.771956 242.187206 \r\nC 500.178944 242.187206 499.61014 242.422813 499.190817 242.842136 \r\nC 498.771494 243.261459 498.535888 243.830262 498.535888 244.423274 \r\nC 498.535888 245.016287 498.771494 245.58509 499.190817 246.004413 \r\nC 499.61014 246.423736 500.178944 246.659342 500.771956 246.659342 \r\nz\r\n\" style=\"stroke:#ffffff;stroke-width:0.419872;\"/>\r\n    <path clip-path=\"url(#p776e2fb717)\" d=\"M 537.005722 173.112173 \r\nC 537.712762 173.112173 538.390939 172.831263 538.890892 172.33131 \r\nC 539.390845 171.831357 539.671755 171.153181 539.671755 170.446141 \r\nC 539.671755 169.739101 539.390845 169.060924 538.890892 168.560971 \r\nC 538.390939 168.061018 537.712762 167.780108 537.005722 167.780108 \r\nC 536.298682 167.780108 535.620506 168.061018 535.120553 168.560971 \r\nC 534.6206 169.060924 534.33969 169.739101 534.33969 170.446141 \r\nC 534.33969 171.153181 534.6206 171.831357 535.120553 172.33131 \r\nC 535.620506 172.831263 536.298682 173.112173 537.005722 173.112173 \r\nz\r\n\" style=\"stroke:#ffffff;stroke-width:0.419872;\"/>\r\n    <path clip-path=\"url(#p776e2fb717)\" d=\"M 573.239489 22.374265 \r\nC 573.987287 22.374265 574.704558 22.077162 575.233332 21.548388 \r\nC 575.762105 21.019615 576.059208 20.302344 576.059208 19.554545 \r\nC 576.059208 18.806747 575.762105 18.089476 575.233332 17.560702 \r\nC 574.704558 17.031929 573.987287 16.734826 573.239489 16.734826 \r\nC 572.49169 16.734826 571.774419 17.031929 571.245646 17.560702 \r\nC 570.716872 18.089476 570.419769 18.806747 570.419769 19.554545 \r\nC 570.419769 20.302344 570.716872 21.019615 571.245646 21.548388 \r\nC 571.774419 22.077162 572.49169 22.374265 573.239489 22.374265 \r\nz\r\n\" style=\"stroke:#ffffff;stroke-width:0.419872;\"/>\r\n   </g>\r\n   <g id=\"PathCollection_2\"/>\r\n   <g id=\"PathCollection_3\"/>\r\n   <g id=\"PathCollection_4\"/>\r\n   <g id=\"PathCollection_5\"/>\r\n   <g id=\"PathCollection_6\"/>\r\n   <g id=\"matplotlib.axis_1\">\r\n    <g id=\"xtick_1\">\r\n     <g id=\"line2d_1\">\r\n      <defs>\r\n       <path d=\"M 0 0 \r\nL 0 3.5 \r\n\" id=\"m09f30ee3b4\" style=\"stroke:#000000;stroke-width:0.8;\"/>\r\n      </defs>\r\n      <g>\r\n       <use style=\"stroke:#000000;stroke-width:0.8;\" x=\"65.966761\" xlink:href=\"#m09f30ee3b4\" y=\"279\"/>\r\n      </g>\r\n     </g>\r\n     <g id=\"text_1\">\r\n      <!-- −80 -->\r\n      <g transform=\"translate(55.414418 293.598437)scale(0.1 -0.1)\">\r\n       <defs>\r\n        <path d=\"M 10.59375 35.5 \r\nL 73.1875 35.5 \r\nL 73.1875 27.203125 \r\nL 10.59375 27.203125 \r\nz\r\n\" id=\"DejaVuSans-8722\"/>\r\n        <path d=\"M 31.78125 34.625 \r\nQ 24.75 34.625 20.71875 30.859375 \r\nQ 16.703125 27.09375 16.703125 20.515625 \r\nQ 16.703125 13.921875 20.71875 10.15625 \r\nQ 24.75 6.390625 31.78125 6.390625 \r\nQ 38.8125 6.390625 42.859375 10.171875 \r\nQ 46.921875 13.96875 46.921875 20.515625 \r\nQ 46.921875 27.09375 42.890625 30.859375 \r\nQ 38.875 34.625 31.78125 34.625 \r\nz\r\nM 21.921875 38.8125 \r\nQ 15.578125 40.375 12.03125 44.71875 \r\nQ 8.5 49.078125 8.5 55.328125 \r\nQ 8.5 64.0625 14.71875 69.140625 \r\nQ 20.953125 74.21875 31.78125 74.21875 \r\nQ 42.671875 74.21875 48.875 69.140625 \r\nQ 55.078125 64.0625 55.078125 55.328125 \r\nQ 55.078125 49.078125 51.53125 44.71875 \r\nQ 48 40.375 41.703125 38.8125 \r\nQ 48.828125 37.15625 52.796875 32.3125 \r\nQ 56.78125 27.484375 56.78125 20.515625 \r\nQ 56.78125 9.90625 50.3125 4.234375 \r\nQ 43.84375 -1.421875 31.78125 -1.421875 \r\nQ 19.734375 -1.421875 13.25 4.234375 \r\nQ 6.78125 9.90625 6.78125 20.515625 \r\nQ 6.78125 27.484375 10.78125 32.3125 \r\nQ 14.796875 37.15625 21.921875 38.8125 \r\nz\r\nM 18.3125 54.390625 \r\nQ 18.3125 48.734375 21.84375 45.5625 \r\nQ 25.390625 42.390625 31.78125 42.390625 \r\nQ 38.140625 42.390625 41.71875 45.5625 \r\nQ 45.3125 48.734375 45.3125 54.390625 \r\nQ 45.3125 60.0625 41.71875 63.234375 \r\nQ 38.140625 66.40625 31.78125 66.40625 \r\nQ 25.390625 66.40625 21.84375 63.234375 \r\nQ 18.3125 60.0625 18.3125 54.390625 \r\nz\r\n\" id=\"DejaVuSans-56\"/>\r\n        <path d=\"M 31.78125 66.40625 \r\nQ 24.171875 66.40625 20.328125 58.90625 \r\nQ 16.5 51.421875 16.5 36.375 \r\nQ 16.5 21.390625 20.328125 13.890625 \r\nQ 24.171875 6.390625 31.78125 6.390625 \r\nQ 39.453125 6.390625 43.28125 13.890625 \r\nQ 47.125 21.390625 47.125 36.375 \r\nQ 47.125 51.421875 43.28125 58.90625 \r\nQ 39.453125 66.40625 31.78125 66.40625 \r\nz\r\nM 31.78125 74.21875 \r\nQ 44.046875 74.21875 50.515625 64.515625 \r\nQ 56.984375 54.828125 56.984375 36.375 \r\nQ 56.984375 17.96875 50.515625 8.265625 \r\nQ 44.046875 -1.421875 31.78125 -1.421875 \r\nQ 19.53125 -1.421875 13.0625 8.265625 \r\nQ 6.59375 17.96875 6.59375 36.375 \r\nQ 6.59375 54.828125 13.0625 64.515625 \r\nQ 19.53125 74.21875 31.78125 74.21875 \r\nz\r\n\" id=\"DejaVuSans-48\"/>\r\n       </defs>\r\n       <use xlink:href=\"#DejaVuSans-8722\"/>\r\n       <use x=\"83.789062\" xlink:href=\"#DejaVuSans-56\"/>\r\n       <use x=\"147.412109\" xlink:href=\"#DejaVuSans-48\"/>\r\n      </g>\r\n     </g>\r\n    </g>\r\n    <g id=\"xtick_2\">\r\n     <g id=\"line2d_2\">\r\n      <g>\r\n       <use style=\"stroke:#000000;stroke-width:0.8;\" x=\"138.434294\" xlink:href=\"#m09f30ee3b4\" y=\"279\"/>\r\n      </g>\r\n     </g>\r\n     <g id=\"text_2\">\r\n      <!-- −60 -->\r\n      <g transform=\"translate(127.88195 293.598437)scale(0.1 -0.1)\">\r\n       <defs>\r\n        <path d=\"M 33.015625 40.375 \r\nQ 26.375 40.375 22.484375 35.828125 \r\nQ 18.609375 31.296875 18.609375 23.390625 \r\nQ 18.609375 15.53125 22.484375 10.953125 \r\nQ 26.375 6.390625 33.015625 6.390625 \r\nQ 39.65625 6.390625 43.53125 10.953125 \r\nQ 47.40625 15.53125 47.40625 23.390625 \r\nQ 47.40625 31.296875 43.53125 35.828125 \r\nQ 39.65625 40.375 33.015625 40.375 \r\nz\r\nM 52.59375 71.296875 \r\nL 52.59375 62.3125 \r\nQ 48.875 64.0625 45.09375 64.984375 \r\nQ 41.3125 65.921875 37.59375 65.921875 \r\nQ 27.828125 65.921875 22.671875 59.328125 \r\nQ 17.53125 52.734375 16.796875 39.40625 \r\nQ 19.671875 43.65625 24.015625 45.921875 \r\nQ 28.375 48.1875 33.59375 48.1875 \r\nQ 44.578125 48.1875 50.953125 41.515625 \r\nQ 57.328125 34.859375 57.328125 23.390625 \r\nQ 57.328125 12.15625 50.6875 5.359375 \r\nQ 44.046875 -1.421875 33.015625 -1.421875 \r\nQ 20.359375 -1.421875 13.671875 8.265625 \r\nQ 6.984375 17.96875 6.984375 36.375 \r\nQ 6.984375 53.65625 15.1875 63.9375 \r\nQ 23.390625 74.21875 37.203125 74.21875 \r\nQ 40.921875 74.21875 44.703125 73.484375 \r\nQ 48.484375 72.75 52.59375 71.296875 \r\nz\r\n\" id=\"DejaVuSans-54\"/>\r\n       </defs>\r\n       <use xlink:href=\"#DejaVuSans-8722\"/>\r\n       <use x=\"83.789062\" xlink:href=\"#DejaVuSans-54\"/>\r\n       <use x=\"147.412109\" xlink:href=\"#DejaVuSans-48\"/>\r\n      </g>\r\n     </g>\r\n    </g>\r\n    <g id=\"xtick_3\">\r\n     <g id=\"line2d_3\">\r\n      <g>\r\n       <use style=\"stroke:#000000;stroke-width:0.8;\" x=\"210.901826\" xlink:href=\"#m09f30ee3b4\" y=\"279\"/>\r\n      </g>\r\n     </g>\r\n     <g id=\"text_3\">\r\n      <!-- −40 -->\r\n      <g transform=\"translate(200.349483 293.598437)scale(0.1 -0.1)\">\r\n       <defs>\r\n        <path d=\"M 37.796875 64.3125 \r\nL 12.890625 25.390625 \r\nL 37.796875 25.390625 \r\nz\r\nM 35.203125 72.90625 \r\nL 47.609375 72.90625 \r\nL 47.609375 25.390625 \r\nL 58.015625 25.390625 \r\nL 58.015625 17.1875 \r\nL 47.609375 17.1875 \r\nL 47.609375 0 \r\nL 37.796875 0 \r\nL 37.796875 17.1875 \r\nL 4.890625 17.1875 \r\nL 4.890625 26.703125 \r\nz\r\n\" id=\"DejaVuSans-52\"/>\r\n       </defs>\r\n       <use xlink:href=\"#DejaVuSans-8722\"/>\r\n       <use x=\"83.789062\" xlink:href=\"#DejaVuSans-52\"/>\r\n       <use x=\"147.412109\" xlink:href=\"#DejaVuSans-48\"/>\r\n      </g>\r\n     </g>\r\n    </g>\r\n    <g id=\"xtick_4\">\r\n     <g id=\"line2d_4\">\r\n      <g>\r\n       <use style=\"stroke:#000000;stroke-width:0.8;\" x=\"283.369359\" xlink:href=\"#m09f30ee3b4\" y=\"279\"/>\r\n      </g>\r\n     </g>\r\n     <g id=\"text_4\">\r\n      <!-- −20 -->\r\n      <g transform=\"translate(272.817015 293.598437)scale(0.1 -0.1)\">\r\n       <defs>\r\n        <path d=\"M 19.1875 8.296875 \r\nL 53.609375 8.296875 \r\nL 53.609375 0 \r\nL 7.328125 0 \r\nL 7.328125 8.296875 \r\nQ 12.9375 14.109375 22.625 23.890625 \r\nQ 32.328125 33.6875 34.8125 36.53125 \r\nQ 39.546875 41.84375 41.421875 45.53125 \r\nQ 43.3125 49.21875 43.3125 52.78125 \r\nQ 43.3125 58.59375 39.234375 62.25 \r\nQ 35.15625 65.921875 28.609375 65.921875 \r\nQ 23.96875 65.921875 18.8125 64.3125 \r\nQ 13.671875 62.703125 7.8125 59.421875 \r\nL 7.8125 69.390625 \r\nQ 13.765625 71.78125 18.9375 73 \r\nQ 24.125 74.21875 28.421875 74.21875 \r\nQ 39.75 74.21875 46.484375 68.546875 \r\nQ 53.21875 62.890625 53.21875 53.421875 \r\nQ 53.21875 48.921875 51.53125 44.890625 \r\nQ 49.859375 40.875 45.40625 35.40625 \r\nQ 44.1875 33.984375 37.640625 27.21875 \r\nQ 31.109375 20.453125 19.1875 8.296875 \r\nz\r\n\" id=\"DejaVuSans-50\"/>\r\n       </defs>\r\n       <use xlink:href=\"#DejaVuSans-8722\"/>\r\n       <use x=\"83.789062\" xlink:href=\"#DejaVuSans-50\"/>\r\n       <use x=\"147.412109\" xlink:href=\"#DejaVuSans-48\"/>\r\n      </g>\r\n     </g>\r\n    </g>\r\n    <g id=\"xtick_5\">\r\n     <g id=\"line2d_5\">\r\n      <g>\r\n       <use style=\"stroke:#000000;stroke-width:0.8;\" x=\"355.836891\" xlink:href=\"#m09f30ee3b4\" y=\"279\"/>\r\n      </g>\r\n     </g>\r\n     <g id=\"text_5\">\r\n      <!-- 0 -->\r\n      <g transform=\"translate(352.655641 293.598437)scale(0.1 -0.1)\">\r\n       <use xlink:href=\"#DejaVuSans-48\"/>\r\n      </g>\r\n     </g>\r\n    </g>\r\n    <g id=\"xtick_6\">\r\n     <g id=\"line2d_6\">\r\n      <g>\r\n       <use style=\"stroke:#000000;stroke-width:0.8;\" x=\"428.304424\" xlink:href=\"#m09f30ee3b4\" y=\"279\"/>\r\n      </g>\r\n     </g>\r\n     <g id=\"text_6\">\r\n      <!-- 20 -->\r\n      <g transform=\"translate(421.941924 293.598437)scale(0.1 -0.1)\">\r\n       <use xlink:href=\"#DejaVuSans-50\"/>\r\n       <use x=\"63.623047\" xlink:href=\"#DejaVuSans-48\"/>\r\n      </g>\r\n     </g>\r\n    </g>\r\n    <g id=\"xtick_7\">\r\n     <g id=\"line2d_7\">\r\n      <g>\r\n       <use style=\"stroke:#000000;stroke-width:0.8;\" x=\"500.771956\" xlink:href=\"#m09f30ee3b4\" y=\"279\"/>\r\n      </g>\r\n     </g>\r\n     <g id=\"text_7\">\r\n      <!-- 40 -->\r\n      <g transform=\"translate(494.409456 293.598437)scale(0.1 -0.1)\">\r\n       <use xlink:href=\"#DejaVuSans-52\"/>\r\n       <use x=\"63.623047\" xlink:href=\"#DejaVuSans-48\"/>\r\n      </g>\r\n     </g>\r\n    </g>\r\n    <g id=\"xtick_8\">\r\n     <g id=\"line2d_8\">\r\n      <g>\r\n       <use style=\"stroke:#000000;stroke-width:0.8;\" x=\"573.239489\" xlink:href=\"#m09f30ee3b4\" y=\"279\"/>\r\n      </g>\r\n     </g>\r\n     <g id=\"text_8\">\r\n      <!-- 60 -->\r\n      <g transform=\"translate(566.876989 293.598437)scale(0.1 -0.1)\">\r\n       <use xlink:href=\"#DejaVuSans-54\"/>\r\n       <use x=\"63.623047\" xlink:href=\"#DejaVuSans-48\"/>\r\n      </g>\r\n     </g>\r\n    </g>\r\n    <g id=\"text_9\">\r\n     <!-- Time since dusk (min) -->\r\n     <g transform=\"translate(264.441406 307.276562)scale(0.1 -0.1)\">\r\n      <defs>\r\n       <path d=\"M -0.296875 72.90625 \r\nL 61.375 72.90625 \r\nL 61.375 64.59375 \r\nL 35.5 64.59375 \r\nL 35.5 0 \r\nL 25.59375 0 \r\nL 25.59375 64.59375 \r\nL -0.296875 64.59375 \r\nz\r\n\" id=\"DejaVuSans-84\"/>\r\n       <path d=\"M 9.421875 54.6875 \r\nL 18.40625 54.6875 \r\nL 18.40625 0 \r\nL 9.421875 0 \r\nz\r\nM 9.421875 75.984375 \r\nL 18.40625 75.984375 \r\nL 18.40625 64.59375 \r\nL 9.421875 64.59375 \r\nz\r\n\" id=\"DejaVuSans-105\"/>\r\n       <path d=\"M 52 44.1875 \r\nQ 55.375 50.25 60.0625 53.125 \r\nQ 64.75 56 71.09375 56 \r\nQ 79.640625 56 84.28125 50.015625 \r\nQ 88.921875 44.046875 88.921875 33.015625 \r\nL 88.921875 0 \r\nL 79.890625 0 \r\nL 79.890625 32.71875 \r\nQ 79.890625 40.578125 77.09375 44.375 \r\nQ 74.3125 48.1875 68.609375 48.1875 \r\nQ 61.625 48.1875 57.5625 43.546875 \r\nQ 53.515625 38.921875 53.515625 30.90625 \r\nL 53.515625 0 \r\nL 44.484375 0 \r\nL 44.484375 32.71875 \r\nQ 44.484375 40.625 41.703125 44.40625 \r\nQ 38.921875 48.1875 33.109375 48.1875 \r\nQ 26.21875 48.1875 22.15625 43.53125 \r\nQ 18.109375 38.875 18.109375 30.90625 \r\nL 18.109375 0 \r\nL 9.078125 0 \r\nL 9.078125 54.6875 \r\nL 18.109375 54.6875 \r\nL 18.109375 46.1875 \r\nQ 21.1875 51.21875 25.484375 53.609375 \r\nQ 29.78125 56 35.6875 56 \r\nQ 41.65625 56 45.828125 52.96875 \r\nQ 50 49.953125 52 44.1875 \r\nz\r\n\" id=\"DejaVuSans-109\"/>\r\n       <path d=\"M 56.203125 29.59375 \r\nL 56.203125 25.203125 \r\nL 14.890625 25.203125 \r\nQ 15.484375 15.921875 20.484375 11.0625 \r\nQ 25.484375 6.203125 34.421875 6.203125 \r\nQ 39.59375 6.203125 44.453125 7.46875 \r\nQ 49.3125 8.734375 54.109375 11.28125 \r\nL 54.109375 2.78125 \r\nQ 49.265625 0.734375 44.1875 -0.34375 \r\nQ 39.109375 -1.421875 33.890625 -1.421875 \r\nQ 20.796875 -1.421875 13.15625 6.1875 \r\nQ 5.515625 13.8125 5.515625 26.8125 \r\nQ 5.515625 40.234375 12.765625 48.109375 \r\nQ 20.015625 56 32.328125 56 \r\nQ 43.359375 56 49.78125 48.890625 \r\nQ 56.203125 41.796875 56.203125 29.59375 \r\nz\r\nM 47.21875 32.234375 \r\nQ 47.125 39.59375 43.09375 43.984375 \r\nQ 39.0625 48.390625 32.421875 48.390625 \r\nQ 24.90625 48.390625 20.390625 44.140625 \r\nQ 15.875 39.890625 15.1875 32.171875 \r\nz\r\n\" id=\"DejaVuSans-101\"/>\r\n       <path id=\"DejaVuSans-32\"/>\r\n       <path d=\"M 44.28125 53.078125 \r\nL 44.28125 44.578125 \r\nQ 40.484375 46.53125 36.375 47.5 \r\nQ 32.28125 48.484375 27.875 48.484375 \r\nQ 21.1875 48.484375 17.84375 46.4375 \r\nQ 14.5 44.390625 14.5 40.28125 \r\nQ 14.5 37.15625 16.890625 35.375 \r\nQ 19.28125 33.59375 26.515625 31.984375 \r\nL 29.59375 31.296875 \r\nQ 39.15625 29.25 43.1875 25.515625 \r\nQ 47.21875 21.78125 47.21875 15.09375 \r\nQ 47.21875 7.46875 41.1875 3.015625 \r\nQ 35.15625 -1.421875 24.609375 -1.421875 \r\nQ 20.21875 -1.421875 15.453125 -0.5625 \r\nQ 10.6875 0.296875 5.421875 2 \r\nL 5.421875 11.28125 \r\nQ 10.40625 8.6875 15.234375 7.390625 \r\nQ 20.0625 6.109375 24.8125 6.109375 \r\nQ 31.15625 6.109375 34.5625 8.28125 \r\nQ 37.984375 10.453125 37.984375 14.40625 \r\nQ 37.984375 18.0625 35.515625 20.015625 \r\nQ 33.0625 21.96875 24.703125 23.78125 \r\nL 21.578125 24.515625 \r\nQ 13.234375 26.265625 9.515625 29.90625 \r\nQ 5.8125 33.546875 5.8125 39.890625 \r\nQ 5.8125 47.609375 11.28125 51.796875 \r\nQ 16.75 56 26.8125 56 \r\nQ 31.78125 56 36.171875 55.265625 \r\nQ 40.578125 54.546875 44.28125 53.078125 \r\nz\r\n\" id=\"DejaVuSans-115\"/>\r\n       <path d=\"M 54.890625 33.015625 \r\nL 54.890625 0 \r\nL 45.90625 0 \r\nL 45.90625 32.71875 \r\nQ 45.90625 40.484375 42.875 44.328125 \r\nQ 39.84375 48.1875 33.796875 48.1875 \r\nQ 26.515625 48.1875 22.3125 43.546875 \r\nQ 18.109375 38.921875 18.109375 30.90625 \r\nL 18.109375 0 \r\nL 9.078125 0 \r\nL 9.078125 54.6875 \r\nL 18.109375 54.6875 \r\nL 18.109375 46.1875 \r\nQ 21.34375 51.125 25.703125 53.5625 \r\nQ 30.078125 56 35.796875 56 \r\nQ 45.21875 56 50.046875 50.171875 \r\nQ 54.890625 44.34375 54.890625 33.015625 \r\nz\r\n\" id=\"DejaVuSans-110\"/>\r\n       <path d=\"M 48.78125 52.59375 \r\nL 48.78125 44.1875 \r\nQ 44.96875 46.296875 41.140625 47.34375 \r\nQ 37.3125 48.390625 33.40625 48.390625 \r\nQ 24.65625 48.390625 19.8125 42.84375 \r\nQ 14.984375 37.3125 14.984375 27.296875 \r\nQ 14.984375 17.28125 19.8125 11.734375 \r\nQ 24.65625 6.203125 33.40625 6.203125 \r\nQ 37.3125 6.203125 41.140625 7.25 \r\nQ 44.96875 8.296875 48.78125 10.40625 \r\nL 48.78125 2.09375 \r\nQ 45.015625 0.34375 40.984375 -0.53125 \r\nQ 36.96875 -1.421875 32.421875 -1.421875 \r\nQ 20.0625 -1.421875 12.78125 6.34375 \r\nQ 5.515625 14.109375 5.515625 27.296875 \r\nQ 5.515625 40.671875 12.859375 48.328125 \r\nQ 20.21875 56 33.015625 56 \r\nQ 37.15625 56 41.109375 55.140625 \r\nQ 45.0625 54.296875 48.78125 52.59375 \r\nz\r\n\" id=\"DejaVuSans-99\"/>\r\n       <path d=\"M 45.40625 46.390625 \r\nL 45.40625 75.984375 \r\nL 54.390625 75.984375 \r\nL 54.390625 0 \r\nL 45.40625 0 \r\nL 45.40625 8.203125 \r\nQ 42.578125 3.328125 38.25 0.953125 \r\nQ 33.9375 -1.421875 27.875 -1.421875 \r\nQ 17.96875 -1.421875 11.734375 6.484375 \r\nQ 5.515625 14.40625 5.515625 27.296875 \r\nQ 5.515625 40.1875 11.734375 48.09375 \r\nQ 17.96875 56 27.875 56 \r\nQ 33.9375 56 38.25 53.625 \r\nQ 42.578125 51.265625 45.40625 46.390625 \r\nz\r\nM 14.796875 27.296875 \r\nQ 14.796875 17.390625 18.875 11.75 \r\nQ 22.953125 6.109375 30.078125 6.109375 \r\nQ 37.203125 6.109375 41.296875 11.75 \r\nQ 45.40625 17.390625 45.40625 27.296875 \r\nQ 45.40625 37.203125 41.296875 42.84375 \r\nQ 37.203125 48.484375 30.078125 48.484375 \r\nQ 22.953125 48.484375 18.875 42.84375 \r\nQ 14.796875 37.203125 14.796875 27.296875 \r\nz\r\n\" id=\"DejaVuSans-100\"/>\r\n       <path d=\"M 8.5 21.578125 \r\nL 8.5 54.6875 \r\nL 17.484375 54.6875 \r\nL 17.484375 21.921875 \r\nQ 17.484375 14.15625 20.5 10.265625 \r\nQ 23.53125 6.390625 29.59375 6.390625 \r\nQ 36.859375 6.390625 41.078125 11.03125 \r\nQ 45.3125 15.671875 45.3125 23.6875 \r\nL 45.3125 54.6875 \r\nL 54.296875 54.6875 \r\nL 54.296875 0 \r\nL 45.3125 0 \r\nL 45.3125 8.40625 \r\nQ 42.046875 3.421875 37.71875 1 \r\nQ 33.40625 -1.421875 27.6875 -1.421875 \r\nQ 18.265625 -1.421875 13.375 4.4375 \r\nQ 8.5 10.296875 8.5 21.578125 \r\nz\r\nM 31.109375 56 \r\nz\r\n\" id=\"DejaVuSans-117\"/>\r\n       <path d=\"M 9.078125 75.984375 \r\nL 18.109375 75.984375 \r\nL 18.109375 31.109375 \r\nL 44.921875 54.6875 \r\nL 56.390625 54.6875 \r\nL 27.390625 29.109375 \r\nL 57.625 0 \r\nL 45.90625 0 \r\nL 18.109375 26.703125 \r\nL 18.109375 0 \r\nL 9.078125 0 \r\nz\r\n\" id=\"DejaVuSans-107\"/>\r\n       <path d=\"M 31 75.875 \r\nQ 24.46875 64.65625 21.28125 53.65625 \r\nQ 18.109375 42.671875 18.109375 31.390625 \r\nQ 18.109375 20.125 21.3125 9.0625 \r\nQ 24.515625 -2 31 -13.1875 \r\nL 23.1875 -13.1875 \r\nQ 15.875 -1.703125 12.234375 9.375 \r\nQ 8.59375 20.453125 8.59375 31.390625 \r\nQ 8.59375 42.28125 12.203125 53.3125 \r\nQ 15.828125 64.359375 23.1875 75.875 \r\nz\r\n\" id=\"DejaVuSans-40\"/>\r\n       <path d=\"M 8.015625 75.875 \r\nL 15.828125 75.875 \r\nQ 23.140625 64.359375 26.78125 53.3125 \r\nQ 30.421875 42.28125 30.421875 31.390625 \r\nQ 30.421875 20.453125 26.78125 9.375 \r\nQ 23.140625 -1.703125 15.828125 -13.1875 \r\nL 8.015625 -13.1875 \r\nQ 14.5 -2 17.703125 9.0625 \r\nQ 20.90625 20.125 20.90625 31.390625 \r\nQ 20.90625 42.671875 17.703125 53.65625 \r\nQ 14.5 64.65625 8.015625 75.875 \r\nz\r\n\" id=\"DejaVuSans-41\"/>\r\n      </defs>\r\n      <use xlink:href=\"#DejaVuSans-84\"/>\r\n      <use x=\"57.958984\" xlink:href=\"#DejaVuSans-105\"/>\r\n      <use x=\"85.742188\" xlink:href=\"#DejaVuSans-109\"/>\r\n      <use x=\"183.154297\" xlink:href=\"#DejaVuSans-101\"/>\r\n      <use x=\"244.677734\" xlink:href=\"#DejaVuSans-32\"/>\r\n      <use x=\"276.464844\" xlink:href=\"#DejaVuSans-115\"/>\r\n      <use x=\"328.564453\" xlink:href=\"#DejaVuSans-105\"/>\r\n      <use x=\"356.347656\" xlink:href=\"#DejaVuSans-110\"/>\r\n      <use x=\"419.726562\" xlink:href=\"#DejaVuSans-99\"/>\r\n      <use x=\"474.707031\" xlink:href=\"#DejaVuSans-101\"/>\r\n      <use x=\"536.230469\" xlink:href=\"#DejaVuSans-32\"/>\r\n      <use x=\"568.017578\" xlink:href=\"#DejaVuSans-100\"/>\r\n      <use x=\"631.494141\" xlink:href=\"#DejaVuSans-117\"/>\r\n      <use x=\"694.873047\" xlink:href=\"#DejaVuSans-115\"/>\r\n      <use x=\"746.972656\" xlink:href=\"#DejaVuSans-107\"/>\r\n      <use x=\"804.882812\" xlink:href=\"#DejaVuSans-32\"/>\r\n      <use x=\"836.669922\" xlink:href=\"#DejaVuSans-40\"/>\r\n      <use x=\"875.683594\" xlink:href=\"#DejaVuSans-109\"/>\r\n      <use x=\"973.095703\" xlink:href=\"#DejaVuSans-105\"/>\r\n      <use x=\"1000.878906\" xlink:href=\"#DejaVuSans-110\"/>\r\n      <use x=\"1064.257812\" xlink:href=\"#DejaVuSans-41\"/>\r\n     </g>\r\n    </g>\r\n   </g>\r\n   <g id=\"matplotlib.axis_2\">\r\n    <g id=\"ytick_1\">\r\n     <g id=\"line2d_9\">\r\n      <defs>\r\n       <path d=\"M 0 0 \r\nL -3.5 0 \r\n\" id=\"m3388d9e160\" style=\"stroke:#000000;stroke-width:0.8;\"/>\r\n      </defs>\r\n      <g>\r\n       <use style=\"stroke:#000000;stroke-width:0.8;\" x=\"40.603125\" xlink:href=\"#m3388d9e160\" y=\"253.86813\"/>\r\n      </g>\r\n     </g>\r\n     <g id=\"text_10\">\r\n      <!-- 8 -->\r\n      <g transform=\"translate(27.240625 257.667349)scale(0.1 -0.1)\">\r\n       <use xlink:href=\"#DejaVuSans-56\"/>\r\n      </g>\r\n     </g>\r\n    </g>\r\n    <g id=\"ytick_2\">\r\n     <g id=\"line2d_10\">\r\n      <g>\r\n       <use style=\"stroke:#000000;stroke-width:0.8;\" x=\"40.603125\" xlink:href=\"#m3388d9e160\" y=\"210.775976\"/>\r\n      </g>\r\n     </g>\r\n     <g id=\"text_11\">\r\n      <!-- 9 -->\r\n      <g transform=\"translate(27.240625 214.575195)scale(0.1 -0.1)\">\r\n       <defs>\r\n        <path d=\"M 10.984375 1.515625 \r\nL 10.984375 10.5 \r\nQ 14.703125 8.734375 18.5 7.8125 \r\nQ 22.3125 6.890625 25.984375 6.890625 \r\nQ 35.75 6.890625 40.890625 13.453125 \r\nQ 46.046875 20.015625 46.78125 33.40625 \r\nQ 43.953125 29.203125 39.59375 26.953125 \r\nQ 35.25 24.703125 29.984375 24.703125 \r\nQ 19.046875 24.703125 12.671875 31.3125 \r\nQ 6.296875 37.9375 6.296875 49.421875 \r\nQ 6.296875 60.640625 12.9375 67.421875 \r\nQ 19.578125 74.21875 30.609375 74.21875 \r\nQ 43.265625 74.21875 49.921875 64.515625 \r\nQ 56.59375 54.828125 56.59375 36.375 \r\nQ 56.59375 19.140625 48.40625 8.859375 \r\nQ 40.234375 -1.421875 26.421875 -1.421875 \r\nQ 22.703125 -1.421875 18.890625 -0.6875 \r\nQ 15.09375 0.046875 10.984375 1.515625 \r\nz\r\nM 30.609375 32.421875 \r\nQ 37.25 32.421875 41.125 36.953125 \r\nQ 45.015625 41.5 45.015625 49.421875 \r\nQ 45.015625 57.28125 41.125 61.84375 \r\nQ 37.25 66.40625 30.609375 66.40625 \r\nQ 23.96875 66.40625 20.09375 61.84375 \r\nQ 16.21875 57.28125 16.21875 49.421875 \r\nQ 16.21875 41.5 20.09375 36.953125 \r\nQ 23.96875 32.421875 30.609375 32.421875 \r\nz\r\n\" id=\"DejaVuSans-57\"/>\r\n       </defs>\r\n       <use xlink:href=\"#DejaVuSans-57\"/>\r\n      </g>\r\n     </g>\r\n    </g>\r\n    <g id=\"ytick_3\">\r\n     <g id=\"line2d_11\">\r\n      <g>\r\n       <use style=\"stroke:#000000;stroke-width:0.8;\" x=\"40.603125\" xlink:href=\"#m3388d9e160\" y=\"167.683823\"/>\r\n      </g>\r\n     </g>\r\n     <g id=\"text_12\">\r\n      <!-- 10 -->\r\n      <g transform=\"translate(20.878125 171.483042)scale(0.1 -0.1)\">\r\n       <defs>\r\n        <path d=\"M 12.40625 8.296875 \r\nL 28.515625 8.296875 \r\nL 28.515625 63.921875 \r\nL 10.984375 60.40625 \r\nL 10.984375 69.390625 \r\nL 28.421875 72.90625 \r\nL 38.28125 72.90625 \r\nL 38.28125 8.296875 \r\nL 54.390625 8.296875 \r\nL 54.390625 0 \r\nL 12.40625 0 \r\nz\r\n\" id=\"DejaVuSans-49\"/>\r\n       </defs>\r\n       <use xlink:href=\"#DejaVuSans-49\"/>\r\n       <use x=\"63.623047\" xlink:href=\"#DejaVuSans-48\"/>\r\n      </g>\r\n     </g>\r\n    </g>\r\n    <g id=\"ytick_4\">\r\n     <g id=\"line2d_12\">\r\n      <g>\r\n       <use style=\"stroke:#000000;stroke-width:0.8;\" x=\"40.603125\" xlink:href=\"#m3388d9e160\" y=\"124.59167\"/>\r\n      </g>\r\n     </g>\r\n     <g id=\"text_13\">\r\n      <!-- 11 -->\r\n      <g transform=\"translate(20.878125 128.390888)scale(0.1 -0.1)\">\r\n       <use xlink:href=\"#DejaVuSans-49\"/>\r\n       <use x=\"63.623047\" xlink:href=\"#DejaVuSans-49\"/>\r\n      </g>\r\n     </g>\r\n    </g>\r\n    <g id=\"ytick_5\">\r\n     <g id=\"line2d_13\">\r\n      <g>\r\n       <use style=\"stroke:#000000;stroke-width:0.8;\" x=\"40.603125\" xlink:href=\"#m3388d9e160\" y=\"81.499516\"/>\r\n      </g>\r\n     </g>\r\n     <g id=\"text_14\">\r\n      <!-- 12 -->\r\n      <g transform=\"translate(20.878125 85.298735)scale(0.1 -0.1)\">\r\n       <use xlink:href=\"#DejaVuSans-49\"/>\r\n       <use x=\"63.623047\" xlink:href=\"#DejaVuSans-50\"/>\r\n      </g>\r\n     </g>\r\n    </g>\r\n    <g id=\"ytick_6\">\r\n     <g id=\"line2d_14\">\r\n      <g>\r\n       <use style=\"stroke:#000000;stroke-width:0.8;\" x=\"40.603125\" xlink:href=\"#m3388d9e160\" y=\"38.407363\"/>\r\n      </g>\r\n     </g>\r\n     <g id=\"text_15\">\r\n      <!-- 13 -->\r\n      <g transform=\"translate(20.878125 42.206581)scale(0.1 -0.1)\">\r\n       <defs>\r\n        <path d=\"M 40.578125 39.3125 \r\nQ 47.65625 37.796875 51.625 33 \r\nQ 55.609375 28.21875 55.609375 21.1875 \r\nQ 55.609375 10.40625 48.1875 4.484375 \r\nQ 40.765625 -1.421875 27.09375 -1.421875 \r\nQ 22.515625 -1.421875 17.65625 -0.515625 \r\nQ 12.796875 0.390625 7.625 2.203125 \r\nL 7.625 11.71875 \r\nQ 11.71875 9.328125 16.59375 8.109375 \r\nQ 21.484375 6.890625 26.8125 6.890625 \r\nQ 36.078125 6.890625 40.9375 10.546875 \r\nQ 45.796875 14.203125 45.796875 21.1875 \r\nQ 45.796875 27.640625 41.28125 31.265625 \r\nQ 36.765625 34.90625 28.71875 34.90625 \r\nL 20.21875 34.90625 \r\nL 20.21875 43.015625 \r\nL 29.109375 43.015625 \r\nQ 36.375 43.015625 40.234375 45.921875 \r\nQ 44.09375 48.828125 44.09375 54.296875 \r\nQ 44.09375 59.90625 40.109375 62.90625 \r\nQ 36.140625 65.921875 28.71875 65.921875 \r\nQ 24.65625 65.921875 20.015625 65.03125 \r\nQ 15.375 64.15625 9.8125 62.3125 \r\nL 9.8125 71.09375 \r\nQ 15.4375 72.65625 20.34375 73.4375 \r\nQ 25.25 74.21875 29.59375 74.21875 \r\nQ 40.828125 74.21875 47.359375 69.109375 \r\nQ 53.90625 64.015625 53.90625 55.328125 \r\nQ 53.90625 49.265625 50.4375 45.09375 \r\nQ 46.96875 40.921875 40.578125 39.3125 \r\nz\r\n\" id=\"DejaVuSans-51\"/>\r\n       </defs>\r\n       <use xlink:href=\"#DejaVuSans-49\"/>\r\n       <use x=\"63.623047\" xlink:href=\"#DejaVuSans-51\"/>\r\n      </g>\r\n     </g>\r\n    </g>\r\n    <g id=\"text_16\">\r\n     <!-- Percentage of stopped drivers who are black -->\r\n     <g transform=\"translate(14.798437 254.7875)rotate(-90)scale(0.1 -0.1)\">\r\n      <defs>\r\n       <path d=\"M 19.671875 64.796875 \r\nL 19.671875 37.40625 \r\nL 32.078125 37.40625 \r\nQ 38.96875 37.40625 42.71875 40.96875 \r\nQ 46.484375 44.53125 46.484375 51.125 \r\nQ 46.484375 57.671875 42.71875 61.234375 \r\nQ 38.96875 64.796875 32.078125 64.796875 \r\nz\r\nM 9.8125 72.90625 \r\nL 32.078125 72.90625 \r\nQ 44.34375 72.90625 50.609375 67.359375 \r\nQ 56.890625 61.8125 56.890625 51.125 \r\nQ 56.890625 40.328125 50.609375 34.8125 \r\nQ 44.34375 29.296875 32.078125 29.296875 \r\nL 19.671875 29.296875 \r\nL 19.671875 0 \r\nL 9.8125 0 \r\nz\r\n\" id=\"DejaVuSans-80\"/>\r\n       <path d=\"M 41.109375 46.296875 \r\nQ 39.59375 47.171875 37.8125 47.578125 \r\nQ 36.03125 48 33.890625 48 \r\nQ 26.265625 48 22.1875 43.046875 \r\nQ 18.109375 38.09375 18.109375 28.8125 \r\nL 18.109375 0 \r\nL 9.078125 0 \r\nL 9.078125 54.6875 \r\nL 18.109375 54.6875 \r\nL 18.109375 46.1875 \r\nQ 20.953125 51.171875 25.484375 53.578125 \r\nQ 30.03125 56 36.53125 56 \r\nQ 37.453125 56 38.578125 55.875 \r\nQ 39.703125 55.765625 41.0625 55.515625 \r\nz\r\n\" id=\"DejaVuSans-114\"/>\r\n       <path d=\"M 18.3125 70.21875 \r\nL 18.3125 54.6875 \r\nL 36.8125 54.6875 \r\nL 36.8125 47.703125 \r\nL 18.3125 47.703125 \r\nL 18.3125 18.015625 \r\nQ 18.3125 11.328125 20.140625 9.421875 \r\nQ 21.96875 7.515625 27.59375 7.515625 \r\nL 36.8125 7.515625 \r\nL 36.8125 0 \r\nL 27.59375 0 \r\nQ 17.1875 0 13.234375 3.875 \r\nQ 9.28125 7.765625 9.28125 18.015625 \r\nL 9.28125 47.703125 \r\nL 2.6875 47.703125 \r\nL 2.6875 54.6875 \r\nL 9.28125 54.6875 \r\nL 9.28125 70.21875 \r\nz\r\n\" id=\"DejaVuSans-116\"/>\r\n       <path d=\"M 34.28125 27.484375 \r\nQ 23.390625 27.484375 19.1875 25 \r\nQ 14.984375 22.515625 14.984375 16.5 \r\nQ 14.984375 11.71875 18.140625 8.90625 \r\nQ 21.296875 6.109375 26.703125 6.109375 \r\nQ 34.1875 6.109375 38.703125 11.40625 \r\nQ 43.21875 16.703125 43.21875 25.484375 \r\nL 43.21875 27.484375 \r\nz\r\nM 52.203125 31.203125 \r\nL 52.203125 0 \r\nL 43.21875 0 \r\nL 43.21875 8.296875 \r\nQ 40.140625 3.328125 35.546875 0.953125 \r\nQ 30.953125 -1.421875 24.3125 -1.421875 \r\nQ 15.921875 -1.421875 10.953125 3.296875 \r\nQ 6 8.015625 6 15.921875 \r\nQ 6 25.140625 12.171875 29.828125 \r\nQ 18.359375 34.515625 30.609375 34.515625 \r\nL 43.21875 34.515625 \r\nL 43.21875 35.40625 \r\nQ 43.21875 41.609375 39.140625 45 \r\nQ 35.0625 48.390625 27.6875 48.390625 \r\nQ 23 48.390625 18.546875 47.265625 \r\nQ 14.109375 46.140625 10.015625 43.890625 \r\nL 10.015625 52.203125 \r\nQ 14.9375 54.109375 19.578125 55.046875 \r\nQ 24.21875 56 28.609375 56 \r\nQ 40.484375 56 46.34375 49.84375 \r\nQ 52.203125 43.703125 52.203125 31.203125 \r\nz\r\n\" id=\"DejaVuSans-97\"/>\r\n       <path d=\"M 45.40625 27.984375 \r\nQ 45.40625 37.75 41.375 43.109375 \r\nQ 37.359375 48.484375 30.078125 48.484375 \r\nQ 22.859375 48.484375 18.828125 43.109375 \r\nQ 14.796875 37.75 14.796875 27.984375 \r\nQ 14.796875 18.265625 18.828125 12.890625 \r\nQ 22.859375 7.515625 30.078125 7.515625 \r\nQ 37.359375 7.515625 41.375 12.890625 \r\nQ 45.40625 18.265625 45.40625 27.984375 \r\nz\r\nM 54.390625 6.78125 \r\nQ 54.390625 -7.171875 48.1875 -13.984375 \r\nQ 42 -20.796875 29.203125 -20.796875 \r\nQ 24.46875 -20.796875 20.265625 -20.09375 \r\nQ 16.0625 -19.390625 12.109375 -17.921875 \r\nL 12.109375 -9.1875 \r\nQ 16.0625 -11.328125 19.921875 -12.34375 \r\nQ 23.78125 -13.375 27.78125 -13.375 \r\nQ 36.625 -13.375 41.015625 -8.765625 \r\nQ 45.40625 -4.15625 45.40625 5.171875 \r\nL 45.40625 9.625 \r\nQ 42.625 4.78125 38.28125 2.390625 \r\nQ 33.9375 0 27.875 0 \r\nQ 17.828125 0 11.671875 7.65625 \r\nQ 5.515625 15.328125 5.515625 27.984375 \r\nQ 5.515625 40.671875 11.671875 48.328125 \r\nQ 17.828125 56 27.875 56 \r\nQ 33.9375 56 38.28125 53.609375 \r\nQ 42.625 51.21875 45.40625 46.390625 \r\nL 45.40625 54.6875 \r\nL 54.390625 54.6875 \r\nz\r\n\" id=\"DejaVuSans-103\"/>\r\n       <path d=\"M 30.609375 48.390625 \r\nQ 23.390625 48.390625 19.1875 42.75 \r\nQ 14.984375 37.109375 14.984375 27.296875 \r\nQ 14.984375 17.484375 19.15625 11.84375 \r\nQ 23.34375 6.203125 30.609375 6.203125 \r\nQ 37.796875 6.203125 41.984375 11.859375 \r\nQ 46.1875 17.53125 46.1875 27.296875 \r\nQ 46.1875 37.015625 41.984375 42.703125 \r\nQ 37.796875 48.390625 30.609375 48.390625 \r\nz\r\nM 30.609375 56 \r\nQ 42.328125 56 49.015625 48.375 \r\nQ 55.71875 40.765625 55.71875 27.296875 \r\nQ 55.71875 13.875 49.015625 6.21875 \r\nQ 42.328125 -1.421875 30.609375 -1.421875 \r\nQ 18.84375 -1.421875 12.171875 6.21875 \r\nQ 5.515625 13.875 5.515625 27.296875 \r\nQ 5.515625 40.765625 12.171875 48.375 \r\nQ 18.84375 56 30.609375 56 \r\nz\r\n\" id=\"DejaVuSans-111\"/>\r\n       <path d=\"M 37.109375 75.984375 \r\nL 37.109375 68.5 \r\nL 28.515625 68.5 \r\nQ 23.6875 68.5 21.796875 66.546875 \r\nQ 19.921875 64.59375 19.921875 59.515625 \r\nL 19.921875 54.6875 \r\nL 34.71875 54.6875 \r\nL 34.71875 47.703125 \r\nL 19.921875 47.703125 \r\nL 19.921875 0 \r\nL 10.890625 0 \r\nL 10.890625 47.703125 \r\nL 2.296875 47.703125 \r\nL 2.296875 54.6875 \r\nL 10.890625 54.6875 \r\nL 10.890625 58.5 \r\nQ 10.890625 67.625 15.140625 71.796875 \r\nQ 19.390625 75.984375 28.609375 75.984375 \r\nz\r\n\" id=\"DejaVuSans-102\"/>\r\n       <path d=\"M 18.109375 8.203125 \r\nL 18.109375 -20.796875 \r\nL 9.078125 -20.796875 \r\nL 9.078125 54.6875 \r\nL 18.109375 54.6875 \r\nL 18.109375 46.390625 \r\nQ 20.953125 51.265625 25.265625 53.625 \r\nQ 29.59375 56 35.59375 56 \r\nQ 45.5625 56 51.78125 48.09375 \r\nQ 58.015625 40.1875 58.015625 27.296875 \r\nQ 58.015625 14.40625 51.78125 6.484375 \r\nQ 45.5625 -1.421875 35.59375 -1.421875 \r\nQ 29.59375 -1.421875 25.265625 0.953125 \r\nQ 20.953125 3.328125 18.109375 8.203125 \r\nz\r\nM 48.6875 27.296875 \r\nQ 48.6875 37.203125 44.609375 42.84375 \r\nQ 40.53125 48.484375 33.40625 48.484375 \r\nQ 26.265625 48.484375 22.1875 42.84375 \r\nQ 18.109375 37.203125 18.109375 27.296875 \r\nQ 18.109375 17.390625 22.1875 11.75 \r\nQ 26.265625 6.109375 33.40625 6.109375 \r\nQ 40.53125 6.109375 44.609375 11.75 \r\nQ 48.6875 17.390625 48.6875 27.296875 \r\nz\r\n\" id=\"DejaVuSans-112\"/>\r\n       <path d=\"M 2.984375 54.6875 \r\nL 12.5 54.6875 \r\nL 29.59375 8.796875 \r\nL 46.6875 54.6875 \r\nL 56.203125 54.6875 \r\nL 35.6875 0 \r\nL 23.484375 0 \r\nz\r\n\" id=\"DejaVuSans-118\"/>\r\n       <path d=\"M 4.203125 54.6875 \r\nL 13.1875 54.6875 \r\nL 24.421875 12.015625 \r\nL 35.59375 54.6875 \r\nL 46.1875 54.6875 \r\nL 57.421875 12.015625 \r\nL 68.609375 54.6875 \r\nL 77.59375 54.6875 \r\nL 63.28125 0 \r\nL 52.6875 0 \r\nL 40.921875 44.828125 \r\nL 29.109375 0 \r\nL 18.5 0 \r\nz\r\n\" id=\"DejaVuSans-119\"/>\r\n       <path d=\"M 54.890625 33.015625 \r\nL 54.890625 0 \r\nL 45.90625 0 \r\nL 45.90625 32.71875 \r\nQ 45.90625 40.484375 42.875 44.328125 \r\nQ 39.84375 48.1875 33.796875 48.1875 \r\nQ 26.515625 48.1875 22.3125 43.546875 \r\nQ 18.109375 38.921875 18.109375 30.90625 \r\nL 18.109375 0 \r\nL 9.078125 0 \r\nL 9.078125 75.984375 \r\nL 18.109375 75.984375 \r\nL 18.109375 46.1875 \r\nQ 21.34375 51.125 25.703125 53.5625 \r\nQ 30.078125 56 35.796875 56 \r\nQ 45.21875 56 50.046875 50.171875 \r\nQ 54.890625 44.34375 54.890625 33.015625 \r\nz\r\n\" id=\"DejaVuSans-104\"/>\r\n       <path d=\"M 48.6875 27.296875 \r\nQ 48.6875 37.203125 44.609375 42.84375 \r\nQ 40.53125 48.484375 33.40625 48.484375 \r\nQ 26.265625 48.484375 22.1875 42.84375 \r\nQ 18.109375 37.203125 18.109375 27.296875 \r\nQ 18.109375 17.390625 22.1875 11.75 \r\nQ 26.265625 6.109375 33.40625 6.109375 \r\nQ 40.53125 6.109375 44.609375 11.75 \r\nQ 48.6875 17.390625 48.6875 27.296875 \r\nz\r\nM 18.109375 46.390625 \r\nQ 20.953125 51.265625 25.265625 53.625 \r\nQ 29.59375 56 35.59375 56 \r\nQ 45.5625 56 51.78125 48.09375 \r\nQ 58.015625 40.1875 58.015625 27.296875 \r\nQ 58.015625 14.40625 51.78125 6.484375 \r\nQ 45.5625 -1.421875 35.59375 -1.421875 \r\nQ 29.59375 -1.421875 25.265625 0.953125 \r\nQ 20.953125 3.328125 18.109375 8.203125 \r\nL 18.109375 0 \r\nL 9.078125 0 \r\nL 9.078125 75.984375 \r\nL 18.109375 75.984375 \r\nz\r\n\" id=\"DejaVuSans-98\"/>\r\n       <path d=\"M 9.421875 75.984375 \r\nL 18.40625 75.984375 \r\nL 18.40625 0 \r\nL 9.421875 0 \r\nz\r\n\" id=\"DejaVuSans-108\"/>\r\n      </defs>\r\n      <use xlink:href=\"#DejaVuSans-80\"/>\r\n      <use x=\"56.677734\" xlink:href=\"#DejaVuSans-101\"/>\r\n      <use x=\"118.201172\" xlink:href=\"#DejaVuSans-114\"/>\r\n      <use x=\"157.064453\" xlink:href=\"#DejaVuSans-99\"/>\r\n      <use x=\"212.044922\" xlink:href=\"#DejaVuSans-101\"/>\r\n      <use x=\"273.568359\" xlink:href=\"#DejaVuSans-110\"/>\r\n      <use x=\"336.947266\" xlink:href=\"#DejaVuSans-116\"/>\r\n      <use x=\"376.15625\" xlink:href=\"#DejaVuSans-97\"/>\r\n      <use x=\"437.435547\" xlink:href=\"#DejaVuSans-103\"/>\r\n      <use x=\"500.912109\" xlink:href=\"#DejaVuSans-101\"/>\r\n      <use x=\"562.435547\" xlink:href=\"#DejaVuSans-32\"/>\r\n      <use x=\"594.222656\" xlink:href=\"#DejaVuSans-111\"/>\r\n      <use x=\"655.404297\" xlink:href=\"#DejaVuSans-102\"/>\r\n      <use x=\"690.609375\" xlink:href=\"#DejaVuSans-32\"/>\r\n      <use x=\"722.396484\" xlink:href=\"#DejaVuSans-115\"/>\r\n      <use x=\"774.496094\" xlink:href=\"#DejaVuSans-116\"/>\r\n      <use x=\"813.705078\" xlink:href=\"#DejaVuSans-111\"/>\r\n      <use x=\"874.886719\" xlink:href=\"#DejaVuSans-112\"/>\r\n      <use x=\"938.363281\" xlink:href=\"#DejaVuSans-112\"/>\r\n      <use x=\"1001.839844\" xlink:href=\"#DejaVuSans-101\"/>\r\n      <use x=\"1063.363281\" xlink:href=\"#DejaVuSans-100\"/>\r\n      <use x=\"1126.839844\" xlink:href=\"#DejaVuSans-32\"/>\r\n      <use x=\"1158.626953\" xlink:href=\"#DejaVuSans-100\"/>\r\n      <use x=\"1222.103516\" xlink:href=\"#DejaVuSans-114\"/>\r\n      <use x=\"1263.216797\" xlink:href=\"#DejaVuSans-105\"/>\r\n      <use x=\"1291\" xlink:href=\"#DejaVuSans-118\"/>\r\n      <use x=\"1350.179688\" xlink:href=\"#DejaVuSans-101\"/>\r\n      <use x=\"1411.703125\" xlink:href=\"#DejaVuSans-114\"/>\r\n      <use x=\"1452.816406\" xlink:href=\"#DejaVuSans-115\"/>\r\n      <use x=\"1504.916016\" xlink:href=\"#DejaVuSans-32\"/>\r\n      <use x=\"1536.703125\" xlink:href=\"#DejaVuSans-119\"/>\r\n      <use x=\"1618.490234\" xlink:href=\"#DejaVuSans-104\"/>\r\n      <use x=\"1681.869141\" xlink:href=\"#DejaVuSans-111\"/>\r\n      <use x=\"1743.050781\" xlink:href=\"#DejaVuSans-32\"/>\r\n      <use x=\"1774.837891\" xlink:href=\"#DejaVuSans-97\"/>\r\n      <use x=\"1836.117188\" xlink:href=\"#DejaVuSans-114\"/>\r\n      <use x=\"1874.980469\" xlink:href=\"#DejaVuSans-101\"/>\r\n      <use x=\"1936.503906\" xlink:href=\"#DejaVuSans-32\"/>\r\n      <use x=\"1968.291016\" xlink:href=\"#DejaVuSans-98\"/>\r\n      <use x=\"2031.767578\" xlink:href=\"#DejaVuSans-108\"/>\r\n      <use x=\"2059.550781\" xlink:href=\"#DejaVuSans-97\"/>\r\n      <use x=\"2120.830078\" xlink:href=\"#DejaVuSans-99\"/>\r\n      <use x=\"2175.810547\" xlink:href=\"#DejaVuSans-107\"/>\r\n     </g>\r\n    </g>\r\n   </g>\r\n   <g id=\"LineCollection_1\">\r\n    <path clip-path=\"url(#p776e2fb717)\" d=\"M 65.966761 218.754044 \r\nL 283.369359 218.754044 \r\n\" style=\"fill:none;stroke:#1f77b4;stroke-width:1.5;\"/>\r\n   </g>\r\n   <g id=\"LineCollection_2\">\r\n    <path clip-path=\"url(#p776e2fb717)\" d=\"M 355.836891 164.621041 \r\nL 573.239489 164.621041 \r\n\" style=\"fill:none;stroke:#1f77b4;stroke-width:1.5;\"/>\r\n   </g>\r\n   <g id=\"line2d_15\">\r\n    <path clip-path=\"url(#p776e2fb717)\" d=\"M 355.836891 279 \r\nL 355.836891 7.2 \r\n\" style=\"fill:none;stroke:#000000;stroke-dasharray:5.55,2.4;stroke-dashoffset:0;stroke-width:1.5;\"/>\r\n   </g>\r\n   <g id=\"patch_3\">\r\n    <path d=\"M 40.603125 279 \r\nL 40.603125 7.2 \r\n\" style=\"fill:none;stroke:#000000;stroke-linecap:square;stroke-linejoin:miter;stroke-width:0.8;\"/>\r\n   </g>\r\n   <g id=\"patch_4\">\r\n    <path d=\"M 598.603125 279 \r\nL 598.603125 7.2 \r\n\" style=\"fill:none;stroke:#000000;stroke-linecap:square;stroke-linejoin:miter;stroke-width:0.8;\"/>\r\n   </g>\r\n   <g id=\"patch_5\">\r\n    <path d=\"M 40.603125 279 \r\nL 598.603125 279 \r\n\" style=\"fill:none;stroke:#000000;stroke-linecap:square;stroke-linejoin:miter;stroke-width:0.8;\"/>\r\n   </g>\r\n   <g id=\"patch_6\">\r\n    <path d=\"M 40.603125 7.2 \r\nL 598.603125 7.2 \r\n\" style=\"fill:none;stroke:#000000;stroke-linecap:square;stroke-linejoin:miter;stroke-width:0.8;\"/>\r\n   </g>\r\n   <g id=\"legend_1\">\r\n    <g id=\"patch_7\">\r\n     <path d=\"M 47.603125 103.546875 \r\nL 98.690625 103.546875 \r\nQ 100.690625 103.546875 100.690625 101.546875 \r\nL 100.690625 14.2 \r\nQ 100.690625 12.2 98.690625 12.2 \r\nL 47.603125 12.2 \r\nQ 45.603125 12.2 45.603125 14.2 \r\nL 45.603125 101.546875 \r\nQ 45.603125 103.546875 47.603125 103.546875 \r\nz\r\n\" style=\"fill:#ffffff;opacity:0.8;stroke:#cccccc;stroke-linejoin:miter;\"/>\r\n    </g>\r\n    <g id=\"text_17\">\r\n     <!-- count_y -->\r\n     <g transform=\"translate(53.58125 23.798438)scale(0.1 -0.1)\">\r\n      <defs>\r\n       <path d=\"M 50.984375 -16.609375 \r\nL 50.984375 -23.578125 \r\nL -0.984375 -23.578125 \r\nL -0.984375 -16.609375 \r\nz\r\n\" id=\"DejaVuSans-95\"/>\r\n       <path d=\"M 32.171875 -5.078125 \r\nQ 28.375 -14.84375 24.75 -17.8125 \r\nQ 21.140625 -20.796875 15.09375 -20.796875 \r\nL 7.90625 -20.796875 \r\nL 7.90625 -13.28125 \r\nL 13.1875 -13.28125 \r\nQ 16.890625 -13.28125 18.9375 -11.515625 \r\nQ 21 -9.765625 23.484375 -3.21875 \r\nL 25.09375 0.875 \r\nL 2.984375 54.6875 \r\nL 12.5 54.6875 \r\nL 29.59375 11.921875 \r\nL 46.6875 54.6875 \r\nL 56.203125 54.6875 \r\nz\r\n\" id=\"DejaVuSans-121\"/>\r\n      </defs>\r\n      <use xlink:href=\"#DejaVuSans-99\"/>\r\n      <use x=\"54.980469\" xlink:href=\"#DejaVuSans-111\"/>\r\n      <use x=\"116.162109\" xlink:href=\"#DejaVuSans-117\"/>\r\n      <use x=\"179.541016\" xlink:href=\"#DejaVuSans-110\"/>\r\n      <use x=\"242.919922\" xlink:href=\"#DejaVuSans-116\"/>\r\n      <use x=\"282.128906\" xlink:href=\"#DejaVuSans-95\"/>\r\n      <use x=\"332.128906\" xlink:href=\"#DejaVuSans-121\"/>\r\n     </g>\r\n    </g>\r\n    <g id=\"PathCollection_7\">\r\n     <defs>\r\n      <path d=\"M 0 2.81972 \r\nC 0.747798 2.81972 1.46507 2.522616 1.993843 1.993843 \r\nC 2.522616 1.46507 2.81972 0.747798 2.81972 0 \r\nC 2.81972 -0.747798 2.522616 -1.46507 1.993843 -1.993843 \r\nC 1.46507 -2.522616 0.747798 -2.81972 0 -2.81972 \r\nC -0.747798 -2.81972 -1.46507 -2.522616 -1.993843 -1.993843 \r\nC -2.522616 -1.46507 -2.81972 -0.747798 -2.81972 0 \r\nC -2.81972 0.747798 -2.522616 1.46507 -1.993843 1.993843 \r\nC -1.46507 2.522616 -0.747798 2.81972 0 2.81972 \r\nz\r\n\" id=\"mfb30771d0e\" style=\"stroke:#333333;\"/>\r\n     </defs>\r\n     <g>\r\n      <use style=\"fill:#333333;stroke:#333333;\" x=\"59.603125\" xlink:href=\"#mfb30771d0e\" y=\"36.129688\"/>\r\n     </g>\r\n    </g>\r\n    <g id=\"text_18\">\r\n     <!-- 320 -->\r\n     <g transform=\"translate(77.603125 38.754688)scale(0.1 -0.1)\">\r\n      <use xlink:href=\"#DejaVuSans-51\"/>\r\n      <use x=\"63.623047\" xlink:href=\"#DejaVuSans-50\"/>\r\n      <use x=\"127.246094\" xlink:href=\"#DejaVuSans-48\"/>\r\n     </g>\r\n    </g>\r\n    <g id=\"PathCollection_8\">\r\n     <defs>\r\n      <path d=\"M 0 4.047435 \r\nC 1.073392 4.047435 2.102966 3.620972 2.861969 2.861969 \r\nC 3.620972 2.102966 4.047435 1.073392 4.047435 0 \r\nC 4.047435 -1.073392 3.620972 -2.102966 2.861969 -2.861969 \r\nC 2.102966 -3.620972 1.073392 -4.047435 0 -4.047435 \r\nC -1.073392 -4.047435 -2.102966 -3.620972 -2.861969 -2.861969 \r\nC -3.620972 -2.102966 -4.047435 -1.073392 -4.047435 0 \r\nC -4.047435 1.073392 -3.620972 2.102966 -2.861969 2.861969 \r\nC -2.102966 3.620972 -1.073392 4.047435 0 4.047435 \r\nz\r\n\" id=\"m38981c7adf\" style=\"stroke:#333333;\"/>\r\n     </defs>\r\n     <g>\r\n      <use style=\"fill:#333333;stroke:#333333;\" x=\"59.603125\" xlink:href=\"#m38981c7adf\" y=\"50.807813\"/>\r\n     </g>\r\n    </g>\r\n    <g id=\"text_19\">\r\n     <!-- 400 -->\r\n     <g transform=\"translate(77.603125 53.432813)scale(0.1 -0.1)\">\r\n      <use xlink:href=\"#DejaVuSans-52\"/>\r\n      <use x=\"63.623047\" xlink:href=\"#DejaVuSans-48\"/>\r\n      <use x=\"127.246094\" xlink:href=\"#DejaVuSans-48\"/>\r\n     </g>\r\n    </g>\r\n    <g id=\"PathCollection_9\">\r\n     <defs>\r\n      <path d=\"M 0 4.981229 \r\nC 1.321037 4.981229 2.588147 4.456376 3.522261 3.522261 \r\nC 4.456376 2.588147 4.981229 1.321037 4.981229 0 \r\nC 4.981229 -1.321037 4.456376 -2.588147 3.522261 -3.522261 \r\nC 2.588147 -4.456376 1.321037 -4.981229 0 -4.981229 \r\nC -1.321037 -4.981229 -2.588147 -4.456376 -3.522261 -3.522261 \r\nC -4.456376 -2.588147 -4.981229 -1.321037 -4.981229 0 \r\nC -4.981229 1.321037 -4.456376 2.588147 -3.522261 3.522261 \r\nC -2.588147 4.456376 -1.321037 4.981229 0 4.981229 \r\nz\r\n\" id=\"mc292327076\" style=\"stroke:#333333;\"/>\r\n     </defs>\r\n     <g>\r\n      <use style=\"fill:#333333;stroke:#333333;\" x=\"59.603125\" xlink:href=\"#mc292327076\" y=\"65.485938\"/>\r\n     </g>\r\n    </g>\r\n    <g id=\"text_20\">\r\n     <!-- 480 -->\r\n     <g transform=\"translate(77.603125 68.110938)scale(0.1 -0.1)\">\r\n      <use xlink:href=\"#DejaVuSans-52\"/>\r\n      <use x=\"63.623047\" xlink:href=\"#DejaVuSans-56\"/>\r\n      <use x=\"127.246094\" xlink:href=\"#DejaVuSans-48\"/>\r\n     </g>\r\n    </g>\r\n    <g id=\"PathCollection_10\">\r\n     <defs>\r\n      <path d=\"M 0 5.765723 \r\nC 1.529088 5.765723 2.995754 5.15821 4.076982 4.076982 \r\nC 5.15821 2.995754 5.765723 1.529088 5.765723 0 \r\nC 5.765723 -1.529088 5.15821 -2.995754 4.076982 -4.076982 \r\nC 2.995754 -5.15821 1.529088 -5.765723 0 -5.765723 \r\nC -1.529088 -5.765723 -2.995754 -5.15821 -4.076982 -4.076982 \r\nC -5.15821 -2.995754 -5.765723 -1.529088 -5.765723 0 \r\nC -5.765723 1.529088 -5.15821 2.995754 -4.076982 4.076982 \r\nC -2.995754 5.15821 -1.529088 5.765723 0 5.765723 \r\nz\r\n\" id=\"m62fa428cc1\" style=\"stroke:#333333;\"/>\r\n     </defs>\r\n     <g>\r\n      <use style=\"fill:#333333;stroke:#333333;\" x=\"59.603125\" xlink:href=\"#m62fa428cc1\" y=\"80.164063\"/>\r\n     </g>\r\n    </g>\r\n    <g id=\"text_21\">\r\n     <!-- 560 -->\r\n     <g transform=\"translate(77.603125 82.789063)scale(0.1 -0.1)\">\r\n      <defs>\r\n       <path d=\"M 10.796875 72.90625 \r\nL 49.515625 72.90625 \r\nL 49.515625 64.59375 \r\nL 19.828125 64.59375 \r\nL 19.828125 46.734375 \r\nQ 21.96875 47.46875 24.109375 47.828125 \r\nQ 26.265625 48.1875 28.421875 48.1875 \r\nQ 40.625 48.1875 47.75 41.5 \r\nQ 54.890625 34.8125 54.890625 23.390625 \r\nQ 54.890625 11.625 47.5625 5.09375 \r\nQ 40.234375 -1.421875 26.90625 -1.421875 \r\nQ 22.3125 -1.421875 17.546875 -0.640625 \r\nQ 12.796875 0.140625 7.71875 1.703125 \r\nL 7.71875 11.625 \r\nQ 12.109375 9.234375 16.796875 8.0625 \r\nQ 21.484375 6.890625 26.703125 6.890625 \r\nQ 35.15625 6.890625 40.078125 11.328125 \r\nQ 45.015625 15.765625 45.015625 23.390625 \r\nQ 45.015625 31 40.078125 35.4375 \r\nQ 35.15625 39.890625 26.703125 39.890625 \r\nQ 22.75 39.890625 18.8125 39.015625 \r\nQ 14.890625 38.140625 10.796875 36.28125 \r\nz\r\n\" id=\"DejaVuSans-53\"/>\r\n      </defs>\r\n      <use xlink:href=\"#DejaVuSans-53\"/>\r\n      <use x=\"63.623047\" xlink:href=\"#DejaVuSans-54\"/>\r\n      <use x=\"127.246094\" xlink:href=\"#DejaVuSans-48\"/>\r\n     </g>\r\n    </g>\r\n    <g id=\"PathCollection_11\">\r\n     <defs>\r\n      <path d=\"M 0 6.455577 \r\nC 1.712039 6.455577 3.354188 5.775377 4.564782 4.564782 \r\nC 5.775377 3.354188 6.455577 1.712039 6.455577 0 \r\nC 6.455577 -1.712039 5.775377 -3.354188 4.564782 -4.564782 \r\nC 3.354188 -5.775377 1.712039 -6.455577 0 -6.455577 \r\nC -1.712039 -6.455577 -3.354188 -5.775377 -4.564782 -4.564782 \r\nC -5.775377 -3.354188 -6.455577 -1.712039 -6.455577 0 \r\nC -6.455577 1.712039 -5.775377 3.354188 -4.564782 4.564782 \r\nC -3.354188 5.775377 -1.712039 6.455577 0 6.455577 \r\nz\r\n\" id=\"m9112cf1aba\" style=\"stroke:#333333;\"/>\r\n     </defs>\r\n     <g>\r\n      <use style=\"fill:#333333;stroke:#333333;\" x=\"59.603125\" xlink:href=\"#m9112cf1aba\" y=\"94.842188\"/>\r\n     </g>\r\n    </g>\r\n    <g id=\"text_22\">\r\n     <!-- 640 -->\r\n     <g transform=\"translate(77.603125 97.467188)scale(0.1 -0.1)\">\r\n      <use xlink:href=\"#DejaVuSans-54\"/>\r\n      <use x=\"63.623047\" xlink:href=\"#DejaVuSans-52\"/>\r\n      <use x=\"127.246094\" xlink:href=\"#DejaVuSans-48\"/>\r\n     </g>\r\n    </g>\r\n   </g>\r\n  </g>\r\n </g>\r\n <defs>\r\n  <clipPath id=\"p776e2fb717\">\r\n   <rect height=\"271.8\" width=\"558\" x=\"40.603125\" y=\"7.2\"/>\r\n  </clipPath>\r\n </defs>\r\n</svg>\r\n",
      "image/png": "[encoded data removed]"
     },
     "metadata": {
      "needs_background": "light"
     }
    },
    {
     "output_type": "display_data",
     "data": {
      "text/plain": "<Figure size 720x360 with 1 Axes>",
      "image/svg+xml": "<?xml version=\"1.0\" encoding=\"utf-8\" standalone=\"no\"?>\r\n<!DOCTYPE svg PUBLIC \"-//W3C//DTD SVG 1.1//EN\"\r\n  \"http://www.w3.org/Graphics/SVG/1.1/DTD/svg11.dtd\">\r\n<!-- Created with matplotlib (https://matplotlib.org/) -->\r\n<svg height=\"320.355469pt\" version=\"1.1\" viewBox=\"0 0 605.803125 320.355469\" width=\"605.803125pt\" xmlns=\"http://www.w3.org/2000/svg\" xmlns:xlink=\"http://www.w3.org/1999/xlink\">\r\n <metadata>\r\n  <rdf:RDF xmlns:cc=\"http://creativecommons.org/ns#\" xmlns:dc=\"http://purl.org/dc/elements/1.1/\" xmlns:rdf=\"http://www.w3.org/1999/02/22-rdf-syntax-ns#\">\r\n   <cc:Work>\r\n    <dc:type rdf:resource=\"http://purl.org/dc/dcmitype/StillImage\"/>\r\n    <dc:date>2020-12-18T12:28:54.247405</dc:date>\r\n    <dc:format>image/svg+xml</dc:format>\r\n    <dc:creator>\r\n     <cc:Agent>\r\n      <dc:title>Matplotlib v3.3.2, https://matplotlib.org/</dc:title>\r\n     </cc:Agent>\r\n    </dc:creator>\r\n   </cc:Work>\r\n  </rdf:RDF>\r\n </metadata>\r\n <defs>\r\n  <style type=\"text/css\">*{stroke-linecap:butt;stroke-linejoin:round;}</style>\r\n </defs>\r\n <g id=\"figure_1\">\r\n  <g id=\"patch_1\">\r\n   <path d=\"M 0 320.355469 \r\nL 605.803125 320.355469 \r\nL 605.803125 0 \r\nL 0 0 \r\nz\r\n\" style=\"fill:none;\"/>\r\n  </g>\r\n  <g id=\"axes_1\">\r\n   <g id=\"patch_2\">\r\n    <path d=\"M 40.603125 282.799219 \r\nL 598.603125 282.799219 \r\nL 598.603125 10.999219 \r\nL 40.603125 10.999219 \r\nz\r\n\" style=\"fill:#ffffff;\"/>\r\n   </g>\r\n   <g id=\"PathCollection_1\">\r\n    <path clip-path=\"url(#p8fe6c125ad)\" d=\"M 65.966761 183.029627 \r\nC 67.357498 183.029627 68.691461 182.477081 69.674861 181.493682 \r\nC 70.65826 180.510282 71.210806 179.176319 71.210806 177.785582 \r\nC 71.210806 176.394846 70.65826 175.060883 69.674861 174.077483 \r\nC 68.691461 173.094084 67.357498 172.541538 65.966761 172.541538 \r\nC 64.576025 172.541538 63.242062 173.094084 62.258662 174.077483 \r\nC 61.275263 175.060883 60.722717 176.394846 60.722717 177.785582 \r\nC 60.722717 179.176319 61.275263 180.510282 62.258662 181.493682 \r\nC 63.242062 182.477081 64.576025 183.029627 65.966761 183.029627 \r\nz\r\n\" style=\"stroke:#ffffff;stroke-width:0.357771;\"/>\r\n    <path clip-path=\"url(#p8fe6c125ad)\" d=\"M 256.194034 25.589832 \r\nC 256.787046 25.589832 257.35585 25.354226 257.775173 24.934903 \r\nC 258.194496 24.51558 258.430102 23.946776 258.430102 23.353764 \r\nC 258.430102 22.760752 258.194496 22.191948 257.775173 21.772625 \r\nC 257.35585 21.353302 256.787046 21.117696 256.194034 21.117696 \r\nC 255.601022 21.117696 255.032218 21.353302 254.612895 21.772625 \r\nC 254.193572 22.191948 253.957966 22.760752 253.957966 23.353764 \r\nC 253.957966 23.946776 254.193572 24.51558 254.612895 24.934903 \r\nC 255.032218 25.354226 255.601022 25.589832 256.194034 25.589832 \r\nz\r\n\" style=\"stroke:#ffffff;stroke-width:0.357771;\"/>\r\n    <path clip-path=\"url(#p8fe6c125ad)\" d=\"M 383.012216 25.589832 \r\nC 383.605228 25.589832 384.174032 25.354226 384.593355 24.934903 \r\nC 385.012678 24.51558 385.248284 23.946776 385.248284 23.353764 \r\nC 385.248284 22.760752 385.012678 22.191948 384.593355 21.772625 \r\nC 384.174032 21.353302 383.605228 21.117696 383.012216 21.117696 \r\nC 382.419204 21.117696 381.8504 21.353302 381.431077 21.772625 \r\nC 381.011754 22.191948 380.776148 22.760752 380.776148 23.353764 \r\nC 380.776148 23.946776 381.011754 24.51558 381.431077 24.934903 \r\nC 381.8504 25.354226 382.419204 25.589832 383.012216 25.589832 \r\nz\r\n\" style=\"stroke:#ffffff;stroke-width:0.357771;\"/>\r\n    <path clip-path=\"url(#p8fe6c125ad)\" d=\"M 446.421307 277.515741 \r\nC 448.296576 277.515741 450.095291 276.770689 451.421307 275.444673 \r\nC 452.747322 274.118658 453.492375 272.319942 453.492375 270.444673 \r\nC 453.492375 268.569404 452.747322 266.770689 451.421307 265.444673 \r\nC 450.095291 264.118658 448.296576 263.373605 446.421307 263.373605 \r\nC 444.546038 263.373605 442.747322 264.118658 441.421307 265.444673 \r\nC 440.095291 266.770689 439.350239 268.569404 439.350239 270.444673 \r\nC 439.350239 272.319942 440.095291 274.118658 441.421307 275.444673 \r\nC 442.747322 276.770689 444.546038 277.515741 446.421307 277.515741 \r\nz\r\n\" style=\"stroke:#ffffff;stroke-width:0.357771;\"/>\r\n   </g>\r\n   <g id=\"PathCollection_2\"/>\r\n   <g id=\"PathCollection_3\"/>\r\n   <g id=\"PathCollection_4\"/>\r\n   <g id=\"matplotlib.axis_1\">\r\n    <g id=\"xtick_1\">\r\n     <g id=\"line2d_1\">\r\n      <defs>\r\n       <path d=\"M 0 0 \r\nL 0 3.5 \r\n\" id=\"m8194496b1b\" style=\"stroke:#000000;stroke-width:0.8;\"/>\r\n      </defs>\r\n      <g>\r\n       <use style=\"stroke:#000000;stroke-width:0.8;\" x=\"65.966761\" xlink:href=\"#m8194496b1b\" y=\"282.799219\"/>\r\n      </g>\r\n     </g>\r\n     <g id=\"text_1\">\r\n      <!-- −80 -->\r\n      <g transform=\"translate(55.414418 297.397656)scale(0.1 -0.1)\">\r\n       <defs>\r\n        <path d=\"M 10.59375 35.5 \r\nL 73.1875 35.5 \r\nL 73.1875 27.203125 \r\nL 10.59375 27.203125 \r\nz\r\n\" id=\"DejaVuSans-8722\"/>\r\n        <path d=\"M 31.78125 34.625 \r\nQ 24.75 34.625 20.71875 30.859375 \r\nQ 16.703125 27.09375 16.703125 20.515625 \r\nQ 16.703125 13.921875 20.71875 10.15625 \r\nQ 24.75 6.390625 31.78125 6.390625 \r\nQ 38.8125 6.390625 42.859375 10.171875 \r\nQ 46.921875 13.96875 46.921875 20.515625 \r\nQ 46.921875 27.09375 42.890625 30.859375 \r\nQ 38.875 34.625 31.78125 34.625 \r\nz\r\nM 21.921875 38.8125 \r\nQ 15.578125 40.375 12.03125 44.71875 \r\nQ 8.5 49.078125 8.5 55.328125 \r\nQ 8.5 64.0625 14.71875 69.140625 \r\nQ 20.953125 74.21875 31.78125 74.21875 \r\nQ 42.671875 74.21875 48.875 69.140625 \r\nQ 55.078125 64.0625 55.078125 55.328125 \r\nQ 55.078125 49.078125 51.53125 44.71875 \r\nQ 48 40.375 41.703125 38.8125 \r\nQ 48.828125 37.15625 52.796875 32.3125 \r\nQ 56.78125 27.484375 56.78125 20.515625 \r\nQ 56.78125 9.90625 50.3125 4.234375 \r\nQ 43.84375 -1.421875 31.78125 -1.421875 \r\nQ 19.734375 -1.421875 13.25 4.234375 \r\nQ 6.78125 9.90625 6.78125 20.515625 \r\nQ 6.78125 27.484375 10.78125 32.3125 \r\nQ 14.796875 37.15625 21.921875 38.8125 \r\nz\r\nM 18.3125 54.390625 \r\nQ 18.3125 48.734375 21.84375 45.5625 \r\nQ 25.390625 42.390625 31.78125 42.390625 \r\nQ 38.140625 42.390625 41.71875 45.5625 \r\nQ 45.3125 48.734375 45.3125 54.390625 \r\nQ 45.3125 60.0625 41.71875 63.234375 \r\nQ 38.140625 66.40625 31.78125 66.40625 \r\nQ 25.390625 66.40625 21.84375 63.234375 \r\nQ 18.3125 60.0625 18.3125 54.390625 \r\nz\r\n\" id=\"DejaVuSans-56\"/>\r\n        <path d=\"M 31.78125 66.40625 \r\nQ 24.171875 66.40625 20.328125 58.90625 \r\nQ 16.5 51.421875 16.5 36.375 \r\nQ 16.5 21.390625 20.328125 13.890625 \r\nQ 24.171875 6.390625 31.78125 6.390625 \r\nQ 39.453125 6.390625 43.28125 13.890625 \r\nQ 47.125 21.390625 47.125 36.375 \r\nQ 47.125 51.421875 43.28125 58.90625 \r\nQ 39.453125 66.40625 31.78125 66.40625 \r\nz\r\nM 31.78125 74.21875 \r\nQ 44.046875 74.21875 50.515625 64.515625 \r\nQ 56.984375 54.828125 56.984375 36.375 \r\nQ 56.984375 17.96875 50.515625 8.265625 \r\nQ 44.046875 -1.421875 31.78125 -1.421875 \r\nQ 19.53125 -1.421875 13.0625 8.265625 \r\nQ 6.59375 17.96875 6.59375 36.375 \r\nQ 6.59375 54.828125 13.0625 64.515625 \r\nQ 19.53125 74.21875 31.78125 74.21875 \r\nz\r\n\" id=\"DejaVuSans-48\"/>\r\n       </defs>\r\n       <use xlink:href=\"#DejaVuSans-8722\"/>\r\n       <use x=\"83.789062\" xlink:href=\"#DejaVuSans-56\"/>\r\n       <use x=\"147.412109\" xlink:href=\"#DejaVuSans-48\"/>\r\n      </g>\r\n     </g>\r\n    </g>\r\n    <g id=\"xtick_2\">\r\n     <g id=\"line2d_2\">\r\n      <g>\r\n       <use style=\"stroke:#000000;stroke-width:0.8;\" x=\"129.375852\" xlink:href=\"#m8194496b1b\" y=\"282.799219\"/>\r\n      </g>\r\n     </g>\r\n     <g id=\"text_2\">\r\n      <!-- −70 -->\r\n      <g transform=\"translate(118.823509 297.397656)scale(0.1 -0.1)\">\r\n       <defs>\r\n        <path d=\"M 8.203125 72.90625 \r\nL 55.078125 72.90625 \r\nL 55.078125 68.703125 \r\nL 28.609375 0 \r\nL 18.3125 0 \r\nL 43.21875 64.59375 \r\nL 8.203125 64.59375 \r\nz\r\n\" id=\"DejaVuSans-55\"/>\r\n       </defs>\r\n       <use xlink:href=\"#DejaVuSans-8722\"/>\r\n       <use x=\"83.789062\" xlink:href=\"#DejaVuSans-55\"/>\r\n       <use x=\"147.412109\" xlink:href=\"#DejaVuSans-48\"/>\r\n      </g>\r\n     </g>\r\n    </g>\r\n    <g id=\"xtick_3\">\r\n     <g id=\"line2d_3\">\r\n      <g>\r\n       <use style=\"stroke:#000000;stroke-width:0.8;\" x=\"192.784943\" xlink:href=\"#m8194496b1b\" y=\"282.799219\"/>\r\n      </g>\r\n     </g>\r\n     <g id=\"text_3\">\r\n      <!-- −60 -->\r\n      <g transform=\"translate(182.232599 297.397656)scale(0.1 -0.1)\">\r\n       <defs>\r\n        <path d=\"M 33.015625 40.375 \r\nQ 26.375 40.375 22.484375 35.828125 \r\nQ 18.609375 31.296875 18.609375 23.390625 \r\nQ 18.609375 15.53125 22.484375 10.953125 \r\nQ 26.375 6.390625 33.015625 6.390625 \r\nQ 39.65625 6.390625 43.53125 10.953125 \r\nQ 47.40625 15.53125 47.40625 23.390625 \r\nQ 47.40625 31.296875 43.53125 35.828125 \r\nQ 39.65625 40.375 33.015625 40.375 \r\nz\r\nM 52.59375 71.296875 \r\nL 52.59375 62.3125 \r\nQ 48.875 64.0625 45.09375 64.984375 \r\nQ 41.3125 65.921875 37.59375 65.921875 \r\nQ 27.828125 65.921875 22.671875 59.328125 \r\nQ 17.53125 52.734375 16.796875 39.40625 \r\nQ 19.671875 43.65625 24.015625 45.921875 \r\nQ 28.375 48.1875 33.59375 48.1875 \r\nQ 44.578125 48.1875 50.953125 41.515625 \r\nQ 57.328125 34.859375 57.328125 23.390625 \r\nQ 57.328125 12.15625 50.6875 5.359375 \r\nQ 44.046875 -1.421875 33.015625 -1.421875 \r\nQ 20.359375 -1.421875 13.671875 8.265625 \r\nQ 6.984375 17.96875 6.984375 36.375 \r\nQ 6.984375 53.65625 15.1875 63.9375 \r\nQ 23.390625 74.21875 37.203125 74.21875 \r\nQ 40.921875 74.21875 44.703125 73.484375 \r\nQ 48.484375 72.75 52.59375 71.296875 \r\nz\r\n\" id=\"DejaVuSans-54\"/>\r\n       </defs>\r\n       <use xlink:href=\"#DejaVuSans-8722\"/>\r\n       <use x=\"83.789062\" xlink:href=\"#DejaVuSans-54\"/>\r\n       <use x=\"147.412109\" xlink:href=\"#DejaVuSans-48\"/>\r\n      </g>\r\n     </g>\r\n    </g>\r\n    <g id=\"xtick_4\">\r\n     <g id=\"line2d_4\">\r\n      <g>\r\n       <use style=\"stroke:#000000;stroke-width:0.8;\" x=\"256.194034\" xlink:href=\"#m8194496b1b\" y=\"282.799219\"/>\r\n      </g>\r\n     </g>\r\n     <g id=\"text_4\">\r\n      <!-- −50 -->\r\n      <g transform=\"translate(245.64169 297.397656)scale(0.1 -0.1)\">\r\n       <defs>\r\n        <path d=\"M 10.796875 72.90625 \r\nL 49.515625 72.90625 \r\nL 49.515625 64.59375 \r\nL 19.828125 64.59375 \r\nL 19.828125 46.734375 \r\nQ 21.96875 47.46875 24.109375 47.828125 \r\nQ 26.265625 48.1875 28.421875 48.1875 \r\nQ 40.625 48.1875 47.75 41.5 \r\nQ 54.890625 34.8125 54.890625 23.390625 \r\nQ 54.890625 11.625 47.5625 5.09375 \r\nQ 40.234375 -1.421875 26.90625 -1.421875 \r\nQ 22.3125 -1.421875 17.546875 -0.640625 \r\nQ 12.796875 0.140625 7.71875 1.703125 \r\nL 7.71875 11.625 \r\nQ 12.109375 9.234375 16.796875 8.0625 \r\nQ 21.484375 6.890625 26.703125 6.890625 \r\nQ 35.15625 6.890625 40.078125 11.328125 \r\nQ 45.015625 15.765625 45.015625 23.390625 \r\nQ 45.015625 31 40.078125 35.4375 \r\nQ 35.15625 39.890625 26.703125 39.890625 \r\nQ 22.75 39.890625 18.8125 39.015625 \r\nQ 14.890625 38.140625 10.796875 36.28125 \r\nz\r\n\" id=\"DejaVuSans-53\"/>\r\n       </defs>\r\n       <use xlink:href=\"#DejaVuSans-8722\"/>\r\n       <use x=\"83.789062\" xlink:href=\"#DejaVuSans-53\"/>\r\n       <use x=\"147.412109\" xlink:href=\"#DejaVuSans-48\"/>\r\n      </g>\r\n     </g>\r\n    </g>\r\n    <g id=\"xtick_5\">\r\n     <g id=\"line2d_5\">\r\n      <g>\r\n       <use style=\"stroke:#000000;stroke-width:0.8;\" x=\"319.603125\" xlink:href=\"#m8194496b1b\" y=\"282.799219\"/>\r\n      </g>\r\n     </g>\r\n     <g id=\"text_5\">\r\n      <!-- −40 -->\r\n      <g transform=\"translate(309.050781 297.397656)scale(0.1 -0.1)\">\r\n       <defs>\r\n        <path d=\"M 37.796875 64.3125 \r\nL 12.890625 25.390625 \r\nL 37.796875 25.390625 \r\nz\r\nM 35.203125 72.90625 \r\nL 47.609375 72.90625 \r\nL 47.609375 25.390625 \r\nL 58.015625 25.390625 \r\nL 58.015625 17.1875 \r\nL 47.609375 17.1875 \r\nL 47.609375 0 \r\nL 37.796875 0 \r\nL 37.796875 17.1875 \r\nL 4.890625 17.1875 \r\nL 4.890625 26.703125 \r\nz\r\n\" id=\"DejaVuSans-52\"/>\r\n       </defs>\r\n       <use xlink:href=\"#DejaVuSans-8722\"/>\r\n       <use x=\"83.789062\" xlink:href=\"#DejaVuSans-52\"/>\r\n       <use x=\"147.412109\" xlink:href=\"#DejaVuSans-48\"/>\r\n      </g>\r\n     </g>\r\n    </g>\r\n    <g id=\"xtick_6\">\r\n     <g id=\"line2d_6\">\r\n      <g>\r\n       <use style=\"stroke:#000000;stroke-width:0.8;\" x=\"383.012216\" xlink:href=\"#m8194496b1b\" y=\"282.799219\"/>\r\n      </g>\r\n     </g>\r\n     <g id=\"text_6\">\r\n      <!-- −30 -->\r\n      <g transform=\"translate(372.459872 297.397656)scale(0.1 -0.1)\">\r\n       <defs>\r\n        <path d=\"M 40.578125 39.3125 \r\nQ 47.65625 37.796875 51.625 33 \r\nQ 55.609375 28.21875 55.609375 21.1875 \r\nQ 55.609375 10.40625 48.1875 4.484375 \r\nQ 40.765625 -1.421875 27.09375 -1.421875 \r\nQ 22.515625 -1.421875 17.65625 -0.515625 \r\nQ 12.796875 0.390625 7.625 2.203125 \r\nL 7.625 11.71875 \r\nQ 11.71875 9.328125 16.59375 8.109375 \r\nQ 21.484375 6.890625 26.8125 6.890625 \r\nQ 36.078125 6.890625 40.9375 10.546875 \r\nQ 45.796875 14.203125 45.796875 21.1875 \r\nQ 45.796875 27.640625 41.28125 31.265625 \r\nQ 36.765625 34.90625 28.71875 34.90625 \r\nL 20.21875 34.90625 \r\nL 20.21875 43.015625 \r\nL 29.109375 43.015625 \r\nQ 36.375 43.015625 40.234375 45.921875 \r\nQ 44.09375 48.828125 44.09375 54.296875 \r\nQ 44.09375 59.90625 40.109375 62.90625 \r\nQ 36.140625 65.921875 28.71875 65.921875 \r\nQ 24.65625 65.921875 20.015625 65.03125 \r\nQ 15.375 64.15625 9.8125 62.3125 \r\nL 9.8125 71.09375 \r\nQ 15.4375 72.65625 20.34375 73.4375 \r\nQ 25.25 74.21875 29.59375 74.21875 \r\nQ 40.828125 74.21875 47.359375 69.109375 \r\nQ 53.90625 64.015625 53.90625 55.328125 \r\nQ 53.90625 49.265625 50.4375 45.09375 \r\nQ 46.96875 40.921875 40.578125 39.3125 \r\nz\r\n\" id=\"DejaVuSans-51\"/>\r\n       </defs>\r\n       <use xlink:href=\"#DejaVuSans-8722\"/>\r\n       <use x=\"83.789062\" xlink:href=\"#DejaVuSans-51\"/>\r\n       <use x=\"147.412109\" xlink:href=\"#DejaVuSans-48\"/>\r\n      </g>\r\n     </g>\r\n    </g>\r\n    <g id=\"xtick_7\">\r\n     <g id=\"line2d_7\">\r\n      <g>\r\n       <use style=\"stroke:#000000;stroke-width:0.8;\" x=\"446.421307\" xlink:href=\"#m8194496b1b\" y=\"282.799219\"/>\r\n      </g>\r\n     </g>\r\n     <g id=\"text_7\">\r\n      <!-- −20 -->\r\n      <g transform=\"translate(435.868963 297.397656)scale(0.1 -0.1)\">\r\n       <defs>\r\n        <path d=\"M 19.1875 8.296875 \r\nL 53.609375 8.296875 \r\nL 53.609375 0 \r\nL 7.328125 0 \r\nL 7.328125 8.296875 \r\nQ 12.9375 14.109375 22.625 23.890625 \r\nQ 32.328125 33.6875 34.8125 36.53125 \r\nQ 39.546875 41.84375 41.421875 45.53125 \r\nQ 43.3125 49.21875 43.3125 52.78125 \r\nQ 43.3125 58.59375 39.234375 62.25 \r\nQ 35.15625 65.921875 28.609375 65.921875 \r\nQ 23.96875 65.921875 18.8125 64.3125 \r\nQ 13.671875 62.703125 7.8125 59.421875 \r\nL 7.8125 69.390625 \r\nQ 13.765625 71.78125 18.9375 73 \r\nQ 24.125 74.21875 28.421875 74.21875 \r\nQ 39.75 74.21875 46.484375 68.546875 \r\nQ 53.21875 62.890625 53.21875 53.421875 \r\nQ 53.21875 48.921875 51.53125 44.890625 \r\nQ 49.859375 40.875 45.40625 35.40625 \r\nQ 44.1875 33.984375 37.640625 27.21875 \r\nQ 31.109375 20.453125 19.1875 8.296875 \r\nz\r\n\" id=\"DejaVuSans-50\"/>\r\n       </defs>\r\n       <use xlink:href=\"#DejaVuSans-8722\"/>\r\n       <use x=\"83.789062\" xlink:href=\"#DejaVuSans-50\"/>\r\n       <use x=\"147.412109\" xlink:href=\"#DejaVuSans-48\"/>\r\n      </g>\r\n     </g>\r\n    </g>\r\n    <g id=\"xtick_8\">\r\n     <g id=\"line2d_8\">\r\n      <g>\r\n       <use style=\"stroke:#000000;stroke-width:0.8;\" x=\"509.830398\" xlink:href=\"#m8194496b1b\" y=\"282.799219\"/>\r\n      </g>\r\n     </g>\r\n     <g id=\"text_8\">\r\n      <!-- −10 -->\r\n      <g transform=\"translate(499.278054 297.397656)scale(0.1 -0.1)\">\r\n       <defs>\r\n        <path d=\"M 12.40625 8.296875 \r\nL 28.515625 8.296875 \r\nL 28.515625 63.921875 \r\nL 10.984375 60.40625 \r\nL 10.984375 69.390625 \r\nL 28.421875 72.90625 \r\nL 38.28125 72.90625 \r\nL 38.28125 8.296875 \r\nL 54.390625 8.296875 \r\nL 54.390625 0 \r\nL 12.40625 0 \r\nz\r\n\" id=\"DejaVuSans-49\"/>\r\n       </defs>\r\n       <use xlink:href=\"#DejaVuSans-8722\"/>\r\n       <use x=\"83.789062\" xlink:href=\"#DejaVuSans-49\"/>\r\n       <use x=\"147.412109\" xlink:href=\"#DejaVuSans-48\"/>\r\n      </g>\r\n     </g>\r\n    </g>\r\n    <g id=\"xtick_9\">\r\n     <g id=\"line2d_9\">\r\n      <g>\r\n       <use style=\"stroke:#000000;stroke-width:0.8;\" x=\"573.239489\" xlink:href=\"#m8194496b1b\" y=\"282.799219\"/>\r\n      </g>\r\n     </g>\r\n     <g id=\"text_9\">\r\n      <!-- 0 -->\r\n      <g transform=\"translate(570.058239 297.397656)scale(0.1 -0.1)\">\r\n       <use xlink:href=\"#DejaVuSans-48\"/>\r\n      </g>\r\n     </g>\r\n    </g>\r\n    <g id=\"text_10\">\r\n     <!-- Time since dusk (min) -->\r\n     <g transform=\"translate(264.441406 311.075781)scale(0.1 -0.1)\">\r\n      <defs>\r\n       <path d=\"M -0.296875 72.90625 \r\nL 61.375 72.90625 \r\nL 61.375 64.59375 \r\nL 35.5 64.59375 \r\nL 35.5 0 \r\nL 25.59375 0 \r\nL 25.59375 64.59375 \r\nL -0.296875 64.59375 \r\nz\r\n\" id=\"DejaVuSans-84\"/>\r\n       <path d=\"M 9.421875 54.6875 \r\nL 18.40625 54.6875 \r\nL 18.40625 0 \r\nL 9.421875 0 \r\nz\r\nM 9.421875 75.984375 \r\nL 18.40625 75.984375 \r\nL 18.40625 64.59375 \r\nL 9.421875 64.59375 \r\nz\r\n\" id=\"DejaVuSans-105\"/>\r\n       <path d=\"M 52 44.1875 \r\nQ 55.375 50.25 60.0625 53.125 \r\nQ 64.75 56 71.09375 56 \r\nQ 79.640625 56 84.28125 50.015625 \r\nQ 88.921875 44.046875 88.921875 33.015625 \r\nL 88.921875 0 \r\nL 79.890625 0 \r\nL 79.890625 32.71875 \r\nQ 79.890625 40.578125 77.09375 44.375 \r\nQ 74.3125 48.1875 68.609375 48.1875 \r\nQ 61.625 48.1875 57.5625 43.546875 \r\nQ 53.515625 38.921875 53.515625 30.90625 \r\nL 53.515625 0 \r\nL 44.484375 0 \r\nL 44.484375 32.71875 \r\nQ 44.484375 40.625 41.703125 44.40625 \r\nQ 38.921875 48.1875 33.109375 48.1875 \r\nQ 26.21875 48.1875 22.15625 43.53125 \r\nQ 18.109375 38.875 18.109375 30.90625 \r\nL 18.109375 0 \r\nL 9.078125 0 \r\nL 9.078125 54.6875 \r\nL 18.109375 54.6875 \r\nL 18.109375 46.1875 \r\nQ 21.1875 51.21875 25.484375 53.609375 \r\nQ 29.78125 56 35.6875 56 \r\nQ 41.65625 56 45.828125 52.96875 \r\nQ 50 49.953125 52 44.1875 \r\nz\r\n\" id=\"DejaVuSans-109\"/>\r\n       <path d=\"M 56.203125 29.59375 \r\nL 56.203125 25.203125 \r\nL 14.890625 25.203125 \r\nQ 15.484375 15.921875 20.484375 11.0625 \r\nQ 25.484375 6.203125 34.421875 6.203125 \r\nQ 39.59375 6.203125 44.453125 7.46875 \r\nQ 49.3125 8.734375 54.109375 11.28125 \r\nL 54.109375 2.78125 \r\nQ 49.265625 0.734375 44.1875 -0.34375 \r\nQ 39.109375 -1.421875 33.890625 -1.421875 \r\nQ 20.796875 -1.421875 13.15625 6.1875 \r\nQ 5.515625 13.8125 5.515625 26.8125 \r\nQ 5.515625 40.234375 12.765625 48.109375 \r\nQ 20.015625 56 32.328125 56 \r\nQ 43.359375 56 49.78125 48.890625 \r\nQ 56.203125 41.796875 56.203125 29.59375 \r\nz\r\nM 47.21875 32.234375 \r\nQ 47.125 39.59375 43.09375 43.984375 \r\nQ 39.0625 48.390625 32.421875 48.390625 \r\nQ 24.90625 48.390625 20.390625 44.140625 \r\nQ 15.875 39.890625 15.1875 32.171875 \r\nz\r\n\" id=\"DejaVuSans-101\"/>\r\n       <path id=\"DejaVuSans-32\"/>\r\n       <path d=\"M 44.28125 53.078125 \r\nL 44.28125 44.578125 \r\nQ 40.484375 46.53125 36.375 47.5 \r\nQ 32.28125 48.484375 27.875 48.484375 \r\nQ 21.1875 48.484375 17.84375 46.4375 \r\nQ 14.5 44.390625 14.5 40.28125 \r\nQ 14.5 37.15625 16.890625 35.375 \r\nQ 19.28125 33.59375 26.515625 31.984375 \r\nL 29.59375 31.296875 \r\nQ 39.15625 29.25 43.1875 25.515625 \r\nQ 47.21875 21.78125 47.21875 15.09375 \r\nQ 47.21875 7.46875 41.1875 3.015625 \r\nQ 35.15625 -1.421875 24.609375 -1.421875 \r\nQ 20.21875 -1.421875 15.453125 -0.5625 \r\nQ 10.6875 0.296875 5.421875 2 \r\nL 5.421875 11.28125 \r\nQ 10.40625 8.6875 15.234375 7.390625 \r\nQ 20.0625 6.109375 24.8125 6.109375 \r\nQ 31.15625 6.109375 34.5625 8.28125 \r\nQ 37.984375 10.453125 37.984375 14.40625 \r\nQ 37.984375 18.0625 35.515625 20.015625 \r\nQ 33.0625 21.96875 24.703125 23.78125 \r\nL 21.578125 24.515625 \r\nQ 13.234375 26.265625 9.515625 29.90625 \r\nQ 5.8125 33.546875 5.8125 39.890625 \r\nQ 5.8125 47.609375 11.28125 51.796875 \r\nQ 16.75 56 26.8125 56 \r\nQ 31.78125 56 36.171875 55.265625 \r\nQ 40.578125 54.546875 44.28125 53.078125 \r\nz\r\n\" id=\"DejaVuSans-115\"/>\r\n       <path d=\"M 54.890625 33.015625 \r\nL 54.890625 0 \r\nL 45.90625 0 \r\nL 45.90625 32.71875 \r\nQ 45.90625 40.484375 42.875 44.328125 \r\nQ 39.84375 48.1875 33.796875 48.1875 \r\nQ 26.515625 48.1875 22.3125 43.546875 \r\nQ 18.109375 38.921875 18.109375 30.90625 \r\nL 18.109375 0 \r\nL 9.078125 0 \r\nL 9.078125 54.6875 \r\nL 18.109375 54.6875 \r\nL 18.109375 46.1875 \r\nQ 21.34375 51.125 25.703125 53.5625 \r\nQ 30.078125 56 35.796875 56 \r\nQ 45.21875 56 50.046875 50.171875 \r\nQ 54.890625 44.34375 54.890625 33.015625 \r\nz\r\n\" id=\"DejaVuSans-110\"/>\r\n       <path d=\"M 48.78125 52.59375 \r\nL 48.78125 44.1875 \r\nQ 44.96875 46.296875 41.140625 47.34375 \r\nQ 37.3125 48.390625 33.40625 48.390625 \r\nQ 24.65625 48.390625 19.8125 42.84375 \r\nQ 14.984375 37.3125 14.984375 27.296875 \r\nQ 14.984375 17.28125 19.8125 11.734375 \r\nQ 24.65625 6.203125 33.40625 6.203125 \r\nQ 37.3125 6.203125 41.140625 7.25 \r\nQ 44.96875 8.296875 48.78125 10.40625 \r\nL 48.78125 2.09375 \r\nQ 45.015625 0.34375 40.984375 -0.53125 \r\nQ 36.96875 -1.421875 32.421875 -1.421875 \r\nQ 20.0625 -1.421875 12.78125 6.34375 \r\nQ 5.515625 14.109375 5.515625 27.296875 \r\nQ 5.515625 40.671875 12.859375 48.328125 \r\nQ 20.21875 56 33.015625 56 \r\nQ 37.15625 56 41.109375 55.140625 \r\nQ 45.0625 54.296875 48.78125 52.59375 \r\nz\r\n\" id=\"DejaVuSans-99\"/>\r\n       <path d=\"M 45.40625 46.390625 \r\nL 45.40625 75.984375 \r\nL 54.390625 75.984375 \r\nL 54.390625 0 \r\nL 45.40625 0 \r\nL 45.40625 8.203125 \r\nQ 42.578125 3.328125 38.25 0.953125 \r\nQ 33.9375 -1.421875 27.875 -1.421875 \r\nQ 17.96875 -1.421875 11.734375 6.484375 \r\nQ 5.515625 14.40625 5.515625 27.296875 \r\nQ 5.515625 40.1875 11.734375 48.09375 \r\nQ 17.96875 56 27.875 56 \r\nQ 33.9375 56 38.25 53.625 \r\nQ 42.578125 51.265625 45.40625 46.390625 \r\nz\r\nM 14.796875 27.296875 \r\nQ 14.796875 17.390625 18.875 11.75 \r\nQ 22.953125 6.109375 30.078125 6.109375 \r\nQ 37.203125 6.109375 41.296875 11.75 \r\nQ 45.40625 17.390625 45.40625 27.296875 \r\nQ 45.40625 37.203125 41.296875 42.84375 \r\nQ 37.203125 48.484375 30.078125 48.484375 \r\nQ 22.953125 48.484375 18.875 42.84375 \r\nQ 14.796875 37.203125 14.796875 27.296875 \r\nz\r\n\" id=\"DejaVuSans-100\"/>\r\n       <path d=\"M 8.5 21.578125 \r\nL 8.5 54.6875 \r\nL 17.484375 54.6875 \r\nL 17.484375 21.921875 \r\nQ 17.484375 14.15625 20.5 10.265625 \r\nQ 23.53125 6.390625 29.59375 6.390625 \r\nQ 36.859375 6.390625 41.078125 11.03125 \r\nQ 45.3125 15.671875 45.3125 23.6875 \r\nL 45.3125 54.6875 \r\nL 54.296875 54.6875 \r\nL 54.296875 0 \r\nL 45.3125 0 \r\nL 45.3125 8.40625 \r\nQ 42.046875 3.421875 37.71875 1 \r\nQ 33.40625 -1.421875 27.6875 -1.421875 \r\nQ 18.265625 -1.421875 13.375 4.4375 \r\nQ 8.5 10.296875 8.5 21.578125 \r\nz\r\nM 31.109375 56 \r\nz\r\n\" id=\"DejaVuSans-117\"/>\r\n       <path d=\"M 9.078125 75.984375 \r\nL 18.109375 75.984375 \r\nL 18.109375 31.109375 \r\nL 44.921875 54.6875 \r\nL 56.390625 54.6875 \r\nL 27.390625 29.109375 \r\nL 57.625 0 \r\nL 45.90625 0 \r\nL 18.109375 26.703125 \r\nL 18.109375 0 \r\nL 9.078125 0 \r\nz\r\n\" id=\"DejaVuSans-107\"/>\r\n       <path d=\"M 31 75.875 \r\nQ 24.46875 64.65625 21.28125 53.65625 \r\nQ 18.109375 42.671875 18.109375 31.390625 \r\nQ 18.109375 20.125 21.3125 9.0625 \r\nQ 24.515625 -2 31 -13.1875 \r\nL 23.1875 -13.1875 \r\nQ 15.875 -1.703125 12.234375 9.375 \r\nQ 8.59375 20.453125 8.59375 31.390625 \r\nQ 8.59375 42.28125 12.203125 53.3125 \r\nQ 15.828125 64.359375 23.1875 75.875 \r\nz\r\n\" id=\"DejaVuSans-40\"/>\r\n       <path d=\"M 8.015625 75.875 \r\nL 15.828125 75.875 \r\nQ 23.140625 64.359375 26.78125 53.3125 \r\nQ 30.421875 42.28125 30.421875 31.390625 \r\nQ 30.421875 20.453125 26.78125 9.375 \r\nQ 23.140625 -1.703125 15.828125 -13.1875 \r\nL 8.015625 -13.1875 \r\nQ 14.5 -2 17.703125 9.0625 \r\nQ 20.90625 20.125 20.90625 31.390625 \r\nQ 20.90625 42.671875 17.703125 53.65625 \r\nQ 14.5 64.65625 8.015625 75.875 \r\nz\r\n\" id=\"DejaVuSans-41\"/>\r\n      </defs>\r\n      <use xlink:href=\"#DejaVuSans-84\"/>\r\n      <use x=\"57.958984\" xlink:href=\"#DejaVuSans-105\"/>\r\n      <use x=\"85.742188\" xlink:href=\"#DejaVuSans-109\"/>\r\n      <use x=\"183.154297\" xlink:href=\"#DejaVuSans-101\"/>\r\n      <use x=\"244.677734\" xlink:href=\"#DejaVuSans-32\"/>\r\n      <use x=\"276.464844\" xlink:href=\"#DejaVuSans-115\"/>\r\n      <use x=\"328.564453\" xlink:href=\"#DejaVuSans-105\"/>\r\n      <use x=\"356.347656\" xlink:href=\"#DejaVuSans-110\"/>\r\n      <use x=\"419.726562\" xlink:href=\"#DejaVuSans-99\"/>\r\n      <use x=\"474.707031\" xlink:href=\"#DejaVuSans-101\"/>\r\n      <use x=\"536.230469\" xlink:href=\"#DejaVuSans-32\"/>\r\n      <use x=\"568.017578\" xlink:href=\"#DejaVuSans-100\"/>\r\n      <use x=\"631.494141\" xlink:href=\"#DejaVuSans-117\"/>\r\n      <use x=\"694.873047\" xlink:href=\"#DejaVuSans-115\"/>\r\n      <use x=\"746.972656\" xlink:href=\"#DejaVuSans-107\"/>\r\n      <use x=\"804.882812\" xlink:href=\"#DejaVuSans-32\"/>\r\n      <use x=\"836.669922\" xlink:href=\"#DejaVuSans-40\"/>\r\n      <use x=\"875.683594\" xlink:href=\"#DejaVuSans-109\"/>\r\n      <use x=\"973.095703\" xlink:href=\"#DejaVuSans-105\"/>\r\n      <use x=\"1000.878906\" xlink:href=\"#DejaVuSans-110\"/>\r\n      <use x=\"1064.257812\" xlink:href=\"#DejaVuSans-41\"/>\r\n     </g>\r\n    </g>\r\n   </g>\r\n   <g id=\"matplotlib.axis_2\">\r\n    <g id=\"ytick_1\">\r\n     <g id=\"line2d_10\">\r\n      <defs>\r\n       <path d=\"M 0 0 \r\nL -3.5 0 \r\n\" id=\"m8e0d0e4de0\" style=\"stroke:#000000;stroke-width:0.8;\"/>\r\n      </defs>\r\n      <g>\r\n       <use style=\"stroke:#000000;stroke-width:0.8;\" x=\"40.603125\" xlink:href=\"#m8e0d0e4de0\" y=\"270.444673\"/>\r\n      </g>\r\n     </g>\r\n     <g id=\"text_11\">\r\n      <!-- 20 -->\r\n      <g transform=\"translate(20.878125 274.243892)scale(0.1 -0.1)\">\r\n       <use xlink:href=\"#DejaVuSans-50\"/>\r\n       <use x=\"63.623047\" xlink:href=\"#DejaVuSans-48\"/>\r\n      </g>\r\n     </g>\r\n    </g>\r\n    <g id=\"ytick_2\">\r\n     <g id=\"line2d_11\">\r\n      <g>\r\n       <use style=\"stroke:#000000;stroke-width:0.8;\" x=\"40.603125\" xlink:href=\"#m8e0d0e4de0\" y=\"233.381037\"/>\r\n      </g>\r\n     </g>\r\n     <g id=\"text_12\">\r\n      <!-- 22 -->\r\n      <g transform=\"translate(20.878125 237.180256)scale(0.1 -0.1)\">\r\n       <use xlink:href=\"#DejaVuSans-50\"/>\r\n       <use x=\"63.623047\" xlink:href=\"#DejaVuSans-50\"/>\r\n      </g>\r\n     </g>\r\n    </g>\r\n    <g id=\"ytick_3\">\r\n     <g id=\"line2d_12\">\r\n      <g>\r\n       <use style=\"stroke:#000000;stroke-width:0.8;\" x=\"40.603125\" xlink:href=\"#m8e0d0e4de0\" y=\"196.317401\"/>\r\n      </g>\r\n     </g>\r\n     <g id=\"text_13\">\r\n      <!-- 24 -->\r\n      <g transform=\"translate(20.878125 200.116619)scale(0.1 -0.1)\">\r\n       <use xlink:href=\"#DejaVuSans-50\"/>\r\n       <use x=\"63.623047\" xlink:href=\"#DejaVuSans-52\"/>\r\n      </g>\r\n     </g>\r\n    </g>\r\n    <g id=\"ytick_4\">\r\n     <g id=\"line2d_13\">\r\n      <g>\r\n       <use style=\"stroke:#000000;stroke-width:0.8;\" x=\"40.603125\" xlink:href=\"#m8e0d0e4de0\" y=\"159.253764\"/>\r\n      </g>\r\n     </g>\r\n     <g id=\"text_14\">\r\n      <!-- 26 -->\r\n      <g transform=\"translate(20.878125 163.052983)scale(0.1 -0.1)\">\r\n       <use xlink:href=\"#DejaVuSans-50\"/>\r\n       <use x=\"63.623047\" xlink:href=\"#DejaVuSans-54\"/>\r\n      </g>\r\n     </g>\r\n    </g>\r\n    <g id=\"ytick_5\">\r\n     <g id=\"line2d_14\">\r\n      <g>\r\n       <use style=\"stroke:#000000;stroke-width:0.8;\" x=\"40.603125\" xlink:href=\"#m8e0d0e4de0\" y=\"122.190128\"/>\r\n      </g>\r\n     </g>\r\n     <g id=\"text_15\">\r\n      <!-- 28 -->\r\n      <g transform=\"translate(20.878125 125.989347)scale(0.1 -0.1)\">\r\n       <use xlink:href=\"#DejaVuSans-50\"/>\r\n       <use x=\"63.623047\" xlink:href=\"#DejaVuSans-56\"/>\r\n      </g>\r\n     </g>\r\n    </g>\r\n    <g id=\"ytick_6\">\r\n     <g id=\"line2d_15\">\r\n      <g>\r\n       <use style=\"stroke:#000000;stroke-width:0.8;\" x=\"40.603125\" xlink:href=\"#m8e0d0e4de0\" y=\"85.126491\"/>\r\n      </g>\r\n     </g>\r\n     <g id=\"text_16\">\r\n      <!-- 30 -->\r\n      <g transform=\"translate(20.878125 88.92571)scale(0.1 -0.1)\">\r\n       <use xlink:href=\"#DejaVuSans-51\"/>\r\n       <use x=\"63.623047\" xlink:href=\"#DejaVuSans-48\"/>\r\n      </g>\r\n     </g>\r\n    </g>\r\n    <g id=\"ytick_7\">\r\n     <g id=\"line2d_16\">\r\n      <g>\r\n       <use style=\"stroke:#000000;stroke-width:0.8;\" x=\"40.603125\" xlink:href=\"#m8e0d0e4de0\" y=\"48.062855\"/>\r\n      </g>\r\n     </g>\r\n     <g id=\"text_17\">\r\n      <!-- 32 -->\r\n      <g transform=\"translate(20.878125 51.862074)scale(0.1 -0.1)\">\r\n       <use xlink:href=\"#DejaVuSans-51\"/>\r\n       <use x=\"63.623047\" xlink:href=\"#DejaVuSans-50\"/>\r\n      </g>\r\n     </g>\r\n    </g>\r\n    <g id=\"ytick_8\">\r\n     <g id=\"line2d_17\">\r\n      <g>\r\n       <use style=\"stroke:#000000;stroke-width:0.8;\" x=\"40.603125\" xlink:href=\"#m8e0d0e4de0\" y=\"10.999219\"/>\r\n      </g>\r\n     </g>\r\n     <g id=\"text_18\">\r\n      <!-- 34 -->\r\n      <g transform=\"translate(20.878125 14.798437)scale(0.1 -0.1)\">\r\n       <use xlink:href=\"#DejaVuSans-51\"/>\r\n       <use x=\"63.623047\" xlink:href=\"#DejaVuSans-52\"/>\r\n      </g>\r\n     </g>\r\n    </g>\r\n    <g id=\"text_19\">\r\n     <!-- Percentage of stopped drivers who are black -->\r\n     <g transform=\"translate(14.798437 258.586719)rotate(-90)scale(0.1 -0.1)\">\r\n      <defs>\r\n       <path d=\"M 19.671875 64.796875 \r\nL 19.671875 37.40625 \r\nL 32.078125 37.40625 \r\nQ 38.96875 37.40625 42.71875 40.96875 \r\nQ 46.484375 44.53125 46.484375 51.125 \r\nQ 46.484375 57.671875 42.71875 61.234375 \r\nQ 38.96875 64.796875 32.078125 64.796875 \r\nz\r\nM 9.8125 72.90625 \r\nL 32.078125 72.90625 \r\nQ 44.34375 72.90625 50.609375 67.359375 \r\nQ 56.890625 61.8125 56.890625 51.125 \r\nQ 56.890625 40.328125 50.609375 34.8125 \r\nQ 44.34375 29.296875 32.078125 29.296875 \r\nL 19.671875 29.296875 \r\nL 19.671875 0 \r\nL 9.8125 0 \r\nz\r\n\" id=\"DejaVuSans-80\"/>\r\n       <path d=\"M 41.109375 46.296875 \r\nQ 39.59375 47.171875 37.8125 47.578125 \r\nQ 36.03125 48 33.890625 48 \r\nQ 26.265625 48 22.1875 43.046875 \r\nQ 18.109375 38.09375 18.109375 28.8125 \r\nL 18.109375 0 \r\nL 9.078125 0 \r\nL 9.078125 54.6875 \r\nL 18.109375 54.6875 \r\nL 18.109375 46.1875 \r\nQ 20.953125 51.171875 25.484375 53.578125 \r\nQ 30.03125 56 36.53125 56 \r\nQ 37.453125 56 38.578125 55.875 \r\nQ 39.703125 55.765625 41.0625 55.515625 \r\nz\r\n\" id=\"DejaVuSans-114\"/>\r\n       <path d=\"M 18.3125 70.21875 \r\nL 18.3125 54.6875 \r\nL 36.8125 54.6875 \r\nL 36.8125 47.703125 \r\nL 18.3125 47.703125 \r\nL 18.3125 18.015625 \r\nQ 18.3125 11.328125 20.140625 9.421875 \r\nQ 21.96875 7.515625 27.59375 7.515625 \r\nL 36.8125 7.515625 \r\nL 36.8125 0 \r\nL 27.59375 0 \r\nQ 17.1875 0 13.234375 3.875 \r\nQ 9.28125 7.765625 9.28125 18.015625 \r\nL 9.28125 47.703125 \r\nL 2.6875 47.703125 \r\nL 2.6875 54.6875 \r\nL 9.28125 54.6875 \r\nL 9.28125 70.21875 \r\nz\r\n\" id=\"DejaVuSans-116\"/>\r\n       <path d=\"M 34.28125 27.484375 \r\nQ 23.390625 27.484375 19.1875 25 \r\nQ 14.984375 22.515625 14.984375 16.5 \r\nQ 14.984375 11.71875 18.140625 8.90625 \r\nQ 21.296875 6.109375 26.703125 6.109375 \r\nQ 34.1875 6.109375 38.703125 11.40625 \r\nQ 43.21875 16.703125 43.21875 25.484375 \r\nL 43.21875 27.484375 \r\nz\r\nM 52.203125 31.203125 \r\nL 52.203125 0 \r\nL 43.21875 0 \r\nL 43.21875 8.296875 \r\nQ 40.140625 3.328125 35.546875 0.953125 \r\nQ 30.953125 -1.421875 24.3125 -1.421875 \r\nQ 15.921875 -1.421875 10.953125 3.296875 \r\nQ 6 8.015625 6 15.921875 \r\nQ 6 25.140625 12.171875 29.828125 \r\nQ 18.359375 34.515625 30.609375 34.515625 \r\nL 43.21875 34.515625 \r\nL 43.21875 35.40625 \r\nQ 43.21875 41.609375 39.140625 45 \r\nQ 35.0625 48.390625 27.6875 48.390625 \r\nQ 23 48.390625 18.546875 47.265625 \r\nQ 14.109375 46.140625 10.015625 43.890625 \r\nL 10.015625 52.203125 \r\nQ 14.9375 54.109375 19.578125 55.046875 \r\nQ 24.21875 56 28.609375 56 \r\nQ 40.484375 56 46.34375 49.84375 \r\nQ 52.203125 43.703125 52.203125 31.203125 \r\nz\r\n\" id=\"DejaVuSans-97\"/>\r\n       <path d=\"M 45.40625 27.984375 \r\nQ 45.40625 37.75 41.375 43.109375 \r\nQ 37.359375 48.484375 30.078125 48.484375 \r\nQ 22.859375 48.484375 18.828125 43.109375 \r\nQ 14.796875 37.75 14.796875 27.984375 \r\nQ 14.796875 18.265625 18.828125 12.890625 \r\nQ 22.859375 7.515625 30.078125 7.515625 \r\nQ 37.359375 7.515625 41.375 12.890625 \r\nQ 45.40625 18.265625 45.40625 27.984375 \r\nz\r\nM 54.390625 6.78125 \r\nQ 54.390625 -7.171875 48.1875 -13.984375 \r\nQ 42 -20.796875 29.203125 -20.796875 \r\nQ 24.46875 -20.796875 20.265625 -20.09375 \r\nQ 16.0625 -19.390625 12.109375 -17.921875 \r\nL 12.109375 -9.1875 \r\nQ 16.0625 -11.328125 19.921875 -12.34375 \r\nQ 23.78125 -13.375 27.78125 -13.375 \r\nQ 36.625 -13.375 41.015625 -8.765625 \r\nQ 45.40625 -4.15625 45.40625 5.171875 \r\nL 45.40625 9.625 \r\nQ 42.625 4.78125 38.28125 2.390625 \r\nQ 33.9375 0 27.875 0 \r\nQ 17.828125 0 11.671875 7.65625 \r\nQ 5.515625 15.328125 5.515625 27.984375 \r\nQ 5.515625 40.671875 11.671875 48.328125 \r\nQ 17.828125 56 27.875 56 \r\nQ 33.9375 56 38.28125 53.609375 \r\nQ 42.625 51.21875 45.40625 46.390625 \r\nL 45.40625 54.6875 \r\nL 54.390625 54.6875 \r\nz\r\n\" id=\"DejaVuSans-103\"/>\r\n       <path d=\"M 30.609375 48.390625 \r\nQ 23.390625 48.390625 19.1875 42.75 \r\nQ 14.984375 37.109375 14.984375 27.296875 \r\nQ 14.984375 17.484375 19.15625 11.84375 \r\nQ 23.34375 6.203125 30.609375 6.203125 \r\nQ 37.796875 6.203125 41.984375 11.859375 \r\nQ 46.1875 17.53125 46.1875 27.296875 \r\nQ 46.1875 37.015625 41.984375 42.703125 \r\nQ 37.796875 48.390625 30.609375 48.390625 \r\nz\r\nM 30.609375 56 \r\nQ 42.328125 56 49.015625 48.375 \r\nQ 55.71875 40.765625 55.71875 27.296875 \r\nQ 55.71875 13.875 49.015625 6.21875 \r\nQ 42.328125 -1.421875 30.609375 -1.421875 \r\nQ 18.84375 -1.421875 12.171875 6.21875 \r\nQ 5.515625 13.875 5.515625 27.296875 \r\nQ 5.515625 40.765625 12.171875 48.375 \r\nQ 18.84375 56 30.609375 56 \r\nz\r\n\" id=\"DejaVuSans-111\"/>\r\n       <path d=\"M 37.109375 75.984375 \r\nL 37.109375 68.5 \r\nL 28.515625 68.5 \r\nQ 23.6875 68.5 21.796875 66.546875 \r\nQ 19.921875 64.59375 19.921875 59.515625 \r\nL 19.921875 54.6875 \r\nL 34.71875 54.6875 \r\nL 34.71875 47.703125 \r\nL 19.921875 47.703125 \r\nL 19.921875 0 \r\nL 10.890625 0 \r\nL 10.890625 47.703125 \r\nL 2.296875 47.703125 \r\nL 2.296875 54.6875 \r\nL 10.890625 54.6875 \r\nL 10.890625 58.5 \r\nQ 10.890625 67.625 15.140625 71.796875 \r\nQ 19.390625 75.984375 28.609375 75.984375 \r\nz\r\n\" id=\"DejaVuSans-102\"/>\r\n       <path d=\"M 18.109375 8.203125 \r\nL 18.109375 -20.796875 \r\nL 9.078125 -20.796875 \r\nL 9.078125 54.6875 \r\nL 18.109375 54.6875 \r\nL 18.109375 46.390625 \r\nQ 20.953125 51.265625 25.265625 53.625 \r\nQ 29.59375 56 35.59375 56 \r\nQ 45.5625 56 51.78125 48.09375 \r\nQ 58.015625 40.1875 58.015625 27.296875 \r\nQ 58.015625 14.40625 51.78125 6.484375 \r\nQ 45.5625 -1.421875 35.59375 -1.421875 \r\nQ 29.59375 -1.421875 25.265625 0.953125 \r\nQ 20.953125 3.328125 18.109375 8.203125 \r\nz\r\nM 48.6875 27.296875 \r\nQ 48.6875 37.203125 44.609375 42.84375 \r\nQ 40.53125 48.484375 33.40625 48.484375 \r\nQ 26.265625 48.484375 22.1875 42.84375 \r\nQ 18.109375 37.203125 18.109375 27.296875 \r\nQ 18.109375 17.390625 22.1875 11.75 \r\nQ 26.265625 6.109375 33.40625 6.109375 \r\nQ 40.53125 6.109375 44.609375 11.75 \r\nQ 48.6875 17.390625 48.6875 27.296875 \r\nz\r\n\" id=\"DejaVuSans-112\"/>\r\n       <path d=\"M 2.984375 54.6875 \r\nL 12.5 54.6875 \r\nL 29.59375 8.796875 \r\nL 46.6875 54.6875 \r\nL 56.203125 54.6875 \r\nL 35.6875 0 \r\nL 23.484375 0 \r\nz\r\n\" id=\"DejaVuSans-118\"/>\r\n       <path d=\"M 4.203125 54.6875 \r\nL 13.1875 54.6875 \r\nL 24.421875 12.015625 \r\nL 35.59375 54.6875 \r\nL 46.1875 54.6875 \r\nL 57.421875 12.015625 \r\nL 68.609375 54.6875 \r\nL 77.59375 54.6875 \r\nL 63.28125 0 \r\nL 52.6875 0 \r\nL 40.921875 44.828125 \r\nL 29.109375 0 \r\nL 18.5 0 \r\nz\r\n\" id=\"DejaVuSans-119\"/>\r\n       <path d=\"M 54.890625 33.015625 \r\nL 54.890625 0 \r\nL 45.90625 0 \r\nL 45.90625 32.71875 \r\nQ 45.90625 40.484375 42.875 44.328125 \r\nQ 39.84375 48.1875 33.796875 48.1875 \r\nQ 26.515625 48.1875 22.3125 43.546875 \r\nQ 18.109375 38.921875 18.109375 30.90625 \r\nL 18.109375 0 \r\nL 9.078125 0 \r\nL 9.078125 75.984375 \r\nL 18.109375 75.984375 \r\nL 18.109375 46.1875 \r\nQ 21.34375 51.125 25.703125 53.5625 \r\nQ 30.078125 56 35.796875 56 \r\nQ 45.21875 56 50.046875 50.171875 \r\nQ 54.890625 44.34375 54.890625 33.015625 \r\nz\r\n\" id=\"DejaVuSans-104\"/>\r\n       <path d=\"M 48.6875 27.296875 \r\nQ 48.6875 37.203125 44.609375 42.84375 \r\nQ 40.53125 48.484375 33.40625 48.484375 \r\nQ 26.265625 48.484375 22.1875 42.84375 \r\nQ 18.109375 37.203125 18.109375 27.296875 \r\nQ 18.109375 17.390625 22.1875 11.75 \r\nQ 26.265625 6.109375 33.40625 6.109375 \r\nQ 40.53125 6.109375 44.609375 11.75 \r\nQ 48.6875 17.390625 48.6875 27.296875 \r\nz\r\nM 18.109375 46.390625 \r\nQ 20.953125 51.265625 25.265625 53.625 \r\nQ 29.59375 56 35.59375 56 \r\nQ 45.5625 56 51.78125 48.09375 \r\nQ 58.015625 40.1875 58.015625 27.296875 \r\nQ 58.015625 14.40625 51.78125 6.484375 \r\nQ 45.5625 -1.421875 35.59375 -1.421875 \r\nQ 29.59375 -1.421875 25.265625 0.953125 \r\nQ 20.953125 3.328125 18.109375 8.203125 \r\nL 18.109375 0 \r\nL 9.078125 0 \r\nL 9.078125 75.984375 \r\nL 18.109375 75.984375 \r\nz\r\n\" id=\"DejaVuSans-98\"/>\r\n       <path d=\"M 9.421875 75.984375 \r\nL 18.40625 75.984375 \r\nL 18.40625 0 \r\nL 9.421875 0 \r\nz\r\n\" id=\"DejaVuSans-108\"/>\r\n      </defs>\r\n      <use xlink:href=\"#DejaVuSans-80\"/>\r\n      <use x=\"56.677734\" xlink:href=\"#DejaVuSans-101\"/>\r\n      <use x=\"118.201172\" xlink:href=\"#DejaVuSans-114\"/>\r\n      <use x=\"157.064453\" xlink:href=\"#DejaVuSans-99\"/>\r\n      <use x=\"212.044922\" xlink:href=\"#DejaVuSans-101\"/>\r\n      <use x=\"273.568359\" xlink:href=\"#DejaVuSans-110\"/>\r\n      <use x=\"336.947266\" xlink:href=\"#DejaVuSans-116\"/>\r\n      <use x=\"376.15625\" xlink:href=\"#DejaVuSans-97\"/>\r\n      <use x=\"437.435547\" xlink:href=\"#DejaVuSans-103\"/>\r\n      <use x=\"500.912109\" xlink:href=\"#DejaVuSans-101\"/>\r\n      <use x=\"562.435547\" xlink:href=\"#DejaVuSans-32\"/>\r\n      <use x=\"594.222656\" xlink:href=\"#DejaVuSans-111\"/>\r\n      <use x=\"655.404297\" xlink:href=\"#DejaVuSans-102\"/>\r\n      <use x=\"690.609375\" xlink:href=\"#DejaVuSans-32\"/>\r\n      <use x=\"722.396484\" xlink:href=\"#DejaVuSans-115\"/>\r\n      <use x=\"774.496094\" xlink:href=\"#DejaVuSans-116\"/>\r\n      <use x=\"813.705078\" xlink:href=\"#DejaVuSans-111\"/>\r\n      <use x=\"874.886719\" xlink:href=\"#DejaVuSans-112\"/>\r\n      <use x=\"938.363281\" xlink:href=\"#DejaVuSans-112\"/>\r\n      <use x=\"1001.839844\" xlink:href=\"#DejaVuSans-101\"/>\r\n      <use x=\"1063.363281\" xlink:href=\"#DejaVuSans-100\"/>\r\n      <use x=\"1126.839844\" xlink:href=\"#DejaVuSans-32\"/>\r\n      <use x=\"1158.626953\" xlink:href=\"#DejaVuSans-100\"/>\r\n      <use x=\"1222.103516\" xlink:href=\"#DejaVuSans-114\"/>\r\n      <use x=\"1263.216797\" xlink:href=\"#DejaVuSans-105\"/>\r\n      <use x=\"1291\" xlink:href=\"#DejaVuSans-118\"/>\r\n      <use x=\"1350.179688\" xlink:href=\"#DejaVuSans-101\"/>\r\n      <use x=\"1411.703125\" xlink:href=\"#DejaVuSans-114\"/>\r\n      <use x=\"1452.816406\" xlink:href=\"#DejaVuSans-115\"/>\r\n      <use x=\"1504.916016\" xlink:href=\"#DejaVuSans-32\"/>\r\n      <use x=\"1536.703125\" xlink:href=\"#DejaVuSans-119\"/>\r\n      <use x=\"1618.490234\" xlink:href=\"#DejaVuSans-104\"/>\r\n      <use x=\"1681.869141\" xlink:href=\"#DejaVuSans-111\"/>\r\n      <use x=\"1743.050781\" xlink:href=\"#DejaVuSans-32\"/>\r\n      <use x=\"1774.837891\" xlink:href=\"#DejaVuSans-97\"/>\r\n      <use x=\"1836.117188\" xlink:href=\"#DejaVuSans-114\"/>\r\n      <use x=\"1874.980469\" xlink:href=\"#DejaVuSans-101\"/>\r\n      <use x=\"1936.503906\" xlink:href=\"#DejaVuSans-32\"/>\r\n      <use x=\"1968.291016\" xlink:href=\"#DejaVuSans-98\"/>\r\n      <use x=\"2031.767578\" xlink:href=\"#DejaVuSans-108\"/>\r\n      <use x=\"2059.550781\" xlink:href=\"#DejaVuSans-97\"/>\r\n      <use x=\"2120.830078\" xlink:href=\"#DejaVuSans-99\"/>\r\n      <use x=\"2175.810547\" xlink:href=\"#DejaVuSans-107\"/>\r\n     </g>\r\n    </g>\r\n   </g>\r\n   <g id=\"LineCollection_1\">\r\n    <path clip-path=\"url(#p8fe6c125ad)\" d=\"M 65.966761 123.734446 \r\nL 446.421307 123.734446 \r\n\" style=\"fill:none;stroke:#1f77b4;stroke-width:1.5;\"/>\r\n   </g>\r\n   <g id=\"LineCollection_2\">\r\n    <path clip-path=\"url(#p8fe6c125ad)\" style=\"fill:none;stroke:#1f77b4;stroke-width:1.5;\"/>\r\n   </g>\r\n   <g id=\"line2d_18\">\r\n    <path clip-path=\"url(#p8fe6c125ad)\" d=\"M 573.239489 282.799219 \r\nL 573.239489 10.999219 \r\n\" style=\"fill:none;stroke:#000000;stroke-dasharray:5.55,2.4;stroke-dashoffset:0;stroke-width:1.5;\"/>\r\n   </g>\r\n   <g id=\"patch_3\">\r\n    <path d=\"M 40.603125 282.799219 \r\nL 40.603125 10.999219 \r\n\" style=\"fill:none;stroke:#000000;stroke-linecap:square;stroke-linejoin:miter;stroke-width:0.8;\"/>\r\n   </g>\r\n   <g id=\"patch_4\">\r\n    <path d=\"M 598.603125 282.799219 \r\nL 598.603125 10.999219 \r\n\" style=\"fill:none;stroke:#000000;stroke-linecap:square;stroke-linejoin:miter;stroke-width:0.8;\"/>\r\n   </g>\r\n   <g id=\"patch_5\">\r\n    <path d=\"M 40.603125 282.799219 \r\nL 598.603125 282.799219 \r\n\" style=\"fill:none;stroke:#000000;stroke-linecap:square;stroke-linejoin:miter;stroke-width:0.8;\"/>\r\n   </g>\r\n   <g id=\"patch_6\">\r\n    <path d=\"M 40.603125 10.999219 \r\nL 598.603125 10.999219 \r\n\" style=\"fill:none;stroke:#000000;stroke-linecap:square;stroke-linejoin:miter;stroke-width:0.8;\"/>\r\n   </g>\r\n   <g id=\"legend_1\">\r\n    <g id=\"patch_7\">\r\n     <path d=\"M 47.603125 77.989844 \r\nL 90.734375 77.989844 \r\nQ 92.734375 77.989844 92.734375 75.989844 \r\nL 92.734375 17.999219 \r\nQ 92.734375 15.999219 90.734375 15.999219 \r\nL 47.603125 15.999219 \r\nQ 45.603125 15.999219 45.603125 17.999219 \r\nL 45.603125 75.989844 \r\nQ 45.603125 77.989844 47.603125 77.989844 \r\nz\r\n\" style=\"fill:#ffffff;opacity:0.8;stroke:#cccccc;stroke-linejoin:miter;\"/>\r\n    </g>\r\n    <g id=\"text_20\">\r\n     <!-- count_y -->\r\n     <g transform=\"translate(49.603125 27.597656)scale(0.1 -0.1)\">\r\n      <defs>\r\n       <path d=\"M 50.984375 -16.609375 \r\nL 50.984375 -23.578125 \r\nL -0.984375 -23.578125 \r\nL -0.984375 -16.609375 \r\nz\r\n\" id=\"DejaVuSans-95\"/>\r\n       <path d=\"M 32.171875 -5.078125 \r\nQ 28.375 -14.84375 24.75 -17.8125 \r\nQ 21.140625 -20.796875 15.09375 -20.796875 \r\nL 7.90625 -20.796875 \r\nL 7.90625 -13.28125 \r\nL 13.1875 -13.28125 \r\nQ 16.890625 -13.28125 18.9375 -11.515625 \r\nQ 21 -9.765625 23.484375 -3.21875 \r\nL 25.09375 0.875 \r\nL 2.984375 54.6875 \r\nL 12.5 54.6875 \r\nL 29.59375 11.921875 \r\nL 46.6875 54.6875 \r\nL 56.203125 54.6875 \r\nz\r\n\" id=\"DejaVuSans-121\"/>\r\n      </defs>\r\n      <use xlink:href=\"#DejaVuSans-99\"/>\r\n      <use x=\"54.980469\" xlink:href=\"#DejaVuSans-111\"/>\r\n      <use x=\"116.162109\" xlink:href=\"#DejaVuSans-117\"/>\r\n      <use x=\"179.541016\" xlink:href=\"#DejaVuSans-110\"/>\r\n      <use x=\"242.919922\" xlink:href=\"#DejaVuSans-116\"/>\r\n      <use x=\"282.128906\" xlink:href=\"#DejaVuSans-95\"/>\r\n      <use x=\"332.128906\" xlink:href=\"#DejaVuSans-121\"/>\r\n     </g>\r\n    </g>\r\n    <g id=\"PathCollection_5\">\r\n     <defs>\r\n      <path d=\"M 0 2.236068 \r\nC 0.593012 2.236068 1.161816 2.000462 1.581139 1.581139 \r\nC 2.000462 1.161816 2.236068 0.593012 2.236068 0 \r\nC 2.236068 -0.593012 2.000462 -1.161816 1.581139 -1.581139 \r\nC 1.161816 -2.000462 0.593012 -2.236068 0 -2.236068 \r\nC -0.593012 -2.236068 -1.161816 -2.000462 -1.581139 -1.581139 \r\nC -2.000462 -1.161816 -2.236068 -0.593012 -2.236068 0 \r\nC -2.236068 0.593012 -2.000462 1.161816 -1.581139 1.581139 \r\nC -1.161816 2.000462 -0.593012 2.236068 0 2.236068 \r\nz\r\n\" id=\"m93ee137f58\" style=\"stroke:#333333;\"/>\r\n     </defs>\r\n     <g>\r\n      <use style=\"fill:#333333;stroke:#333333;\" x=\"61.9875\" xlink:href=\"#m93ee137f58\" y=\"39.928906\"/>\r\n     </g>\r\n    </g>\r\n    <g id=\"text_21\">\r\n     <!-- 3 -->\r\n     <g transform=\"translate(79.9875 42.553906)scale(0.1 -0.1)\">\r\n      <use xlink:href=\"#DejaVuSans-51\"/>\r\n     </g>\r\n    </g>\r\n    <g id=\"PathCollection_6\">\r\n     <defs>\r\n      <path d=\"M 0 5.244044 \r\nC 1.390737 5.244044 2.7247 4.691499 3.708099 3.708099 \r\nC 4.691499 2.7247 5.244044 1.390737 5.244044 0 \r\nC 5.244044 -1.390737 4.691499 -2.7247 3.708099 -3.708099 \r\nC 2.7247 -4.691499 1.390737 -5.244044 0 -5.244044 \r\nC -1.390737 -5.244044 -2.7247 -4.691499 -3.708099 -3.708099 \r\nC -4.691499 -2.7247 -5.244044 -1.390737 -5.244044 0 \r\nC -5.244044 1.390737 -4.691499 2.7247 -3.708099 3.708099 \r\nC -2.7247 4.691499 -1.390737 5.244044 0 5.244044 \r\nz\r\n\" id=\"m2cb6ee1bea\" style=\"stroke:#333333;\"/>\r\n     </defs>\r\n     <g>\r\n      <use style=\"fill:#333333;stroke:#333333;\" x=\"61.9875\" xlink:href=\"#m2cb6ee1bea\" y=\"54.607031\"/>\r\n     </g>\r\n    </g>\r\n    <g id=\"text_22\">\r\n     <!-- 4 -->\r\n     <g transform=\"translate(79.9875 57.232031)scale(0.1 -0.1)\">\r\n      <use xlink:href=\"#DejaVuSans-52\"/>\r\n     </g>\r\n    </g>\r\n    <g id=\"PathCollection_7\">\r\n     <defs>\r\n      <path d=\"M 0 7.071068 \r\nC 1.875269 7.071068 3.673985 6.326016 5 5 \r\nC 6.326016 3.673985 7.071068 1.875269 7.071068 0 \r\nC 7.071068 -1.875269 6.326016 -3.673985 5 -5 \r\nC 3.673985 -6.326016 1.875269 -7.071068 0 -7.071068 \r\nC -1.875269 -7.071068 -3.673985 -6.326016 -5 -5 \r\nC -6.326016 -3.673985 -7.071068 -1.875269 -7.071068 0 \r\nC -7.071068 1.875269 -6.326016 3.673985 -5 5 \r\nC -3.673985 6.326016 -1.875269 7.071068 0 7.071068 \r\nz\r\n\" id=\"m5de6277a6c\" style=\"stroke:#333333;\"/>\r\n     </defs>\r\n     <g>\r\n      <use style=\"fill:#333333;stroke:#333333;\" x=\"61.9875\" xlink:href=\"#m5de6277a6c\" y=\"69.285156\"/>\r\n     </g>\r\n    </g>\r\n    <g id=\"text_23\">\r\n     <!-- 5 -->\r\n     <g transform=\"translate(79.9875 71.910156)scale(0.1 -0.1)\">\r\n      <use xlink:href=\"#DejaVuSans-53\"/>\r\n     </g>\r\n    </g>\r\n   </g>\r\n  </g>\r\n </g>\r\n <defs>\r\n  <clipPath id=\"p8fe6c125ad\">\r\n   <rect height=\"271.8\" width=\"558\" x=\"40.603125\" y=\"10.999219\"/>\r\n  </clipPath>\r\n </defs>\r\n</svg>\r\n",
      "image/png": "[encoded data removed]"
     },
     "metadata": {
      "needs_background": "light"
     }
    },
    {
     "output_type": "display_data",
     "data": {
      "text/plain": "<Figure size 720x360 with 1 Axes>",
      "image/svg+xml": "<?xml version=\"1.0\" encoding=\"utf-8\" standalone=\"no\"?>\r\n<!DOCTYPE svg PUBLIC \"-//W3C//DTD SVG 1.1//EN\"\r\n  \"http://www.w3.org/Graphics/SVG/1.1/DTD/svg11.dtd\">\r\n<!-- Created with matplotlib (https://matplotlib.org/) -->\r\n<svg height=\"316.55625pt\" version=\"1.1\" viewBox=\"0 0 615.34375 316.55625\" width=\"615.34375pt\" xmlns=\"http://www.w3.org/2000/svg\" xmlns:xlink=\"http://www.w3.org/1999/xlink\">\r\n <metadata>\r\n  <rdf:RDF xmlns:cc=\"http://creativecommons.org/ns#\" xmlns:dc=\"http://purl.org/dc/elements/1.1/\" xmlns:rdf=\"http://www.w3.org/1999/02/22-rdf-syntax-ns#\">\r\n   <cc:Work>\r\n    <dc:type rdf:resource=\"http://purl.org/dc/dcmitype/StillImage\"/>\r\n    <dc:date>2020-12-18T12:28:54.627406</dc:date>\r\n    <dc:format>image/svg+xml</dc:format>\r\n    <dc:creator>\r\n     <cc:Agent>\r\n      <dc:title>Matplotlib v3.3.2, https://matplotlib.org/</dc:title>\r\n     </cc:Agent>\r\n    </dc:creator>\r\n   </cc:Work>\r\n  </rdf:RDF>\r\n </metadata>\r\n <defs>\r\n  <style type=\"text/css\">*{stroke-linecap:butt;stroke-linejoin:round;}</style>\r\n </defs>\r\n <g id=\"figure_1\">\r\n  <g id=\"patch_1\">\r\n   <path d=\"M 0 316.55625 \r\nL 615.34375 316.55625 \r\nL 615.34375 0 \r\nL 0 0 \r\nz\r\n\" style=\"fill:none;\"/>\r\n  </g>\r\n  <g id=\"axes_1\">\r\n   <g id=\"patch_2\">\r\n    <path d=\"M 50.14375 279 \r\nL 608.14375 279 \r\nL 608.14375 7.2 \r\nL 50.14375 7.2 \r\nz\r\n\" style=\"fill:#ffffff;\"/>\r\n   </g>\r\n   <g id=\"PathCollection_1\">\r\n    <path clip-path=\"url(#p168d714b59)\" d=\"M 75.507386 273.092353 \r\nC 77.217124 273.092353 78.857065 272.413067 80.066032 271.2041 \r\nC 81.274999 269.995133 81.954285 268.355192 81.954285 266.645455 \r\nC 81.954285 264.935717 81.274999 263.295776 80.066032 262.086809 \r\nC 78.857065 260.877842 77.217124 260.198556 75.507386 260.198556 \r\nC 73.797649 260.198556 72.157708 260.877842 70.948741 262.086809 \r\nC 69.739774 263.295776 69.060488 264.935717 69.060488 266.645455 \r\nC 69.060488 268.355192 69.739774 269.995133 70.948741 271.2041 \r\nC 72.157708 272.413067 73.797649 273.092353 75.507386 273.092353 \r\nz\r\n\" style=\"stroke:#ffffff;stroke-width:0.43909;\"/>\r\n    <path clip-path=\"url(#p168d714b59)\" d=\"M 111.741153 161.414351 \r\nC 113.562916 161.414351 115.310311 160.690556 116.598492 159.402375 \r\nC 117.886674 158.114193 118.610468 156.366799 118.610468 154.545035 \r\nC 118.610468 152.723271 117.886674 150.975877 116.598492 149.687695 \r\nC 115.310311 148.399514 113.562916 147.675719 111.741153 147.675719 \r\nC 109.919389 147.675719 108.171994 148.399514 106.883813 149.687695 \r\nC 105.595631 150.975877 104.871837 152.723271 104.871837 154.545035 \r\nC 104.871837 156.366799 105.595631 158.114193 106.883813 159.402375 \r\nC 108.171994 160.690556 109.919389 161.414351 111.741153 161.414351 \r\nz\r\n\" style=\"stroke:#ffffff;stroke-width:0.43909;\"/>\r\n    <path clip-path=\"url(#p168d714b59)\" d=\"M 147.974919 167.86489 \r\nC 149.564756 167.86489 151.089691 167.233241 152.213875 166.109057 \r\nC 153.338059 164.984872 153.969708 163.459937 153.969708 161.8701 \r\nC 153.969708 160.280264 153.338059 158.755328 152.213875 157.631144 \r\nC 151.089691 156.50696 149.564756 155.875311 147.974919 155.875311 \r\nC 146.385082 155.875311 144.860147 156.50696 143.735963 157.631144 \r\nC 142.611778 158.755328 141.980129 160.280264 141.980129 161.8701 \r\nC 141.980129 163.459937 142.611778 164.984872 143.735963 166.109057 \r\nC 144.860147 167.233241 146.385082 167.86489 147.974919 167.86489 \r\nz\r\n\" style=\"stroke:#ffffff;stroke-width:0.43909;\"/>\r\n    <path clip-path=\"url(#p168d714b59)\" d=\"M 184.208685 171.068478 \r\nC 185.829329 171.068478 187.383813 170.424589 188.529782 169.278621 \r\nC 189.67575 168.132653 190.319638 166.578168 190.319638 164.957525 \r\nC 190.319638 163.336881 189.67575 161.782396 188.529782 160.636428 \r\nC 187.383813 159.49046 185.829329 158.846571 184.208685 158.846571 \r\nC 182.588041 158.846571 181.033557 159.49046 179.887589 160.636428 \r\nC 178.74162 161.782396 178.097732 163.336881 178.097732 164.957525 \r\nC 178.097732 166.578168 178.74162 168.132653 179.887589 169.278621 \r\nC 181.033557 170.424589 182.588041 171.068478 184.208685 171.068478 \r\nz\r\n\" style=\"stroke:#ffffff;stroke-width:0.43909;\"/>\r\n    <path clip-path=\"url(#p168d714b59)\" d=\"M 220.442451 155.362747 \r\nC 222.20909 155.362747 223.90361 154.660854 225.152812 153.411652 \r\nC 226.402015 152.16245 227.103908 150.46793 227.103908 148.701291 \r\nC 227.103908 146.934652 226.402015 145.240132 225.152812 143.99093 \r\nC 223.90361 142.741728 222.20909 142.039835 220.442451 142.039835 \r\nC 218.675812 142.039835 216.981293 142.741728 215.73209 143.99093 \r\nC 214.482888 145.240132 213.780995 146.934652 213.780995 148.701291 \r\nC 213.780995 150.46793 214.482888 152.16245 215.73209 153.411652 \r\nC 216.981293 154.660854 218.675812 155.362747 220.442451 155.362747 \r\nz\r\n\" style=\"stroke:#ffffff;stroke-width:0.43909;\"/>\r\n    <path clip-path=\"url(#p168d714b59)\" d=\"M 256.676218 249.680224 \r\nC 258.551487 249.680224 260.350202 248.935172 261.676218 247.609157 \r\nC 263.002233 246.283141 263.747285 244.484426 263.747285 242.609157 \r\nC 263.747285 240.733888 263.002233 238.935172 261.676218 237.609157 \r\nC 260.350202 236.283141 258.551487 235.538089 256.676218 235.538089 \r\nC 254.800948 235.538089 253.002233 236.283141 251.676218 237.609157 \r\nC 250.350202 238.935172 249.60515 240.733888 249.60515 242.609157 \r\nC 249.60515 244.484426 250.350202 246.283141 251.676218 247.609157 \r\nC 253.002233 248.935172 254.800948 249.680224 256.676218 249.680224 \r\nz\r\n\" style=\"stroke:#ffffff;stroke-width:0.43909;\"/>\r\n    <path clip-path=\"url(#p168d714b59)\" d=\"M 292.909984 271.489457 \r\nC 294.56086 271.489457 296.144342 270.833557 297.311688 269.666212 \r\nC 298.479034 268.498866 299.134934 266.915383 299.134934 265.264507 \r\nC 299.134934 263.613631 298.479034 262.030149 297.311688 260.862803 \r\nC 296.144342 259.695458 294.56086 259.039558 292.909984 259.039558 \r\nC 291.259108 259.039558 289.675625 259.695458 288.50828 260.862803 \r\nC 287.340934 262.030149 286.685034 263.613631 286.685034 265.264507 \r\nC 286.685034 266.915383 287.340934 268.498866 288.50828 269.666212 \r\nC 289.675625 270.833557 291.259108 271.489457 292.909984 271.489457 \r\nz\r\n\" style=\"stroke:#ffffff;stroke-width:0.43909;\"/>\r\n    <path clip-path=\"url(#p168d714b59)\" d=\"M 365.377516 210.949729 \r\nC 367.087254 210.949729 368.727195 210.270443 369.936162 209.061476 \r\nC 371.145129 207.852509 371.824415 206.212568 371.824415 204.502831 \r\nC 371.824415 202.793093 371.145129 201.153152 369.936162 199.944185 \r\nC 368.727195 198.735218 367.087254 198.055932 365.377516 198.055932 \r\nC 363.667779 198.055932 362.027838 198.735218 360.818871 199.944185 \r\nC 359.609904 201.153152 358.930618 202.793093 358.930618 204.502831 \r\nC 358.930618 206.212568 359.609904 207.852509 360.818871 209.061476 \r\nC 362.027838 210.270443 363.667779 210.949729 365.377516 210.949729 \r\nz\r\n\" style=\"stroke:#ffffff;stroke-width:0.43909;\"/>\r\n    <path clip-path=\"url(#p168d714b59)\" d=\"M 401.611282 187.802299 \r\nC 403.037135 187.802299 404.404779 187.235802 405.413009 186.227572 \r\nC 406.421239 185.219343 406.987736 183.851698 406.987736 182.425846 \r\nC 406.987736 180.999994 406.421239 179.632349 405.413009 178.624119 \r\nC 404.404779 177.61589 403.037135 177.049393 401.611282 177.049393 \r\nC 400.18543 177.049393 398.817786 177.61589 397.809556 178.624119 \r\nC 396.801326 179.632349 396.234829 180.999994 396.234829 182.425846 \r\nC 396.234829 183.851698 396.801326 185.219343 397.809556 186.227572 \r\nC 398.817786 187.235802 400.18543 187.802299 401.611282 187.802299 \r\nz\r\n\" style=\"stroke:#ffffff;stroke-width:0.43909;\"/>\r\n    <path clip-path=\"url(#p168d714b59)\" d=\"M 437.845049 58.526757 \r\nC 438.959415 58.526757 440.028289 58.084015 440.816265 57.296039 \r\nC 441.60424 56.508063 442.046983 55.439189 442.046983 54.324823 \r\nC 442.046983 53.210457 441.60424 52.141583 440.816265 51.353607 \r\nC 440.028289 50.565631 438.959415 50.122889 437.845049 50.122889 \r\nC 436.730683 50.122889 435.661808 50.565631 434.873833 51.353607 \r\nC 434.085857 52.141583 433.643115 53.210457 433.643115 54.324823 \r\nC 433.643115 55.439189 434.085857 56.508063 434.873833 57.296039 \r\nC 435.661808 58.084015 436.730683 58.526757 437.845049 58.526757 \r\nz\r\n\" style=\"stroke:#ffffff;stroke-width:0.43909;\"/>\r\n    <path clip-path=\"url(#p168d714b59)\" d=\"M 510.312581 130.735754 \r\nC 511.592203 130.735754 512.819588 130.227354 513.724417 129.322525 \r\nC 514.629247 128.417695 515.137646 127.190311 515.137646 125.910689 \r\nC 515.137646 124.631067 514.629247 123.403682 513.724417 122.498853 \r\nC 512.819588 121.594023 511.592203 121.085624 510.312581 121.085624 \r\nC 509.032959 121.085624 507.805575 121.594023 506.900745 122.498853 \r\nC 505.995916 123.403682 505.487516 124.631067 505.487516 125.910689 \r\nC 505.487516 127.190311 505.995916 128.417695 506.900745 129.322525 \r\nC 507.805575 130.227354 509.032959 130.735754 510.312581 130.735754 \r\nz\r\n\" style=\"stroke:#ffffff;stroke-width:0.43909;\"/>\r\n    <path clip-path=\"url(#p168d714b59)\" d=\"M 546.546347 230.412279 \r\nC 547.13936 230.412279 547.708163 230.176673 548.127486 229.75735 \r\nC 548.546809 229.338027 548.782415 228.769223 548.782415 228.176211 \r\nC 548.782415 227.583199 548.546809 227.014395 548.127486 226.595072 \r\nC 547.708163 226.175749 547.13936 225.940143 546.546347 225.940143 \r\nC 545.953335 225.940143 545.384531 226.175749 544.965209 226.595072 \r\nC 544.545886 227.014395 544.310279 227.583199 544.310279 228.176211 \r\nC 544.310279 228.769223 544.545886 229.338027 544.965209 229.75735 \r\nC 545.384531 230.176673 545.953335 230.412279 546.546347 230.412279 \r\nz\r\n\" style=\"stroke:#ffffff;stroke-width:0.43909;\"/>\r\n    <path clip-path=\"url(#p168d714b59)\" d=\"M 582.780114 21.790613 \r\nC 583.373126 21.790613 583.94193 21.555007 584.361252 21.135684 \r\nC 584.780575 20.716361 585.016182 20.147558 585.016182 19.554545 \r\nC 585.016182 18.961533 584.780575 18.39273 584.361252 17.973407 \r\nC 583.94193 17.554084 583.373126 17.318477 582.780114 17.318477 \r\nC 582.187101 17.318477 581.618298 17.554084 581.198975 17.973407 \r\nC 580.779652 18.39273 580.544046 18.961533 580.544046 19.554545 \r\nC 580.544046 20.147558 580.779652 20.716361 581.198975 21.135684 \r\nC 581.618298 21.555007 582.187101 21.790613 582.780114 21.790613 \r\nz\r\n\" style=\"stroke:#ffffff;stroke-width:0.43909;\"/>\r\n   </g>\r\n   <g id=\"PathCollection_2\"/>\r\n   <g id=\"PathCollection_3\"/>\r\n   <g id=\"PathCollection_4\"/>\r\n   <g id=\"PathCollection_5\"/>\r\n   <g id=\"PathCollection_6\"/>\r\n   <g id=\"matplotlib.axis_1\">\r\n    <g id=\"xtick_1\">\r\n     <g id=\"line2d_1\">\r\n      <defs>\r\n       <path d=\"M 0 0 \r\nL 0 3.5 \r\n\" id=\"mc42cede90a\" style=\"stroke:#000000;stroke-width:0.8;\"/>\r\n      </defs>\r\n      <g>\r\n       <use style=\"stroke:#000000;stroke-width:0.8;\" x=\"75.507386\" xlink:href=\"#mc42cede90a\" y=\"279\"/>\r\n      </g>\r\n     </g>\r\n     <g id=\"text_1\">\r\n      <!-- −80 -->\r\n      <g transform=\"translate(64.955043 293.598437)scale(0.1 -0.1)\">\r\n       <defs>\r\n        <path d=\"M 10.59375 35.5 \r\nL 73.1875 35.5 \r\nL 73.1875 27.203125 \r\nL 10.59375 27.203125 \r\nz\r\n\" id=\"DejaVuSans-8722\"/>\r\n        <path d=\"M 31.78125 34.625 \r\nQ 24.75 34.625 20.71875 30.859375 \r\nQ 16.703125 27.09375 16.703125 20.515625 \r\nQ 16.703125 13.921875 20.71875 10.15625 \r\nQ 24.75 6.390625 31.78125 6.390625 \r\nQ 38.8125 6.390625 42.859375 10.171875 \r\nQ 46.921875 13.96875 46.921875 20.515625 \r\nQ 46.921875 27.09375 42.890625 30.859375 \r\nQ 38.875 34.625 31.78125 34.625 \r\nz\r\nM 21.921875 38.8125 \r\nQ 15.578125 40.375 12.03125 44.71875 \r\nQ 8.5 49.078125 8.5 55.328125 \r\nQ 8.5 64.0625 14.71875 69.140625 \r\nQ 20.953125 74.21875 31.78125 74.21875 \r\nQ 42.671875 74.21875 48.875 69.140625 \r\nQ 55.078125 64.0625 55.078125 55.328125 \r\nQ 55.078125 49.078125 51.53125 44.71875 \r\nQ 48 40.375 41.703125 38.8125 \r\nQ 48.828125 37.15625 52.796875 32.3125 \r\nQ 56.78125 27.484375 56.78125 20.515625 \r\nQ 56.78125 9.90625 50.3125 4.234375 \r\nQ 43.84375 -1.421875 31.78125 -1.421875 \r\nQ 19.734375 -1.421875 13.25 4.234375 \r\nQ 6.78125 9.90625 6.78125 20.515625 \r\nQ 6.78125 27.484375 10.78125 32.3125 \r\nQ 14.796875 37.15625 21.921875 38.8125 \r\nz\r\nM 18.3125 54.390625 \r\nQ 18.3125 48.734375 21.84375 45.5625 \r\nQ 25.390625 42.390625 31.78125 42.390625 \r\nQ 38.140625 42.390625 41.71875 45.5625 \r\nQ 45.3125 48.734375 45.3125 54.390625 \r\nQ 45.3125 60.0625 41.71875 63.234375 \r\nQ 38.140625 66.40625 31.78125 66.40625 \r\nQ 25.390625 66.40625 21.84375 63.234375 \r\nQ 18.3125 60.0625 18.3125 54.390625 \r\nz\r\n\" id=\"DejaVuSans-56\"/>\r\n        <path d=\"M 31.78125 66.40625 \r\nQ 24.171875 66.40625 20.328125 58.90625 \r\nQ 16.5 51.421875 16.5 36.375 \r\nQ 16.5 21.390625 20.328125 13.890625 \r\nQ 24.171875 6.390625 31.78125 6.390625 \r\nQ 39.453125 6.390625 43.28125 13.890625 \r\nQ 47.125 21.390625 47.125 36.375 \r\nQ 47.125 51.421875 43.28125 58.90625 \r\nQ 39.453125 66.40625 31.78125 66.40625 \r\nz\r\nM 31.78125 74.21875 \r\nQ 44.046875 74.21875 50.515625 64.515625 \r\nQ 56.984375 54.828125 56.984375 36.375 \r\nQ 56.984375 17.96875 50.515625 8.265625 \r\nQ 44.046875 -1.421875 31.78125 -1.421875 \r\nQ 19.53125 -1.421875 13.0625 8.265625 \r\nQ 6.59375 17.96875 6.59375 36.375 \r\nQ 6.59375 54.828125 13.0625 64.515625 \r\nQ 19.53125 74.21875 31.78125 74.21875 \r\nz\r\n\" id=\"DejaVuSans-48\"/>\r\n       </defs>\r\n       <use xlink:href=\"#DejaVuSans-8722\"/>\r\n       <use x=\"83.789062\" xlink:href=\"#DejaVuSans-56\"/>\r\n       <use x=\"147.412109\" xlink:href=\"#DejaVuSans-48\"/>\r\n      </g>\r\n     </g>\r\n    </g>\r\n    <g id=\"xtick_2\">\r\n     <g id=\"line2d_2\">\r\n      <g>\r\n       <use style=\"stroke:#000000;stroke-width:0.8;\" x=\"147.974919\" xlink:href=\"#mc42cede90a\" y=\"279\"/>\r\n      </g>\r\n     </g>\r\n     <g id=\"text_2\">\r\n      <!-- −60 -->\r\n      <g transform=\"translate(137.422575 293.598437)scale(0.1 -0.1)\">\r\n       <defs>\r\n        <path d=\"M 33.015625 40.375 \r\nQ 26.375 40.375 22.484375 35.828125 \r\nQ 18.609375 31.296875 18.609375 23.390625 \r\nQ 18.609375 15.53125 22.484375 10.953125 \r\nQ 26.375 6.390625 33.015625 6.390625 \r\nQ 39.65625 6.390625 43.53125 10.953125 \r\nQ 47.40625 15.53125 47.40625 23.390625 \r\nQ 47.40625 31.296875 43.53125 35.828125 \r\nQ 39.65625 40.375 33.015625 40.375 \r\nz\r\nM 52.59375 71.296875 \r\nL 52.59375 62.3125 \r\nQ 48.875 64.0625 45.09375 64.984375 \r\nQ 41.3125 65.921875 37.59375 65.921875 \r\nQ 27.828125 65.921875 22.671875 59.328125 \r\nQ 17.53125 52.734375 16.796875 39.40625 \r\nQ 19.671875 43.65625 24.015625 45.921875 \r\nQ 28.375 48.1875 33.59375 48.1875 \r\nQ 44.578125 48.1875 50.953125 41.515625 \r\nQ 57.328125 34.859375 57.328125 23.390625 \r\nQ 57.328125 12.15625 50.6875 5.359375 \r\nQ 44.046875 -1.421875 33.015625 -1.421875 \r\nQ 20.359375 -1.421875 13.671875 8.265625 \r\nQ 6.984375 17.96875 6.984375 36.375 \r\nQ 6.984375 53.65625 15.1875 63.9375 \r\nQ 23.390625 74.21875 37.203125 74.21875 \r\nQ 40.921875 74.21875 44.703125 73.484375 \r\nQ 48.484375 72.75 52.59375 71.296875 \r\nz\r\n\" id=\"DejaVuSans-54\"/>\r\n       </defs>\r\n       <use xlink:href=\"#DejaVuSans-8722\"/>\r\n       <use x=\"83.789062\" xlink:href=\"#DejaVuSans-54\"/>\r\n       <use x=\"147.412109\" xlink:href=\"#DejaVuSans-48\"/>\r\n      </g>\r\n     </g>\r\n    </g>\r\n    <g id=\"xtick_3\">\r\n     <g id=\"line2d_3\">\r\n      <g>\r\n       <use style=\"stroke:#000000;stroke-width:0.8;\" x=\"220.442451\" xlink:href=\"#mc42cede90a\" y=\"279\"/>\r\n      </g>\r\n     </g>\r\n     <g id=\"text_3\">\r\n      <!-- −40 -->\r\n      <g transform=\"translate(209.890108 293.598437)scale(0.1 -0.1)\">\r\n       <defs>\r\n        <path d=\"M 37.796875 64.3125 \r\nL 12.890625 25.390625 \r\nL 37.796875 25.390625 \r\nz\r\nM 35.203125 72.90625 \r\nL 47.609375 72.90625 \r\nL 47.609375 25.390625 \r\nL 58.015625 25.390625 \r\nL 58.015625 17.1875 \r\nL 47.609375 17.1875 \r\nL 47.609375 0 \r\nL 37.796875 0 \r\nL 37.796875 17.1875 \r\nL 4.890625 17.1875 \r\nL 4.890625 26.703125 \r\nz\r\n\" id=\"DejaVuSans-52\"/>\r\n       </defs>\r\n       <use xlink:href=\"#DejaVuSans-8722\"/>\r\n       <use x=\"83.789062\" xlink:href=\"#DejaVuSans-52\"/>\r\n       <use x=\"147.412109\" xlink:href=\"#DejaVuSans-48\"/>\r\n      </g>\r\n     </g>\r\n    </g>\r\n    <g id=\"xtick_4\">\r\n     <g id=\"line2d_4\">\r\n      <g>\r\n       <use style=\"stroke:#000000;stroke-width:0.8;\" x=\"292.909984\" xlink:href=\"#mc42cede90a\" y=\"279\"/>\r\n      </g>\r\n     </g>\r\n     <g id=\"text_4\">\r\n      <!-- −20 -->\r\n      <g transform=\"translate(282.35764 293.598437)scale(0.1 -0.1)\">\r\n       <defs>\r\n        <path d=\"M 19.1875 8.296875 \r\nL 53.609375 8.296875 \r\nL 53.609375 0 \r\nL 7.328125 0 \r\nL 7.328125 8.296875 \r\nQ 12.9375 14.109375 22.625 23.890625 \r\nQ 32.328125 33.6875 34.8125 36.53125 \r\nQ 39.546875 41.84375 41.421875 45.53125 \r\nQ 43.3125 49.21875 43.3125 52.78125 \r\nQ 43.3125 58.59375 39.234375 62.25 \r\nQ 35.15625 65.921875 28.609375 65.921875 \r\nQ 23.96875 65.921875 18.8125 64.3125 \r\nQ 13.671875 62.703125 7.8125 59.421875 \r\nL 7.8125 69.390625 \r\nQ 13.765625 71.78125 18.9375 73 \r\nQ 24.125 74.21875 28.421875 74.21875 \r\nQ 39.75 74.21875 46.484375 68.546875 \r\nQ 53.21875 62.890625 53.21875 53.421875 \r\nQ 53.21875 48.921875 51.53125 44.890625 \r\nQ 49.859375 40.875 45.40625 35.40625 \r\nQ 44.1875 33.984375 37.640625 27.21875 \r\nQ 31.109375 20.453125 19.1875 8.296875 \r\nz\r\n\" id=\"DejaVuSans-50\"/>\r\n       </defs>\r\n       <use xlink:href=\"#DejaVuSans-8722\"/>\r\n       <use x=\"83.789062\" xlink:href=\"#DejaVuSans-50\"/>\r\n       <use x=\"147.412109\" xlink:href=\"#DejaVuSans-48\"/>\r\n      </g>\r\n     </g>\r\n    </g>\r\n    <g id=\"xtick_5\">\r\n     <g id=\"line2d_5\">\r\n      <g>\r\n       <use style=\"stroke:#000000;stroke-width:0.8;\" x=\"365.377516\" xlink:href=\"#mc42cede90a\" y=\"279\"/>\r\n      </g>\r\n     </g>\r\n     <g id=\"text_5\">\r\n      <!-- 0 -->\r\n      <g transform=\"translate(362.196266 293.598437)scale(0.1 -0.1)\">\r\n       <use xlink:href=\"#DejaVuSans-48\"/>\r\n      </g>\r\n     </g>\r\n    </g>\r\n    <g id=\"xtick_6\">\r\n     <g id=\"line2d_6\">\r\n      <g>\r\n       <use style=\"stroke:#000000;stroke-width:0.8;\" x=\"437.845049\" xlink:href=\"#mc42cede90a\" y=\"279\"/>\r\n      </g>\r\n     </g>\r\n     <g id=\"text_6\">\r\n      <!-- 20 -->\r\n      <g transform=\"translate(431.482549 293.598437)scale(0.1 -0.1)\">\r\n       <use xlink:href=\"#DejaVuSans-50\"/>\r\n       <use x=\"63.623047\" xlink:href=\"#DejaVuSans-48\"/>\r\n      </g>\r\n     </g>\r\n    </g>\r\n    <g id=\"xtick_7\">\r\n     <g id=\"line2d_7\">\r\n      <g>\r\n       <use style=\"stroke:#000000;stroke-width:0.8;\" x=\"510.312581\" xlink:href=\"#mc42cede90a\" y=\"279\"/>\r\n      </g>\r\n     </g>\r\n     <g id=\"text_7\">\r\n      <!-- 40 -->\r\n      <g transform=\"translate(503.950081 293.598437)scale(0.1 -0.1)\">\r\n       <use xlink:href=\"#DejaVuSans-52\"/>\r\n       <use x=\"63.623047\" xlink:href=\"#DejaVuSans-48\"/>\r\n      </g>\r\n     </g>\r\n    </g>\r\n    <g id=\"xtick_8\">\r\n     <g id=\"line2d_8\">\r\n      <g>\r\n       <use style=\"stroke:#000000;stroke-width:0.8;\" x=\"582.780114\" xlink:href=\"#mc42cede90a\" y=\"279\"/>\r\n      </g>\r\n     </g>\r\n     <g id=\"text_8\">\r\n      <!-- 60 -->\r\n      <g transform=\"translate(576.417614 293.598437)scale(0.1 -0.1)\">\r\n       <use xlink:href=\"#DejaVuSans-54\"/>\r\n       <use x=\"63.623047\" xlink:href=\"#DejaVuSans-48\"/>\r\n      </g>\r\n     </g>\r\n    </g>\r\n    <g id=\"text_9\">\r\n     <!-- Time since dusk (min) -->\r\n     <g transform=\"translate(273.982031 307.276562)scale(0.1 -0.1)\">\r\n      <defs>\r\n       <path d=\"M -0.296875 72.90625 \r\nL 61.375 72.90625 \r\nL 61.375 64.59375 \r\nL 35.5 64.59375 \r\nL 35.5 0 \r\nL 25.59375 0 \r\nL 25.59375 64.59375 \r\nL -0.296875 64.59375 \r\nz\r\n\" id=\"DejaVuSans-84\"/>\r\n       <path d=\"M 9.421875 54.6875 \r\nL 18.40625 54.6875 \r\nL 18.40625 0 \r\nL 9.421875 0 \r\nz\r\nM 9.421875 75.984375 \r\nL 18.40625 75.984375 \r\nL 18.40625 64.59375 \r\nL 9.421875 64.59375 \r\nz\r\n\" id=\"DejaVuSans-105\"/>\r\n       <path d=\"M 52 44.1875 \r\nQ 55.375 50.25 60.0625 53.125 \r\nQ 64.75 56 71.09375 56 \r\nQ 79.640625 56 84.28125 50.015625 \r\nQ 88.921875 44.046875 88.921875 33.015625 \r\nL 88.921875 0 \r\nL 79.890625 0 \r\nL 79.890625 32.71875 \r\nQ 79.890625 40.578125 77.09375 44.375 \r\nQ 74.3125 48.1875 68.609375 48.1875 \r\nQ 61.625 48.1875 57.5625 43.546875 \r\nQ 53.515625 38.921875 53.515625 30.90625 \r\nL 53.515625 0 \r\nL 44.484375 0 \r\nL 44.484375 32.71875 \r\nQ 44.484375 40.625 41.703125 44.40625 \r\nQ 38.921875 48.1875 33.109375 48.1875 \r\nQ 26.21875 48.1875 22.15625 43.53125 \r\nQ 18.109375 38.875 18.109375 30.90625 \r\nL 18.109375 0 \r\nL 9.078125 0 \r\nL 9.078125 54.6875 \r\nL 18.109375 54.6875 \r\nL 18.109375 46.1875 \r\nQ 21.1875 51.21875 25.484375 53.609375 \r\nQ 29.78125 56 35.6875 56 \r\nQ 41.65625 56 45.828125 52.96875 \r\nQ 50 49.953125 52 44.1875 \r\nz\r\n\" id=\"DejaVuSans-109\"/>\r\n       <path d=\"M 56.203125 29.59375 \r\nL 56.203125 25.203125 \r\nL 14.890625 25.203125 \r\nQ 15.484375 15.921875 20.484375 11.0625 \r\nQ 25.484375 6.203125 34.421875 6.203125 \r\nQ 39.59375 6.203125 44.453125 7.46875 \r\nQ 49.3125 8.734375 54.109375 11.28125 \r\nL 54.109375 2.78125 \r\nQ 49.265625 0.734375 44.1875 -0.34375 \r\nQ 39.109375 -1.421875 33.890625 -1.421875 \r\nQ 20.796875 -1.421875 13.15625 6.1875 \r\nQ 5.515625 13.8125 5.515625 26.8125 \r\nQ 5.515625 40.234375 12.765625 48.109375 \r\nQ 20.015625 56 32.328125 56 \r\nQ 43.359375 56 49.78125 48.890625 \r\nQ 56.203125 41.796875 56.203125 29.59375 \r\nz\r\nM 47.21875 32.234375 \r\nQ 47.125 39.59375 43.09375 43.984375 \r\nQ 39.0625 48.390625 32.421875 48.390625 \r\nQ 24.90625 48.390625 20.390625 44.140625 \r\nQ 15.875 39.890625 15.1875 32.171875 \r\nz\r\n\" id=\"DejaVuSans-101\"/>\r\n       <path id=\"DejaVuSans-32\"/>\r\n       <path d=\"M 44.28125 53.078125 \r\nL 44.28125 44.578125 \r\nQ 40.484375 46.53125 36.375 47.5 \r\nQ 32.28125 48.484375 27.875 48.484375 \r\nQ 21.1875 48.484375 17.84375 46.4375 \r\nQ 14.5 44.390625 14.5 40.28125 \r\nQ 14.5 37.15625 16.890625 35.375 \r\nQ 19.28125 33.59375 26.515625 31.984375 \r\nL 29.59375 31.296875 \r\nQ 39.15625 29.25 43.1875 25.515625 \r\nQ 47.21875 21.78125 47.21875 15.09375 \r\nQ 47.21875 7.46875 41.1875 3.015625 \r\nQ 35.15625 -1.421875 24.609375 -1.421875 \r\nQ 20.21875 -1.421875 15.453125 -0.5625 \r\nQ 10.6875 0.296875 5.421875 2 \r\nL 5.421875 11.28125 \r\nQ 10.40625 8.6875 15.234375 7.390625 \r\nQ 20.0625 6.109375 24.8125 6.109375 \r\nQ 31.15625 6.109375 34.5625 8.28125 \r\nQ 37.984375 10.453125 37.984375 14.40625 \r\nQ 37.984375 18.0625 35.515625 20.015625 \r\nQ 33.0625 21.96875 24.703125 23.78125 \r\nL 21.578125 24.515625 \r\nQ 13.234375 26.265625 9.515625 29.90625 \r\nQ 5.8125 33.546875 5.8125 39.890625 \r\nQ 5.8125 47.609375 11.28125 51.796875 \r\nQ 16.75 56 26.8125 56 \r\nQ 31.78125 56 36.171875 55.265625 \r\nQ 40.578125 54.546875 44.28125 53.078125 \r\nz\r\n\" id=\"DejaVuSans-115\"/>\r\n       <path d=\"M 54.890625 33.015625 \r\nL 54.890625 0 \r\nL 45.90625 0 \r\nL 45.90625 32.71875 \r\nQ 45.90625 40.484375 42.875 44.328125 \r\nQ 39.84375 48.1875 33.796875 48.1875 \r\nQ 26.515625 48.1875 22.3125 43.546875 \r\nQ 18.109375 38.921875 18.109375 30.90625 \r\nL 18.109375 0 \r\nL 9.078125 0 \r\nL 9.078125 54.6875 \r\nL 18.109375 54.6875 \r\nL 18.109375 46.1875 \r\nQ 21.34375 51.125 25.703125 53.5625 \r\nQ 30.078125 56 35.796875 56 \r\nQ 45.21875 56 50.046875 50.171875 \r\nQ 54.890625 44.34375 54.890625 33.015625 \r\nz\r\n\" id=\"DejaVuSans-110\"/>\r\n       <path d=\"M 48.78125 52.59375 \r\nL 48.78125 44.1875 \r\nQ 44.96875 46.296875 41.140625 47.34375 \r\nQ 37.3125 48.390625 33.40625 48.390625 \r\nQ 24.65625 48.390625 19.8125 42.84375 \r\nQ 14.984375 37.3125 14.984375 27.296875 \r\nQ 14.984375 17.28125 19.8125 11.734375 \r\nQ 24.65625 6.203125 33.40625 6.203125 \r\nQ 37.3125 6.203125 41.140625 7.25 \r\nQ 44.96875 8.296875 48.78125 10.40625 \r\nL 48.78125 2.09375 \r\nQ 45.015625 0.34375 40.984375 -0.53125 \r\nQ 36.96875 -1.421875 32.421875 -1.421875 \r\nQ 20.0625 -1.421875 12.78125 6.34375 \r\nQ 5.515625 14.109375 5.515625 27.296875 \r\nQ 5.515625 40.671875 12.859375 48.328125 \r\nQ 20.21875 56 33.015625 56 \r\nQ 37.15625 56 41.109375 55.140625 \r\nQ 45.0625 54.296875 48.78125 52.59375 \r\nz\r\n\" id=\"DejaVuSans-99\"/>\r\n       <path d=\"M 45.40625 46.390625 \r\nL 45.40625 75.984375 \r\nL 54.390625 75.984375 \r\nL 54.390625 0 \r\nL 45.40625 0 \r\nL 45.40625 8.203125 \r\nQ 42.578125 3.328125 38.25 0.953125 \r\nQ 33.9375 -1.421875 27.875 -1.421875 \r\nQ 17.96875 -1.421875 11.734375 6.484375 \r\nQ 5.515625 14.40625 5.515625 27.296875 \r\nQ 5.515625 40.1875 11.734375 48.09375 \r\nQ 17.96875 56 27.875 56 \r\nQ 33.9375 56 38.25 53.625 \r\nQ 42.578125 51.265625 45.40625 46.390625 \r\nz\r\nM 14.796875 27.296875 \r\nQ 14.796875 17.390625 18.875 11.75 \r\nQ 22.953125 6.109375 30.078125 6.109375 \r\nQ 37.203125 6.109375 41.296875 11.75 \r\nQ 45.40625 17.390625 45.40625 27.296875 \r\nQ 45.40625 37.203125 41.296875 42.84375 \r\nQ 37.203125 48.484375 30.078125 48.484375 \r\nQ 22.953125 48.484375 18.875 42.84375 \r\nQ 14.796875 37.203125 14.796875 27.296875 \r\nz\r\n\" id=\"DejaVuSans-100\"/>\r\n       <path d=\"M 8.5 21.578125 \r\nL 8.5 54.6875 \r\nL 17.484375 54.6875 \r\nL 17.484375 21.921875 \r\nQ 17.484375 14.15625 20.5 10.265625 \r\nQ 23.53125 6.390625 29.59375 6.390625 \r\nQ 36.859375 6.390625 41.078125 11.03125 \r\nQ 45.3125 15.671875 45.3125 23.6875 \r\nL 45.3125 54.6875 \r\nL 54.296875 54.6875 \r\nL 54.296875 0 \r\nL 45.3125 0 \r\nL 45.3125 8.40625 \r\nQ 42.046875 3.421875 37.71875 1 \r\nQ 33.40625 -1.421875 27.6875 -1.421875 \r\nQ 18.265625 -1.421875 13.375 4.4375 \r\nQ 8.5 10.296875 8.5 21.578125 \r\nz\r\nM 31.109375 56 \r\nz\r\n\" id=\"DejaVuSans-117\"/>\r\n       <path d=\"M 9.078125 75.984375 \r\nL 18.109375 75.984375 \r\nL 18.109375 31.109375 \r\nL 44.921875 54.6875 \r\nL 56.390625 54.6875 \r\nL 27.390625 29.109375 \r\nL 57.625 0 \r\nL 45.90625 0 \r\nL 18.109375 26.703125 \r\nL 18.109375 0 \r\nL 9.078125 0 \r\nz\r\n\" id=\"DejaVuSans-107\"/>\r\n       <path d=\"M 31 75.875 \r\nQ 24.46875 64.65625 21.28125 53.65625 \r\nQ 18.109375 42.671875 18.109375 31.390625 \r\nQ 18.109375 20.125 21.3125 9.0625 \r\nQ 24.515625 -2 31 -13.1875 \r\nL 23.1875 -13.1875 \r\nQ 15.875 -1.703125 12.234375 9.375 \r\nQ 8.59375 20.453125 8.59375 31.390625 \r\nQ 8.59375 42.28125 12.203125 53.3125 \r\nQ 15.828125 64.359375 23.1875 75.875 \r\nz\r\n\" id=\"DejaVuSans-40\"/>\r\n       <path d=\"M 8.015625 75.875 \r\nL 15.828125 75.875 \r\nQ 23.140625 64.359375 26.78125 53.3125 \r\nQ 30.421875 42.28125 30.421875 31.390625 \r\nQ 30.421875 20.453125 26.78125 9.375 \r\nQ 23.140625 -1.703125 15.828125 -13.1875 \r\nL 8.015625 -13.1875 \r\nQ 14.5 -2 17.703125 9.0625 \r\nQ 20.90625 20.125 20.90625 31.390625 \r\nQ 20.90625 42.671875 17.703125 53.65625 \r\nQ 14.5 64.65625 8.015625 75.875 \r\nz\r\n\" id=\"DejaVuSans-41\"/>\r\n      </defs>\r\n      <use xlink:href=\"#DejaVuSans-84\"/>\r\n      <use x=\"57.958984\" xlink:href=\"#DejaVuSans-105\"/>\r\n      <use x=\"85.742188\" xlink:href=\"#DejaVuSans-109\"/>\r\n      <use x=\"183.154297\" xlink:href=\"#DejaVuSans-101\"/>\r\n      <use x=\"244.677734\" xlink:href=\"#DejaVuSans-32\"/>\r\n      <use x=\"276.464844\" xlink:href=\"#DejaVuSans-115\"/>\r\n      <use x=\"328.564453\" xlink:href=\"#DejaVuSans-105\"/>\r\n      <use x=\"356.347656\" xlink:href=\"#DejaVuSans-110\"/>\r\n      <use x=\"419.726562\" xlink:href=\"#DejaVuSans-99\"/>\r\n      <use x=\"474.707031\" xlink:href=\"#DejaVuSans-101\"/>\r\n      <use x=\"536.230469\" xlink:href=\"#DejaVuSans-32\"/>\r\n      <use x=\"568.017578\" xlink:href=\"#DejaVuSans-100\"/>\r\n      <use x=\"631.494141\" xlink:href=\"#DejaVuSans-117\"/>\r\n      <use x=\"694.873047\" xlink:href=\"#DejaVuSans-115\"/>\r\n      <use x=\"746.972656\" xlink:href=\"#DejaVuSans-107\"/>\r\n      <use x=\"804.882812\" xlink:href=\"#DejaVuSans-32\"/>\r\n      <use x=\"836.669922\" xlink:href=\"#DejaVuSans-40\"/>\r\n      <use x=\"875.683594\" xlink:href=\"#DejaVuSans-109\"/>\r\n      <use x=\"973.095703\" xlink:href=\"#DejaVuSans-105\"/>\r\n      <use x=\"1000.878906\" xlink:href=\"#DejaVuSans-110\"/>\r\n      <use x=\"1064.257812\" xlink:href=\"#DejaVuSans-41\"/>\r\n     </g>\r\n    </g>\r\n   </g>\r\n   <g id=\"matplotlib.axis_2\">\r\n    <g id=\"ytick_1\">\r\n     <g id=\"line2d_9\">\r\n      <defs>\r\n       <path d=\"M 0 0 \r\nL -3.5 0 \r\n\" id=\"m981e9fa05f\" style=\"stroke:#000000;stroke-width:0.8;\"/>\r\n      </defs>\r\n      <g>\r\n       <use style=\"stroke:#000000;stroke-width:0.8;\" x=\"50.14375\" xlink:href=\"#m981e9fa05f\" y=\"261.207975\"/>\r\n      </g>\r\n     </g>\r\n     <g id=\"text_10\">\r\n      <!-- 2.5 -->\r\n      <g transform=\"translate(27.240625 265.007194)scale(0.1 -0.1)\">\r\n       <defs>\r\n        <path d=\"M 10.6875 12.40625 \r\nL 21 12.40625 \r\nL 21 0 \r\nL 10.6875 0 \r\nz\r\n\" id=\"DejaVuSans-46\"/>\r\n        <path d=\"M 10.796875 72.90625 \r\nL 49.515625 72.90625 \r\nL 49.515625 64.59375 \r\nL 19.828125 64.59375 \r\nL 19.828125 46.734375 \r\nQ 21.96875 47.46875 24.109375 47.828125 \r\nQ 26.265625 48.1875 28.421875 48.1875 \r\nQ 40.625 48.1875 47.75 41.5 \r\nQ 54.890625 34.8125 54.890625 23.390625 \r\nQ 54.890625 11.625 47.5625 5.09375 \r\nQ 40.234375 -1.421875 26.90625 -1.421875 \r\nQ 22.3125 -1.421875 17.546875 -0.640625 \r\nQ 12.796875 0.140625 7.71875 1.703125 \r\nL 7.71875 11.625 \r\nQ 12.109375 9.234375 16.796875 8.0625 \r\nQ 21.484375 6.890625 26.703125 6.890625 \r\nQ 35.15625 6.890625 40.078125 11.328125 \r\nQ 45.015625 15.765625 45.015625 23.390625 \r\nQ 45.015625 31 40.078125 35.4375 \r\nQ 35.15625 39.890625 26.703125 39.890625 \r\nQ 22.75 39.890625 18.8125 39.015625 \r\nQ 14.890625 38.140625 10.796875 36.28125 \r\nz\r\n\" id=\"DejaVuSans-53\"/>\r\n       </defs>\r\n       <use xlink:href=\"#DejaVuSans-50\"/>\r\n       <use x=\"63.623047\" xlink:href=\"#DejaVuSans-46\"/>\r\n       <use x=\"95.410156\" xlink:href=\"#DejaVuSans-53\"/>\r\n      </g>\r\n     </g>\r\n    </g>\r\n    <g id=\"ytick_2\">\r\n     <g id=\"line2d_10\">\r\n      <g>\r\n       <use style=\"stroke:#000000;stroke-width:0.8;\" x=\"50.14375\" xlink:href=\"#m981e9fa05f\" y=\"224.699183\"/>\r\n      </g>\r\n     </g>\r\n     <g id=\"text_11\">\r\n      <!-- 5.0 -->\r\n      <g transform=\"translate(27.240625 228.498402)scale(0.1 -0.1)\">\r\n       <use xlink:href=\"#DejaVuSans-53\"/>\r\n       <use x=\"63.623047\" xlink:href=\"#DejaVuSans-46\"/>\r\n       <use x=\"95.410156\" xlink:href=\"#DejaVuSans-48\"/>\r\n      </g>\r\n     </g>\r\n    </g>\r\n    <g id=\"ytick_3\">\r\n     <g id=\"line2d_11\">\r\n      <g>\r\n       <use style=\"stroke:#000000;stroke-width:0.8;\" x=\"50.14375\" xlink:href=\"#m981e9fa05f\" y=\"188.190392\"/>\r\n      </g>\r\n     </g>\r\n     <g id=\"text_12\">\r\n      <!-- 7.5 -->\r\n      <g transform=\"translate(27.240625 191.989611)scale(0.1 -0.1)\">\r\n       <defs>\r\n        <path d=\"M 8.203125 72.90625 \r\nL 55.078125 72.90625 \r\nL 55.078125 68.703125 \r\nL 28.609375 0 \r\nL 18.3125 0 \r\nL 43.21875 64.59375 \r\nL 8.203125 64.59375 \r\nz\r\n\" id=\"DejaVuSans-55\"/>\r\n       </defs>\r\n       <use xlink:href=\"#DejaVuSans-55\"/>\r\n       <use x=\"63.623047\" xlink:href=\"#DejaVuSans-46\"/>\r\n       <use x=\"95.410156\" xlink:href=\"#DejaVuSans-53\"/>\r\n      </g>\r\n     </g>\r\n    </g>\r\n    <g id=\"ytick_4\">\r\n     <g id=\"line2d_12\">\r\n      <g>\r\n       <use style=\"stroke:#000000;stroke-width:0.8;\" x=\"50.14375\" xlink:href=\"#m981e9fa05f\" y=\"151.6816\"/>\r\n      </g>\r\n     </g>\r\n     <g id=\"text_13\">\r\n      <!-- 10.0 -->\r\n      <g transform=\"translate(20.878125 155.480819)scale(0.1 -0.1)\">\r\n       <defs>\r\n        <path d=\"M 12.40625 8.296875 \r\nL 28.515625 8.296875 \r\nL 28.515625 63.921875 \r\nL 10.984375 60.40625 \r\nL 10.984375 69.390625 \r\nL 28.421875 72.90625 \r\nL 38.28125 72.90625 \r\nL 38.28125 8.296875 \r\nL 54.390625 8.296875 \r\nL 54.390625 0 \r\nL 12.40625 0 \r\nz\r\n\" id=\"DejaVuSans-49\"/>\r\n       </defs>\r\n       <use xlink:href=\"#DejaVuSans-49\"/>\r\n       <use x=\"63.623047\" xlink:href=\"#DejaVuSans-48\"/>\r\n       <use x=\"127.246094\" xlink:href=\"#DejaVuSans-46\"/>\r\n       <use x=\"159.033203\" xlink:href=\"#DejaVuSans-48\"/>\r\n      </g>\r\n     </g>\r\n    </g>\r\n    <g id=\"ytick_5\">\r\n     <g id=\"line2d_13\">\r\n      <g>\r\n       <use style=\"stroke:#000000;stroke-width:0.8;\" x=\"50.14375\" xlink:href=\"#m981e9fa05f\" y=\"115.172809\"/>\r\n      </g>\r\n     </g>\r\n     <g id=\"text_14\">\r\n      <!-- 12.5 -->\r\n      <g transform=\"translate(20.878125 118.972028)scale(0.1 -0.1)\">\r\n       <use xlink:href=\"#DejaVuSans-49\"/>\r\n       <use x=\"63.623047\" xlink:href=\"#DejaVuSans-50\"/>\r\n       <use x=\"127.246094\" xlink:href=\"#DejaVuSans-46\"/>\r\n       <use x=\"159.033203\" xlink:href=\"#DejaVuSans-53\"/>\r\n      </g>\r\n     </g>\r\n    </g>\r\n    <g id=\"ytick_6\">\r\n     <g id=\"line2d_14\">\r\n      <g>\r\n       <use style=\"stroke:#000000;stroke-width:0.8;\" x=\"50.14375\" xlink:href=\"#m981e9fa05f\" y=\"78.664017\"/>\r\n      </g>\r\n     </g>\r\n     <g id=\"text_15\">\r\n      <!-- 15.0 -->\r\n      <g transform=\"translate(20.878125 82.463236)scale(0.1 -0.1)\">\r\n       <use xlink:href=\"#DejaVuSans-49\"/>\r\n       <use x=\"63.623047\" xlink:href=\"#DejaVuSans-53\"/>\r\n       <use x=\"127.246094\" xlink:href=\"#DejaVuSans-46\"/>\r\n       <use x=\"159.033203\" xlink:href=\"#DejaVuSans-48\"/>\r\n      </g>\r\n     </g>\r\n    </g>\r\n    <g id=\"ytick_7\">\r\n     <g id=\"line2d_15\">\r\n      <g>\r\n       <use style=\"stroke:#000000;stroke-width:0.8;\" x=\"50.14375\" xlink:href=\"#m981e9fa05f\" y=\"42.155226\"/>\r\n      </g>\r\n     </g>\r\n     <g id=\"text_16\">\r\n      <!-- 17.5 -->\r\n      <g transform=\"translate(20.878125 45.954445)scale(0.1 -0.1)\">\r\n       <use xlink:href=\"#DejaVuSans-49\"/>\r\n       <use x=\"63.623047\" xlink:href=\"#DejaVuSans-55\"/>\r\n       <use x=\"127.246094\" xlink:href=\"#DejaVuSans-46\"/>\r\n       <use x=\"159.033203\" xlink:href=\"#DejaVuSans-53\"/>\r\n      </g>\r\n     </g>\r\n    </g>\r\n    <g id=\"text_17\">\r\n     <!-- Percentage of stopped drivers who are black -->\r\n     <g transform=\"translate(14.798438 254.7875)rotate(-90)scale(0.1 -0.1)\">\r\n      <defs>\r\n       <path d=\"M 19.671875 64.796875 \r\nL 19.671875 37.40625 \r\nL 32.078125 37.40625 \r\nQ 38.96875 37.40625 42.71875 40.96875 \r\nQ 46.484375 44.53125 46.484375 51.125 \r\nQ 46.484375 57.671875 42.71875 61.234375 \r\nQ 38.96875 64.796875 32.078125 64.796875 \r\nz\r\nM 9.8125 72.90625 \r\nL 32.078125 72.90625 \r\nQ 44.34375 72.90625 50.609375 67.359375 \r\nQ 56.890625 61.8125 56.890625 51.125 \r\nQ 56.890625 40.328125 50.609375 34.8125 \r\nQ 44.34375 29.296875 32.078125 29.296875 \r\nL 19.671875 29.296875 \r\nL 19.671875 0 \r\nL 9.8125 0 \r\nz\r\n\" id=\"DejaVuSans-80\"/>\r\n       <path d=\"M 41.109375 46.296875 \r\nQ 39.59375 47.171875 37.8125 47.578125 \r\nQ 36.03125 48 33.890625 48 \r\nQ 26.265625 48 22.1875 43.046875 \r\nQ 18.109375 38.09375 18.109375 28.8125 \r\nL 18.109375 0 \r\nL 9.078125 0 \r\nL 9.078125 54.6875 \r\nL 18.109375 54.6875 \r\nL 18.109375 46.1875 \r\nQ 20.953125 51.171875 25.484375 53.578125 \r\nQ 30.03125 56 36.53125 56 \r\nQ 37.453125 56 38.578125 55.875 \r\nQ 39.703125 55.765625 41.0625 55.515625 \r\nz\r\n\" id=\"DejaVuSans-114\"/>\r\n       <path d=\"M 18.3125 70.21875 \r\nL 18.3125 54.6875 \r\nL 36.8125 54.6875 \r\nL 36.8125 47.703125 \r\nL 18.3125 47.703125 \r\nL 18.3125 18.015625 \r\nQ 18.3125 11.328125 20.140625 9.421875 \r\nQ 21.96875 7.515625 27.59375 7.515625 \r\nL 36.8125 7.515625 \r\nL 36.8125 0 \r\nL 27.59375 0 \r\nQ 17.1875 0 13.234375 3.875 \r\nQ 9.28125 7.765625 9.28125 18.015625 \r\nL 9.28125 47.703125 \r\nL 2.6875 47.703125 \r\nL 2.6875 54.6875 \r\nL 9.28125 54.6875 \r\nL 9.28125 70.21875 \r\nz\r\n\" id=\"DejaVuSans-116\"/>\r\n       <path d=\"M 34.28125 27.484375 \r\nQ 23.390625 27.484375 19.1875 25 \r\nQ 14.984375 22.515625 14.984375 16.5 \r\nQ 14.984375 11.71875 18.140625 8.90625 \r\nQ 21.296875 6.109375 26.703125 6.109375 \r\nQ 34.1875 6.109375 38.703125 11.40625 \r\nQ 43.21875 16.703125 43.21875 25.484375 \r\nL 43.21875 27.484375 \r\nz\r\nM 52.203125 31.203125 \r\nL 52.203125 0 \r\nL 43.21875 0 \r\nL 43.21875 8.296875 \r\nQ 40.140625 3.328125 35.546875 0.953125 \r\nQ 30.953125 -1.421875 24.3125 -1.421875 \r\nQ 15.921875 -1.421875 10.953125 3.296875 \r\nQ 6 8.015625 6 15.921875 \r\nQ 6 25.140625 12.171875 29.828125 \r\nQ 18.359375 34.515625 30.609375 34.515625 \r\nL 43.21875 34.515625 \r\nL 43.21875 35.40625 \r\nQ 43.21875 41.609375 39.140625 45 \r\nQ 35.0625 48.390625 27.6875 48.390625 \r\nQ 23 48.390625 18.546875 47.265625 \r\nQ 14.109375 46.140625 10.015625 43.890625 \r\nL 10.015625 52.203125 \r\nQ 14.9375 54.109375 19.578125 55.046875 \r\nQ 24.21875 56 28.609375 56 \r\nQ 40.484375 56 46.34375 49.84375 \r\nQ 52.203125 43.703125 52.203125 31.203125 \r\nz\r\n\" id=\"DejaVuSans-97\"/>\r\n       <path d=\"M 45.40625 27.984375 \r\nQ 45.40625 37.75 41.375 43.109375 \r\nQ 37.359375 48.484375 30.078125 48.484375 \r\nQ 22.859375 48.484375 18.828125 43.109375 \r\nQ 14.796875 37.75 14.796875 27.984375 \r\nQ 14.796875 18.265625 18.828125 12.890625 \r\nQ 22.859375 7.515625 30.078125 7.515625 \r\nQ 37.359375 7.515625 41.375 12.890625 \r\nQ 45.40625 18.265625 45.40625 27.984375 \r\nz\r\nM 54.390625 6.78125 \r\nQ 54.390625 -7.171875 48.1875 -13.984375 \r\nQ 42 -20.796875 29.203125 -20.796875 \r\nQ 24.46875 -20.796875 20.265625 -20.09375 \r\nQ 16.0625 -19.390625 12.109375 -17.921875 \r\nL 12.109375 -9.1875 \r\nQ 16.0625 -11.328125 19.921875 -12.34375 \r\nQ 23.78125 -13.375 27.78125 -13.375 \r\nQ 36.625 -13.375 41.015625 -8.765625 \r\nQ 45.40625 -4.15625 45.40625 5.171875 \r\nL 45.40625 9.625 \r\nQ 42.625 4.78125 38.28125 2.390625 \r\nQ 33.9375 0 27.875 0 \r\nQ 17.828125 0 11.671875 7.65625 \r\nQ 5.515625 15.328125 5.515625 27.984375 \r\nQ 5.515625 40.671875 11.671875 48.328125 \r\nQ 17.828125 56 27.875 56 \r\nQ 33.9375 56 38.28125 53.609375 \r\nQ 42.625 51.21875 45.40625 46.390625 \r\nL 45.40625 54.6875 \r\nL 54.390625 54.6875 \r\nz\r\n\" id=\"DejaVuSans-103\"/>\r\n       <path d=\"M 30.609375 48.390625 \r\nQ 23.390625 48.390625 19.1875 42.75 \r\nQ 14.984375 37.109375 14.984375 27.296875 \r\nQ 14.984375 17.484375 19.15625 11.84375 \r\nQ 23.34375 6.203125 30.609375 6.203125 \r\nQ 37.796875 6.203125 41.984375 11.859375 \r\nQ 46.1875 17.53125 46.1875 27.296875 \r\nQ 46.1875 37.015625 41.984375 42.703125 \r\nQ 37.796875 48.390625 30.609375 48.390625 \r\nz\r\nM 30.609375 56 \r\nQ 42.328125 56 49.015625 48.375 \r\nQ 55.71875 40.765625 55.71875 27.296875 \r\nQ 55.71875 13.875 49.015625 6.21875 \r\nQ 42.328125 -1.421875 30.609375 -1.421875 \r\nQ 18.84375 -1.421875 12.171875 6.21875 \r\nQ 5.515625 13.875 5.515625 27.296875 \r\nQ 5.515625 40.765625 12.171875 48.375 \r\nQ 18.84375 56 30.609375 56 \r\nz\r\n\" id=\"DejaVuSans-111\"/>\r\n       <path d=\"M 37.109375 75.984375 \r\nL 37.109375 68.5 \r\nL 28.515625 68.5 \r\nQ 23.6875 68.5 21.796875 66.546875 \r\nQ 19.921875 64.59375 19.921875 59.515625 \r\nL 19.921875 54.6875 \r\nL 34.71875 54.6875 \r\nL 34.71875 47.703125 \r\nL 19.921875 47.703125 \r\nL 19.921875 0 \r\nL 10.890625 0 \r\nL 10.890625 47.703125 \r\nL 2.296875 47.703125 \r\nL 2.296875 54.6875 \r\nL 10.890625 54.6875 \r\nL 10.890625 58.5 \r\nQ 10.890625 67.625 15.140625 71.796875 \r\nQ 19.390625 75.984375 28.609375 75.984375 \r\nz\r\n\" id=\"DejaVuSans-102\"/>\r\n       <path d=\"M 18.109375 8.203125 \r\nL 18.109375 -20.796875 \r\nL 9.078125 -20.796875 \r\nL 9.078125 54.6875 \r\nL 18.109375 54.6875 \r\nL 18.109375 46.390625 \r\nQ 20.953125 51.265625 25.265625 53.625 \r\nQ 29.59375 56 35.59375 56 \r\nQ 45.5625 56 51.78125 48.09375 \r\nQ 58.015625 40.1875 58.015625 27.296875 \r\nQ 58.015625 14.40625 51.78125 6.484375 \r\nQ 45.5625 -1.421875 35.59375 -1.421875 \r\nQ 29.59375 -1.421875 25.265625 0.953125 \r\nQ 20.953125 3.328125 18.109375 8.203125 \r\nz\r\nM 48.6875 27.296875 \r\nQ 48.6875 37.203125 44.609375 42.84375 \r\nQ 40.53125 48.484375 33.40625 48.484375 \r\nQ 26.265625 48.484375 22.1875 42.84375 \r\nQ 18.109375 37.203125 18.109375 27.296875 \r\nQ 18.109375 17.390625 22.1875 11.75 \r\nQ 26.265625 6.109375 33.40625 6.109375 \r\nQ 40.53125 6.109375 44.609375 11.75 \r\nQ 48.6875 17.390625 48.6875 27.296875 \r\nz\r\n\" id=\"DejaVuSans-112\"/>\r\n       <path d=\"M 2.984375 54.6875 \r\nL 12.5 54.6875 \r\nL 29.59375 8.796875 \r\nL 46.6875 54.6875 \r\nL 56.203125 54.6875 \r\nL 35.6875 0 \r\nL 23.484375 0 \r\nz\r\n\" id=\"DejaVuSans-118\"/>\r\n       <path d=\"M 4.203125 54.6875 \r\nL 13.1875 54.6875 \r\nL 24.421875 12.015625 \r\nL 35.59375 54.6875 \r\nL 46.1875 54.6875 \r\nL 57.421875 12.015625 \r\nL 68.609375 54.6875 \r\nL 77.59375 54.6875 \r\nL 63.28125 0 \r\nL 52.6875 0 \r\nL 40.921875 44.828125 \r\nL 29.109375 0 \r\nL 18.5 0 \r\nz\r\n\" id=\"DejaVuSans-119\"/>\r\n       <path d=\"M 54.890625 33.015625 \r\nL 54.890625 0 \r\nL 45.90625 0 \r\nL 45.90625 32.71875 \r\nQ 45.90625 40.484375 42.875 44.328125 \r\nQ 39.84375 48.1875 33.796875 48.1875 \r\nQ 26.515625 48.1875 22.3125 43.546875 \r\nQ 18.109375 38.921875 18.109375 30.90625 \r\nL 18.109375 0 \r\nL 9.078125 0 \r\nL 9.078125 75.984375 \r\nL 18.109375 75.984375 \r\nL 18.109375 46.1875 \r\nQ 21.34375 51.125 25.703125 53.5625 \r\nQ 30.078125 56 35.796875 56 \r\nQ 45.21875 56 50.046875 50.171875 \r\nQ 54.890625 44.34375 54.890625 33.015625 \r\nz\r\n\" id=\"DejaVuSans-104\"/>\r\n       <path d=\"M 48.6875 27.296875 \r\nQ 48.6875 37.203125 44.609375 42.84375 \r\nQ 40.53125 48.484375 33.40625 48.484375 \r\nQ 26.265625 48.484375 22.1875 42.84375 \r\nQ 18.109375 37.203125 18.109375 27.296875 \r\nQ 18.109375 17.390625 22.1875 11.75 \r\nQ 26.265625 6.109375 33.40625 6.109375 \r\nQ 40.53125 6.109375 44.609375 11.75 \r\nQ 48.6875 17.390625 48.6875 27.296875 \r\nz\r\nM 18.109375 46.390625 \r\nQ 20.953125 51.265625 25.265625 53.625 \r\nQ 29.59375 56 35.59375 56 \r\nQ 45.5625 56 51.78125 48.09375 \r\nQ 58.015625 40.1875 58.015625 27.296875 \r\nQ 58.015625 14.40625 51.78125 6.484375 \r\nQ 45.5625 -1.421875 35.59375 -1.421875 \r\nQ 29.59375 -1.421875 25.265625 0.953125 \r\nQ 20.953125 3.328125 18.109375 8.203125 \r\nL 18.109375 0 \r\nL 9.078125 0 \r\nL 9.078125 75.984375 \r\nL 18.109375 75.984375 \r\nz\r\n\" id=\"DejaVuSans-98\"/>\r\n       <path d=\"M 9.421875 75.984375 \r\nL 18.40625 75.984375 \r\nL 18.40625 0 \r\nL 9.421875 0 \r\nz\r\n\" id=\"DejaVuSans-108\"/>\r\n      </defs>\r\n      <use xlink:href=\"#DejaVuSans-80\"/>\r\n      <use x=\"56.677734\" xlink:href=\"#DejaVuSans-101\"/>\r\n      <use x=\"118.201172\" xlink:href=\"#DejaVuSans-114\"/>\r\n      <use x=\"157.064453\" xlink:href=\"#DejaVuSans-99\"/>\r\n      <use x=\"212.044922\" xlink:href=\"#DejaVuSans-101\"/>\r\n      <use x=\"273.568359\" xlink:href=\"#DejaVuSans-110\"/>\r\n      <use x=\"336.947266\" xlink:href=\"#DejaVuSans-116\"/>\r\n      <use x=\"376.15625\" xlink:href=\"#DejaVuSans-97\"/>\r\n      <use x=\"437.435547\" xlink:href=\"#DejaVuSans-103\"/>\r\n      <use x=\"500.912109\" xlink:href=\"#DejaVuSans-101\"/>\r\n      <use x=\"562.435547\" xlink:href=\"#DejaVuSans-32\"/>\r\n      <use x=\"594.222656\" xlink:href=\"#DejaVuSans-111\"/>\r\n      <use x=\"655.404297\" xlink:href=\"#DejaVuSans-102\"/>\r\n      <use x=\"690.609375\" xlink:href=\"#DejaVuSans-32\"/>\r\n      <use x=\"722.396484\" xlink:href=\"#DejaVuSans-115\"/>\r\n      <use x=\"774.496094\" xlink:href=\"#DejaVuSans-116\"/>\r\n      <use x=\"813.705078\" xlink:href=\"#DejaVuSans-111\"/>\r\n      <use x=\"874.886719\" xlink:href=\"#DejaVuSans-112\"/>\r\n      <use x=\"938.363281\" xlink:href=\"#DejaVuSans-112\"/>\r\n      <use x=\"1001.839844\" xlink:href=\"#DejaVuSans-101\"/>\r\n      <use x=\"1063.363281\" xlink:href=\"#DejaVuSans-100\"/>\r\n      <use x=\"1126.839844\" xlink:href=\"#DejaVuSans-32\"/>\r\n      <use x=\"1158.626953\" xlink:href=\"#DejaVuSans-100\"/>\r\n      <use x=\"1222.103516\" xlink:href=\"#DejaVuSans-114\"/>\r\n      <use x=\"1263.216797\" xlink:href=\"#DejaVuSans-105\"/>\r\n      <use x=\"1291\" xlink:href=\"#DejaVuSans-118\"/>\r\n      <use x=\"1350.179688\" xlink:href=\"#DejaVuSans-101\"/>\r\n      <use x=\"1411.703125\" xlink:href=\"#DejaVuSans-114\"/>\r\n      <use x=\"1452.816406\" xlink:href=\"#DejaVuSans-115\"/>\r\n      <use x=\"1504.916016\" xlink:href=\"#DejaVuSans-32\"/>\r\n      <use x=\"1536.703125\" xlink:href=\"#DejaVuSans-119\"/>\r\n      <use x=\"1618.490234\" xlink:href=\"#DejaVuSans-104\"/>\r\n      <use x=\"1681.869141\" xlink:href=\"#DejaVuSans-111\"/>\r\n      <use x=\"1743.050781\" xlink:href=\"#DejaVuSans-32\"/>\r\n      <use x=\"1774.837891\" xlink:href=\"#DejaVuSans-97\"/>\r\n      <use x=\"1836.117188\" xlink:href=\"#DejaVuSans-114\"/>\r\n      <use x=\"1874.980469\" xlink:href=\"#DejaVuSans-101\"/>\r\n      <use x=\"1936.503906\" xlink:href=\"#DejaVuSans-32\"/>\r\n      <use x=\"1968.291016\" xlink:href=\"#DejaVuSans-98\"/>\r\n      <use x=\"2031.767578\" xlink:href=\"#DejaVuSans-108\"/>\r\n      <use x=\"2059.550781\" xlink:href=\"#DejaVuSans-97\"/>\r\n      <use x=\"2120.830078\" xlink:href=\"#DejaVuSans-99\"/>\r\n      <use x=\"2175.810547\" xlink:href=\"#DejaVuSans-107\"/>\r\n     </g>\r\n    </g>\r\n   </g>\r\n   <g id=\"LineCollection_1\">\r\n    <path clip-path=\"url(#p168d714b59)\" d=\"M 75.507386 200.656153 \r\nL 292.909984 200.656153 \r\n\" style=\"fill:none;stroke:#1f77b4;stroke-width:1.5;\"/>\r\n   </g>\r\n   <g id=\"LineCollection_2\">\r\n    <path clip-path=\"url(#p168d714b59)\" d=\"M 365.377516 135.815824 \r\nL 582.780114 135.815824 \r\n\" style=\"fill:none;stroke:#1f77b4;stroke-width:1.5;\"/>\r\n   </g>\r\n   <g id=\"line2d_16\">\r\n    <path clip-path=\"url(#p168d714b59)\" d=\"M 365.377516 279 \r\nL 365.377516 7.2 \r\n\" style=\"fill:none;stroke:#000000;stroke-dasharray:5.55,2.4;stroke-dashoffset:0;stroke-width:1.5;\"/>\r\n   </g>\r\n   <g id=\"patch_3\">\r\n    <path d=\"M 50.14375 279 \r\nL 50.14375 7.2 \r\n\" style=\"fill:none;stroke:#000000;stroke-linecap:square;stroke-linejoin:miter;stroke-width:0.8;\"/>\r\n   </g>\r\n   <g id=\"patch_4\">\r\n    <path d=\"M 608.14375 279 \r\nL 608.14375 7.2 \r\n\" style=\"fill:none;stroke:#000000;stroke-linecap:square;stroke-linejoin:miter;stroke-width:0.8;\"/>\r\n   </g>\r\n   <g id=\"patch_5\">\r\n    <path d=\"M 50.14375 279 \r\nL 608.14375 279 \r\n\" style=\"fill:none;stroke:#000000;stroke-linecap:square;stroke-linejoin:miter;stroke-width:0.8;\"/>\r\n   </g>\r\n   <g id=\"patch_6\">\r\n    <path d=\"M 50.14375 7.2 \r\nL 608.14375 7.2 \r\n\" style=\"fill:none;stroke:#000000;stroke-linecap:square;stroke-linejoin:miter;stroke-width:0.8;\"/>\r\n   </g>\r\n   <g id=\"legend_1\">\r\n    <g id=\"patch_7\">\r\n     <path d=\"M 57.14375 103.546875 \r\nL 101.86875 103.546875 \r\nQ 103.86875 103.546875 103.86875 101.546875 \r\nL 103.86875 14.2 \r\nQ 103.86875 12.2 101.86875 12.2 \r\nL 57.14375 12.2 \r\nQ 55.14375 12.2 55.14375 14.2 \r\nL 55.14375 101.546875 \r\nQ 55.14375 103.546875 57.14375 103.546875 \r\nz\r\n\" style=\"fill:#ffffff;opacity:0.8;stroke:#cccccc;stroke-linejoin:miter;\"/>\r\n    </g>\r\n    <g id=\"text_18\">\r\n     <!-- count_y -->\r\n     <g transform=\"translate(59.940625 23.798438)scale(0.1 -0.1)\">\r\n      <defs>\r\n       <path d=\"M 50.984375 -16.609375 \r\nL 50.984375 -23.578125 \r\nL -0.984375 -23.578125 \r\nL -0.984375 -16.609375 \r\nz\r\n\" id=\"DejaVuSans-95\"/>\r\n       <path d=\"M 32.171875 -5.078125 \r\nQ 28.375 -14.84375 24.75 -17.8125 \r\nQ 21.140625 -20.796875 15.09375 -20.796875 \r\nL 7.90625 -20.796875 \r\nL 7.90625 -13.28125 \r\nL 13.1875 -13.28125 \r\nQ 16.890625 -13.28125 18.9375 -11.515625 \r\nQ 21 -9.765625 23.484375 -3.21875 \r\nL 25.09375 0.875 \r\nL 2.984375 54.6875 \r\nL 12.5 54.6875 \r\nL 29.59375 11.921875 \r\nL 46.6875 54.6875 \r\nL 56.203125 54.6875 \r\nz\r\n\" id=\"DejaVuSans-121\"/>\r\n      </defs>\r\n      <use xlink:href=\"#DejaVuSans-99\"/>\r\n      <use x=\"54.980469\" xlink:href=\"#DejaVuSans-111\"/>\r\n      <use x=\"116.162109\" xlink:href=\"#DejaVuSans-117\"/>\r\n      <use x=\"179.541016\" xlink:href=\"#DejaVuSans-110\"/>\r\n      <use x=\"242.919922\" xlink:href=\"#DejaVuSans-116\"/>\r\n      <use x=\"282.128906\" xlink:href=\"#DejaVuSans-95\"/>\r\n      <use x=\"332.128906\" xlink:href=\"#DejaVuSans-121\"/>\r\n     </g>\r\n    </g>\r\n    <g id=\"PathCollection_7\">\r\n     <defs>\r\n      <path d=\"M 0 3.036239 \r\nC 0.80522 3.036239 1.577569 2.716322 2.146946 2.146946 \r\nC 2.716322 1.577569 3.036239 0.80522 3.036239 0 \r\nC 3.036239 -0.80522 2.716322 -1.577569 2.146946 -2.146946 \r\nC 1.577569 -2.716322 0.80522 -3.036239 0 -3.036239 \r\nC -0.80522 -3.036239 -1.577569 -2.716322 -2.146946 -2.146946 \r\nC -2.716322 -1.577569 -3.036239 -0.80522 -3.036239 0 \r\nC -3.036239 0.80522 -2.716322 1.577569 -2.146946 2.146946 \r\nC -1.577569 2.716322 -0.80522 3.036239 0 3.036239 \r\nz\r\n\" id=\"m5944ec2451\" style=\"stroke:#333333;\"/>\r\n     </defs>\r\n     <g>\r\n      <use style=\"fill:#333333;stroke:#333333;\" x=\"69.14375\" xlink:href=\"#m5944ec2451\" y=\"36.129688\"/>\r\n     </g>\r\n    </g>\r\n    <g id=\"text_19\">\r\n     <!-- 24 -->\r\n     <g transform=\"translate(87.14375 38.754688)scale(0.1 -0.1)\">\r\n      <use xlink:href=\"#DejaVuSans-50\"/>\r\n      <use x=\"63.623047\" xlink:href=\"#DejaVuSans-52\"/>\r\n     </g>\r\n    </g>\r\n    <g id=\"PathCollection_8\">\r\n     <defs>\r\n      <path d=\"M 0 4.201934 \r\nC 1.114366 4.201934 2.18324 3.759192 2.971216 2.971216 \r\nC 3.759192 2.18324 4.201934 1.114366 4.201934 0 \r\nC 4.201934 -1.114366 3.759192 -2.18324 2.971216 -2.971216 \r\nC 2.18324 -3.759192 1.114366 -4.201934 0 -4.201934 \r\nC -1.114366 -4.201934 -2.18324 -3.759192 -2.971216 -2.971216 \r\nC -3.759192 -2.18324 -4.201934 -1.114366 -4.201934 0 \r\nC -4.201934 1.114366 -3.759192 2.18324 -2.971216 2.971216 \r\nC -2.18324 3.759192 -1.114366 4.201934 0 4.201934 \r\nz\r\n\" id=\"m82a24f5463\" style=\"stroke:#333333;\"/>\r\n     </defs>\r\n     <g>\r\n      <use style=\"fill:#333333;stroke:#333333;\" x=\"69.14375\" xlink:href=\"#m82a24f5463\" y=\"50.807813\"/>\r\n     </g>\r\n    </g>\r\n    <g id=\"text_20\">\r\n     <!-- 30 -->\r\n     <g transform=\"translate(87.14375 53.432813)scale(0.1 -0.1)\">\r\n      <defs>\r\n       <path d=\"M 40.578125 39.3125 \r\nQ 47.65625 37.796875 51.625 33 \r\nQ 55.609375 28.21875 55.609375 21.1875 \r\nQ 55.609375 10.40625 48.1875 4.484375 \r\nQ 40.765625 -1.421875 27.09375 -1.421875 \r\nQ 22.515625 -1.421875 17.65625 -0.515625 \r\nQ 12.796875 0.390625 7.625 2.203125 \r\nL 7.625 11.71875 \r\nQ 11.71875 9.328125 16.59375 8.109375 \r\nQ 21.484375 6.890625 26.8125 6.890625 \r\nQ 36.078125 6.890625 40.9375 10.546875 \r\nQ 45.796875 14.203125 45.796875 21.1875 \r\nQ 45.796875 27.640625 41.28125 31.265625 \r\nQ 36.765625 34.90625 28.71875 34.90625 \r\nL 20.21875 34.90625 \r\nL 20.21875 43.015625 \r\nL 29.109375 43.015625 \r\nQ 36.375 43.015625 40.234375 45.921875 \r\nQ 44.09375 48.828125 44.09375 54.296875 \r\nQ 44.09375 59.90625 40.109375 62.90625 \r\nQ 36.140625 65.921875 28.71875 65.921875 \r\nQ 24.65625 65.921875 20.015625 65.03125 \r\nQ 15.375 64.15625 9.8125 62.3125 \r\nL 9.8125 71.09375 \r\nQ 15.4375 72.65625 20.34375 73.4375 \r\nQ 25.25 74.21875 29.59375 74.21875 \r\nQ 40.828125 74.21875 47.359375 69.109375 \r\nQ 53.90625 64.015625 53.90625 55.328125 \r\nQ 53.90625 49.265625 50.4375 45.09375 \r\nQ 46.96875 40.921875 40.578125 39.3125 \r\nz\r\n\" id=\"DejaVuSans-51\"/>\r\n      </defs>\r\n      <use xlink:href=\"#DejaVuSans-51\"/>\r\n      <use x=\"63.623047\" xlink:href=\"#DejaVuSans-48\"/>\r\n     </g>\r\n    </g>\r\n    <g id=\"PathCollection_9\">\r\n     <defs>\r\n      <path d=\"M 0 5.108204 \r\nC 1.354712 5.108204 2.65412 4.569972 3.612046 3.612046 \r\nC 4.569972 2.65412 5.108204 1.354712 5.108204 0 \r\nC 5.108204 -1.354712 4.569972 -2.65412 3.612046 -3.612046 \r\nC 2.65412 -4.569972 1.354712 -5.108204 0 -5.108204 \r\nC -1.354712 -5.108204 -2.65412 -4.569972 -3.612046 -3.612046 \r\nC -4.569972 -2.65412 -5.108204 -1.354712 -5.108204 0 \r\nC -5.108204 1.354712 -4.569972 2.65412 -3.612046 3.612046 \r\nC -2.65412 4.569972 -1.354712 5.108204 0 5.108204 \r\nz\r\n\" id=\"m0a522f3116\" style=\"stroke:#333333;\"/>\r\n     </defs>\r\n     <g>\r\n      <use style=\"fill:#333333;stroke:#333333;\" x=\"69.14375\" xlink:href=\"#m0a522f3116\" y=\"65.485938\"/>\r\n     </g>\r\n    </g>\r\n    <g id=\"text_21\">\r\n     <!-- 36 -->\r\n     <g transform=\"translate(87.14375 68.110938)scale(0.1 -0.1)\">\r\n      <use xlink:href=\"#DejaVuSans-51\"/>\r\n      <use x=\"63.623047\" xlink:href=\"#DejaVuSans-54\"/>\r\n     </g>\r\n    </g>\r\n    <g id=\"PathCollection_10\">\r\n     <defs>\r\n      <path d=\"M 0 5.87633 \r\nC 1.558421 5.87633 3.053223 5.257162 4.155193 4.155193 \r\nC 5.257162 3.053223 5.87633 1.558421 5.87633 0 \r\nC 5.87633 -1.558421 5.257162 -3.053223 4.155193 -4.155193 \r\nC 3.053223 -5.257162 1.558421 -5.87633 0 -5.87633 \r\nC -1.558421 -5.87633 -3.053223 -5.257162 -4.155193 -4.155193 \r\nC -5.257162 -3.053223 -5.87633 -1.558421 -5.87633 0 \r\nC -5.87633 1.558421 -5.257162 3.053223 -4.155193 4.155193 \r\nC -3.053223 5.257162 -1.558421 5.87633 0 5.87633 \r\nz\r\n\" id=\"mca1c7dc580\" style=\"stroke:#333333;\"/>\r\n     </defs>\r\n     <g>\r\n      <use style=\"fill:#333333;stroke:#333333;\" x=\"69.14375\" xlink:href=\"#mca1c7dc580\" y=\"80.164063\"/>\r\n     </g>\r\n    </g>\r\n    <g id=\"text_22\">\r\n     <!-- 42 -->\r\n     <g transform=\"translate(87.14375 82.789063)scale(0.1 -0.1)\">\r\n      <use xlink:href=\"#DejaVuSans-52\"/>\r\n      <use x=\"63.623047\" xlink:href=\"#DejaVuSans-50\"/>\r\n     </g>\r\n    </g>\r\n    <g id=\"PathCollection_11\">\r\n     <defs>\r\n      <path d=\"M 0 6.555055 \r\nC 1.738421 6.555055 3.405875 5.864373 4.635124 4.635124 \r\nC 5.864373 3.405875 6.555055 1.738421 6.555055 0 \r\nC 6.555055 -1.738421 5.864373 -3.405875 4.635124 -4.635124 \r\nC 3.405875 -5.864373 1.738421 -6.555055 0 -6.555055 \r\nC -1.738421 -6.555055 -3.405875 -5.864373 -4.635124 -4.635124 \r\nC -5.864373 -3.405875 -6.555055 -1.738421 -6.555055 0 \r\nC -6.555055 1.738421 -5.864373 3.405875 -4.635124 4.635124 \r\nC -3.405875 5.864373 -1.738421 6.555055 0 6.555055 \r\nz\r\n\" id=\"m37b3f1246c\" style=\"stroke:#333333;\"/>\r\n     </defs>\r\n     <g>\r\n      <use style=\"fill:#333333;stroke:#333333;\" x=\"69.14375\" xlink:href=\"#m37b3f1246c\" y=\"94.842188\"/>\r\n     </g>\r\n    </g>\r\n    <g id=\"text_23\">\r\n     <!-- 48 -->\r\n     <g transform=\"translate(87.14375 97.467188)scale(0.1 -0.1)\">\r\n      <use xlink:href=\"#DejaVuSans-52\"/>\r\n      <use x=\"63.623047\" xlink:href=\"#DejaVuSans-56\"/>\r\n     </g>\r\n    </g>\r\n   </g>\r\n  </g>\r\n </g>\r\n <defs>\r\n  <clipPath id=\"p168d714b59\">\r\n   <rect height=\"271.8\" width=\"558\" x=\"50.14375\" y=\"7.2\"/>\r\n  </clipPath>\r\n </defs>\r\n</svg>\r\n",
      "image/png": "[encoded data removed]"
     },
     "metadata": {
      "needs_background": "light"
     }
    }
   ],
   "source": [
    "def plot(data_o, time_range=[-8,7]):\n",
    "    data = copy(data_o)\n",
    "    data = data[data['time_cat'].isin(range(time_range[0],time_range[1]))]\n",
    "    data = data[~data['time_cat'].isin(range(-1,0))]\n",
    "\n",
    "    data['time_cat'] = data['time_cat'] * 10\n",
    "    data['race_stop_rate'] = data['race_stop_rate'] * 100\n",
    "\n",
    "    # plot points\n",
    "    figure(figsize=(10,5))\n",
    "    ax = sns.scatterplot(x='time_cat', y='race_stop_rate', size='count_y', sizes=(20,200) ,data=data, color='black')\n",
    "    plt.axvline(0, c='black', linestyle='dashed')\n",
    "\n",
    "    # two different regressions\n",
    "    data_before = data[data['time_cat'] < -1]\n",
    "    data_after = data[data['time_cat'] > -1]\n",
    "\n",
    "    # # plot regressions\n",
    "    # sns.regplot(x='time_cat', y='race_stop_rate', data=data_before, scatter=False)\n",
    "    # sns.regplot(x='time_cat', y='race_stop_rate', data=data_after, scatter=False)\n",
    "    before_average = data_before['race_stop_rate'].mean()\n",
    "    after_average = data_after['race_stop_rate'].mean()\n",
    "\n",
    "    plt.hlines(before_average, -80, -20)\n",
    "    plt.hlines(after_average, 0, 60)\n",
    "\n",
    "    ax.set_xlabel('Time since dusk (min)')\n",
    "    ax.set_ylabel('Percentage of stopped drivers who are black')\n",
    "\n",
    "\n",
    "\n",
    "def plot_one_county(county_name):\n",
    "    df_for_vod = copy(df_veil_cleaned)\n",
    "    df_for_vod = df_for_vod[df_for_vod['county_name'] == county_name]\n",
    "    for race in ['white', 'black', 'hispanic']:\n",
    "        df_ = group_data(df_for_vod[df_for_vod['officer_race'] == race])\n",
    "        plot(df_[df_['subject_race'] == 'black'])\n",
    "\n",
    "\n",
    "plot_one_county('Santa Rosa County')\n",
    "# plot(df_vod[df_vod['subject_race'] == 'black'])\n",
    "\n",
    "# plot(df_vod[df_vod['subject_race'] == 'black'])\n",
    "# plot(df_vod[df_vod['subject_race'] == 'white'])\n",
    "# plot(df_vod[df_vod['subject_race'] == 'hispanic'])"
   ]
  },
  {
   "cell_type": "code",
   "execution_count": null,
   "metadata": {},
   "outputs": [],
   "source": []
  },
  {
   "cell_type": "code",
   "execution_count": null,
   "metadata": {},
   "outputs": [],
   "source": []
  },
  {
   "cell_type": "code",
   "execution_count": null,
   "metadata": {},
   "outputs": [],
   "source": [
    "\n",
    "# preprocess for grouping\n",
    "data['search_rate'] = data['search_conducted']\n",
    "data = data.astype({'search_rate': float})\n",
    "data['count'] = 1 # to count occurences\n",
    "\n",
    "# add specific column for this type of analyzis\n",
    "df_yos['age_category'] = df_yos['officer_yos'].apply(lambda x : officer_experience_level[0] if x < thresholds_experience[0] else (officer_experience_level[1] if x < thresholds_experience[1] else officer_experience_level[2]))\n",
    "df_yos_all = df_yos.groupby(['age_category','subject_race','county_name']).agg({'search_rate': 'mean', 'count':'count'})"
   ]
  },
  {
   "cell_type": "code",
   "execution_count": null,
   "metadata": {},
   "outputs": [],
   "source": []
  },
  {
   "source": [
    "# Logistic regression of characteristics of officers"
   ],
   "cell_type": "markdown",
   "metadata": {}
  },
  {
   "cell_type": "code",
   "execution_count": null,
   "metadata": {},
   "outputs": [],
   "source": [
    "df_log_raw = copy(df)\n",
    "\n",
    "# remove unused columns\n",
    "df_log_raw = remove_general_unused_columns(df_log_raw)\n",
    "df_log_raw.drop(columns=['arrest_made', 'citation_issued','warning_issued', 'outcome', 'frisk_performed'], inplace=True)\n",
    "df_log_raw.dropna(inplace=True, subset=['search_conducted'])\n",
    "\n",
    "# make sure that required data are present (drop if nan values in those columns)\n",
    "important_features = ['subject_age', 'officer_yos', 'officer_age']\n",
    "for feat in important_features:\n",
    "    m = df_log_raw[feat].mean()\n",
    "    df_log_raw[feat] = df_log_raw[feat].fillna((m))\n",
    "print('Cleaned subset is composed of {} datapoints'.format(df_log_raw.shape[0]))\n",
    "\n",
    "# overview of all the data / global search rate\n",
    "print_search_rate(df_log_raw)\n",
    "\n",
    "df_log_raw.head()"
   ]
  },
  {
   "cell_type": "code",
   "execution_count": null,
   "metadata": {},
   "outputs": [],
   "source": [
    "# preprocess for regression\n",
    "df_log = copy(df_log_raw)\n",
    "\n",
    "print('Processing sub races')\n",
    "sub_races = list(df_log['subject_race'].unique())\n",
    "for race in sub_races:\n",
    "    df_log['subject_' + (race if isinstance(race, str) else 'nan')] = (df_log['subject_race'] == race).apply(lambda x : int(x))\n",
    "\n",
    "print('Processing off races')\n",
    "off_races = list(df_log['officer_race'].unique())\n",
    "for race in off_races:\n",
    "    df_log['officer_' + (race if isinstance(race, str) else 'nan')] = (df_log['officer_race'] == race).apply(lambda x : int(x))\n",
    "\n",
    "print('Processing sub genders')\n",
    "sub_genders = list(df_log['subject_sex'].unique())\n",
    "for gender in sub_genders:\n",
    "    df_log['subject_' + (gender if isinstance(gender, str) else 'nan')] = (df_log['subject_sex'] == gender).apply(lambda x : int(x))\n",
    "\n",
    "print('Processing off genders')\n",
    "off_genders = list(df_log['officer_sex'].unique())\n",
    "for gender in off_genders:\n",
    "    df_log['officer_' + (gender if isinstance(gender, str) else 'nan')] = (df_log['officer_sex'] == gender).apply(lambda x : int(x))\n",
    "\n",
    "print('Processing off yos')\n",
    "cat_exp = [0, 2, 6, 10, 15, 100]\n",
    "for infi in range(len(cat_exp) -1):\n",
    "    df_log['officer_exp_' + str(cat_exp[infi]) ] = ( df_log['officer_yos'].between(cat_exp[infi],cat_exp[infi+1], inclusive=[True, False]) ) .apply(lambda x : int(x))\n",
    "\n",
    "print('Processing off age')\n",
    "cat_age = [15, 25, 35, 45, 55, 70, 100]\n",
    "for infi in range(len(cat_age) -1):\n",
    "    df_log['officer_age_' + str(cat_age[infi]) ] = ( df_log['officer_age'].between(cat_age[infi],cat_age[infi+1], inclusive=[True, False]) ) .apply(lambda x : int(x))\n",
    "\n",
    "\n",
    "print('Processing search')\n",
    "df_log['search_conducted'] = df_log['search_conducted'].apply(lambda x : int(x))\n",
    "\n",
    "print('Removing old columns')\n",
    "df_log.drop(columns=['subject_race', 'officer_race', 'subject_sex', 'officer_sex', 'officer_yos', 'officer_age'], inplace=True)\n",
    "\n",
    "df_log.head()"
   ]
  },
  {
   "cell_type": "code",
   "execution_count": null,
   "metadata": {},
   "outputs": [],
   "source": [
    "counties = df_log['county_name'].unique()\n",
    "maxi = 0\n",
    "maxi_c = 0\n",
    "for c in counties:\n",
    "    v = df_log[df_log['county_name'] == c].shape[0]\n",
    "    if v > maxi:\n",
    "        maxi = v\n",
    "        maxi_c = c\n",
    "\n",
    "print(maxi_c, maxi )\n",
    "\n",
    "df_log = df_log[df_log['county_name'] == maxi_c].drop(columns='county_name')"
   ]
  },
  {
   "cell_type": "code",
   "execution_count": null,
   "metadata": {},
   "outputs": [],
   "source": [
    "df_log.head()"
   ]
  },
  {
   "cell_type": "code",
   "execution_count": null,
   "metadata": {},
   "outputs": [],
   "source": [
    "y = df_log['search_conducted'].to_numpy()\n",
    "x = df_log.drop(columns='search_conducted').to_numpy()\n",
    "print(x[0], y[0])"
   ]
  },
  {
   "cell_type": "code",
   "execution_count": null,
   "metadata": {},
   "outputs": [],
   "source": [
    "from sklearn.datasets import load_iris\n",
    "from sklearn.linear_model import LogisticRegression\n",
    "\n",
    "clf = LogisticRegression(random_state=0)\n",
    "clf.fit(x, y)\n",
    "params = clf.coef_[0]"
   ]
  },
  {
   "cell_type": "code",
   "execution_count": null,
   "metadata": {},
   "outputs": [],
   "source": [
    "print(\"Parameters of logistic regression are:\")\n",
    "for i, col in enumerate(df_log.drop(columns='search_conducted').columns):\n",
    "    print(\" - {} : {:.3f} \".format(col,params[i]))"
   ]
  },
  {
   "cell_type": "code",
   "execution_count": null,
   "metadata": {},
   "outputs": [],
   "source": [
    "from xgboost import XGBClassifier, plot_importance, DMatrix\n",
    "\n",
    "model = XGBClassifier()\n",
    "model.fit(x, y)"
   ]
  },
  {
   "cell_type": "code",
   "execution_count": null,
   "metadata": {},
   "outputs": [],
   "source": [
    "plot_importance(model).set_yticklabels(df_log.drop(columns='search_conducted').columns[:23])"
   ]
  },
  {
   "source": [
    "We see that experienced officers do not search often people. This may be due because they are at a higher level, so they do not do the search themselves. "
   ],
   "cell_type": "markdown",
   "metadata": {}
  },
  {
   "source": [
    "# Old stuff"
   ],
   "cell_type": "markdown",
   "metadata": {}
  },
  {
   "cell_type": "code",
   "execution_count": null,
   "metadata": {},
   "outputs": [],
   "source": [
    "def plot_officer_race(data, race):\n",
    "    data_ = data[race]\n",
    "    df_white_sub, df_black_sub, df_hispanic = data_.loc['white'], data_.loc['black'], data_.loc['hispanic'] #separate data\n",
    "    df_white_sub.reset_index(inplace=True), df_black_sub.reset_index(inplace=True), df_hispanic.reset_index(inplace=True) #reset index\n",
    "    df_merged = pd.merge(df_white_sub, df_black_sub, on='county_name', suffixes=['', '_black'])\n",
    "    df_merged = pd.merge(df_merged, df_hispanic, on='county_name', suffixes=['_white', '_hispanic'])\n",
    "    fig, ax_arr = plt.subplots(1, 2) # 2 graphs\n",
    "    fig.set_size_inches(9,5) # fig size\n",
    "\n",
    "    fig.suptitle(\"Minorities search rates of {} officers\".format(race))\n",
    "\n",
    "    ax_arr[0].scatter(df_merged['search_rate_white']*100, df_merged['search_rate_black']*100)\n",
    "    ax_arr[0].set_xlabel(\"White search rate (%)\")\n",
    "    ax_arr[0].set_ylabel(\"Black search rate (%)\")\n",
    "\n",
    "    ax_arr[1].scatter(df_merged['search_rate_white']*100, df_merged['search_rate_hispanic']*100)\n",
    "    ax_arr[1].set_xlabel(\"White search rate (%)\")\n",
    "    ax_arr[1].set_ylabel(\"Black search rate (%)\")\n",
    "    \n",
    "\n",
    "for race in officer_race:\n",
    "    plot_officer_race(df_officers, race)"
   ]
  }
 ]
}